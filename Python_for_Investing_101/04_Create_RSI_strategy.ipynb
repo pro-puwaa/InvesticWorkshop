{
 "cells": [
  {
   "attachments": {},
   "cell_type": "markdown",
   "metadata": {},
   "source": [
    "**Workshop**\n",
    "\n",
    "จงหาสัญญาณซื้อขาย RSI 14 วัน ของหุ้น NVDA โดยดึงข้อมูล Nvidia ในระดับ Daily"
   ]
  },
  {
   "attachments": {},
   "cell_type": "markdown",
   "metadata": {},
   "source": [
    "## Import data"
   ]
  },
  {
   "cell_type": "code",
   "execution_count": 13,
   "metadata": {},
   "outputs": [],
   "source": [
    "import yfinance as yf\n",
    "import mplfinance as mpf\n",
    "import pandas as pd\n",
    "import numpy as np\n",
    "import pandas_ta as ta"
   ]
  },
  {
   "cell_type": "code",
   "execution_count": 39,
   "metadata": {},
   "outputs": [],
   "source": [
    "# define asset and date\n",
    "ticker_name = 'NVDA'\n",
    "start='2019-01-01' \n",
    "end='2021-01-01'"
   ]
  },
  {
   "cell_type": "code",
   "execution_count": 40,
   "metadata": {},
   "outputs": [
    {
     "name": "stdout",
     "output_type": "stream",
     "text": [
      "[*********************100%***********************]  1 of 1 completed\n"
     ]
    }
   ],
   "source": [
    "raw_df = yf.download(tickers=ticker_name, start=start, end=end)"
   ]
  },
  {
   "attachments": {},
   "cell_type": "markdown",
   "metadata": {},
   "source": [
    "## Strategy"
   ]
  },
  {
   "cell_type": "code",
   "execution_count": 41,
   "metadata": {},
   "outputs": [
    {
     "data": {
      "text/plain": [
       "Date\n",
       "2019-01-02          NaN\n",
       "2019-01-03          NaN\n",
       "2019-01-04          NaN\n",
       "2019-01-07          NaN\n",
       "2019-01-08          NaN\n",
       "                ...    \n",
       "2020-12-24    43.562286\n",
       "2020-12-28    41.655126\n",
       "2020-12-29    42.897147\n",
       "2020-12-30    48.432355\n",
       "2020-12-31    46.267841\n",
       "Name: RSI_14, Length: 505, dtype: float64"
      ]
     },
     "execution_count": 41,
     "metadata": {},
     "output_type": "execute_result"
    }
   ],
   "source": [
    "raw_df.ta.rsi(length=14, append=True)"
   ]
  },
  {
   "cell_type": "code",
   "execution_count": 42,
   "metadata": {},
   "outputs": [
    {
     "data": {
      "text/html": [
       "<div>\n",
       "<style scoped>\n",
       "    .dataframe tbody tr th:only-of-type {\n",
       "        vertical-align: middle;\n",
       "    }\n",
       "\n",
       "    .dataframe tbody tr th {\n",
       "        vertical-align: top;\n",
       "    }\n",
       "\n",
       "    .dataframe thead th {\n",
       "        text-align: right;\n",
       "    }\n",
       "</style>\n",
       "<table border=\"1\" class=\"dataframe\">\n",
       "  <thead>\n",
       "    <tr style=\"text-align: right;\">\n",
       "      <th></th>\n",
       "      <th>Open</th>\n",
       "      <th>High</th>\n",
       "      <th>Low</th>\n",
       "      <th>Close</th>\n",
       "      <th>Adj Close</th>\n",
       "      <th>Volume</th>\n",
       "      <th>RSI_14</th>\n",
       "    </tr>\n",
       "    <tr>\n",
       "      <th>Date</th>\n",
       "      <th></th>\n",
       "      <th></th>\n",
       "      <th></th>\n",
       "      <th></th>\n",
       "      <th></th>\n",
       "      <th></th>\n",
       "      <th></th>\n",
       "    </tr>\n",
       "  </thead>\n",
       "  <tbody>\n",
       "    <tr>\n",
       "      <th>2019-01-02</th>\n",
       "      <td>32.660000</td>\n",
       "      <td>34.619999</td>\n",
       "      <td>32.512501</td>\n",
       "      <td>34.055000</td>\n",
       "      <td>33.805470</td>\n",
       "      <td>50875200</td>\n",
       "      <td>NaN</td>\n",
       "    </tr>\n",
       "    <tr>\n",
       "      <th>2019-01-03</th>\n",
       "      <td>33.447498</td>\n",
       "      <td>33.790001</td>\n",
       "      <td>31.922501</td>\n",
       "      <td>31.997499</td>\n",
       "      <td>31.763046</td>\n",
       "      <td>70555200</td>\n",
       "      <td>NaN</td>\n",
       "    </tr>\n",
       "    <tr>\n",
       "      <th>2019-01-04</th>\n",
       "      <td>32.735001</td>\n",
       "      <td>34.432499</td>\n",
       "      <td>32.424999</td>\n",
       "      <td>34.047501</td>\n",
       "      <td>33.798016</td>\n",
       "      <td>58562000</td>\n",
       "      <td>NaN</td>\n",
       "    </tr>\n",
       "    <tr>\n",
       "      <th>2019-01-07</th>\n",
       "      <td>34.625000</td>\n",
       "      <td>36.222500</td>\n",
       "      <td>34.107498</td>\n",
       "      <td>35.849998</td>\n",
       "      <td>35.587315</td>\n",
       "      <td>70916000</td>\n",
       "      <td>NaN</td>\n",
       "    </tr>\n",
       "    <tr>\n",
       "      <th>2019-01-08</th>\n",
       "      <td>36.672501</td>\n",
       "      <td>36.695000</td>\n",
       "      <td>34.224998</td>\n",
       "      <td>34.957500</td>\n",
       "      <td>34.701359</td>\n",
       "      <td>78601600</td>\n",
       "      <td>NaN</td>\n",
       "    </tr>\n",
       "    <tr>\n",
       "      <th>...</th>\n",
       "      <td>...</td>\n",
       "      <td>...</td>\n",
       "      <td>...</td>\n",
       "      <td>...</td>\n",
       "      <td>...</td>\n",
       "      <td>...</td>\n",
       "      <td>...</td>\n",
       "    </tr>\n",
       "    <tr>\n",
       "      <th>2020-12-24</th>\n",
       "      <td>130.372498</td>\n",
       "      <td>131.324997</td>\n",
       "      <td>129.387497</td>\n",
       "      <td>129.937500</td>\n",
       "      <td>129.702820</td>\n",
       "      <td>9788400</td>\n",
       "      <td>43.562286</td>\n",
       "    </tr>\n",
       "    <tr>\n",
       "      <th>2020-12-28</th>\n",
       "      <td>130.625000</td>\n",
       "      <td>130.625000</td>\n",
       "      <td>127.632500</td>\n",
       "      <td>129.000000</td>\n",
       "      <td>128.766998</td>\n",
       "      <td>21256400</td>\n",
       "      <td>41.655126</td>\n",
       "    </tr>\n",
       "    <tr>\n",
       "      <th>2020-12-29</th>\n",
       "      <td>129.250000</td>\n",
       "      <td>130.725006</td>\n",
       "      <td>128.422501</td>\n",
       "      <td>129.432495</td>\n",
       "      <td>129.198746</td>\n",
       "      <td>17037200</td>\n",
       "      <td>42.897147</td>\n",
       "    </tr>\n",
       "    <tr>\n",
       "      <th>2020-12-30</th>\n",
       "      <td>129.902496</td>\n",
       "      <td>132.137497</td>\n",
       "      <td>128.967499</td>\n",
       "      <td>131.457504</td>\n",
       "      <td>131.220093</td>\n",
       "      <td>22539600</td>\n",
       "      <td>48.432355</td>\n",
       "    </tr>\n",
       "    <tr>\n",
       "      <th>2020-12-31</th>\n",
       "      <td>131.365005</td>\n",
       "      <td>131.509995</td>\n",
       "      <td>129.149994</td>\n",
       "      <td>130.550003</td>\n",
       "      <td>130.314224</td>\n",
       "      <td>19242400</td>\n",
       "      <td>46.267841</td>\n",
       "    </tr>\n",
       "  </tbody>\n",
       "</table>\n",
       "<p>505 rows × 7 columns</p>\n",
       "</div>"
      ],
      "text/plain": [
       "                  Open        High         Low       Close   Adj Close  \\\n",
       "Date                                                                     \n",
       "2019-01-02   32.660000   34.619999   32.512501   34.055000   33.805470   \n",
       "2019-01-03   33.447498   33.790001   31.922501   31.997499   31.763046   \n",
       "2019-01-04   32.735001   34.432499   32.424999   34.047501   33.798016   \n",
       "2019-01-07   34.625000   36.222500   34.107498   35.849998   35.587315   \n",
       "2019-01-08   36.672501   36.695000   34.224998   34.957500   34.701359   \n",
       "...                ...         ...         ...         ...         ...   \n",
       "2020-12-24  130.372498  131.324997  129.387497  129.937500  129.702820   \n",
       "2020-12-28  130.625000  130.625000  127.632500  129.000000  128.766998   \n",
       "2020-12-29  129.250000  130.725006  128.422501  129.432495  129.198746   \n",
       "2020-12-30  129.902496  132.137497  128.967499  131.457504  131.220093   \n",
       "2020-12-31  131.365005  131.509995  129.149994  130.550003  130.314224   \n",
       "\n",
       "              Volume     RSI_14  \n",
       "Date                             \n",
       "2019-01-02  50875200        NaN  \n",
       "2019-01-03  70555200        NaN  \n",
       "2019-01-04  58562000        NaN  \n",
       "2019-01-07  70916000        NaN  \n",
       "2019-01-08  78601600        NaN  \n",
       "...              ...        ...  \n",
       "2020-12-24   9788400  43.562286  \n",
       "2020-12-28  21256400  41.655126  \n",
       "2020-12-29  17037200  42.897147  \n",
       "2020-12-30  22539600  48.432355  \n",
       "2020-12-31  19242400  46.267841  \n",
       "\n",
       "[505 rows x 7 columns]"
      ]
     },
     "execution_count": 42,
     "metadata": {},
     "output_type": "execute_result"
    }
   ],
   "source": [
    "raw_df"
   ]
  },
  {
   "cell_type": "code",
   "execution_count": 43,
   "metadata": {},
   "outputs": [],
   "source": [
    "raw_df.loc[(raw_df['RSI_14'] > 70) & (raw_df['RSI_14'].shift(1) < 70), 'action'] = 'sell'\n",
    "raw_df.loc[(raw_df['RSI_14'] < 30) & (raw_df['RSI_14'].shift(1) > 30), 'action'] = 'buy'"
   ]
  },
  {
   "attachments": {},
   "cell_type": "markdown",
   "metadata": {},
   "source": [
    "## Visualization"
   ]
  },
  {
   "cell_type": "code",
   "execution_count": 58,
   "metadata": {},
   "outputs": [],
   "source": [
    "# 'col_signal' include buy and sell signal which we have to seperate the signal by our direction (side) that we pay attention.\n",
    "# 'value' check the signal before add into the list\n",
    "\n",
    "def mark_ticker(col_signal, col_price, direction):\n",
    "    signal = []\n",
    "    for date, value in col_signal.iteritems():\n",
    "        # long side on DataFrame\n",
    "        if direction == 'buy':\n",
    "            if value == 'buy':\n",
    "                signal.append(col_price[date] * 0.80)\n",
    "            else:\n",
    "                signal.append(np.nan)\n",
    "        # short side on DataFrame\n",
    "        elif direction == 'sell':\n",
    "            if value == 'sell':\n",
    "                signal.append(col_price[date] * 1.20)\n",
    "            else:\n",
    "                signal.append(np.nan)\n",
    "    return signal"
   ]
  },
  {
   "cell_type": "code",
   "execution_count": 59,
   "metadata": {},
   "outputs": [
    {
     "name": "stderr",
     "output_type": "stream",
     "text": [
      "/var/folders/6t/_xyw489d5jnd7011n2m_x_ch0000gn/T/ipykernel_21335/586514198.py:6: FutureWarning: iteritems is deprecated and will be removed in a future version. Use .items instead.\n",
      "  for date, value in col_signal.iteritems():\n"
     ]
    },
    {
     "data": {
      "image/png": "[encoded data removed]",
      "text/plain": [
       "<Figure size 1500x700 with 4 Axes>"
      ]
     },
     "metadata": {},
     "output_type": "display_data"
    }
   ],
   "source": [
    "# define for RSI\n",
    "rsi_ylim = (0,100)\n",
    "raw_df['upper'] = 70\n",
    "raw_df['lower'] = 30\n",
    "\n",
    "viz = [ mpf.make_addplot(mark_ticker(raw_df['action'], raw_df['Close'], 'buy') , type='scatter', markersize=50, marker='^'),\n",
    "        mpf.make_addplot(mark_ticker(raw_df['action'], raw_df['Open'], 'sell') , type='scatter', markersize=50, marker='v'),\n",
    "        # RSI\n",
    "        mpf.make_addplot(raw_df['RSI_14'], panel=1, color='blue', title='RSI', ylim=rsi_ylim),\n",
    "        mpf.make_addplot(raw_df['upper'], panel = 1, color='orange', ylim=rsi_ylim),\n",
    "        mpf.make_addplot(raw_df['lower'], panel = 1, color='orange', ylim=rsi_ylim)\n",
    "        ]\n",
    "\n",
    "mpf.plot(raw_df, style='yahoo', type='candle', addplot=viz,figsize=(15, 7))"
   ]
  },
  {
   "cell_type": "code",
   "execution_count": 60,
   "metadata": {},
   "outputs": [],
   "source": [
    "def startegy_return(df, action_price = 'Open', side='long'):\n",
    "    action_df = df.loc[df['action'].notnull()]\n",
    "\n",
    "    # action 'Open' (next day)\n",
    "    if action_price == 'Open':\n",
    "        action_df['action_price'] = df['Open'].shift(-1)\n",
    "        action_df['return'] = action_df['action_price'].pct_change()\n",
    "    \n",
    "    if action_price == 'Close':\n",
    "        action_df['action_price'] = df['Close']\n",
    "        action_df['return'] = action_df['action_price'].pct_change()\n",
    "\n",
    "    # record df\n",
    "    record_df = action_df[['action', 'action_price', 'return']]\n",
    "    record_df.reset_index(inplace=True)\n",
    "    record_df['previous_signal_date'] = record_df['Date'].shift(1)\n",
    "    record_df['previous_action'] = record_df['action'].shift(1)\n",
    "    record_df['previous_action_price'] = record_df['action_price'].shift(1)\n",
    "    record_df.rename(columns={'Date':'signal_date'}, inplace=True)\n",
    "\n",
    "    # summary return\n",
    "    if side == 'long':\n",
    "        summary_df = record_df[record_df.action == 'sell']\n",
    "        summary_df\n",
    "    \n",
    "    if side == 'short':\n",
    "        summary_df = record_df[record_df.action == 'buy']\n",
    "        summary_df['return'] = summary_df['return'] * -1\n",
    "\n",
    "    summary_df.reset_index(inplace=True, drop=True)    \n",
    "    \n",
    "    return df, record_df, summary_df"
   ]
  },
  {
   "cell_type": "code",
   "execution_count": 61,
   "metadata": {},
   "outputs": [
    {
     "name": "stderr",
     "output_type": "stream",
     "text": [
      "/var/folders/6t/_xyw489d5jnd7011n2m_x_ch0000gn/T/ipykernel_21335/2213148132.py:6: SettingWithCopyWarning: \n",
      "A value is trying to be set on a copy of a slice from a DataFrame.\n",
      "Try using .loc[row_indexer,col_indexer] = value instead\n",
      "\n",
      "See the caveats in the documentation: https://pandas.pydata.org/pandas-docs/stable/user_guide/indexing.html#returning-a-view-versus-a-copy\n",
      "  action_df['action_price'] = df['Open'].shift(-1)\n",
      "/var/folders/6t/_xyw489d5jnd7011n2m_x_ch0000gn/T/ipykernel_21335/2213148132.py:7: SettingWithCopyWarning: \n",
      "A value is trying to be set on a copy of a slice from a DataFrame.\n",
      "Try using .loc[row_indexer,col_indexer] = value instead\n",
      "\n",
      "See the caveats in the documentation: https://pandas.pydata.org/pandas-docs/stable/user_guide/indexing.html#returning-a-view-versus-a-copy\n",
      "  action_df['return'] = action_df['action_price'].pct_change()\n",
      "/var/folders/6t/_xyw489d5jnd7011n2m_x_ch0000gn/T/ipykernel_21335/2213148132.py:16: SettingWithCopyWarning: \n",
      "A value is trying to be set on a copy of a slice from a DataFrame.\n",
      "Try using .loc[row_indexer,col_indexer] = value instead\n",
      "\n",
      "See the caveats in the documentation: https://pandas.pydata.org/pandas-docs/stable/user_guide/indexing.html#returning-a-view-versus-a-copy\n",
      "  record_df['previous_signal_date'] = record_df['Date'].shift(1)\n",
      "/var/folders/6t/_xyw489d5jnd7011n2m_x_ch0000gn/T/ipykernel_21335/2213148132.py:17: SettingWithCopyWarning: \n",
      "A value is trying to be set on a copy of a slice from a DataFrame.\n",
      "Try using .loc[row_indexer,col_indexer] = value instead\n",
      "\n",
      "See the caveats in the documentation: https://pandas.pydata.org/pandas-docs/stable/user_guide/indexing.html#returning-a-view-versus-a-copy\n",
      "  record_df['previous_action'] = record_df['action'].shift(1)\n",
      "/var/folders/6t/_xyw489d5jnd7011n2m_x_ch0000gn/T/ipykernel_21335/2213148132.py:18: SettingWithCopyWarning: \n",
      "A value is trying to be set on a copy of a slice from a DataFrame.\n",
      "Try using .loc[row_indexer,col_indexer] = value instead\n",
      "\n",
      "See the caveats in the documentation: https://pandas.pydata.org/pandas-docs/stable/user_guide/indexing.html#returning-a-view-versus-a-copy\n",
      "  record_df['previous_action_price'] = record_df['action_price'].shift(1)\n",
      "/var/folders/6t/_xyw489d5jnd7011n2m_x_ch0000gn/T/ipykernel_21335/2213148132.py:19: SettingWithCopyWarning: \n",
      "A value is trying to be set on a copy of a slice from a DataFrame\n",
      "\n",
      "See the caveats in the documentation: https://pandas.pydata.org/pandas-docs/stable/user_guide/indexing.html#returning-a-view-versus-a-copy\n",
      "  record_df.rename(columns={'Date':'signal_date'}, inplace=True)\n"
     ]
    }
   ],
   "source": [
    "df, record_df, summary_df = startegy_return(raw_df)"
   ]
  },
  {
   "cell_type": "code",
   "execution_count": 65,
   "metadata": {},
   "outputs": [
    {
     "data": {
      "text/html": [
       "<div>\n",
       "<style scoped>\n",
       "    .dataframe tbody tr th:only-of-type {\n",
       "        vertical-align: middle;\n",
       "    }\n",
       "\n",
       "    .dataframe tbody tr th {\n",
       "        vertical-align: top;\n",
       "    }\n",
       "\n",
       "    .dataframe thead th {\n",
       "        text-align: right;\n",
       "    }\n",
       "</style>\n",
       "<table border=\"1\" class=\"dataframe\">\n",
       "  <thead>\n",
       "    <tr style=\"text-align: right;\">\n",
       "      <th></th>\n",
       "      <th>signal_date</th>\n",
       "      <th>action</th>\n",
       "      <th>action_price</th>\n",
       "      <th>return</th>\n",
       "      <th>previous_signal_date</th>\n",
       "      <th>previous_action</th>\n",
       "      <th>previous_action_price</th>\n",
       "    </tr>\n",
       "  </thead>\n",
       "  <tbody>\n",
       "    <tr>\n",
       "      <th>0</th>\n",
       "      <td>2019-03-21</td>\n",
       "      <td>sell</td>\n",
       "      <td>45.709999</td>\n",
       "      <td>NaN</td>\n",
       "      <td>NaT</td>\n",
       "      <td>None</td>\n",
       "      <td>NaN</td>\n",
       "    </tr>\n",
       "    <tr>\n",
       "      <th>3</th>\n",
       "      <td>2019-05-13</td>\n",
       "      <td>buy</td>\n",
       "      <td>40.012501</td>\n",
       "      <td>-0.167274</td>\n",
       "      <td>2019-04-10</td>\n",
       "      <td>sell</td>\n",
       "      <td>48.049999</td>\n",
       "    </tr>\n",
       "    <tr>\n",
       "      <th>6</th>\n",
       "      <td>2019-07-23</td>\n",
       "      <td>sell</td>\n",
       "      <td>44.349998</td>\n",
       "      <td>0.185116</td>\n",
       "      <td>2019-05-22</td>\n",
       "      <td>buy</td>\n",
       "      <td>37.422501</td>\n",
       "    </tr>\n",
       "  </tbody>\n",
       "</table>\n",
       "</div>"
      ],
      "text/plain": [
       "  signal_date action  action_price    return previous_signal_date  \\\n",
       "0  2019-03-21   sell     45.709999       NaN                  NaT   \n",
       "3  2019-05-13    buy     40.012501 -0.167274           2019-04-10   \n",
       "6  2019-07-23   sell     44.349998  0.185116           2019-05-22   \n",
       "\n",
       "  previous_action  previous_action_price  \n",
       "0            None                    NaN  \n",
       "3            sell              48.049999  \n",
       "6             buy              37.422501  "
      ]
     },
     "execution_count": 65,
     "metadata": {},
     "output_type": "execute_result"
    }
   ],
   "source": [
    "record_df[record_df['action'] != record_df['previous_action']]"
   ]
  },
  {
   "cell_type": "code",
   "execution_count": 66,
   "metadata": {},
   "outputs": [
    {
     "name": "stderr",
     "output_type": "stream",
     "text": [
      "/var/folders/6t/_xyw489d5jnd7011n2m_x_ch0000gn/T/ipykernel_21335/894599703.py:1: UserWarning: Boolean Series key will be reindexed to match DataFrame index.\n",
      "  record_df[record_df['action'] != record_df['previous_action']][record_df['action'] == 'sell']\n"
     ]
    },
    {
     "data": {
      "text/html": [
       "<div>\n",
       "<style scoped>\n",
       "    .dataframe tbody tr th:only-of-type {\n",
       "        vertical-align: middle;\n",
       "    }\n",
       "\n",
       "    .dataframe tbody tr th {\n",
       "        vertical-align: top;\n",
       "    }\n",
       "\n",
       "    .dataframe thead th {\n",
       "        text-align: right;\n",
       "    }\n",
       "</style>\n",
       "<table border=\"1\" class=\"dataframe\">\n",
       "  <thead>\n",
       "    <tr style=\"text-align: right;\">\n",
       "      <th></th>\n",
       "      <th>signal_date</th>\n",
       "      <th>action</th>\n",
       "      <th>action_price</th>\n",
       "      <th>return</th>\n",
       "      <th>previous_signal_date</th>\n",
       "      <th>previous_action</th>\n",
       "      <th>previous_action_price</th>\n",
       "    </tr>\n",
       "  </thead>\n",
       "  <tbody>\n",
       "    <tr>\n",
       "      <th>0</th>\n",
       "      <td>2019-03-21</td>\n",
       "      <td>sell</td>\n",
       "      <td>45.709999</td>\n",
       "      <td>NaN</td>\n",
       "      <td>NaT</td>\n",
       "      <td>None</td>\n",
       "      <td>NaN</td>\n",
       "    </tr>\n",
       "    <tr>\n",
       "      <th>6</th>\n",
       "      <td>2019-07-23</td>\n",
       "      <td>sell</td>\n",
       "      <td>44.349998</td>\n",
       "      <td>0.185116</td>\n",
       "      <td>2019-05-22</td>\n",
       "      <td>buy</td>\n",
       "      <td>37.422501</td>\n",
       "    </tr>\n",
       "  </tbody>\n",
       "</table>\n",
       "</div>"
      ],
      "text/plain": [
       "  signal_date action  action_price    return previous_signal_date  \\\n",
       "0  2019-03-21   sell     45.709999       NaN                  NaT   \n",
       "6  2019-07-23   sell     44.349998  0.185116           2019-05-22   \n",
       "\n",
       "  previous_action  previous_action_price  \n",
       "0            None                    NaN  \n",
       "6             buy              37.422501  "
      ]
     },
     "execution_count": 66,
     "metadata": {},
     "output_type": "execute_result"
    }
   ],
   "source": [
    "record_df[record_df['action'] != record_df['previous_action']][record_df['action'] == 'sell']"
   ]
  },
  {
   "cell_type": "code",
   "execution_count": 68,
   "metadata": {},
   "outputs": [
    {
     "name": "stderr",
     "output_type": "stream",
     "text": [
      "/var/folders/6t/_xyw489d5jnd7011n2m_x_ch0000gn/T/ipykernel_21335/1572425393.py:1: UserWarning: Boolean Series key will be reindexed to match DataFrame index.\n",
      "  record_df[record_df['action'] != record_df['previous_action']][record_df['action'] == 'sell']['return']\n"
     ]
    },
    {
     "data": {
      "text/plain": [
       "0         NaN\n",
       "6    0.185116\n",
       "Name: return, dtype: float64"
      ]
     },
     "execution_count": 68,
     "metadata": {},
     "output_type": "execute_result"
    }
   ],
   "source": [
    "record_df[record_df['action'] != record_df['previous_action']][record_df['action'] == 'sell']['return']"
   ]
  },
  {
   "cell_type": "code",
   "execution_count": null,
   "metadata": {},
   "outputs": [],
   "source": []
  }
 ],
 "metadata": {
  "kernelspec": {
   "display_name": "investic",
   "language": "python",
   "name": "python3"
  },
  "language_info": {
   "codemirror_mode": {
    "name": "ipython",
    "version": 3
   },
   "file_extension": ".py",
   "mimetype": "text/x-python",
   "name": "python",
   "nbconvert_exporter": "python",
   "pygments_lexer": "ipython3",
   "version": "3.9.13"
  },
  "orig_nbformat": 4,
  "vscode": {
   "interpreter": {
    "hash": "4c9534a07ddb41a99be5cadb8414846aff90091d189f2347504a8ec9595ff225"
   }
  }
 },
 "nbformat": 4,
 "nbformat_minor": 2
}
