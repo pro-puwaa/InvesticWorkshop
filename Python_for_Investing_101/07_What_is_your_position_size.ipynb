{
 "cells": [
  {
   "cell_type": "code",
   "execution_count": null,
   "metadata": {},
   "outputs": [],
   "source": []
  }
 ],
 "metadata": {
  "kernelspec": {
   "display_name": "int366",
   "language": "python",
   "name": "python3"
  },
  "language_info": {
   "name": "python",
   "version": "3.9.13 (main, Aug 25 2022, 18:29:29) \n[Clang 12.0.0 ]"
  },
  "orig_nbformat": 4,
  "vscode": {
   "interpreter": {
    "hash": "664fdbb3f4c12b90a7539c8db87e7552d6d815ec16ad9e24bf4ed40d909e532c"
   }
  }
 },
 "nbformat": 4,
 "nbformat_minor": 2
}
