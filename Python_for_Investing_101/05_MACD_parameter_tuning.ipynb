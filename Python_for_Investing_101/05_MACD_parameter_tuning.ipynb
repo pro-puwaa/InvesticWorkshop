{
 "cells": [
  {
   "attachments": {},
   "cell_type": "markdown",
   "metadata": {},
   "source": [
    "**Workshop**\n",
    "\n",
    "จงหา best parameter ของ MACD  ที่ให้ผลตอบแทนเฉลี่ย มากที่สุด ของหุ้น Apple ใน 5 ปีที่ผ่านมา"
   ]
  },
  {
   "attachments": {},
   "cell_type": "markdown",
   "metadata": {},
   "source": [
    "## Import data"
   ]
  },
  {
   "cell_type": "code",
   "execution_count": 12,
   "metadata": {},
   "outputs": [],
   "source": [
    "import yfinance as yf\n",
    "import pandas as pd\n",
    "import numpy as np\n",
    "import talib as ta"
   ]
  },
  {
   "cell_type": "code",
   "execution_count": 13,
   "metadata": {},
   "outputs": [],
   "source": [
    "# define asset and date\n",
    "ticker_name = 'AAPL'\n",
    "start='2015-01-01' \n",
    "end='2021-01-01'"
   ]
  },
  {
   "cell_type": "code",
   "execution_count": 14,
   "metadata": {},
   "outputs": [
    {
     "name": "stdout",
     "output_type": "stream",
     "text": [
      "[*********************100%***********************]  1 of 1 completed\n"
     ]
    }
   ],
   "source": [
    "raw_df = yf.download(tickers=ticker_name, start=start, end=end)"
   ]
  },
  {
   "attachments": {},
   "cell_type": "markdown",
   "metadata": {},
   "source": [
    "## Optimization"
   ]
  },
  {
   "cell_type": "code",
   "execution_count": 15,
   "metadata": {},
   "outputs": [],
   "source": [
    "df = raw_df.copy()"
   ]
  },
  {
   "cell_type": "code",
   "execution_count": 16,
   "metadata": {},
   "outputs": [],
   "source": [
    "def macd_optimization(df, init_number=12, end_number=26, signal=9):\n",
    "    all_trades_summary = pd.DataFrame(columns=['Average', 'Min', 'Max', 'i', 'j'])\n",
    "    \n",
    "    for i in range(init_number, end_number):\n",
    "        for j in range(init_number+1, end_number+1):\n",
    "            temp_df = df.copy()\n",
    "            temp_df['macd'], temp_df['macdsignal'], temp_df['macdhist'] = ta.MACD(temp_df['Close'], fastperiod=i, slowperiod=j, signalperiod=signal)\n",
    "            # entry signal sma12 > sma26 or macd > 0\n",
    "            temp_df['signal'] = temp_df['macd'] > 0\n",
    "            temp_df.ta.tsignals(temp_df.signal, asbool=True, append=True)\n",
    "\n",
    "            # entry price signal\n",
    "            temp_df['action_price'] = temp_df.Open.shift(-1)\n",
    "            \n",
    "            # result all transaction on i, j \n",
    "            trades_table = temp_df.iloc[:,-5:][temp_df.TS_Trades != 0] # Entry & Exit\n",
    "            trades_table['return'] = trades_table['action_price'].pct_change() # pct_change() of Entry and Exit\n",
    "            trades_summary = trades_table.loc[trades_table.TS_Exits == True] # real return each trade\n",
    "\n",
    "            # create temp table for keep return on i, j and then insert into 'all_trades_summary' table\n",
    "            a = trades_summary['return']\n",
    "            temp_a = pd.DataFrame(data=[[a.mean(), a.min(), a.max(),i, j]], columns=['Average', 'Min', 'Max', 'i', 'j'])\n",
    "            \n",
    "            all_trades_summary = pd.concat([all_trades_summary, temp_a])\n",
    "            all_trades_summary.dropna(inplace=True) # drop row is NaN (if i and j are same the output is NaN)\n",
    "\n",
    "    return all_trades_summary"
   ]
  },
  {
   "cell_type": "code",
   "execution_count": 17,
   "metadata": {},
   "outputs": [],
   "source": [
    "output_df = macd_optimization(df)"
   ]
  },
  {
   "cell_type": "code",
   "execution_count": 18,
   "metadata": {},
   "outputs": [
    {
     "data": {
      "text/html": [
       "<div>\n",
       "<style scoped>\n",
       "    .dataframe tbody tr th:only-of-type {\n",
       "        vertical-align: middle;\n",
       "    }\n",
       "\n",
       "    .dataframe tbody tr th {\n",
       "        vertical-align: top;\n",
       "    }\n",
       "\n",
       "    .dataframe thead th {\n",
       "        text-align: right;\n",
       "    }\n",
       "</style>\n",
       "<table border=\"1\" class=\"dataframe\">\n",
       "  <thead>\n",
       "    <tr style=\"text-align: right;\">\n",
       "      <th></th>\n",
       "      <th>Average</th>\n",
       "      <th>Min</th>\n",
       "      <th>Max</th>\n",
       "      <th>i</th>\n",
       "      <th>j</th>\n",
       "    </tr>\n",
       "  </thead>\n",
       "  <tbody>\n",
       "    <tr>\n",
       "      <th>0</th>\n",
       "      <td>0.058208</td>\n",
       "      <td>-0.057952</td>\n",
       "      <td>0.710261</td>\n",
       "      <td>12</td>\n",
       "      <td>13</td>\n",
       "    </tr>\n",
       "    <tr>\n",
       "      <th>0</th>\n",
       "      <td>0.058074</td>\n",
       "      <td>-0.057952</td>\n",
       "      <td>0.710261</td>\n",
       "      <td>12</td>\n",
       "      <td>14</td>\n",
       "    </tr>\n",
       "    <tr>\n",
       "      <th>0</th>\n",
       "      <td>0.053687</td>\n",
       "      <td>-0.057952</td>\n",
       "      <td>0.638857</td>\n",
       "      <td>12</td>\n",
       "      <td>15</td>\n",
       "    </tr>\n",
       "    <tr>\n",
       "      <th>0</th>\n",
       "      <td>0.056950</td>\n",
       "      <td>-0.064051</td>\n",
       "      <td>0.690429</td>\n",
       "      <td>12</td>\n",
       "      <td>16</td>\n",
       "    </tr>\n",
       "    <tr>\n",
       "      <th>0</th>\n",
       "      <td>0.061573</td>\n",
       "      <td>-0.064051</td>\n",
       "      <td>0.690429</td>\n",
       "      <td>12</td>\n",
       "      <td>17</td>\n",
       "    </tr>\n",
       "    <tr>\n",
       "      <th>...</th>\n",
       "      <td>...</td>\n",
       "      <td>...</td>\n",
       "      <td>...</td>\n",
       "      <td>...</td>\n",
       "      <td>...</td>\n",
       "    </tr>\n",
       "    <tr>\n",
       "      <th>0</th>\n",
       "      <td>0.083710</td>\n",
       "      <td>-0.067374</td>\n",
       "      <td>0.572190</td>\n",
       "      <td>25</td>\n",
       "      <td>21</td>\n",
       "    </tr>\n",
       "    <tr>\n",
       "      <th>0</th>\n",
       "      <td>0.081834</td>\n",
       "      <td>-0.072509</td>\n",
       "      <td>0.572190</td>\n",
       "      <td>25</td>\n",
       "      <td>22</td>\n",
       "    </tr>\n",
       "    <tr>\n",
       "      <th>0</th>\n",
       "      <td>0.086434</td>\n",
       "      <td>-0.072253</td>\n",
       "      <td>0.659596</td>\n",
       "      <td>25</td>\n",
       "      <td>23</td>\n",
       "    </tr>\n",
       "    <tr>\n",
       "      <th>0</th>\n",
       "      <td>0.089524</td>\n",
       "      <td>-0.073168</td>\n",
       "      <td>0.548758</td>\n",
       "      <td>25</td>\n",
       "      <td>24</td>\n",
       "    </tr>\n",
       "    <tr>\n",
       "      <th>0</th>\n",
       "      <td>0.102032</td>\n",
       "      <td>-0.080692</td>\n",
       "      <td>0.556565</td>\n",
       "      <td>25</td>\n",
       "      <td>26</td>\n",
       "    </tr>\n",
       "  </tbody>\n",
       "</table>\n",
       "<p>183 rows × 5 columns</p>\n",
       "</div>"
      ],
      "text/plain": [
       "     Average       Min       Max   i   j\n",
       "0   0.058208 -0.057952  0.710261  12  13\n",
       "0   0.058074 -0.057952  0.710261  12  14\n",
       "0   0.053687 -0.057952  0.638857  12  15\n",
       "0   0.056950 -0.064051  0.690429  12  16\n",
       "0   0.061573 -0.064051  0.690429  12  17\n",
       "..       ...       ...       ...  ..  ..\n",
       "0   0.083710 -0.067374  0.572190  25  21\n",
       "0   0.081834 -0.072509  0.572190  25  22\n",
       "0   0.086434 -0.072253  0.659596  25  23\n",
       "0   0.089524 -0.073168  0.548758  25  24\n",
       "0   0.102032 -0.080692  0.556565  25  26\n",
       "\n",
       "[183 rows x 5 columns]"
      ]
     },
     "execution_count": 18,
     "metadata": {},
     "output_type": "execute_result"
    }
   ],
   "source": [
    "output_df"
   ]
  },
  {
   "cell_type": "code",
   "execution_count": 22,
   "metadata": {},
   "outputs": [
    {
     "data": {
      "text/html": [
       "<div>\n",
       "<style scoped>\n",
       "    .dataframe tbody tr th:only-of-type {\n",
       "        vertical-align: middle;\n",
       "    }\n",
       "\n",
       "    .dataframe tbody tr th {\n",
       "        vertical-align: top;\n",
       "    }\n",
       "\n",
       "    .dataframe thead th {\n",
       "        text-align: right;\n",
       "    }\n",
       "</style>\n",
       "<table border=\"1\" class=\"dataframe\">\n",
       "  <thead>\n",
       "    <tr style=\"text-align: right;\">\n",
       "      <th></th>\n",
       "      <th>Average</th>\n",
       "      <th>Min</th>\n",
       "      <th>Max</th>\n",
       "      <th>i</th>\n",
       "      <th>j</th>\n",
       "    </tr>\n",
       "  </thead>\n",
       "  <tbody>\n",
       "    <tr>\n",
       "      <th>0</th>\n",
       "      <td>0.102032</td>\n",
       "      <td>-0.080692</td>\n",
       "      <td>0.556565</td>\n",
       "      <td>25</td>\n",
       "      <td>26</td>\n",
       "    </tr>\n",
       "  </tbody>\n",
       "</table>\n",
       "</div>"
      ],
      "text/plain": [
       "    Average       Min       Max   i   j\n",
       "0  0.102032 -0.080692  0.556565  25  26"
      ]
     },
     "execution_count": 22,
     "metadata": {},
     "output_type": "execute_result"
    }
   ],
   "source": [
    "# best i (fast) and j (slow) line which get best average return\n",
    "output_df.loc[output_df['Average'] == output_df.Average.max()]"
   ]
  },
  {
   "cell_type": "code",
   "execution_count": null,
   "metadata": {},
   "outputs": [],
   "source": []
  }
 ],
 "metadata": {
  "kernelspec": {
   "display_name": "investic",
   "language": "python",
   "name": "python3"
  },
  "language_info": {
   "codemirror_mode": {
    "name": "ipython",
    "version": 3
   },
   "file_extension": ".py",
   "mimetype": "text/x-python",
   "name": "python",
   "nbconvert_exporter": "python",
   "pygments_lexer": "ipython3",
   "version": "3.9.13"
  },
  "orig_nbformat": 4,
  "vscode": {
   "interpreter": {
    "hash": "4c9534a07ddb41a99be5cadb8414846aff90091d189f2347504a8ec9595ff225"
   }
  }
 },
 "nbformat": 4,
 "nbformat_minor": 2
}
