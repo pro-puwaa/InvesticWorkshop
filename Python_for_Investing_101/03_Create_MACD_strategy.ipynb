{
 "cells": [
  {
   "attachments": {},
   "cell_type": "markdown",
   "metadata": {},
   "source": [
    "**Workshop**\n",
    "\n",
    "Q: ดึงข้อมูลหุ้น Apple ปี 2020 และสร้าง MACD โดยให้ตั้งค่า parameter\n",
    "\n",
    "Short EMA = 12 periods\n",
    "\n",
    "Long EMA = 21 periods\n",
    "\n",
    "Signal Line = 9 periods\n",
    "\n",
    "และหาค่าเฉลี่ยผลกำไร ของกลยุทธ์ ฝั่ง long (หากมี position เปิดค้าง เราจะไม่นับว่าเป็นกำไร เพราะยังไม่ได้ปิด ยังไม่ใช่ realised gain)"
   ]
  },
  {
   "attachments": {},
   "cell_type": "markdown",
   "metadata": {},
   "source": [
    "## Import data"
   ]
  },
  {
   "cell_type": "code",
   "execution_count": 146,
   "metadata": {},
   "outputs": [],
   "source": [
    "import yfinance as yf\n",
    "import mplfinance as mpf\n",
    "import pandas as pd\n",
    "import numpy as np\n",
    "import pandas_ta as ta"
   ]
  },
  {
   "cell_type": "code",
   "execution_count": 147,
   "metadata": {},
   "outputs": [],
   "source": [
    "# define asset and date\n",
    "ticker_name = 'AAPL'\n",
    "start='2020-01-01' \n",
    "end='2021-01-01'"
   ]
  },
  {
   "cell_type": "code",
   "execution_count": 148,
   "metadata": {},
   "outputs": [
    {
     "name": "stdout",
     "output_type": "stream",
     "text": [
      "[*********************100%***********************]  1 of 1 completed\n"
     ]
    }
   ],
   "source": [
    "raw_df = yf.download(tickers=ticker_name, start=start, end=end)"
   ]
  },
  {
   "attachments": {},
   "cell_type": "markdown",
   "metadata": {},
   "source": [
    "## Strategy"
   ]
  },
  {
   "cell_type": "code",
   "execution_count": 149,
   "metadata": {},
   "outputs": [
    {
     "data": {
      "text/html": [
       "<div>\n",
       "<style scoped>\n",
       "    .dataframe tbody tr th:only-of-type {\n",
       "        vertical-align: middle;\n",
       "    }\n",
       "\n",
       "    .dataframe tbody tr th {\n",
       "        vertical-align: top;\n",
       "    }\n",
       "\n",
       "    .dataframe thead th {\n",
       "        text-align: right;\n",
       "    }\n",
       "</style>\n",
       "<table border=\"1\" class=\"dataframe\">\n",
       "  <thead>\n",
       "    <tr style=\"text-align: right;\">\n",
       "      <th></th>\n",
       "      <th>MACD_12_26_9</th>\n",
       "      <th>MACDh_12_26_9</th>\n",
       "      <th>MACDs_12_26_9</th>\n",
       "    </tr>\n",
       "    <tr>\n",
       "      <th>Date</th>\n",
       "      <th></th>\n",
       "      <th></th>\n",
       "      <th></th>\n",
       "    </tr>\n",
       "  </thead>\n",
       "  <tbody>\n",
       "    <tr>\n",
       "      <th>2020-01-02</th>\n",
       "      <td>NaN</td>\n",
       "      <td>NaN</td>\n",
       "      <td>NaN</td>\n",
       "    </tr>\n",
       "    <tr>\n",
       "      <th>2020-01-03</th>\n",
       "      <td>NaN</td>\n",
       "      <td>NaN</td>\n",
       "      <td>NaN</td>\n",
       "    </tr>\n",
       "    <tr>\n",
       "      <th>2020-01-06</th>\n",
       "      <td>NaN</td>\n",
       "      <td>NaN</td>\n",
       "      <td>NaN</td>\n",
       "    </tr>\n",
       "    <tr>\n",
       "      <th>2020-01-07</th>\n",
       "      <td>NaN</td>\n",
       "      <td>NaN</td>\n",
       "      <td>NaN</td>\n",
       "    </tr>\n",
       "    <tr>\n",
       "      <th>2020-01-08</th>\n",
       "      <td>NaN</td>\n",
       "      <td>NaN</td>\n",
       "      <td>NaN</td>\n",
       "    </tr>\n",
       "    <tr>\n",
       "      <th>...</th>\n",
       "      <td>...</td>\n",
       "      <td>...</td>\n",
       "      <td>...</td>\n",
       "    </tr>\n",
       "    <tr>\n",
       "      <th>2020-12-24</th>\n",
       "      <td>3.323474</td>\n",
       "      <td>0.658064</td>\n",
       "      <td>2.665410</td>\n",
       "    </tr>\n",
       "    <tr>\n",
       "      <th>2020-12-28</th>\n",
       "      <td>3.794496</td>\n",
       "      <td>0.903269</td>\n",
       "      <td>2.891227</td>\n",
       "    </tr>\n",
       "    <tr>\n",
       "      <th>2020-12-29</th>\n",
       "      <td>3.975103</td>\n",
       "      <td>0.867101</td>\n",
       "      <td>3.108002</td>\n",
       "    </tr>\n",
       "    <tr>\n",
       "      <th>2020-12-30</th>\n",
       "      <td>3.979567</td>\n",
       "      <td>0.697251</td>\n",
       "      <td>3.282315</td>\n",
       "    </tr>\n",
       "    <tr>\n",
       "      <th>2020-12-31</th>\n",
       "      <td>3.855547</td>\n",
       "      <td>0.458586</td>\n",
       "      <td>3.396962</td>\n",
       "    </tr>\n",
       "  </tbody>\n",
       "</table>\n",
       "<p>253 rows × 3 columns</p>\n",
       "</div>"
      ],
      "text/plain": [
       "            MACD_12_26_9  MACDh_12_26_9  MACDs_12_26_9\n",
       "Date                                                  \n",
       "2020-01-02           NaN            NaN            NaN\n",
       "2020-01-03           NaN            NaN            NaN\n",
       "2020-01-06           NaN            NaN            NaN\n",
       "2020-01-07           NaN            NaN            NaN\n",
       "2020-01-08           NaN            NaN            NaN\n",
       "...                  ...            ...            ...\n",
       "2020-12-24      3.323474       0.658064       2.665410\n",
       "2020-12-28      3.794496       0.903269       2.891227\n",
       "2020-12-29      3.975103       0.867101       3.108002\n",
       "2020-12-30      3.979567       0.697251       3.282315\n",
       "2020-12-31      3.855547       0.458586       3.396962\n",
       "\n",
       "[253 rows x 3 columns]"
      ]
     },
     "execution_count": 149,
     "metadata": {},
     "output_type": "execute_result"
    }
   ],
   "source": [
    "raw_df.ta.macd(window_fast=12, window_slow=26, window_sign=9, append=True)"
   ]
  },
  {
   "cell_type": "code",
   "execution_count": 150,
   "metadata": {},
   "outputs": [],
   "source": [
    "raw_df.loc[(raw_df['MACD_12_26_9'] > 0) & (raw_df['MACD_12_26_9'].shift(1) < 0), 'action'] = 'buy'\n",
    "raw_df.loc[(raw_df['MACD_12_26_9'] < 0) & (raw_df['MACD_12_26_9'].shift(1) > 0), 'action'] = 'sell'"
   ]
  },
  {
   "attachments": {},
   "cell_type": "markdown",
   "metadata": {},
   "source": [
    "## Visualization"
   ]
  },
  {
   "cell_type": "code",
   "execution_count": 151,
   "metadata": {},
   "outputs": [],
   "source": [
    "# 'col_signal' include buy and sell signal which we have to seperate the signal by our direction (side) that we pay attention.\n",
    "# 'value' check the signal before add into the list\n",
    "\n",
    "def mark_ticker(col_signal, col_price, direction):\n",
    "    signal = []\n",
    "    for date, value in col_signal.iteritems():\n",
    "        # long side on DataFrame\n",
    "        if direction == 'buy':\n",
    "            if value == 'buy':\n",
    "                signal.append(col_price[date] * 0.95)\n",
    "            else:\n",
    "                signal.append(np.nan)\n",
    "        # short side on DataFrame\n",
    "        elif direction == 'sell':\n",
    "            if value == 'sell':\n",
    "                signal.append(col_price[date] * 1.05)\n",
    "            else:\n",
    "                signal.append(np.nan)\n",
    "    return signal"
   ]
  },
  {
   "cell_type": "code",
   "execution_count": 152,
   "metadata": {},
   "outputs": [
    {
     "name": "stderr",
     "output_type": "stream",
     "text": [
      "/var/folders/6t/_xyw489d5jnd7011n2m_x_ch0000gn/T/ipykernel_18216/3718644944.py:6: FutureWarning: iteritems is deprecated and will be removed in a future version. Use .items instead.\n",
      "  for date, value in col_signal.iteritems():\n"
     ]
    },
    {
     "data": {
      "image/png": "[encoded data removed]",
      "text/plain": [
       "<Figure size 1500x700 with 4 Axes>"
      ]
     },
     "metadata": {},
     "output_type": "display_data"
    }
   ],
   "source": [
    "viz = [ mpf.make_addplot(mark_ticker(raw_df['action'], raw_df['Close'], 'buy') , type='scatter', markersize=50, marker='o'),\n",
    "        mpf.make_addplot(mark_ticker(raw_df['action'], raw_df['Open'], 'sell') , type='scatter', markersize=50, marker='o')\n",
    "        ]\n",
    "\n",
    "mpf.plot(raw_df, style='yahoo', type='candle', mav=(12, 26), volume=True, addplot=viz,figsize=(15, 7))"
   ]
  },
  {
   "cell_type": "code",
   "execution_count": 153,
   "metadata": {},
   "outputs": [
    {
     "data": {
      "text/html": [
       "<div>\n",
       "<style scoped>\n",
       "    .dataframe tbody tr th:only-of-type {\n",
       "        vertical-align: middle;\n",
       "    }\n",
       "\n",
       "    .dataframe tbody tr th {\n",
       "        vertical-align: top;\n",
       "    }\n",
       "\n",
       "    .dataframe thead th {\n",
       "        text-align: right;\n",
       "    }\n",
       "</style>\n",
       "<table border=\"1\" class=\"dataframe\">\n",
       "  <thead>\n",
       "    <tr style=\"text-align: right;\">\n",
       "      <th></th>\n",
       "      <th>Open</th>\n",
       "      <th>High</th>\n",
       "      <th>Low</th>\n",
       "      <th>Close</th>\n",
       "      <th>Adj Close</th>\n",
       "      <th>Volume</th>\n",
       "      <th>MACD_12_26_9</th>\n",
       "      <th>MACDh_12_26_9</th>\n",
       "      <th>MACDs_12_26_9</th>\n",
       "      <th>action</th>\n",
       "    </tr>\n",
       "    <tr>\n",
       "      <th>Date</th>\n",
       "      <th></th>\n",
       "      <th></th>\n",
       "      <th></th>\n",
       "      <th></th>\n",
       "      <th></th>\n",
       "      <th></th>\n",
       "      <th></th>\n",
       "      <th></th>\n",
       "      <th></th>\n",
       "      <th></th>\n",
       "    </tr>\n",
       "  </thead>\n",
       "  <tbody>\n",
       "    <tr>\n",
       "      <th>2020-02-25</th>\n",
       "      <td>75.237503</td>\n",
       "      <td>75.632500</td>\n",
       "      <td>71.532501</td>\n",
       "      <td>72.019997</td>\n",
       "      <td>70.723816</td>\n",
       "      <td>230673600</td>\n",
       "      <td>-0.371691</td>\n",
       "      <td>-0.995220</td>\n",
       "      <td>0.623529</td>\n",
       "      <td>sell</td>\n",
       "    </tr>\n",
       "    <tr>\n",
       "      <th>2020-04-15</th>\n",
       "      <td>70.599998</td>\n",
       "      <td>71.582497</td>\n",
       "      <td>70.157501</td>\n",
       "      <td>71.107498</td>\n",
       "      <td>69.827744</td>\n",
       "      <td>131154400</td>\n",
       "      <td>0.249242</td>\n",
       "      <td>1.544195</td>\n",
       "      <td>-1.294953</td>\n",
       "      <td>buy</td>\n",
       "    </tr>\n",
       "    <tr>\n",
       "      <th>2020-09-18</th>\n",
       "      <td>110.400002</td>\n",
       "      <td>110.879997</td>\n",
       "      <td>106.089996</td>\n",
       "      <td>106.839996</td>\n",
       "      <td>105.390839</td>\n",
       "      <td>287104900</td>\n",
       "      <td>-0.627352</td>\n",
       "      <td>-2.360862</td>\n",
       "      <td>1.733510</td>\n",
       "      <td>sell</td>\n",
       "    </tr>\n",
       "    <tr>\n",
       "      <th>2020-10-08</th>\n",
       "      <td>116.250000</td>\n",
       "      <td>116.400002</td>\n",
       "      <td>114.589996</td>\n",
       "      <td>114.970001</td>\n",
       "      <td>113.410583</td>\n",
       "      <td>83477200</td>\n",
       "      <td>0.012185</td>\n",
       "      <td>0.271545</td>\n",
       "      <td>-0.259361</td>\n",
       "      <td>buy</td>\n",
       "    </tr>\n",
       "    <tr>\n",
       "      <th>2020-10-28</th>\n",
       "      <td>115.050003</td>\n",
       "      <td>115.430000</td>\n",
       "      <td>111.099998</td>\n",
       "      <td>111.199997</td>\n",
       "      <td>109.691704</td>\n",
       "      <td>143937800</td>\n",
       "      <td>-0.125056</td>\n",
       "      <td>-0.677954</td>\n",
       "      <td>0.552898</td>\n",
       "      <td>sell</td>\n",
       "    </tr>\n",
       "    <tr>\n",
       "      <th>2020-11-10</th>\n",
       "      <td>115.550003</td>\n",
       "      <td>117.589996</td>\n",
       "      <td>114.129997</td>\n",
       "      <td>115.970001</td>\n",
       "      <td>114.594368</td>\n",
       "      <td>138023400</td>\n",
       "      <td>0.006958</td>\n",
       "      <td>0.285354</td>\n",
       "      <td>-0.278396</td>\n",
       "      <td>buy</td>\n",
       "    </tr>\n",
       "  </tbody>\n",
       "</table>\n",
       "</div>"
      ],
      "text/plain": [
       "                  Open        High         Low       Close   Adj Close  \\\n",
       "Date                                                                     \n",
       "2020-02-25   75.237503   75.632500   71.532501   72.019997   70.723816   \n",
       "2020-04-15   70.599998   71.582497   70.157501   71.107498   69.827744   \n",
       "2020-09-18  110.400002  110.879997  106.089996  106.839996  105.390839   \n",
       "2020-10-08  116.250000  116.400002  114.589996  114.970001  113.410583   \n",
       "2020-10-28  115.050003  115.430000  111.099998  111.199997  109.691704   \n",
       "2020-11-10  115.550003  117.589996  114.129997  115.970001  114.594368   \n",
       "\n",
       "               Volume  MACD_12_26_9  MACDh_12_26_9  MACDs_12_26_9 action  \n",
       "Date                                                                      \n",
       "2020-02-25  230673600     -0.371691      -0.995220       0.623529   sell  \n",
       "2020-04-15  131154400      0.249242       1.544195      -1.294953    buy  \n",
       "2020-09-18  287104900     -0.627352      -2.360862       1.733510   sell  \n",
       "2020-10-08   83477200      0.012185       0.271545      -0.259361    buy  \n",
       "2020-10-28  143937800     -0.125056      -0.677954       0.552898   sell  \n",
       "2020-11-10  138023400      0.006958       0.285354      -0.278396    buy  "
      ]
     },
     "execution_count": 153,
     "metadata": {},
     "output_type": "execute_result"
    }
   ],
   "source": [
    "raw_df[raw_df['action'].notnull()]"
   ]
  },
  {
   "attachments": {},
   "cell_type": "markdown",
   "metadata": {},
   "source": [
    "## Strategy Return"
   ]
  },
  {
   "cell_type": "code",
   "execution_count": 154,
   "metadata": {},
   "outputs": [],
   "source": [
    "def startegy_return(df, action_price = 'Open', side='long'):\n",
    "    action_df = df.loc[df['action'].notnull()]\n",
    "\n",
    "    # action 'Open' (next day)\n",
    "    if action_price == 'Open':\n",
    "        action_df['action_price'] = df['Open'].shift(-1)\n",
    "        action_df['return'] = action_df['action_price'].pct_change()\n",
    "    \n",
    "    if action_price == 'Close':\n",
    "        action_df['action_price'] = df['Close']\n",
    "        action_df['return'] = action_df['action_price'].pct_change()\n",
    "\n",
    "    # record df\n",
    "    record_df = action_df[['action', 'action_price', 'return']]\n",
    "    record_df.reset_index(inplace=True)\n",
    "    record_df['previous_signal_date'] = record_df['Date'].shift(1)\n",
    "    record_df['previous_action'] = record_df['action'].shift(1)\n",
    "    record_df['previous_action_price'] = record_df['action_price'].shift(1)\n",
    "    record_df.rename(columns={'Date':'signal_date'}, inplace=True)\n",
    "\n",
    "    # summary return\n",
    "    if side == 'long':\n",
    "        summary_df = record_df[record_df.action == 'sell']\n",
    "        summary_df\n",
    "    \n",
    "    if side == 'short':\n",
    "        summary_df = record_df[record_df.action == 'buy']\n",
    "        summary_df['return'] = summary_df['return'] * -1\n",
    "\n",
    "    summary_df.reset_index(inplace=True, drop=True)    \n",
    "    \n",
    "    return df, record_df, summary_df"
   ]
  },
  {
   "cell_type": "code",
   "execution_count": 155,
   "metadata": {},
   "outputs": [
    {
     "name": "stderr",
     "output_type": "stream",
     "text": [
      "/var/folders/6t/_xyw489d5jnd7011n2m_x_ch0000gn/T/ipykernel_18216/2213148132.py:6: SettingWithCopyWarning: \n",
      "A value is trying to be set on a copy of a slice from a DataFrame.\n",
      "Try using .loc[row_indexer,col_indexer] = value instead\n",
      "\n",
      "See the caveats in the documentation: https://pandas.pydata.org/pandas-docs/stable/user_guide/indexing.html#returning-a-view-versus-a-copy\n",
      "  action_df['action_price'] = df['Open'].shift(-1)\n",
      "/var/folders/6t/_xyw489d5jnd7011n2m_x_ch0000gn/T/ipykernel_18216/2213148132.py:7: SettingWithCopyWarning: \n",
      "A value is trying to be set on a copy of a slice from a DataFrame.\n",
      "Try using .loc[row_indexer,col_indexer] = value instead\n",
      "\n",
      "See the caveats in the documentation: https://pandas.pydata.org/pandas-docs/stable/user_guide/indexing.html#returning-a-view-versus-a-copy\n",
      "  action_df['return'] = action_df['action_price'].pct_change()\n",
      "/var/folders/6t/_xyw489d5jnd7011n2m_x_ch0000gn/T/ipykernel_18216/2213148132.py:16: SettingWithCopyWarning: \n",
      "A value is trying to be set on a copy of a slice from a DataFrame.\n",
      "Try using .loc[row_indexer,col_indexer] = value instead\n",
      "\n",
      "See the caveats in the documentation: https://pandas.pydata.org/pandas-docs/stable/user_guide/indexing.html#returning-a-view-versus-a-copy\n",
      "  record_df['previous_signal_date'] = record_df['Date'].shift(1)\n",
      "/var/folders/6t/_xyw489d5jnd7011n2m_x_ch0000gn/T/ipykernel_18216/2213148132.py:17: SettingWithCopyWarning: \n",
      "A value is trying to be set on a copy of a slice from a DataFrame.\n",
      "Try using .loc[row_indexer,col_indexer] = value instead\n",
      "\n",
      "See the caveats in the documentation: https://pandas.pydata.org/pandas-docs/stable/user_guide/indexing.html#returning-a-view-versus-a-copy\n",
      "  record_df['previous_action'] = record_df['action'].shift(1)\n",
      "/var/folders/6t/_xyw489d5jnd7011n2m_x_ch0000gn/T/ipykernel_18216/2213148132.py:18: SettingWithCopyWarning: \n",
      "A value is trying to be set on a copy of a slice from a DataFrame.\n",
      "Try using .loc[row_indexer,col_indexer] = value instead\n",
      "\n",
      "See the caveats in the documentation: https://pandas.pydata.org/pandas-docs/stable/user_guide/indexing.html#returning-a-view-versus-a-copy\n",
      "  record_df['previous_action_price'] = record_df['action_price'].shift(1)\n",
      "/var/folders/6t/_xyw489d5jnd7011n2m_x_ch0000gn/T/ipykernel_18216/2213148132.py:19: SettingWithCopyWarning: \n",
      "A value is trying to be set on a copy of a slice from a DataFrame\n",
      "\n",
      "See the caveats in the documentation: https://pandas.pydata.org/pandas-docs/stable/user_guide/indexing.html#returning-a-view-versus-a-copy\n",
      "  record_df.rename(columns={'Date':'signal_date'}, inplace=True)\n"
     ]
    }
   ],
   "source": [
    "df, record_df, summary_df = startegy_return(raw_df)"
   ]
  },
  {
   "cell_type": "code",
   "execution_count": 156,
   "metadata": {},
   "outputs": [
    {
     "data": {
      "text/html": [
       "<div>\n",
       "<style scoped>\n",
       "    .dataframe tbody tr th:only-of-type {\n",
       "        vertical-align: middle;\n",
       "    }\n",
       "\n",
       "    .dataframe tbody tr th {\n",
       "        vertical-align: top;\n",
       "    }\n",
       "\n",
       "    .dataframe thead th {\n",
       "        text-align: right;\n",
       "    }\n",
       "</style>\n",
       "<table border=\"1\" class=\"dataframe\">\n",
       "  <thead>\n",
       "    <tr style=\"text-align: right;\">\n",
       "      <th></th>\n",
       "      <th>signal_date</th>\n",
       "      <th>action</th>\n",
       "      <th>action_price</th>\n",
       "      <th>return</th>\n",
       "      <th>previous_signal_date</th>\n",
       "      <th>previous_action</th>\n",
       "      <th>previous_action_price</th>\n",
       "    </tr>\n",
       "  </thead>\n",
       "  <tbody>\n",
       "    <tr>\n",
       "      <th>0</th>\n",
       "      <td>2020-02-25</td>\n",
       "      <td>sell</td>\n",
       "      <td>71.632500</td>\n",
       "      <td>NaN</td>\n",
       "      <td>NaT</td>\n",
       "      <td>None</td>\n",
       "      <td>NaN</td>\n",
       "    </tr>\n",
       "    <tr>\n",
       "      <th>1</th>\n",
       "      <td>2020-04-15</td>\n",
       "      <td>buy</td>\n",
       "      <td>71.845001</td>\n",
       "      <td>0.002967</td>\n",
       "      <td>2020-02-25</td>\n",
       "      <td>sell</td>\n",
       "      <td>71.632500</td>\n",
       "    </tr>\n",
       "    <tr>\n",
       "      <th>2</th>\n",
       "      <td>2020-09-18</td>\n",
       "      <td>sell</td>\n",
       "      <td>104.540001</td>\n",
       "      <td>0.455077</td>\n",
       "      <td>2020-04-15</td>\n",
       "      <td>buy</td>\n",
       "      <td>71.845001</td>\n",
       "    </tr>\n",
       "    <tr>\n",
       "      <th>3</th>\n",
       "      <td>2020-10-08</td>\n",
       "      <td>buy</td>\n",
       "      <td>115.279999</td>\n",
       "      <td>0.102736</td>\n",
       "      <td>2020-09-18</td>\n",
       "      <td>sell</td>\n",
       "      <td>104.540001</td>\n",
       "    </tr>\n",
       "    <tr>\n",
       "      <th>4</th>\n",
       "      <td>2020-10-28</td>\n",
       "      <td>sell</td>\n",
       "      <td>112.370003</td>\n",
       "      <td>-0.025243</td>\n",
       "      <td>2020-10-08</td>\n",
       "      <td>buy</td>\n",
       "      <td>115.279999</td>\n",
       "    </tr>\n",
       "    <tr>\n",
       "      <th>5</th>\n",
       "      <td>2020-11-10</td>\n",
       "      <td>buy</td>\n",
       "      <td>117.190002</td>\n",
       "      <td>0.042894</td>\n",
       "      <td>2020-10-28</td>\n",
       "      <td>sell</td>\n",
       "      <td>112.370003</td>\n",
       "    </tr>\n",
       "  </tbody>\n",
       "</table>\n",
       "</div>"
      ],
      "text/plain": [
       "  signal_date action  action_price    return previous_signal_date  \\\n",
       "0  2020-02-25   sell     71.632500       NaN                  NaT   \n",
       "1  2020-04-15    buy     71.845001  0.002967           2020-02-25   \n",
       "2  2020-09-18   sell    104.540001  0.455077           2020-04-15   \n",
       "3  2020-10-08    buy    115.279999  0.102736           2020-09-18   \n",
       "4  2020-10-28   sell    112.370003 -0.025243           2020-10-08   \n",
       "5  2020-11-10    buy    117.190002  0.042894           2020-10-28   \n",
       "\n",
       "  previous_action  previous_action_price  \n",
       "0            None                    NaN  \n",
       "1            sell              71.632500  \n",
       "2             buy              71.845001  \n",
       "3            sell             104.540001  \n",
       "4             buy             115.279999  \n",
       "5            sell             112.370003  "
      ]
     },
     "execution_count": 156,
     "metadata": {},
     "output_type": "execute_result"
    }
   ],
   "source": [
    "record_df"
   ]
  },
  {
   "cell_type": "code",
   "execution_count": 157,
   "metadata": {},
   "outputs": [
    {
     "data": {
      "text/html": [
       "<div>\n",
       "<style scoped>\n",
       "    .dataframe tbody tr th:only-of-type {\n",
       "        vertical-align: middle;\n",
       "    }\n",
       "\n",
       "    .dataframe tbody tr th {\n",
       "        vertical-align: top;\n",
       "    }\n",
       "\n",
       "    .dataframe thead th {\n",
       "        text-align: right;\n",
       "    }\n",
       "</style>\n",
       "<table border=\"1\" class=\"dataframe\">\n",
       "  <thead>\n",
       "    <tr style=\"text-align: right;\">\n",
       "      <th></th>\n",
       "      <th>signal_date</th>\n",
       "      <th>action</th>\n",
       "      <th>action_price</th>\n",
       "      <th>return</th>\n",
       "      <th>previous_signal_date</th>\n",
       "      <th>previous_action</th>\n",
       "      <th>previous_action_price</th>\n",
       "    </tr>\n",
       "  </thead>\n",
       "  <tbody>\n",
       "    <tr>\n",
       "      <th>0</th>\n",
       "      <td>2020-02-25</td>\n",
       "      <td>sell</td>\n",
       "      <td>71.632500</td>\n",
       "      <td>NaN</td>\n",
       "      <td>NaT</td>\n",
       "      <td>None</td>\n",
       "      <td>NaN</td>\n",
       "    </tr>\n",
       "    <tr>\n",
       "      <th>1</th>\n",
       "      <td>2020-09-18</td>\n",
       "      <td>sell</td>\n",
       "      <td>104.540001</td>\n",
       "      <td>0.455077</td>\n",
       "      <td>2020-04-15</td>\n",
       "      <td>buy</td>\n",
       "      <td>71.845001</td>\n",
       "    </tr>\n",
       "    <tr>\n",
       "      <th>2</th>\n",
       "      <td>2020-10-28</td>\n",
       "      <td>sell</td>\n",
       "      <td>112.370003</td>\n",
       "      <td>-0.025243</td>\n",
       "      <td>2020-10-08</td>\n",
       "      <td>buy</td>\n",
       "      <td>115.279999</td>\n",
       "    </tr>\n",
       "  </tbody>\n",
       "</table>\n",
       "</div>"
      ],
      "text/plain": [
       "  signal_date action  action_price    return previous_signal_date  \\\n",
       "0  2020-02-25   sell     71.632500       NaN                  NaT   \n",
       "1  2020-09-18   sell    104.540001  0.455077           2020-04-15   \n",
       "2  2020-10-28   sell    112.370003 -0.025243           2020-10-08   \n",
       "\n",
       "  previous_action  previous_action_price  \n",
       "0            None                    NaN  \n",
       "1             buy              71.845001  \n",
       "2             buy             115.279999  "
      ]
     },
     "execution_count": 157,
     "metadata": {},
     "output_type": "execute_result"
    }
   ],
   "source": [
    "# long side\n",
    "summary_df"
   ]
  },
  {
   "cell_type": "code",
   "execution_count": 158,
   "metadata": {},
   "outputs": [
    {
     "data": {
      "text/plain": [
       "<AxesSubplot: >"
      ]
     },
     "execution_count": 158,
     "metadata": {},
     "output_type": "execute_result"
    },
    {
     "data": {
      "image/png": "[encoded data removed]",
      "text/plain": [
       "<Figure size 640x480 with 1 Axes>"
      ]
     },
     "metadata": {},
     "output_type": "display_data"
    }
   ],
   "source": [
    "summary_df['return'].plot(kind='bar')"
   ]
  },
  {
   "cell_type": "code",
   "execution_count": 159,
   "metadata": {},
   "outputs": [
    {
     "data": {
      "text/plain": [
       "0.2149170184732131"
      ]
     },
     "execution_count": 159,
     "metadata": {},
     "output_type": "execute_result"
    }
   ],
   "source": [
    "summary_df['return'].mean()"
   ]
  },
  {
   "cell_type": "code",
   "execution_count": null,
   "metadata": {},
   "outputs": [],
   "source": []
  }
 ],
 "metadata": {
  "kernelspec": {
   "display_name": "investic",
   "language": "python",
   "name": "python3"
  },
  "language_info": {
   "codemirror_mode": {
    "name": "ipython",
    "version": 3
   },
   "file_extension": ".py",
   "mimetype": "text/x-python",
   "name": "python",
   "nbconvert_exporter": "python",
   "pygments_lexer": "ipython3",
   "version": "3.9.13"
  },
  "orig_nbformat": 4,
  "vscode": {
   "interpreter": {
    "hash": "4c9534a07ddb41a99be5cadb8414846aff90091d189f2347504a8ec9595ff225"
   }
  }
 },
 "nbformat": 4,
 "nbformat_minor": 2
}
