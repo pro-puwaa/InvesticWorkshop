{
 "cells": [
  {
   "cell_type": "markdown",
   "metadata": {},
   "source": [
    "# Arithmetic Operation"
   ]
  },
  {
   "cell_type": "code",
   "execution_count": 3,
   "metadata": {},
   "outputs": [
    {
     "name": "stdout",
     "output_type": "stream",
     "text": [
      "2.5\n",
      "2\n",
      "49\n",
      "8\n"
     ]
    }
   ],
   "source": [
    "# สร้างตัวแปร number โดยคำนวณ 1 บวก 2 คูณ 3 หาร 4.0\n",
    "number = 1 + 2 * 3 / 4\n",
    "print(number)\n",
    "# หาทศนิยมจาก 11 หาร 3\n",
    "remainder = 11 % 3\n",
    "print(remainder)\n",
    "# หาพื้นที่สี่เหลี่ยม แต่ละด้านมีค่าเท่ากับ 7\n",
    "squared = 7 * 7\n",
    "print(squared)\n",
    "# หาปริมาตรลูกบาศก์ แต่ละด้านมีค่าเท่ากับ 2\n",
    "cubed = 2 * 2 * 2\n",
    "print(cubed)\n"
   ]
  },
  {
   "cell_type": "markdown",
   "metadata": {},
   "source": [
    "# Using Operators with Strings"
   ]
  },
  {
   "cell_type": "code",
   "execution_count": 4,
   "metadata": {},
   "outputs": [
    {
     "name": "stdout",
     "output_type": "stream",
     "text": [
      "hellohellohellohellohellohellohellohellohellohello\n",
      "[2, 4, 6, 8]\n",
      "[2, 4, 6, 8]\n",
      "[2, 4, 6, 8, 1, 3, 5, 7]\n"
     ]
    }
   ],
   "source": [
    "# Using Operators with Strings\n",
    "# ปริ้น hello 10 ครั้ง\n",
    "lotsofhellos = 'hello' * 10\n",
    "print(lotsofhellos)\n",
    "#สร้างตัวเลข 1 ถึง 8 ในรูปแบบ list ที่มีเฉพาะเลขคู่ \n",
    "even_numbers = [2, 4, 6, 8]\n",
    "print(even_numbers)\n",
    "#สร้างตัวเลข 1 ถึง 8 ในรูปแบบ list ที่มีเฉพาะเลขคี่\n",
    "odd_numbers = [1, 3, 5, 7]\n",
    "print(even_numbers)\n",
    "#นำ odd number กับ even number มาบวกกัน\n",
    "all_numbers = even_numbers + odd_numbers\n",
    "print(all_numbers)\n"
   ]
  },
  {
   "cell_type": "markdown",
   "metadata": {},
   "source": [
    "# String Operation"
   ]
  },
  {
   "cell_type": "code",
   "execution_count": 5,
   "metadata": {},
   "outputs": [
    {
     "name": "stdout",
     "output_type": "stream",
     "text": [
      "11\n",
      "lo W\n",
      "l \n",
      "HELLO WORLD\n",
      "hello world\n"
     ]
    }
   ],
   "source": [
    "#String Operation\n",
    "\n",
    "# astring = \"Hello world!\"\n",
    "# 1 หาจำนวนตัวอักษรคำว่า Hello World\n",
    "astring = \"Hello World\"\n",
    "string1 = len(astring)\n",
    "print(string1)\n",
    "# 2 slicing ตัวที่ 3 ถึง 7 ของคำว่า Hello World\n",
    "string2 = astring[3:7]\n",
    "print(string2)\n",
    "# 3 slicing ตัวที่ 3 ถึง 7 ของคำว่า Hello World แต่เพิ่มที่ละ 2 ตัว\n",
    "string3 = astring[3:7:2]\n",
    "print(string3)\n",
    "# 4 เปลี่ยนคำว่า Hello World ให้เป็นอักษรตัวพิมพ์ใหญ่\n",
    "string4 = astring.upper()\n",
    "print(string4)\n",
    "# 5 เปลี่ยนคำว่า Hello World ให้เป็นอักษรตัวพิมพ์เล็ก\n",
    "string5 = astring.lower()\n",
    "print(string5)"
   ]
  },
  {
   "cell_type": "code",
   "execution_count": null,
   "metadata": {},
   "outputs": [],
   "source": []
  }
 ],
 "metadata": {
  "kernelspec": {
   "display_name": "Python 3.9.13 ('int366')",
   "language": "python",
   "name": "python3"
  },
  "language_info": {
   "codemirror_mode": {
    "name": "ipython",
    "version": 3
   },
   "file_extension": ".py",
   "mimetype": "text/x-python",
   "name": "python",
   "nbconvert_exporter": "python",
   "pygments_lexer": "ipython3",
   "version": "3.9.13"
  },
  "orig_nbformat": 4,
  "vscode": {
   "interpreter": {
    "hash": "664fdbb3f4c12b90a7539c8db87e7552d6d815ec16ad9e24bf4ed40d909e532c"
   }
  }
 },
 "nbformat": 4,
 "nbformat_minor": 2
}
