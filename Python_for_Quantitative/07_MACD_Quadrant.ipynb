{
 "cells": [
  {
   "attachments": {},
   "cell_type": "markdown",
   "metadata": {},
   "source": [
    "**Worshop**\n",
    "\n",
    "MACD Quantdrant"
   ]
  },
  {
   "attachments": {},
   "cell_type": "markdown",
   "metadata": {},
   "source": [
    "## Import libraries"
   ]
  },
  {
   "cell_type": "code",
   "execution_count": 16,
   "metadata": {},
   "outputs": [],
   "source": [
    "import pandas as pd\n",
    "import yfinance as yf\n",
    "import pandas_ta as ta\n",
    "\n",
    "import datetime as dt\n",
    "from datetime import date\n",
    "import plotly.express as px"
   ]
  },
  {
   "attachments": {},
   "cell_type": "markdown",
   "metadata": {},
   "source": [
    "google sheet url: https://docs.google.com/spreadsheets/d/1suYIQPi7GCtf8IuPU8atNRquu_wEXwwCWMBs__5EdVQ/edit#gid=567772192"
   ]
  },
  {
   "cell_type": "code",
   "execution_count": 2,
   "metadata": {},
   "outputs": [
    {
     "data": {
      "text/html": [
       "<div>\n",
       "<style scoped>\n",
       "    .dataframe tbody tr th:only-of-type {\n",
       "        vertical-align: middle;\n",
       "    }\n",
       "\n",
       "    .dataframe tbody tr th {\n",
       "        vertical-align: top;\n",
       "    }\n",
       "\n",
       "    .dataframe thead th {\n",
       "        text-align: right;\n",
       "    }\n",
       "</style>\n",
       "<table border=\"1\" class=\"dataframe\">\n",
       "  <thead>\n",
       "    <tr style=\"text-align: right;\">\n",
       "      <th></th>\n",
       "      <th>set50</th>\n",
       "      <th>set100</th>\n",
       "      <th>mai</th>\n",
       "      <th>banking</th>\n",
       "    </tr>\n",
       "  </thead>\n",
       "  <tbody>\n",
       "    <tr>\n",
       "      <th>0</th>\n",
       "      <td>ADVANC.BK</td>\n",
       "      <td>ACE.BK</td>\n",
       "      <td>ABICO.BK</td>\n",
       "      <td>BAY.BK</td>\n",
       "    </tr>\n",
       "    <tr>\n",
       "      <th>1</th>\n",
       "      <td>AOT.BK</td>\n",
       "      <td>ADVANC.BK</td>\n",
       "      <td>AU.BK</td>\n",
       "      <td>BBL.BK</td>\n",
       "    </tr>\n",
       "    <tr>\n",
       "      <th>2</th>\n",
       "      <td>AWC.BK</td>\n",
       "      <td>AEONTS.BK</td>\n",
       "      <td>JCKH.BK</td>\n",
       "      <td>CIMBT.BK</td>\n",
       "    </tr>\n",
       "    <tr>\n",
       "      <th>3</th>\n",
       "      <td>BANPU.BK</td>\n",
       "      <td>AMATA.BK</td>\n",
       "      <td>KASET.BK</td>\n",
       "      <td>KBANK.BK</td>\n",
       "    </tr>\n",
       "    <tr>\n",
       "      <th>4</th>\n",
       "      <td>BBL.BK</td>\n",
       "      <td>AOT.BK</td>\n",
       "      <td>MUD.BK</td>\n",
       "      <td>KKP.BK</td>\n",
       "    </tr>\n",
       "    <tr>\n",
       "      <th>...</th>\n",
       "      <td>...</td>\n",
       "      <td>...</td>\n",
       "      <td>...</td>\n",
       "      <td>...</td>\n",
       "    </tr>\n",
       "    <tr>\n",
       "      <th>193</th>\n",
       "      <td>NaN</td>\n",
       "      <td>NaN</td>\n",
       "      <td>SICT.BK</td>\n",
       "      <td>NaN</td>\n",
       "    </tr>\n",
       "    <tr>\n",
       "      <th>194</th>\n",
       "      <td>NaN</td>\n",
       "      <td>NaN</td>\n",
       "      <td>SIMAT.BK</td>\n",
       "      <td>NaN</td>\n",
       "    </tr>\n",
       "    <tr>\n",
       "      <th>195</th>\n",
       "      <td>NaN</td>\n",
       "      <td>NaN</td>\n",
       "      <td>SPVI.BK</td>\n",
       "      <td>NaN</td>\n",
       "    </tr>\n",
       "    <tr>\n",
       "      <th>196</th>\n",
       "      <td>NaN</td>\n",
       "      <td>NaN</td>\n",
       "      <td>TPS.BK</td>\n",
       "      <td>NaN</td>\n",
       "    </tr>\n",
       "    <tr>\n",
       "      <th>197</th>\n",
       "      <td>NaN</td>\n",
       "      <td>NaN</td>\n",
       "      <td>VCOM.BK</td>\n",
       "      <td>NaN</td>\n",
       "    </tr>\n",
       "  </tbody>\n",
       "</table>\n",
       "<p>198 rows × 4 columns</p>\n",
       "</div>"
      ],
      "text/plain": [
       "         set50     set100       mai   banking\n",
       "0    ADVANC.BK     ACE.BK  ABICO.BK    BAY.BK\n",
       "1       AOT.BK  ADVANC.BK     AU.BK    BBL.BK\n",
       "2       AWC.BK  AEONTS.BK   JCKH.BK  CIMBT.BK\n",
       "3     BANPU.BK   AMATA.BK  KASET.BK  KBANK.BK\n",
       "4       BBL.BK     AOT.BK    MUD.BK    KKP.BK\n",
       "..         ...        ...       ...       ...\n",
       "193        NaN        NaN   SICT.BK       NaN\n",
       "194        NaN        NaN  SIMAT.BK       NaN\n",
       "195        NaN        NaN   SPVI.BK       NaN\n",
       "196        NaN        NaN    TPS.BK       NaN\n",
       "197        NaN        NaN   VCOM.BK       NaN\n",
       "\n",
       "[198 rows x 4 columns]"
      ]
     },
     "execution_count": 2,
     "metadata": {},
     "output_type": "execute_result"
    }
   ],
   "source": [
    "sheet_id = \"1suYIQPi7GCtf8IuPU8atNRquu_wEXwwCWMBs__5EdVQ\"\n",
    "sheet_name = \"yf_ticker\"\n",
    "\n",
    "url = f\"https://docs.google.com/spreadsheets/d/{sheet_id}/gviz/tq?tqx=out:csv&sheet={sheet_name}\"\n",
    "\n",
    "ticker_df = pd.read_csv(url)\n",
    "ticker_df"
   ]
  },
  {
   "attachments": {},
   "cell_type": "markdown",
   "metadata": {},
   "source": [
    "## Preprocessing"
   ]
  },
  {
   "cell_type": "code",
   "execution_count": 3,
   "metadata": {},
   "outputs": [
    {
     "name": "stdout",
     "output_type": "stream",
     "text": [
      "[*********************100%***********************]  50 of 50 completed\n"
     ]
    },
    {
     "data": {
      "text/html": [
       "<div>\n",
       "<style scoped>\n",
       "    .dataframe tbody tr th:only-of-type {\n",
       "        vertical-align: middle;\n",
       "    }\n",
       "\n",
       "    .dataframe tbody tr th {\n",
       "        vertical-align: top;\n",
       "    }\n",
       "\n",
       "    .dataframe thead tr th {\n",
       "        text-align: left;\n",
       "    }\n",
       "\n",
       "    .dataframe thead tr:last-of-type th {\n",
       "        text-align: right;\n",
       "    }\n",
       "</style>\n",
       "<table border=\"1\" class=\"dataframe\">\n",
       "  <thead>\n",
       "    <tr>\n",
       "      <th></th>\n",
       "      <th colspan=\"10\" halign=\"left\">Adj Close</th>\n",
       "      <th>...</th>\n",
       "      <th colspan=\"10\" halign=\"left\">Volume</th>\n",
       "    </tr>\n",
       "    <tr>\n",
       "      <th></th>\n",
       "      <th>ADVANC.BK</th>\n",
       "      <th>AOT.BK</th>\n",
       "      <th>AWC.BK</th>\n",
       "      <th>BANPU.BK</th>\n",
       "      <th>BBL.BK</th>\n",
       "      <th>BDMS.BK</th>\n",
       "      <th>BEM.BK</th>\n",
       "      <th>BGRIM.BK</th>\n",
       "      <th>BH.BK</th>\n",
       "      <th>BLA.BK</th>\n",
       "      <th>...</th>\n",
       "      <th>SAWAD.BK</th>\n",
       "      <th>SCB.BK</th>\n",
       "      <th>SCC.BK</th>\n",
       "      <th>SCGP.BK</th>\n",
       "      <th>TIDLOR.BK</th>\n",
       "      <th>TISCO.BK</th>\n",
       "      <th>TOP.BK</th>\n",
       "      <th>TRUE.BK</th>\n",
       "      <th>TTB.BK</th>\n",
       "      <th>TU.BK</th>\n",
       "    </tr>\n",
       "    <tr>\n",
       "      <th>Date</th>\n",
       "      <th></th>\n",
       "      <th></th>\n",
       "      <th></th>\n",
       "      <th></th>\n",
       "      <th></th>\n",
       "      <th></th>\n",
       "      <th></th>\n",
       "      <th></th>\n",
       "      <th></th>\n",
       "      <th></th>\n",
       "      <th></th>\n",
       "      <th></th>\n",
       "      <th></th>\n",
       "      <th></th>\n",
       "      <th></th>\n",
       "      <th></th>\n",
       "      <th></th>\n",
       "      <th></th>\n",
       "      <th></th>\n",
       "      <th></th>\n",
       "      <th></th>\n",
       "    </tr>\n",
       "  </thead>\n",
       "  <tbody>\n",
       "    <tr>\n",
       "      <th>2021-12-23</th>\n",
       "      <td>218.177719</td>\n",
       "      <td>60.00</td>\n",
       "      <td>4.689637</td>\n",
       "      <td>10.039301</td>\n",
       "      <td>115.063820</td>\n",
       "      <td>22.289547</td>\n",
       "      <td>8.321404</td>\n",
       "      <td>39.63509</td>\n",
       "      <td>136.560547</td>\n",
       "      <td>35.452156</td>\n",
       "      <td>...</td>\n",
       "      <td>4474000</td>\n",
       "      <td>NaN</td>\n",
       "      <td>1424000</td>\n",
       "      <td>16543000</td>\n",
       "      <td>2741953</td>\n",
       "      <td>4745600</td>\n",
       "      <td>5907000</td>\n",
       "      <td>418409600</td>\n",
       "      <td>611574900</td>\n",
       "      <td>9807200</td>\n",
       "    </tr>\n",
       "    <tr>\n",
       "      <th>2021-12-24</th>\n",
       "      <td>216.246948</td>\n",
       "      <td>60.25</td>\n",
       "      <td>4.649725</td>\n",
       "      <td>10.039301</td>\n",
       "      <td>114.578316</td>\n",
       "      <td>22.289547</td>\n",
       "      <td>8.370935</td>\n",
       "      <td>39.63509</td>\n",
       "      <td>137.051758</td>\n",
       "      <td>35.452156</td>\n",
       "      <td>...</td>\n",
       "      <td>3077100</td>\n",
       "      <td>NaN</td>\n",
       "      <td>1289200</td>\n",
       "      <td>6461600</td>\n",
       "      <td>3827492</td>\n",
       "      <td>1320600</td>\n",
       "      <td>4607000</td>\n",
       "      <td>286073400</td>\n",
       "      <td>247843800</td>\n",
       "      <td>10631600</td>\n",
       "    </tr>\n",
       "    <tr>\n",
       "      <th>2021-12-27</th>\n",
       "      <td>215.281540</td>\n",
       "      <td>59.75</td>\n",
       "      <td>4.649725</td>\n",
       "      <td>10.039301</td>\n",
       "      <td>114.578316</td>\n",
       "      <td>22.387737</td>\n",
       "      <td>8.370935</td>\n",
       "      <td>39.63509</td>\n",
       "      <td>137.542999</td>\n",
       "      <td>35.696651</td>\n",
       "      <td>...</td>\n",
       "      <td>5646300</td>\n",
       "      <td>NaN</td>\n",
       "      <td>2103800</td>\n",
       "      <td>6475900</td>\n",
       "      <td>3022169</td>\n",
       "      <td>2977900</td>\n",
       "      <td>6680400</td>\n",
       "      <td>110449100</td>\n",
       "      <td>198641100</td>\n",
       "      <td>8868400</td>\n",
       "    </tr>\n",
       "    <tr>\n",
       "      <th>2021-12-28</th>\n",
       "      <td>217.212326</td>\n",
       "      <td>60.00</td>\n",
       "      <td>4.669681</td>\n",
       "      <td>10.134010</td>\n",
       "      <td>116.034828</td>\n",
       "      <td>22.682314</td>\n",
       "      <td>8.420467</td>\n",
       "      <td>39.63509</td>\n",
       "      <td>138.525452</td>\n",
       "      <td>34.963158</td>\n",
       "      <td>...</td>\n",
       "      <td>3555100</td>\n",
       "      <td>NaN</td>\n",
       "      <td>1847100</td>\n",
       "      <td>4116600</td>\n",
       "      <td>6283522</td>\n",
       "      <td>4318300</td>\n",
       "      <td>9075200</td>\n",
       "      <td>112916300</td>\n",
       "      <td>1094757800</td>\n",
       "      <td>19817800</td>\n",
       "    </tr>\n",
       "    <tr>\n",
       "      <th>2021-12-29</th>\n",
       "      <td>221.073883</td>\n",
       "      <td>61.00</td>\n",
       "      <td>4.729548</td>\n",
       "      <td>10.039301</td>\n",
       "      <td>117.491325</td>\n",
       "      <td>22.780506</td>\n",
       "      <td>8.370935</td>\n",
       "      <td>39.63509</td>\n",
       "      <td>139.016663</td>\n",
       "      <td>34.229668</td>\n",
       "      <td>...</td>\n",
       "      <td>5396900</td>\n",
       "      <td>NaN</td>\n",
       "      <td>3134800</td>\n",
       "      <td>17946100</td>\n",
       "      <td>6544568</td>\n",
       "      <td>6105500</td>\n",
       "      <td>4127500</td>\n",
       "      <td>156237500</td>\n",
       "      <td>943841300</td>\n",
       "      <td>18097100</td>\n",
       "    </tr>\n",
       "    <tr>\n",
       "      <th>...</th>\n",
       "      <td>...</td>\n",
       "      <td>...</td>\n",
       "      <td>...</td>\n",
       "      <td>...</td>\n",
       "      <td>...</td>\n",
       "      <td>...</td>\n",
       "      <td>...</td>\n",
       "      <td>...</td>\n",
       "      <td>...</td>\n",
       "      <td>...</td>\n",
       "      <td>...</td>\n",
       "      <td>...</td>\n",
       "      <td>...</td>\n",
       "      <td>...</td>\n",
       "      <td>...</td>\n",
       "      <td>...</td>\n",
       "      <td>...</td>\n",
       "      <td>...</td>\n",
       "      <td>...</td>\n",
       "      <td>...</td>\n",
       "      <td>...</td>\n",
       "    </tr>\n",
       "    <tr>\n",
       "      <th>2022-12-19</th>\n",
       "      <td>186.000000</td>\n",
       "      <td>73.75</td>\n",
       "      <td>6.200000</td>\n",
       "      <td>13.500000</td>\n",
       "      <td>143.500000</td>\n",
       "      <td>28.250000</td>\n",
       "      <td>9.650000</td>\n",
       "      <td>39.50000</td>\n",
       "      <td>212.000000</td>\n",
       "      <td>29.250000</td>\n",
       "      <td>...</td>\n",
       "      <td>2897900</td>\n",
       "      <td>2802200.0</td>\n",
       "      <td>899300</td>\n",
       "      <td>3673700</td>\n",
       "      <td>5289900</td>\n",
       "      <td>2891700</td>\n",
       "      <td>5158600</td>\n",
       "      <td>84955700</td>\n",
       "      <td>93267900</td>\n",
       "      <td>26796000</td>\n",
       "    </tr>\n",
       "    <tr>\n",
       "      <th>2022-12-20</th>\n",
       "      <td>186.000000</td>\n",
       "      <td>73.75</td>\n",
       "      <td>6.150000</td>\n",
       "      <td>13.600000</td>\n",
       "      <td>144.000000</td>\n",
       "      <td>28.000000</td>\n",
       "      <td>9.600000</td>\n",
       "      <td>39.50000</td>\n",
       "      <td>209.000000</td>\n",
       "      <td>28.500000</td>\n",
       "      <td>...</td>\n",
       "      <td>12388300</td>\n",
       "      <td>4019200.0</td>\n",
       "      <td>2419800</td>\n",
       "      <td>10287500</td>\n",
       "      <td>17240700</td>\n",
       "      <td>1585800</td>\n",
       "      <td>9161500</td>\n",
       "      <td>33163500</td>\n",
       "      <td>173271100</td>\n",
       "      <td>18963300</td>\n",
       "    </tr>\n",
       "    <tr>\n",
       "      <th>2022-12-21</th>\n",
       "      <td>188.000000</td>\n",
       "      <td>73.25</td>\n",
       "      <td>6.000000</td>\n",
       "      <td>13.500000</td>\n",
       "      <td>144.500000</td>\n",
       "      <td>28.500000</td>\n",
       "      <td>9.500000</td>\n",
       "      <td>40.00000</td>\n",
       "      <td>213.000000</td>\n",
       "      <td>28.000000</td>\n",
       "      <td>...</td>\n",
       "      <td>13007600</td>\n",
       "      <td>5516900.0</td>\n",
       "      <td>868300</td>\n",
       "      <td>5143400</td>\n",
       "      <td>8788300</td>\n",
       "      <td>3473300</td>\n",
       "      <td>3342200</td>\n",
       "      <td>22797700</td>\n",
       "      <td>133317500</td>\n",
       "      <td>18846500</td>\n",
       "    </tr>\n",
       "    <tr>\n",
       "      <th>2022-12-22</th>\n",
       "      <td>188.500000</td>\n",
       "      <td>73.00</td>\n",
       "      <td>6.050000</td>\n",
       "      <td>13.600000</td>\n",
       "      <td>145.500000</td>\n",
       "      <td>28.500000</td>\n",
       "      <td>9.550000</td>\n",
       "      <td>39.75000</td>\n",
       "      <td>211.000000</td>\n",
       "      <td>28.750000</td>\n",
       "      <td>...</td>\n",
       "      <td>9154200</td>\n",
       "      <td>3810900.0</td>\n",
       "      <td>803600</td>\n",
       "      <td>6401200</td>\n",
       "      <td>9753700</td>\n",
       "      <td>3145200</td>\n",
       "      <td>6738800</td>\n",
       "      <td>25472100</td>\n",
       "      <td>80102000</td>\n",
       "      <td>11495200</td>\n",
       "    </tr>\n",
       "    <tr>\n",
       "      <th>2022-12-23</th>\n",
       "      <td>190.000000</td>\n",
       "      <td>73.00</td>\n",
       "      <td>6.050000</td>\n",
       "      <td>13.400000</td>\n",
       "      <td>145.500000</td>\n",
       "      <td>28.500000</td>\n",
       "      <td>9.600000</td>\n",
       "      <td>39.50000</td>\n",
       "      <td>209.000000</td>\n",
       "      <td>27.750000</td>\n",
       "      <td>...</td>\n",
       "      <td>7065600</td>\n",
       "      <td>3879000.0</td>\n",
       "      <td>933400</td>\n",
       "      <td>7878600</td>\n",
       "      <td>8126000</td>\n",
       "      <td>1490200</td>\n",
       "      <td>7238100</td>\n",
       "      <td>17411200</td>\n",
       "      <td>96425500</td>\n",
       "      <td>8847600</td>\n",
       "    </tr>\n",
       "  </tbody>\n",
       "</table>\n",
       "<p>242 rows × 300 columns</p>\n",
       "</div>"
      ],
      "text/plain": [
       "             Adj Close                                                     \\\n",
       "             ADVANC.BK AOT.BK    AWC.BK   BANPU.BK      BBL.BK    BDMS.BK   \n",
       "Date                                                                        \n",
       "2021-12-23  218.177719  60.00  4.689637  10.039301  115.063820  22.289547   \n",
       "2021-12-24  216.246948  60.25  4.649725  10.039301  114.578316  22.289547   \n",
       "2021-12-27  215.281540  59.75  4.649725  10.039301  114.578316  22.387737   \n",
       "2021-12-28  217.212326  60.00  4.669681  10.134010  116.034828  22.682314   \n",
       "2021-12-29  221.073883  61.00  4.729548  10.039301  117.491325  22.780506   \n",
       "...                ...    ...       ...        ...         ...        ...   \n",
       "2022-12-19  186.000000  73.75  6.200000  13.500000  143.500000  28.250000   \n",
       "2022-12-20  186.000000  73.75  6.150000  13.600000  144.000000  28.000000   \n",
       "2022-12-21  188.000000  73.25  6.000000  13.500000  144.500000  28.500000   \n",
       "2022-12-22  188.500000  73.00  6.050000  13.600000  145.500000  28.500000   \n",
       "2022-12-23  190.000000  73.00  6.050000  13.400000  145.500000  28.500000   \n",
       "\n",
       "                                                       ...    Volume  \\\n",
       "              BEM.BK  BGRIM.BK       BH.BK     BLA.BK  ...  SAWAD.BK   \n",
       "Date                                                   ...             \n",
       "2021-12-23  8.321404  39.63509  136.560547  35.452156  ...   4474000   \n",
       "2021-12-24  8.370935  39.63509  137.051758  35.452156  ...   3077100   \n",
       "2021-12-27  8.370935  39.63509  137.542999  35.696651  ...   5646300   \n",
       "2021-12-28  8.420467  39.63509  138.525452  34.963158  ...   3555100   \n",
       "2021-12-29  8.370935  39.63509  139.016663  34.229668  ...   5396900   \n",
       "...              ...       ...         ...        ...  ...       ...   \n",
       "2022-12-19  9.650000  39.50000  212.000000  29.250000  ...   2897900   \n",
       "2022-12-20  9.600000  39.50000  209.000000  28.500000  ...  12388300   \n",
       "2022-12-21  9.500000  40.00000  213.000000  28.000000  ...  13007600   \n",
       "2022-12-22  9.550000  39.75000  211.000000  28.750000  ...   9154200   \n",
       "2022-12-23  9.600000  39.50000  209.000000  27.750000  ...   7065600   \n",
       "\n",
       "                                                                      \\\n",
       "               SCB.BK   SCC.BK   SCGP.BK TIDLOR.BK TISCO.BK   TOP.BK   \n",
       "Date                                                                   \n",
       "2021-12-23        NaN  1424000  16543000   2741953  4745600  5907000   \n",
       "2021-12-24        NaN  1289200   6461600   3827492  1320600  4607000   \n",
       "2021-12-27        NaN  2103800   6475900   3022169  2977900  6680400   \n",
       "2021-12-28        NaN  1847100   4116600   6283522  4318300  9075200   \n",
       "2021-12-29        NaN  3134800  17946100   6544568  6105500  4127500   \n",
       "...               ...      ...       ...       ...      ...      ...   \n",
       "2022-12-19  2802200.0   899300   3673700   5289900  2891700  5158600   \n",
       "2022-12-20  4019200.0  2419800  10287500  17240700  1585800  9161500   \n",
       "2022-12-21  5516900.0   868300   5143400   8788300  3473300  3342200   \n",
       "2022-12-22  3810900.0   803600   6401200   9753700  3145200  6738800   \n",
       "2022-12-23  3879000.0   933400   7878600   8126000  1490200  7238100   \n",
       "\n",
       "                                             \n",
       "              TRUE.BK      TTB.BK     TU.BK  \n",
       "Date                                         \n",
       "2021-12-23  418409600   611574900   9807200  \n",
       "2021-12-24  286073400   247843800  10631600  \n",
       "2021-12-27  110449100   198641100   8868400  \n",
       "2021-12-28  112916300  1094757800  19817800  \n",
       "2021-12-29  156237500   943841300  18097100  \n",
       "...               ...         ...       ...  \n",
       "2022-12-19   84955700    93267900  26796000  \n",
       "2022-12-20   33163500   173271100  18963300  \n",
       "2022-12-21   22797700   133317500  18846500  \n",
       "2022-12-22   25472100    80102000  11495200  \n",
       "2022-12-23   17411200    96425500   8847600  \n",
       "\n",
       "[242 rows x 300 columns]"
      ]
     },
     "execution_count": 3,
     "metadata": {},
     "output_type": "execute_result"
    }
   ],
   "source": [
    "ticker_set50 = ticker_df['set50'].dropna().tolist()\n",
    "\n",
    "raw_data = yf.download(ticker_set50, period='1y', interval='1d', group_by='column')\n",
    "\n",
    "raw_data.fillna(method='ffill', inplace=True) \n",
    "#https://pandas.pydata.org/docs/reference/api/pandas.DataFrame.fillna.html\n",
    "\n",
    "raw_data"
   ]
  },
  {
   "cell_type": "code",
   "execution_count": 5,
   "metadata": {},
   "outputs": [
    {
     "data": {
      "text/html": [
       "<div>\n",
       "<style scoped>\n",
       "    .dataframe tbody tr th:only-of-type {\n",
       "        vertical-align: middle;\n",
       "    }\n",
       "\n",
       "    .dataframe tbody tr th {\n",
       "        vertical-align: top;\n",
       "    }\n",
       "\n",
       "    .dataframe thead th {\n",
       "        text-align: right;\n",
       "    }\n",
       "</style>\n",
       "<table border=\"1\" class=\"dataframe\">\n",
       "  <thead>\n",
       "    <tr style=\"text-align: right;\">\n",
       "      <th></th>\n",
       "      <th></th>\n",
       "      <th>Adj Close</th>\n",
       "      <th>Close</th>\n",
       "      <th>High</th>\n",
       "      <th>Low</th>\n",
       "      <th>Open</th>\n",
       "      <th>Volume</th>\n",
       "    </tr>\n",
       "    <tr>\n",
       "      <th>Date</th>\n",
       "      <th></th>\n",
       "      <th></th>\n",
       "      <th></th>\n",
       "      <th></th>\n",
       "      <th></th>\n",
       "      <th></th>\n",
       "      <th></th>\n",
       "    </tr>\n",
       "  </thead>\n",
       "  <tbody>\n",
       "    <tr>\n",
       "      <th rowspan=\"5\" valign=\"top\">2021-12-23</th>\n",
       "      <th>ADVANC.BK</th>\n",
       "      <td>218.177719</td>\n",
       "      <td>226.00</td>\n",
       "      <td>230.000000</td>\n",
       "      <td>218.00</td>\n",
       "      <td>218.000000</td>\n",
       "      <td>13940900.0</td>\n",
       "    </tr>\n",
       "    <tr>\n",
       "      <th>AOT.BK</th>\n",
       "      <td>60.000000</td>\n",
       "      <td>60.00</td>\n",
       "      <td>60.250000</td>\n",
       "      <td>59.25</td>\n",
       "      <td>59.500000</td>\n",
       "      <td>11789800.0</td>\n",
       "    </tr>\n",
       "    <tr>\n",
       "      <th>AWC.BK</th>\n",
       "      <td>4.689637</td>\n",
       "      <td>4.70</td>\n",
       "      <td>4.760000</td>\n",
       "      <td>4.66</td>\n",
       "      <td>4.720000</td>\n",
       "      <td>47696800.0</td>\n",
       "    </tr>\n",
       "    <tr>\n",
       "      <th>BANPU.BK</th>\n",
       "      <td>10.039301</td>\n",
       "      <td>10.60</td>\n",
       "      <td>10.900000</td>\n",
       "      <td>10.60</td>\n",
       "      <td>10.800000</td>\n",
       "      <td>75137400.0</td>\n",
       "    </tr>\n",
       "    <tr>\n",
       "      <th>BBL.BK</th>\n",
       "      <td>115.063820</td>\n",
       "      <td>118.50</td>\n",
       "      <td>119.500000</td>\n",
       "      <td>118.00</td>\n",
       "      <td>118.500000</td>\n",
       "      <td>6729800.0</td>\n",
       "    </tr>\n",
       "    <tr>\n",
       "      <th>...</th>\n",
       "      <th>...</th>\n",
       "      <td>...</td>\n",
       "      <td>...</td>\n",
       "      <td>...</td>\n",
       "      <td>...</td>\n",
       "      <td>...</td>\n",
       "      <td>...</td>\n",
       "    </tr>\n",
       "    <tr>\n",
       "      <th rowspan=\"5\" valign=\"top\">2022-12-23</th>\n",
       "      <th>TISCO.BK</th>\n",
       "      <td>99.000000</td>\n",
       "      <td>99.00</td>\n",
       "      <td>99.250000</td>\n",
       "      <td>98.75</td>\n",
       "      <td>99.250000</td>\n",
       "      <td>1490200.0</td>\n",
       "    </tr>\n",
       "    <tr>\n",
       "      <th>TOP.BK</th>\n",
       "      <td>55.250000</td>\n",
       "      <td>55.25</td>\n",
       "      <td>55.500000</td>\n",
       "      <td>54.25</td>\n",
       "      <td>54.500000</td>\n",
       "      <td>7238100.0</td>\n",
       "    </tr>\n",
       "    <tr>\n",
       "      <th>TRUE.BK</th>\n",
       "      <td>4.720000</td>\n",
       "      <td>4.72</td>\n",
       "      <td>4.740000</td>\n",
       "      <td>4.68</td>\n",
       "      <td>4.720000</td>\n",
       "      <td>17411200.0</td>\n",
       "    </tr>\n",
       "    <tr>\n",
       "      <th>TTB.BK</th>\n",
       "      <td>1.370000</td>\n",
       "      <td>1.37</td>\n",
       "      <td>1.370000</td>\n",
       "      <td>1.35</td>\n",
       "      <td>1.360000</td>\n",
       "      <td>96425500.0</td>\n",
       "    </tr>\n",
       "    <tr>\n",
       "      <th>TU.BK</th>\n",
       "      <td>16.600000</td>\n",
       "      <td>16.60</td>\n",
       "      <td>16.799999</td>\n",
       "      <td>16.60</td>\n",
       "      <td>16.700001</td>\n",
       "      <td>8847600.0</td>\n",
       "    </tr>\n",
       "  </tbody>\n",
       "</table>\n",
       "<p>12023 rows × 6 columns</p>\n",
       "</div>"
      ],
      "text/plain": [
       "                       Adj Close   Close        High     Low        Open  \\\n",
       "Date                                                                       \n",
       "2021-12-23 ADVANC.BK  218.177719  226.00  230.000000  218.00  218.000000   \n",
       "           AOT.BK      60.000000   60.00   60.250000   59.25   59.500000   \n",
       "           AWC.BK       4.689637    4.70    4.760000    4.66    4.720000   \n",
       "           BANPU.BK    10.039301   10.60   10.900000   10.60   10.800000   \n",
       "           BBL.BK     115.063820  118.50  119.500000  118.00  118.500000   \n",
       "...                          ...     ...         ...     ...         ...   \n",
       "2022-12-23 TISCO.BK    99.000000   99.00   99.250000   98.75   99.250000   \n",
       "           TOP.BK      55.250000   55.25   55.500000   54.25   54.500000   \n",
       "           TRUE.BK      4.720000    4.72    4.740000    4.68    4.720000   \n",
       "           TTB.BK       1.370000    1.37    1.370000    1.35    1.360000   \n",
       "           TU.BK       16.600000   16.60   16.799999   16.60   16.700001   \n",
       "\n",
       "                          Volume  \n",
       "Date                              \n",
       "2021-12-23 ADVANC.BK  13940900.0  \n",
       "           AOT.BK     11789800.0  \n",
       "           AWC.BK     47696800.0  \n",
       "           BANPU.BK   75137400.0  \n",
       "           BBL.BK      6729800.0  \n",
       "...                          ...  \n",
       "2022-12-23 TISCO.BK    1490200.0  \n",
       "           TOP.BK      7238100.0  \n",
       "           TRUE.BK    17411200.0  \n",
       "           TTB.BK     96425500.0  \n",
       "           TU.BK       8847600.0  \n",
       "\n",
       "[12023 rows x 6 columns]"
      ]
     },
     "execution_count": 5,
     "metadata": {},
     "output_type": "execute_result"
    }
   ],
   "source": [
    "df = raw_data.copy()\n",
    "df = df.stack()\n",
    "df"
   ]
  },
  {
   "cell_type": "code",
   "execution_count": 6,
   "metadata": {},
   "outputs": [
    {
     "data": {
      "text/html": [
       "<div>\n",
       "<style scoped>\n",
       "    .dataframe tbody tr th:only-of-type {\n",
       "        vertical-align: middle;\n",
       "    }\n",
       "\n",
       "    .dataframe tbody tr th {\n",
       "        vertical-align: top;\n",
       "    }\n",
       "\n",
       "    .dataframe thead th {\n",
       "        text-align: right;\n",
       "    }\n",
       "</style>\n",
       "<table border=\"1\" class=\"dataframe\">\n",
       "  <thead>\n",
       "    <tr style=\"text-align: right;\">\n",
       "      <th></th>\n",
       "      <th></th>\n",
       "      <th>Adj Close</th>\n",
       "      <th>Close</th>\n",
       "      <th>High</th>\n",
       "      <th>Low</th>\n",
       "      <th>Open</th>\n",
       "      <th>Volume</th>\n",
       "    </tr>\n",
       "    <tr>\n",
       "      <th>Date</th>\n",
       "      <th>Stock</th>\n",
       "      <th></th>\n",
       "      <th></th>\n",
       "      <th></th>\n",
       "      <th></th>\n",
       "      <th></th>\n",
       "      <th></th>\n",
       "    </tr>\n",
       "  </thead>\n",
       "  <tbody>\n",
       "    <tr>\n",
       "      <th>2021-12-23</th>\n",
       "      <th>ADVANC.BK</th>\n",
       "      <td>218.177719</td>\n",
       "      <td>226.000000</td>\n",
       "      <td>230.000000</td>\n",
       "      <td>218.000000</td>\n",
       "      <td>218.000000</td>\n",
       "      <td>13940900.0</td>\n",
       "    </tr>\n",
       "    <tr>\n",
       "      <th>2021-12-24</th>\n",
       "      <th>ADVANC.BK</th>\n",
       "      <td>216.246948</td>\n",
       "      <td>224.000000</td>\n",
       "      <td>226.000000</td>\n",
       "      <td>222.000000</td>\n",
       "      <td>225.000000</td>\n",
       "      <td>2762800.0</td>\n",
       "    </tr>\n",
       "    <tr>\n",
       "      <th>2021-12-27</th>\n",
       "      <th>ADVANC.BK</th>\n",
       "      <td>215.281540</td>\n",
       "      <td>223.000000</td>\n",
       "      <td>226.000000</td>\n",
       "      <td>222.000000</td>\n",
       "      <td>224.000000</td>\n",
       "      <td>2884100.0</td>\n",
       "    </tr>\n",
       "    <tr>\n",
       "      <th>2021-12-28</th>\n",
       "      <th>ADVANC.BK</th>\n",
       "      <td>217.212326</td>\n",
       "      <td>225.000000</td>\n",
       "      <td>229.000000</td>\n",
       "      <td>223.000000</td>\n",
       "      <td>224.000000</td>\n",
       "      <td>5460600.0</td>\n",
       "    </tr>\n",
       "    <tr>\n",
       "      <th>2021-12-29</th>\n",
       "      <th>ADVANC.BK</th>\n",
       "      <td>221.073883</td>\n",
       "      <td>229.000000</td>\n",
       "      <td>229.000000</td>\n",
       "      <td>224.000000</td>\n",
       "      <td>225.000000</td>\n",
       "      <td>3419700.0</td>\n",
       "    </tr>\n",
       "    <tr>\n",
       "      <th>...</th>\n",
       "      <th>...</th>\n",
       "      <td>...</td>\n",
       "      <td>...</td>\n",
       "      <td>...</td>\n",
       "      <td>...</td>\n",
       "      <td>...</td>\n",
       "      <td>...</td>\n",
       "    </tr>\n",
       "    <tr>\n",
       "      <th>2022-12-19</th>\n",
       "      <th>TU.BK</th>\n",
       "      <td>17.000000</td>\n",
       "      <td>17.000000</td>\n",
       "      <td>17.000000</td>\n",
       "      <td>16.799999</td>\n",
       "      <td>16.900000</td>\n",
       "      <td>26796000.0</td>\n",
       "    </tr>\n",
       "    <tr>\n",
       "      <th>2022-12-20</th>\n",
       "      <th>TU.BK</th>\n",
       "      <td>16.799999</td>\n",
       "      <td>16.799999</td>\n",
       "      <td>17.000000</td>\n",
       "      <td>16.700001</td>\n",
       "      <td>17.000000</td>\n",
       "      <td>18963300.0</td>\n",
       "    </tr>\n",
       "    <tr>\n",
       "      <th>2022-12-21</th>\n",
       "      <th>TU.BK</th>\n",
       "      <td>16.700001</td>\n",
       "      <td>16.700001</td>\n",
       "      <td>16.900000</td>\n",
       "      <td>16.600000</td>\n",
       "      <td>16.900000</td>\n",
       "      <td>18846500.0</td>\n",
       "    </tr>\n",
       "    <tr>\n",
       "      <th>2022-12-22</th>\n",
       "      <th>TU.BK</th>\n",
       "      <td>16.600000</td>\n",
       "      <td>16.600000</td>\n",
       "      <td>16.799999</td>\n",
       "      <td>16.500000</td>\n",
       "      <td>16.600000</td>\n",
       "      <td>11495200.0</td>\n",
       "    </tr>\n",
       "    <tr>\n",
       "      <th>2022-12-23</th>\n",
       "      <th>TU.BK</th>\n",
       "      <td>16.600000</td>\n",
       "      <td>16.600000</td>\n",
       "      <td>16.799999</td>\n",
       "      <td>16.600000</td>\n",
       "      <td>16.700001</td>\n",
       "      <td>8847600.0</td>\n",
       "    </tr>\n",
       "  </tbody>\n",
       "</table>\n",
       "<p>12023 rows × 6 columns</p>\n",
       "</div>"
      ],
      "text/plain": [
       "                       Adj Close       Close        High         Low  \\\n",
       "Date       Stock                                                       \n",
       "2021-12-23 ADVANC.BK  218.177719  226.000000  230.000000  218.000000   \n",
       "2021-12-24 ADVANC.BK  216.246948  224.000000  226.000000  222.000000   \n",
       "2021-12-27 ADVANC.BK  215.281540  223.000000  226.000000  222.000000   \n",
       "2021-12-28 ADVANC.BK  217.212326  225.000000  229.000000  223.000000   \n",
       "2021-12-29 ADVANC.BK  221.073883  229.000000  229.000000  224.000000   \n",
       "...                          ...         ...         ...         ...   \n",
       "2022-12-19 TU.BK       17.000000   17.000000   17.000000   16.799999   \n",
       "2022-12-20 TU.BK       16.799999   16.799999   17.000000   16.700001   \n",
       "2022-12-21 TU.BK       16.700001   16.700001   16.900000   16.600000   \n",
       "2022-12-22 TU.BK       16.600000   16.600000   16.799999   16.500000   \n",
       "2022-12-23 TU.BK       16.600000   16.600000   16.799999   16.600000   \n",
       "\n",
       "                            Open      Volume  \n",
       "Date       Stock                              \n",
       "2021-12-23 ADVANC.BK  218.000000  13940900.0  \n",
       "2021-12-24 ADVANC.BK  225.000000   2762800.0  \n",
       "2021-12-27 ADVANC.BK  224.000000   2884100.0  \n",
       "2021-12-28 ADVANC.BK  224.000000   5460600.0  \n",
       "2021-12-29 ADVANC.BK  225.000000   3419700.0  \n",
       "...                          ...         ...  \n",
       "2022-12-19 TU.BK       16.900000  26796000.0  \n",
       "2022-12-20 TU.BK       17.000000  18963300.0  \n",
       "2022-12-21 TU.BK       16.900000  18846500.0  \n",
       "2022-12-22 TU.BK       16.600000  11495200.0  \n",
       "2022-12-23 TU.BK       16.700001   8847600.0  \n",
       "\n",
       "[12023 rows x 6 columns]"
      ]
     },
     "execution_count": 6,
     "metadata": {},
     "output_type": "execute_result"
    }
   ],
   "source": [
    "df = df.sort_index(level=1)\n",
    "\n",
    "df.index.names = ['Date', 'Stock']\n",
    "\n",
    "df"
   ]
  },
  {
   "cell_type": "code",
   "execution_count": 7,
   "metadata": {},
   "outputs": [
    {
     "data": {
      "text/html": [
       "<div>\n",
       "<style scoped>\n",
       "    .dataframe tbody tr th:only-of-type {\n",
       "        vertical-align: middle;\n",
       "    }\n",
       "\n",
       "    .dataframe tbody tr th {\n",
       "        vertical-align: top;\n",
       "    }\n",
       "\n",
       "    .dataframe thead th {\n",
       "        text-align: right;\n",
       "    }\n",
       "</style>\n",
       "<table border=\"1\" class=\"dataframe\">\n",
       "  <thead>\n",
       "    <tr style=\"text-align: right;\">\n",
       "      <th></th>\n",
       "      <th>Date</th>\n",
       "      <th>Adj Close</th>\n",
       "      <th>Close</th>\n",
       "      <th>High</th>\n",
       "      <th>Low</th>\n",
       "      <th>Open</th>\n",
       "      <th>Volume</th>\n",
       "    </tr>\n",
       "    <tr>\n",
       "      <th>Stock</th>\n",
       "      <th></th>\n",
       "      <th></th>\n",
       "      <th></th>\n",
       "      <th></th>\n",
       "      <th></th>\n",
       "      <th></th>\n",
       "      <th></th>\n",
       "    </tr>\n",
       "  </thead>\n",
       "  <tbody>\n",
       "    <tr>\n",
       "      <th>ADVANC.BK</th>\n",
       "      <td>2021-12-23</td>\n",
       "      <td>218.177719</td>\n",
       "      <td>226.000000</td>\n",
       "      <td>230.000000</td>\n",
       "      <td>218.000000</td>\n",
       "      <td>218.000000</td>\n",
       "      <td>13940900.0</td>\n",
       "    </tr>\n",
       "    <tr>\n",
       "      <th>ADVANC.BK</th>\n",
       "      <td>2021-12-24</td>\n",
       "      <td>216.246948</td>\n",
       "      <td>224.000000</td>\n",
       "      <td>226.000000</td>\n",
       "      <td>222.000000</td>\n",
       "      <td>225.000000</td>\n",
       "      <td>2762800.0</td>\n",
       "    </tr>\n",
       "    <tr>\n",
       "      <th>ADVANC.BK</th>\n",
       "      <td>2021-12-27</td>\n",
       "      <td>215.281540</td>\n",
       "      <td>223.000000</td>\n",
       "      <td>226.000000</td>\n",
       "      <td>222.000000</td>\n",
       "      <td>224.000000</td>\n",
       "      <td>2884100.0</td>\n",
       "    </tr>\n",
       "    <tr>\n",
       "      <th>ADVANC.BK</th>\n",
       "      <td>2021-12-28</td>\n",
       "      <td>217.212326</td>\n",
       "      <td>225.000000</td>\n",
       "      <td>229.000000</td>\n",
       "      <td>223.000000</td>\n",
       "      <td>224.000000</td>\n",
       "      <td>5460600.0</td>\n",
       "    </tr>\n",
       "    <tr>\n",
       "      <th>ADVANC.BK</th>\n",
       "      <td>2021-12-29</td>\n",
       "      <td>221.073883</td>\n",
       "      <td>229.000000</td>\n",
       "      <td>229.000000</td>\n",
       "      <td>224.000000</td>\n",
       "      <td>225.000000</td>\n",
       "      <td>3419700.0</td>\n",
       "    </tr>\n",
       "    <tr>\n",
       "      <th>...</th>\n",
       "      <td>...</td>\n",
       "      <td>...</td>\n",
       "      <td>...</td>\n",
       "      <td>...</td>\n",
       "      <td>...</td>\n",
       "      <td>...</td>\n",
       "      <td>...</td>\n",
       "    </tr>\n",
       "    <tr>\n",
       "      <th>TU.BK</th>\n",
       "      <td>2022-12-19</td>\n",
       "      <td>17.000000</td>\n",
       "      <td>17.000000</td>\n",
       "      <td>17.000000</td>\n",
       "      <td>16.799999</td>\n",
       "      <td>16.900000</td>\n",
       "      <td>26796000.0</td>\n",
       "    </tr>\n",
       "    <tr>\n",
       "      <th>TU.BK</th>\n",
       "      <td>2022-12-20</td>\n",
       "      <td>16.799999</td>\n",
       "      <td>16.799999</td>\n",
       "      <td>17.000000</td>\n",
       "      <td>16.700001</td>\n",
       "      <td>17.000000</td>\n",
       "      <td>18963300.0</td>\n",
       "    </tr>\n",
       "    <tr>\n",
       "      <th>TU.BK</th>\n",
       "      <td>2022-12-21</td>\n",
       "      <td>16.700001</td>\n",
       "      <td>16.700001</td>\n",
       "      <td>16.900000</td>\n",
       "      <td>16.600000</td>\n",
       "      <td>16.900000</td>\n",
       "      <td>18846500.0</td>\n",
       "    </tr>\n",
       "    <tr>\n",
       "      <th>TU.BK</th>\n",
       "      <td>2022-12-22</td>\n",
       "      <td>16.600000</td>\n",
       "      <td>16.600000</td>\n",
       "      <td>16.799999</td>\n",
       "      <td>16.500000</td>\n",
       "      <td>16.600000</td>\n",
       "      <td>11495200.0</td>\n",
       "    </tr>\n",
       "    <tr>\n",
       "      <th>TU.BK</th>\n",
       "      <td>2022-12-23</td>\n",
       "      <td>16.600000</td>\n",
       "      <td>16.600000</td>\n",
       "      <td>16.799999</td>\n",
       "      <td>16.600000</td>\n",
       "      <td>16.700001</td>\n",
       "      <td>8847600.0</td>\n",
       "    </tr>\n",
       "  </tbody>\n",
       "</table>\n",
       "<p>12023 rows × 7 columns</p>\n",
       "</div>"
      ],
      "text/plain": [
       "                Date   Adj Close       Close        High         Low  \\\n",
       "Stock                                                                  \n",
       "ADVANC.BK 2021-12-23  218.177719  226.000000  230.000000  218.000000   \n",
       "ADVANC.BK 2021-12-24  216.246948  224.000000  226.000000  222.000000   \n",
       "ADVANC.BK 2021-12-27  215.281540  223.000000  226.000000  222.000000   \n",
       "ADVANC.BK 2021-12-28  217.212326  225.000000  229.000000  223.000000   \n",
       "ADVANC.BK 2021-12-29  221.073883  229.000000  229.000000  224.000000   \n",
       "...              ...         ...         ...         ...         ...   \n",
       "TU.BK     2022-12-19   17.000000   17.000000   17.000000   16.799999   \n",
       "TU.BK     2022-12-20   16.799999   16.799999   17.000000   16.700001   \n",
       "TU.BK     2022-12-21   16.700001   16.700001   16.900000   16.600000   \n",
       "TU.BK     2022-12-22   16.600000   16.600000   16.799999   16.500000   \n",
       "TU.BK     2022-12-23   16.600000   16.600000   16.799999   16.600000   \n",
       "\n",
       "                 Open      Volume  \n",
       "Stock                              \n",
       "ADVANC.BK  218.000000  13940900.0  \n",
       "ADVANC.BK  225.000000   2762800.0  \n",
       "ADVANC.BK  224.000000   2884100.0  \n",
       "ADVANC.BK  224.000000   5460600.0  \n",
       "ADVANC.BK  225.000000   3419700.0  \n",
       "...               ...         ...  \n",
       "TU.BK       16.900000  26796000.0  \n",
       "TU.BK       17.000000  18963300.0  \n",
       "TU.BK       16.900000  18846500.0  \n",
       "TU.BK       16.600000  11495200.0  \n",
       "TU.BK       16.700001   8847600.0  \n",
       "\n",
       "[12023 rows x 7 columns]"
      ]
     },
     "execution_count": 7,
     "metadata": {},
     "output_type": "execute_result"
    }
   ],
   "source": [
    "df_2 = df.reset_index().set_index('Stock')\n",
    "df_2"
   ]
  },
  {
   "cell_type": "code",
   "execution_count": 8,
   "metadata": {},
   "outputs": [
    {
     "data": {
      "text/html": [
       "<div>\n",
       "<style scoped>\n",
       "    .dataframe tbody tr th:only-of-type {\n",
       "        vertical-align: middle;\n",
       "    }\n",
       "\n",
       "    .dataframe tbody tr th {\n",
       "        vertical-align: top;\n",
       "    }\n",
       "\n",
       "    .dataframe thead th {\n",
       "        text-align: right;\n",
       "    }\n",
       "</style>\n",
       "<table border=\"1\" class=\"dataframe\">\n",
       "  <thead>\n",
       "    <tr style=\"text-align: right;\">\n",
       "      <th></th>\n",
       "      <th>Date</th>\n",
       "      <th>Adj Close</th>\n",
       "      <th>Close</th>\n",
       "      <th>High</th>\n",
       "      <th>Low</th>\n",
       "      <th>Open</th>\n",
       "      <th>Volume</th>\n",
       "      <th>MACD_12_26_9</th>\n",
       "      <th>MACDh_12_26_9</th>\n",
       "      <th>MACDs_12_26_9</th>\n",
       "    </tr>\n",
       "    <tr>\n",
       "      <th>Stock</th>\n",
       "      <th></th>\n",
       "      <th></th>\n",
       "      <th></th>\n",
       "      <th></th>\n",
       "      <th></th>\n",
       "      <th></th>\n",
       "      <th></th>\n",
       "      <th></th>\n",
       "      <th></th>\n",
       "      <th></th>\n",
       "    </tr>\n",
       "  </thead>\n",
       "  <tbody>\n",
       "    <tr>\n",
       "      <th>ADVANC.BK</th>\n",
       "      <td>2021-12-23</td>\n",
       "      <td>218.177719</td>\n",
       "      <td>226.000000</td>\n",
       "      <td>230.000000</td>\n",
       "      <td>218.000000</td>\n",
       "      <td>218.000000</td>\n",
       "      <td>13940900.0</td>\n",
       "      <td>NaN</td>\n",
       "      <td>NaN</td>\n",
       "      <td>NaN</td>\n",
       "    </tr>\n",
       "    <tr>\n",
       "      <th>ADVANC.BK</th>\n",
       "      <td>2021-12-24</td>\n",
       "      <td>216.246948</td>\n",
       "      <td>224.000000</td>\n",
       "      <td>226.000000</td>\n",
       "      <td>222.000000</td>\n",
       "      <td>225.000000</td>\n",
       "      <td>2762800.0</td>\n",
       "      <td>NaN</td>\n",
       "      <td>NaN</td>\n",
       "      <td>NaN</td>\n",
       "    </tr>\n",
       "    <tr>\n",
       "      <th>ADVANC.BK</th>\n",
       "      <td>2021-12-27</td>\n",
       "      <td>215.281540</td>\n",
       "      <td>223.000000</td>\n",
       "      <td>226.000000</td>\n",
       "      <td>222.000000</td>\n",
       "      <td>224.000000</td>\n",
       "      <td>2884100.0</td>\n",
       "      <td>NaN</td>\n",
       "      <td>NaN</td>\n",
       "      <td>NaN</td>\n",
       "    </tr>\n",
       "    <tr>\n",
       "      <th>ADVANC.BK</th>\n",
       "      <td>2021-12-28</td>\n",
       "      <td>217.212326</td>\n",
       "      <td>225.000000</td>\n",
       "      <td>229.000000</td>\n",
       "      <td>223.000000</td>\n",
       "      <td>224.000000</td>\n",
       "      <td>5460600.0</td>\n",
       "      <td>NaN</td>\n",
       "      <td>NaN</td>\n",
       "      <td>NaN</td>\n",
       "    </tr>\n",
       "    <tr>\n",
       "      <th>ADVANC.BK</th>\n",
       "      <td>2021-12-29</td>\n",
       "      <td>221.073883</td>\n",
       "      <td>229.000000</td>\n",
       "      <td>229.000000</td>\n",
       "      <td>224.000000</td>\n",
       "      <td>225.000000</td>\n",
       "      <td>3419700.0</td>\n",
       "      <td>NaN</td>\n",
       "      <td>NaN</td>\n",
       "      <td>NaN</td>\n",
       "    </tr>\n",
       "    <tr>\n",
       "      <th>...</th>\n",
       "      <td>...</td>\n",
       "      <td>...</td>\n",
       "      <td>...</td>\n",
       "      <td>...</td>\n",
       "      <td>...</td>\n",
       "      <td>...</td>\n",
       "      <td>...</td>\n",
       "      <td>...</td>\n",
       "      <td>...</td>\n",
       "      <td>...</td>\n",
       "    </tr>\n",
       "    <tr>\n",
       "      <th>TU.BK</th>\n",
       "      <td>2022-12-19</td>\n",
       "      <td>17.000000</td>\n",
       "      <td>17.000000</td>\n",
       "      <td>17.000000</td>\n",
       "      <td>16.799999</td>\n",
       "      <td>16.900000</td>\n",
       "      <td>26796000.0</td>\n",
       "      <td>-0.203487</td>\n",
       "      <td>0.019995</td>\n",
       "      <td>-0.223482</td>\n",
       "    </tr>\n",
       "    <tr>\n",
       "      <th>TU.BK</th>\n",
       "      <td>2022-12-20</td>\n",
       "      <td>16.799999</td>\n",
       "      <td>16.799999</td>\n",
       "      <td>17.000000</td>\n",
       "      <td>16.700001</td>\n",
       "      <td>17.000000</td>\n",
       "      <td>18963300.0</td>\n",
       "      <td>-0.197100</td>\n",
       "      <td>0.021106</td>\n",
       "      <td>-0.218206</td>\n",
       "    </tr>\n",
       "    <tr>\n",
       "      <th>TU.BK</th>\n",
       "      <td>2022-12-21</td>\n",
       "      <td>16.700001</td>\n",
       "      <td>16.700001</td>\n",
       "      <td>16.900000</td>\n",
       "      <td>16.600000</td>\n",
       "      <td>16.900000</td>\n",
       "      <td>18846500.0</td>\n",
       "      <td>-0.197826</td>\n",
       "      <td>0.016304</td>\n",
       "      <td>-0.214130</td>\n",
       "    </tr>\n",
       "    <tr>\n",
       "      <th>TU.BK</th>\n",
       "      <td>2022-12-22</td>\n",
       "      <td>16.600000</td>\n",
       "      <td>16.600000</td>\n",
       "      <td>16.799999</td>\n",
       "      <td>16.500000</td>\n",
       "      <td>16.600000</td>\n",
       "      <td>11495200.0</td>\n",
       "      <td>-0.204118</td>\n",
       "      <td>0.008010</td>\n",
       "      <td>-0.212127</td>\n",
       "    </tr>\n",
       "    <tr>\n",
       "      <th>TU.BK</th>\n",
       "      <td>2022-12-23</td>\n",
       "      <td>16.600000</td>\n",
       "      <td>16.600000</td>\n",
       "      <td>16.799999</td>\n",
       "      <td>16.600000</td>\n",
       "      <td>16.700001</td>\n",
       "      <td>8847600.0</td>\n",
       "      <td>-0.206721</td>\n",
       "      <td>0.004325</td>\n",
       "      <td>-0.211046</td>\n",
       "    </tr>\n",
       "  </tbody>\n",
       "</table>\n",
       "<p>12023 rows × 10 columns</p>\n",
       "</div>"
      ],
      "text/plain": [
       "                Date   Adj Close       Close        High         Low  \\\n",
       "Stock                                                                  \n",
       "ADVANC.BK 2021-12-23  218.177719  226.000000  230.000000  218.000000   \n",
       "ADVANC.BK 2021-12-24  216.246948  224.000000  226.000000  222.000000   \n",
       "ADVANC.BK 2021-12-27  215.281540  223.000000  226.000000  222.000000   \n",
       "ADVANC.BK 2021-12-28  217.212326  225.000000  229.000000  223.000000   \n",
       "ADVANC.BK 2021-12-29  221.073883  229.000000  229.000000  224.000000   \n",
       "...              ...         ...         ...         ...         ...   \n",
       "TU.BK     2022-12-19   17.000000   17.000000   17.000000   16.799999   \n",
       "TU.BK     2022-12-20   16.799999   16.799999   17.000000   16.700001   \n",
       "TU.BK     2022-12-21   16.700001   16.700001   16.900000   16.600000   \n",
       "TU.BK     2022-12-22   16.600000   16.600000   16.799999   16.500000   \n",
       "TU.BK     2022-12-23   16.600000   16.600000   16.799999   16.600000   \n",
       "\n",
       "                 Open      Volume  MACD_12_26_9  MACDh_12_26_9  MACDs_12_26_9  \n",
       "Stock                                                                          \n",
       "ADVANC.BK  218.000000  13940900.0           NaN            NaN            NaN  \n",
       "ADVANC.BK  225.000000   2762800.0           NaN            NaN            NaN  \n",
       "ADVANC.BK  224.000000   2884100.0           NaN            NaN            NaN  \n",
       "ADVANC.BK  224.000000   5460600.0           NaN            NaN            NaN  \n",
       "ADVANC.BK  225.000000   3419700.0           NaN            NaN            NaN  \n",
       "...               ...         ...           ...            ...            ...  \n",
       "TU.BK       16.900000  26796000.0     -0.203487       0.019995      -0.223482  \n",
       "TU.BK       17.000000  18963300.0     -0.197100       0.021106      -0.218206  \n",
       "TU.BK       16.900000  18846500.0     -0.197826       0.016304      -0.214130  \n",
       "TU.BK       16.600000  11495200.0     -0.204118       0.008010      -0.212127  \n",
       "TU.BK       16.700001   8847600.0     -0.206721       0.004325      -0.211046  \n",
       "\n",
       "[12023 rows x 10 columns]"
      ]
     },
     "execution_count": 8,
     "metadata": {},
     "output_type": "execute_result"
    }
   ],
   "source": [
    "df_2.ta.macd(append=True)\n",
    "\n",
    "df_2"
   ]
  },
  {
   "cell_type": "code",
   "execution_count": 12,
   "metadata": {},
   "outputs": [],
   "source": [
    "# today = date.today()\n",
    "# today_format = today.strftime(\"%Y-%m-%d\")\n",
    "\n",
    "today = '2022-12-23' # วันที่เขียนเป็นวันหยุด :D เลยกำหนดขึ้นมาเอง\n",
    "\n",
    "df_3 = df_2.copy()\n",
    "\n",
    "df_3 = df_3.reset_index().set_index('Date')\n",
    "\n",
    "# select date\n",
    "df_3 = df_3.loc[today]"
   ]
  },
  {
   "attachments": {},
   "cell_type": "markdown",
   "metadata": {},
   "source": [
    "## Visualization"
   ]
  },
  {
   "cell_type": "code",
   "execution_count": 14,
   "metadata": {},
   "outputs": [
    {
     "data": {
      "application/vnd.plotly.v1+json": {
       "config": {
        "plotlyServerURL": "https://plot.ly"
       },
       "data": [
        {
         "customdata": [
          [
           "ADVANC.BK",
           190
          ]
         ],
         "hovertemplate": "Stock=%{customdata[0]}<br>MACD_12_26_9=%{x}<br>MACDh_12_26_9=%{y}<br>Close=%{customdata[1]}<extra></extra>",
         "legendgroup": "ADVANC.BK",
         "marker": {
          "color": "#636efa",
          "size": 10,
          "symbol": "circle"
         },
         "mode": "markers+text",
         "name": "ADVANC.BK",
         "orientation": "v",
         "showlegend": true,
         "text": [
          "ADVANC.BK"
         ],
         "textposition": "top center",
         "type": "scatter",
         "x": [
          -0.22326978857415725
         ],
         "xaxis": "x",
         "y": [
          0.33713062095109225
         ],
         "yaxis": "y"
        },
        {
         "customdata": [
          [
           "AOT.BK",
           73
          ]
         ],
         "hovertemplate": "Stock=%{customdata[0]}<br>MACD_12_26_9=%{x}<br>MACDh_12_26_9=%{y}<br>Close=%{customdata[1]}<extra></extra>",
         "legendgroup": "AOT.BK",
         "marker": {
          "color": "#EF553B",
          "size": 10,
          "symbol": "circle"
         },
         "mode": "markers+text",
         "name": "AOT.BK",
         "orientation": "v",
         "showlegend": true,
         "text": [
          "AOT.BK"
         ],
         "textposition": "top center",
         "type": "scatter",
         "x": [
          -0.24569755154713846
         ],
         "xaxis": "x",
         "y": [
          -0.13230096930703422
         ],
         "yaxis": "y"
        },
        {
         "customdata": [
          [
           "AWC.BK",
           6.050000190734863
          ]
         ],
         "hovertemplate": "Stock=%{customdata[0]}<br>MACD_12_26_9=%{x}<br>MACDh_12_26_9=%{y}<br>Close=%{customdata[1]}<extra></extra>",
         "legendgroup": "AWC.BK",
         "marker": {
          "color": "#00cc96",
          "size": 10,
          "symbol": "circle"
         },
         "mode": "markers+text",
         "name": "AWC.BK",
         "orientation": "v",
         "showlegend": true,
         "text": [
          "AWC.BK"
         ],
         "textposition": "top center",
         "type": "scatter",
         "x": [
          0.001098257122731816
         ],
         "xaxis": "x",
         "y": [
          -0.031461202965201884
         ],
         "yaxis": "y"
        },
        {
         "customdata": [
          [
           "BANPU.BK",
           13.399999618530273
          ]
         ],
         "hovertemplate": "Stock=%{customdata[0]}<br>MACD_12_26_9=%{x}<br>MACDh_12_26_9=%{y}<br>Close=%{customdata[1]}<extra></extra>",
         "legendgroup": "BANPU.BK",
         "marker": {
          "color": "#ab63fa",
          "size": 10,
          "symbol": "circle"
         },
         "mode": "markers+text",
         "name": "BANPU.BK",
         "orientation": "v",
         "showlegend": true,
         "text": [
          "BANPU.BK"
         ],
         "textposition": "top center",
         "type": "scatter",
         "x": [
          0.18356944511637785
         ],
         "xaxis": "x",
         "y": [
          -0.013557649298366392
         ],
         "yaxis": "y"
        },
        {
         "customdata": [
          [
           "BBL.BK",
           145.5
          ]
         ],
         "hovertemplate": "Stock=%{customdata[0]}<br>MACD_12_26_9=%{x}<br>MACDh_12_26_9=%{y}<br>Close=%{customdata[1]}<extra></extra>",
         "legendgroup": "BBL.BK",
         "marker": {
          "color": "#FFA15A",
          "size": 10,
          "symbol": "circle"
         },
         "mode": "markers+text",
         "name": "BBL.BK",
         "orientation": "v",
         "showlegend": true,
         "text": [
          "BBL.BK"
         ],
         "textposition": "top center",
         "type": "scatter",
         "x": [
          0.4223263611146706
         ],
         "xaxis": "x",
         "y": [
          0.14802455522045882
         ],
         "yaxis": "y"
        },
        {
         "customdata": [
          [
           "BDMS.BK",
           28.5
          ]
         ],
         "hovertemplate": "Stock=%{customdata[0]}<br>MACD_12_26_9=%{x}<br>MACDh_12_26_9=%{y}<br>Close=%{customdata[1]}<extra></extra>",
         "legendgroup": "BDMS.BK",
         "marker": {
          "color": "#19d3f3",
          "size": 10,
          "symbol": "circle"
         },
         "mode": "markers+text",
         "name": "BDMS.BK",
         "orientation": "v",
         "showlegend": true,
         "text": [
          "BDMS.BK"
         ],
         "textposition": "top center",
         "type": "scatter",
         "x": [
          -0.32715326532332156
         ],
         "xaxis": "x",
         "y": [
          0.02266659463911347
         ],
         "yaxis": "y"
        },
        {
         "customdata": [
          [
           "BEM.BK",
           9.600000381469727
          ]
         ],
         "hovertemplate": "Stock=%{customdata[0]}<br>MACD_12_26_9=%{x}<br>MACDh_12_26_9=%{y}<br>Close=%{customdata[1]}<extra></extra>",
         "legendgroup": "BEM.BK",
         "marker": {
          "color": "#FF6692",
          "size": 10,
          "symbol": "circle"
         },
         "mode": "markers+text",
         "name": "BEM.BK",
         "orientation": "v",
         "showlegend": true,
         "text": [
          "BEM.BK"
         ],
         "textposition": "top center",
         "type": "scatter",
         "x": [
          0.07341642233976309
         ],
         "xaxis": "x",
         "y": [
          0.00261330474767478
         ],
         "yaxis": "y"
        },
        {
         "customdata": [
          [
           "BGRIM.BK",
           39.5
          ]
         ],
         "hovertemplate": "Stock=%{customdata[0]}<br>MACD_12_26_9=%{x}<br>MACDh_12_26_9=%{y}<br>Close=%{customdata[1]}<extra></extra>",
         "legendgroup": "BGRIM.BK",
         "marker": {
          "color": "#B6E880",
          "size": 10,
          "symbol": "circle"
         },
         "mode": "markers+text",
         "name": "BGRIM.BK",
         "orientation": "v",
         "showlegend": true,
         "text": [
          "BGRIM.BK"
         ],
         "textposition": "top center",
         "type": "scatter",
         "x": [
          1.0123641641841914
         ],
         "xaxis": "x",
         "y": [
          0.05253471846205415
         ],
         "yaxis": "y"
        },
        {
         "customdata": [
          [
           "BH.BK",
           209
          ]
         ],
         "hovertemplate": "Stock=%{customdata[0]}<br>MACD_12_26_9=%{x}<br>MACDh_12_26_9=%{y}<br>Close=%{customdata[1]}<extra></extra>",
         "legendgroup": "BH.BK",
         "marker": {
          "color": "#FF97FF",
          "size": 10,
          "symbol": "circle"
         },
         "mode": "markers+text",
         "name": "BH.BK",
         "orientation": "v",
         "showlegend": true,
         "text": [
          "BH.BK"
         ],
         "textposition": "top center",
         "type": "scatter",
         "x": [
          -3.204952711093455
         ],
         "xaxis": "x",
         "y": [
          0.0022874097433875917
         ],
         "yaxis": "y"
        },
        {
         "customdata": [
          [
           "BLA.BK",
           27.75
          ]
         ],
         "hovertemplate": "Stock=%{customdata[0]}<br>MACD_12_26_9=%{x}<br>MACDh_12_26_9=%{y}<br>Close=%{customdata[1]}<extra></extra>",
         "legendgroup": "BLA.BK",
         "marker": {
          "color": "#FECB52",
          "size": 10,
          "symbol": "circle"
         },
         "mode": "markers+text",
         "name": "BLA.BK",
         "orientation": "v",
         "showlegend": true,
         "text": [
          "BLA.BK"
         ],
         "textposition": "top center",
         "type": "scatter",
         "x": [
          -0.7700262576339476
         ],
         "xaxis": "x",
         "y": [
          -0.05490932070397336
         ],
         "yaxis": "y"
        },
        {
         "customdata": [
          [
           "BTS.BK",
           8.199999809265137
          ]
         ],
         "hovertemplate": "Stock=%{customdata[0]}<br>MACD_12_26_9=%{x}<br>MACDh_12_26_9=%{y}<br>Close=%{customdata[1]}<extra></extra>",
         "legendgroup": "BTS.BK",
         "marker": {
          "color": "#636efa",
          "size": 10,
          "symbol": "circle"
         },
         "mode": "markers+text",
         "name": "BTS.BK",
         "orientation": "v",
         "showlegend": true,
         "text": [
          "BTS.BK"
         ],
         "textposition": "top center",
         "type": "scatter",
         "x": [
          0.0025488970295519664
         ],
         "xaxis": "x",
         "y": [
          -0.005081729905292405
         ],
         "yaxis": "y"
        },
        {
         "customdata": [
          [
           "CBG.BK",
           94
          ]
         ],
         "hovertemplate": "Stock=%{customdata[0]}<br>MACD_12_26_9=%{x}<br>MACDh_12_26_9=%{y}<br>Close=%{customdata[1]}<extra></extra>",
         "legendgroup": "CBG.BK",
         "marker": {
          "color": "#EF553B",
          "size": 10,
          "symbol": "circle"
         },
         "mode": "markers+text",
         "name": "CBG.BK",
         "orientation": "v",
         "showlegend": true,
         "text": [
          "CBG.BK"
         ],
         "textposition": "top center",
         "type": "scatter",
         "x": [
          0.2006490878909517
         ],
         "xaxis": "x",
         "y": [
          -0.3570507710874201
         ],
         "yaxis": "y"
        },
        {
         "customdata": [
          [
           "CPALL.BK",
           66
          ]
         ],
         "hovertemplate": "Stock=%{customdata[0]}<br>MACD_12_26_9=%{x}<br>MACDh_12_26_9=%{y}<br>Close=%{customdata[1]}<extra></extra>",
         "legendgroup": "CPALL.BK",
         "marker": {
          "color": "#00cc96",
          "size": 10,
          "symbol": "circle"
         },
         "mode": "markers+text",
         "name": "CPALL.BK",
         "orientation": "v",
         "showlegend": true,
         "text": [
          "CPALL.BK"
         ],
         "textposition": "top center",
         "type": "scatter",
         "x": [
          1.1461864452338943
         ],
         "xaxis": "x",
         "y": [
          -0.05709949331733721
         ],
         "yaxis": "y"
        },
        {
         "customdata": [
          [
           "CPF.BK",
           24.600000381469727
          ]
         ],
         "hovertemplate": "Stock=%{customdata[0]}<br>MACD_12_26_9=%{x}<br>MACDh_12_26_9=%{y}<br>Close=%{customdata[1]}<extra></extra>",
         "legendgroup": "CPF.BK",
         "marker": {
          "color": "#ab63fa",
          "size": 10,
          "symbol": "circle"
         },
         "mode": "markers+text",
         "name": "CPF.BK",
         "orientation": "v",
         "showlegend": true,
         "text": [
          "CPF.BK"
         ],
         "textposition": "top center",
         "type": "scatter",
         "x": [
          -0.014590011359871369
         ],
         "xaxis": "x",
         "y": [
          0.13250313203433467
         ],
         "yaxis": "y"
        },
        {
         "customdata": [
          [
           "CPN.BK",
           69.75
          ]
         ],
         "hovertemplate": "Stock=%{customdata[0]}<br>MACD_12_26_9=%{x}<br>MACDh_12_26_9=%{y}<br>Close=%{customdata[1]}<extra></extra>",
         "legendgroup": "CPN.BK",
         "marker": {
          "color": "#FFA15A",
          "size": 10,
          "symbol": "circle"
         },
         "mode": "markers+text",
         "name": "CPN.BK",
         "orientation": "v",
         "showlegend": true,
         "text": [
          "CPN.BK"
         ],
         "textposition": "top center",
         "type": "scatter",
         "x": [
          0.14431402933753645
         ],
         "xaxis": "x",
         "y": [
          -0.26109624788497576
         ],
         "yaxis": "y"
        },
        {
         "customdata": [
          [
           "CRC.BK",
           45.5
          ]
         ],
         "hovertemplate": "Stock=%{customdata[0]}<br>MACD_12_26_9=%{x}<br>MACDh_12_26_9=%{y}<br>Close=%{customdata[1]}<extra></extra>",
         "legendgroup": "CRC.BK",
         "marker": {
          "color": "#19d3f3",
          "size": 10,
          "symbol": "circle"
         },
         "mode": "markers+text",
         "name": "CRC.BK",
         "orientation": "v",
         "showlegend": true,
         "text": [
          "CRC.BK"
         ],
         "textposition": "top center",
         "type": "scatter",
         "x": [
          0.8589424939435091
         ],
         "xaxis": "x",
         "y": [
          0.0998282974200968
         ],
         "yaxis": "y"
        },
        {
         "customdata": [
          [
           "DTAC.BK",
           44.75
          ]
         ],
         "hovertemplate": "Stock=%{customdata[0]}<br>MACD_12_26_9=%{x}<br>MACDh_12_26_9=%{y}<br>Close=%{customdata[1]}<extra></extra>",
         "legendgroup": "DTAC.BK",
         "marker": {
          "color": "#FF6692",
          "size": 10,
          "symbol": "circle"
         },
         "mode": "markers+text",
         "name": "DTAC.BK",
         "orientation": "v",
         "showlegend": true,
         "text": [
          "DTAC.BK"
         ],
         "textposition": "top center",
         "type": "scatter",
         "x": [
          0.3522299295503686
         ],
         "xaxis": "x",
         "y": [
          0.3725286163514362
         ],
         "yaxis": "y"
        },
        {
         "customdata": [
          [
           "EA.BK",
           93.75
          ]
         ],
         "hovertemplate": "Stock=%{customdata[0]}<br>MACD_12_26_9=%{x}<br>MACDh_12_26_9=%{y}<br>Close=%{customdata[1]}<extra></extra>",
         "legendgroup": "EA.BK",
         "marker": {
          "color": "#B6E880",
          "size": 10,
          "symbol": "circle"
         },
         "mode": "markers+text",
         "name": "EA.BK",
         "orientation": "v",
         "showlegend": true,
         "text": [
          "EA.BK"
         ],
         "textposition": "top center",
         "type": "scatter",
         "x": [
          -0.0527166846534044
         ],
         "xaxis": "x",
         "y": [
          -0.3066793928587572
         ],
         "yaxis": "y"
        },
        {
         "customdata": [
          [
           "EGCO.BK",
           168
          ]
         ],
         "hovertemplate": "Stock=%{customdata[0]}<br>MACD_12_26_9=%{x}<br>MACDh_12_26_9=%{y}<br>Close=%{customdata[1]}<extra></extra>",
         "legendgroup": "EGCO.BK",
         "marker": {
          "color": "#FF97FF",
          "size": 10,
          "symbol": "circle"
         },
         "mode": "markers+text",
         "name": "EGCO.BK",
         "orientation": "v",
         "showlegend": true,
         "text": [
          "EGCO.BK"
         ],
         "textposition": "top center",
         "type": "scatter",
         "x": [
          -0.41590733007058134
         ],
         "xaxis": "x",
         "y": [
          -0.19623625441510914
         ],
         "yaxis": "y"
        },
        {
         "customdata": [
          [
           "GLOBAL.BK",
           21.600000381469727
          ]
         ],
         "hovertemplate": "Stock=%{customdata[0]}<br>MACD_12_26_9=%{x}<br>MACDh_12_26_9=%{y}<br>Close=%{customdata[1]}<extra></extra>",
         "legendgroup": "GLOBAL.BK",
         "marker": {
          "color": "#FECB52",
          "size": 10,
          "symbol": "circle"
         },
         "mode": "markers+text",
         "name": "GLOBAL.BK",
         "orientation": "v",
         "showlegend": true,
         "text": [
          "GLOBAL.BK"
         ],
         "textposition": "top center",
         "type": "scatter",
         "x": [
          0.3688627441158303
         ],
         "xaxis": "x",
         "y": [
          0.1996282066340391
         ],
         "yaxis": "y"
        },
        {
         "customdata": [
          [
           "GPSC.BK",
           71.25
          ]
         ],
         "hovertemplate": "Stock=%{customdata[0]}<br>MACD_12_26_9=%{x}<br>MACDh_12_26_9=%{y}<br>Close=%{customdata[1]}<extra></extra>",
         "legendgroup": "GPSC.BK",
         "marker": {
          "color": "#636efa",
          "size": 10,
          "symbol": "circle"
         },
         "mode": "markers+text",
         "name": "GPSC.BK",
         "orientation": "v",
         "showlegend": true,
         "text": [
          "GPSC.BK"
         ],
         "textposition": "top center",
         "type": "scatter",
         "x": [
          1.3013180137572675
         ],
         "xaxis": "x",
         "y": [
          -0.12950159666164174
         ],
         "yaxis": "y"
        },
        {
         "customdata": [
          [
           "GULF.BK",
           53.25
          ]
         ],
         "hovertemplate": "Stock=%{customdata[0]}<br>MACD_12_26_9=%{x}<br>MACDh_12_26_9=%{y}<br>Close=%{customdata[1]}<extra></extra>",
         "legendgroup": "GULF.BK",
         "marker": {
          "color": "#EF553B",
          "size": 10,
          "symbol": "circle"
         },
         "mode": "markers+text",
         "name": "GULF.BK",
         "orientation": "v",
         "showlegend": true,
         "text": [
          "GULF.BK"
         ],
         "textposition": "top center",
         "type": "scatter",
         "x": [
          0.46277993583024113
         ],
         "xaxis": "x",
         "y": [
          -0.11547808020770822
         ],
         "yaxis": "y"
        },
        {
         "customdata": [
          [
           "HMPRO.BK",
           15.300000190734863
          ]
         ],
         "hovertemplate": "Stock=%{customdata[0]}<br>MACD_12_26_9=%{x}<br>MACDh_12_26_9=%{y}<br>Close=%{customdata[1]}<extra></extra>",
         "legendgroup": "HMPRO.BK",
         "marker": {
          "color": "#00cc96",
          "size": 10,
          "symbol": "circle"
         },
         "mode": "markers+text",
         "name": "HMPRO.BK",
         "orientation": "v",
         "showlegend": true,
         "text": [
          "HMPRO.BK"
         ],
         "textposition": "top center",
         "type": "scatter",
         "x": [
          0.1922241800549429
         ],
         "xaxis": "x",
         "y": [
          0.042558112703436624
         ],
         "yaxis": "y"
        },
        {
         "customdata": [
          [
           "INTUCH.BK",
           75.5
          ]
         ],
         "hovertemplate": "Stock=%{customdata[0]}<br>MACD_12_26_9=%{x}<br>MACDh_12_26_9=%{y}<br>Close=%{customdata[1]}<extra></extra>",
         "legendgroup": "INTUCH.BK",
         "marker": {
          "color": "#ab63fa",
          "size": 10,
          "symbol": "circle"
         },
         "mode": "markers+text",
         "name": "INTUCH.BK",
         "orientation": "v",
         "showlegend": true,
         "text": [
          "INTUCH.BK"
         ],
         "textposition": "top center",
         "type": "scatter",
         "x": [
          0.7534367751966045
         ],
         "xaxis": "x",
         "y": [
          0.035821229160160506
         ],
         "yaxis": "y"
        },
        {
         "customdata": [
          [
           "IRPC.BK",
           2.9200000762939453
          ]
         ],
         "hovertemplate": "Stock=%{customdata[0]}<br>MACD_12_26_9=%{x}<br>MACDh_12_26_9=%{y}<br>Close=%{customdata[1]}<extra></extra>",
         "legendgroup": "IRPC.BK",
         "marker": {
          "color": "#FFA15A",
          "size": 10,
          "symbol": "circle"
         },
         "mode": "markers+text",
         "name": "IRPC.BK",
         "orientation": "v",
         "showlegend": true,
         "text": [
          "IRPC.BK"
         ],
         "textposition": "top center",
         "type": "scatter",
         "x": [
          -0.04545969570481434
         ],
         "xaxis": "x",
         "y": [
          -0.004390149033057532
         ],
         "yaxis": "y"
        },
        {
         "customdata": [
          [
           "IVL.BK",
           39.5
          ]
         ],
         "hovertemplate": "Stock=%{customdata[0]}<br>MACD_12_26_9=%{x}<br>MACDh_12_26_9=%{y}<br>Close=%{customdata[1]}<extra></extra>",
         "legendgroup": "IVL.BK",
         "marker": {
          "color": "#19d3f3",
          "size": 10,
          "symbol": "circle"
         },
         "mode": "markers+text",
         "name": "IVL.BK",
         "orientation": "v",
         "showlegend": true,
         "text": [
          "IVL.BK"
         ],
         "textposition": "top center",
         "type": "scatter",
         "x": [
          -0.6221971190613473
         ],
         "xaxis": "x",
         "y": [
          -0.1640650343219982
         ],
         "yaxis": "y"
        },
        {
         "customdata": [
          [
           "JMART.BK",
           39.25
          ]
         ],
         "hovertemplate": "Stock=%{customdata[0]}<br>MACD_12_26_9=%{x}<br>MACDh_12_26_9=%{y}<br>Close=%{customdata[1]}<extra></extra>",
         "legendgroup": "JMART.BK",
         "marker": {
          "color": "#FF6692",
          "size": 10,
          "symbol": "circle"
         },
         "mode": "markers+text",
         "name": "JMART.BK",
         "orientation": "v",
         "showlegend": true,
         "text": [
          "JMART.BK"
         ],
         "textposition": "top center",
         "type": "scatter",
         "x": [
          -1.2749384462379965
         ],
         "xaxis": "x",
         "y": [
          -0.1563180799362036
         ],
         "yaxis": "y"
        },
        {
         "customdata": [
          [
           "JMT.BK",
           65
          ]
         ],
         "hovertemplate": "Stock=%{customdata[0]}<br>MACD_12_26_9=%{x}<br>MACDh_12_26_9=%{y}<br>Close=%{customdata[1]}<extra></extra>",
         "legendgroup": "JMT.BK",
         "marker": {
          "color": "#B6E880",
          "size": 10,
          "symbol": "circle"
         },
         "mode": "markers+text",
         "name": "JMT.BK",
         "orientation": "v",
         "showlegend": true,
         "text": [
          "JMT.BK"
         ],
         "textposition": "top center",
         "type": "scatter",
         "x": [
          0.09078873127133136
         ],
         "xaxis": "x",
         "y": [
          -0.371676943719744
         ],
         "yaxis": "y"
        },
        {
         "customdata": [
          [
           "KBANK.BK",
           144
          ]
         ],
         "hovertemplate": "Stock=%{customdata[0]}<br>MACD_12_26_9=%{x}<br>MACDh_12_26_9=%{y}<br>Close=%{customdata[1]}<extra></extra>",
         "legendgroup": "KBANK.BK",
         "marker": {
          "color": "#FF97FF",
          "size": 10,
          "symbol": "circle"
         },
         "mode": "markers+text",
         "name": "KBANK.BK",
         "orientation": "v",
         "showlegend": true,
         "text": [
          "KBANK.BK"
         ],
         "textposition": "top center",
         "type": "scatter",
         "x": [
          -0.1716333227716973
         ],
         "xaxis": "x",
         "y": [
          0.27312445496611415
         ],
         "yaxis": "y"
        },
        {
         "customdata": [
          [
           "KCE.BK",
           45.5
          ]
         ],
         "hovertemplate": "Stock=%{customdata[0]}<br>MACD_12_26_9=%{x}<br>MACDh_12_26_9=%{y}<br>Close=%{customdata[1]}<extra></extra>",
         "legendgroup": "KCE.BK",
         "marker": {
          "color": "#FECB52",
          "size": 10,
          "symbol": "circle"
         },
         "mode": "markers+text",
         "name": "KCE.BK",
         "orientation": "v",
         "showlegend": true,
         "text": [
          "KCE.BK"
         ],
         "textposition": "top center",
         "type": "scatter",
         "x": [
          -0.3499457465309419
         ],
         "xaxis": "x",
         "y": [
          -0.5365005955579962
         ],
         "yaxis": "y"
        },
        {
         "customdata": [
          [
           "KTB.BK",
           17.899999618530273
          ]
         ],
         "hovertemplate": "Stock=%{customdata[0]}<br>MACD_12_26_9=%{x}<br>MACDh_12_26_9=%{y}<br>Close=%{customdata[1]}<extra></extra>",
         "legendgroup": "KTB.BK",
         "marker": {
          "color": "#636efa",
          "size": 10,
          "symbol": "circle"
         },
         "mode": "markers+text",
         "name": "KTB.BK",
         "orientation": "v",
         "showlegend": true,
         "text": [
          "KTB.BK"
         ],
         "textposition": "top center",
         "type": "scatter",
         "x": [
          0.0867191917473491
         ],
         "xaxis": "x",
         "y": [
          0.00956263138520537
         ],
         "yaxis": "y"
        },
        {
         "customdata": [
          [
           "KTC.BK",
           59
          ]
         ],
         "hovertemplate": "Stock=%{customdata[0]}<br>MACD_12_26_9=%{x}<br>MACDh_12_26_9=%{y}<br>Close=%{customdata[1]}<extra></extra>",
         "legendgroup": "KTC.BK",
         "marker": {
          "color": "#EF553B",
          "size": 10,
          "symbol": "circle"
         },
         "mode": "markers+text",
         "name": "KTC.BK",
         "orientation": "v",
         "showlegend": true,
         "text": [
          "KTC.BK"
         ],
         "textposition": "top center",
         "type": "scatter",
         "x": [
          0.12208100688160783
         ],
         "xaxis": "x",
         "y": [
          -0.16345321052639172
         ],
         "yaxis": "y"
        },
        {
         "customdata": [
          [
           "LH.BK",
           9.850000381469727
          ]
         ],
         "hovertemplate": "Stock=%{customdata[0]}<br>MACD_12_26_9=%{x}<br>MACDh_12_26_9=%{y}<br>Close=%{customdata[1]}<extra></extra>",
         "legendgroup": "LH.BK",
         "marker": {
          "color": "#00cc96",
          "size": 10,
          "symbol": "circle"
         },
         "mode": "markers+text",
         "name": "LH.BK",
         "orientation": "v",
         "showlegend": true,
         "text": [
          "LH.BK"
         ],
         "textposition": "top center",
         "type": "scatter",
         "x": [
          0.13449711683661825
         ],
         "xaxis": "x",
         "y": [
          0.013144547704692602
         ],
         "yaxis": "y"
        },
        {
         "customdata": [
          [
           "MINT.BK",
           31.25
          ]
         ],
         "hovertemplate": "Stock=%{customdata[0]}<br>MACD_12_26_9=%{x}<br>MACDh_12_26_9=%{y}<br>Close=%{customdata[1]}<extra></extra>",
         "legendgroup": "MINT.BK",
         "marker": {
          "color": "#ab63fa",
          "size": 10,
          "symbol": "circle"
         },
         "mode": "markers+text",
         "name": "MINT.BK",
         "orientation": "v",
         "showlegend": true,
         "text": [
          "MINT.BK"
         ],
         "textposition": "top center",
         "type": "scatter",
         "x": [
          0.4801863949830576
         ],
         "xaxis": "x",
         "y": [
          -0.02082052709739346
         ],
         "yaxis": "y"
        },
        {
         "customdata": [
          [
           "MTC.BK",
           37.25
          ]
         ],
         "hovertemplate": "Stock=%{customdata[0]}<br>MACD_12_26_9=%{x}<br>MACDh_12_26_9=%{y}<br>Close=%{customdata[1]}<extra></extra>",
         "legendgroup": "MTC.BK",
         "marker": {
          "color": "#FFA15A",
          "size": 10,
          "symbol": "circle"
         },
         "mode": "markers+text",
         "name": "MTC.BK",
         "orientation": "v",
         "showlegend": true,
         "text": [
          "MTC.BK"
         ],
         "textposition": "top center",
         "type": "scatter",
         "x": [
          0.10432594193067501
         ],
         "xaxis": "x",
         "y": [
          -0.21883114318158953
         ],
         "yaxis": "y"
        },
        {
         "customdata": [
          [
           "OR.BK",
           23
          ]
         ],
         "hovertemplate": "Stock=%{customdata[0]}<br>MACD_12_26_9=%{x}<br>MACDh_12_26_9=%{y}<br>Close=%{customdata[1]}<extra></extra>",
         "legendgroup": "OR.BK",
         "marker": {
          "color": "#19d3f3",
          "size": 10,
          "symbol": "circle"
         },
         "mode": "markers+text",
         "name": "OR.BK",
         "orientation": "v",
         "showlegend": true,
         "text": [
          "OR.BK"
         ],
         "textposition": "top center",
         "type": "scatter",
         "x": [
          -0.4134638337567971
         ],
         "xaxis": "x",
         "y": [
          -0.10908578199000968
         ],
         "yaxis": "y"
        },
        {
         "customdata": [
          [
           "OSP.BK",
           27.25
          ]
         ],
         "hovertemplate": "Stock=%{customdata[0]}<br>MACD_12_26_9=%{x}<br>MACDh_12_26_9=%{y}<br>Close=%{customdata[1]}<extra></extra>",
         "legendgroup": "OSP.BK",
         "marker": {
          "color": "#FF6692",
          "size": 10,
          "symbol": "circle"
         },
         "mode": "markers+text",
         "name": "OSP.BK",
         "orientation": "v",
         "showlegend": true,
         "text": [
          "OSP.BK"
         ],
         "textposition": "top center",
         "type": "scatter",
         "x": [
          -0.026130105961481576
         ],
         "xaxis": "x",
         "y": [
          -0.19856725205896922
         ],
         "yaxis": "y"
        },
        {
         "customdata": [
          [
           "PTT.BK",
           31.5
          ]
         ],
         "hovertemplate": "Stock=%{customdata[0]}<br>MACD_12_26_9=%{x}<br>MACDh_12_26_9=%{y}<br>Close=%{customdata[1]}<extra></extra>",
         "legendgroup": "PTT.BK",
         "marker": {
          "color": "#B6E880",
          "size": 10,
          "symbol": "circle"
         },
         "mode": "markers+text",
         "name": "PTT.BK",
         "orientation": "v",
         "showlegend": true,
         "text": [
          "PTT.BK"
         ],
         "textposition": "top center",
         "type": "scatter",
         "x": [
          -0.7479546427273043
         ],
         "xaxis": "x",
         "y": [
          0.0015506476312290296
         ],
         "yaxis": "y"
        },
        {
         "customdata": [
          [
           "PTTEP.BK",
           171.5
          ]
         ],
         "hovertemplate": "Stock=%{customdata[0]}<br>MACD_12_26_9=%{x}<br>MACDh_12_26_9=%{y}<br>Close=%{customdata[1]}<extra></extra>",
         "legendgroup": "PTTEP.BK",
         "marker": {
          "color": "#FF97FF",
          "size": 10,
          "symbol": "circle"
         },
         "mode": "markers+text",
         "name": "PTTEP.BK",
         "orientation": "v",
         "showlegend": true,
         "text": [
          "PTTEP.BK"
         ],
         "textposition": "top center",
         "type": "scatter",
         "x": [
          -3.838872614187693
         ],
         "xaxis": "x",
         "y": [
          -0.8551023317116511
         ],
         "yaxis": "y"
        },
        {
         "customdata": [
          [
           "PTTGC.BK",
           44.75
          ]
         ],
         "hovertemplate": "Stock=%{customdata[0]}<br>MACD_12_26_9=%{x}<br>MACDh_12_26_9=%{y}<br>Close=%{customdata[1]}<extra></extra>",
         "legendgroup": "PTTGC.BK",
         "marker": {
          "color": "#FECB52",
          "size": 10,
          "symbol": "circle"
         },
         "mode": "markers+text",
         "name": "PTTGC.BK",
         "orientation": "v",
         "showlegend": true,
         "text": [
          "PTTGC.BK"
         ],
         "textposition": "top center",
         "type": "scatter",
         "x": [
          -0.18306575606270314
         ],
         "xaxis": "x",
         "y": [
          -0.2958436041152114
         ],
         "yaxis": "y"
        },
        {
         "customdata": [
          [
           "SAWAD.BK",
           47.75
          ]
         ],
         "hovertemplate": "Stock=%{customdata[0]}<br>MACD_12_26_9=%{x}<br>MACDh_12_26_9=%{y}<br>Close=%{customdata[1]}<extra></extra>",
         "legendgroup": "SAWAD.BK",
         "marker": {
          "color": "#636efa",
          "size": 10,
          "symbol": "circle"
         },
         "mode": "markers+text",
         "name": "SAWAD.BK",
         "orientation": "v",
         "showlegend": true,
         "text": [
          "SAWAD.BK"
         ],
         "textposition": "top center",
         "type": "scatter",
         "x": [
          1.0921531963272315
         ],
         "xaxis": "x",
         "y": [
          -0.23052315891648467
         ],
         "yaxis": "y"
        },
        {
         "customdata": [
          [
           "SCB.BK",
           105
          ]
         ],
         "hovertemplate": "Stock=%{customdata[0]}<br>MACD_12_26_9=%{x}<br>MACDh_12_26_9=%{y}<br>Close=%{customdata[1]}<extra></extra>",
         "legendgroup": "SCB.BK",
         "marker": {
          "color": "#EF553B",
          "size": 10,
          "symbol": "circle"
         },
         "mode": "markers+text",
         "name": "SCB.BK",
         "orientation": "v",
         "showlegend": true,
         "text": [
          "SCB.BK"
         ],
         "textposition": "top center",
         "type": "scatter",
         "x": [
          -0.339786336285826
         ],
         "xaxis": "x",
         "y": [
          0.1762427277597849
         ],
         "yaxis": "y"
        },
        {
         "customdata": [
          [
           "SCC.BK",
           334
          ]
         ],
         "hovertemplate": "Stock=%{customdata[0]}<br>MACD_12_26_9=%{x}<br>MACDh_12_26_9=%{y}<br>Close=%{customdata[1]}<extra></extra>",
         "legendgroup": "SCC.BK",
         "marker": {
          "color": "#00cc96",
          "size": 10,
          "symbol": "circle"
         },
         "mode": "markers+text",
         "name": "SCC.BK",
         "orientation": "v",
         "showlegend": true,
         "text": [
          "SCC.BK"
         ],
         "textposition": "top center",
         "type": "scatter",
         "x": [
          -1.189386695534779
         ],
         "xaxis": "x",
         "y": [
          -0.17718304313740618
         ],
         "yaxis": "y"
        },
        {
         "customdata": [
          [
           "SCGP.BK",
           55.5
          ]
         ],
         "hovertemplate": "Stock=%{customdata[0]}<br>MACD_12_26_9=%{x}<br>MACDh_12_26_9=%{y}<br>Close=%{customdata[1]}<extra></extra>",
         "legendgroup": "SCGP.BK",
         "marker": {
          "color": "#ab63fa",
          "size": 10,
          "symbol": "circle"
         },
         "mode": "markers+text",
         "name": "SCGP.BK",
         "orientation": "v",
         "showlegend": true,
         "text": [
          "SCGP.BK"
         ],
         "textposition": "top center",
         "type": "scatter",
         "x": [
          0.13377720587914155
         ],
         "xaxis": "x",
         "y": [
          -0.21997199616845298
         ],
         "yaxis": "y"
        },
        {
         "customdata": [
          [
           "TIDLOR.BK",
           29.25
          ]
         ],
         "hovertemplate": "Stock=%{customdata[0]}<br>MACD_12_26_9=%{x}<br>MACDh_12_26_9=%{y}<br>Close=%{customdata[1]}<extra></extra>",
         "legendgroup": "TIDLOR.BK",
         "marker": {
          "color": "#FFA15A",
          "size": 10,
          "symbol": "circle"
         },
         "mode": "markers+text",
         "name": "TIDLOR.BK",
         "orientation": "v",
         "showlegend": true,
         "text": [
          "TIDLOR.BK"
         ],
         "textposition": "top center",
         "type": "scatter",
         "x": [
          0.5153776668186012
         ],
         "xaxis": "x",
         "y": [
          -0.0865981825343064
         ],
         "yaxis": "y"
        },
        {
         "customdata": [
          [
           "TISCO.BK",
           99
          ]
         ],
         "hovertemplate": "Stock=%{customdata[0]}<br>MACD_12_26_9=%{x}<br>MACDh_12_26_9=%{y}<br>Close=%{customdata[1]}<extra></extra>",
         "legendgroup": "TISCO.BK",
         "marker": {
          "color": "#19d3f3",
          "size": 10,
          "symbol": "circle"
         },
         "mode": "markers+text",
         "name": "TISCO.BK",
         "orientation": "v",
         "showlegend": true,
         "text": [
          "TISCO.BK"
         ],
         "textposition": "top center",
         "type": "scatter",
         "x": [
          0.7463107041539132
         ],
         "xaxis": "x",
         "y": [
          0.04497470234312306
         ],
         "yaxis": "y"
        },
        {
         "customdata": [
          [
           "TOP.BK",
           55.25
          ]
         ],
         "hovertemplate": "Stock=%{customdata[0]}<br>MACD_12_26_9=%{x}<br>MACDh_12_26_9=%{y}<br>Close=%{customdata[1]}<extra></extra>",
         "legendgroup": "TOP.BK",
         "marker": {
          "color": "#FF6692",
          "size": 10,
          "symbol": "circle"
         },
         "mode": "markers+text",
         "name": "TOP.BK",
         "orientation": "v",
         "showlegend": true,
         "text": [
          "TOP.BK"
         ],
         "textposition": "top center",
         "type": "scatter",
         "x": [
          -0.09572928372998746
         ],
         "xaxis": "x",
         "y": [
          -0.02561619707719645
         ],
         "yaxis": "y"
        },
        {
         "customdata": [
          [
           "TRUE.BK",
           4.71999979019165
          ]
         ],
         "hovertemplate": "Stock=%{customdata[0]}<br>MACD_12_26_9=%{x}<br>MACDh_12_26_9=%{y}<br>Close=%{customdata[1]}<extra></extra>",
         "legendgroup": "TRUE.BK",
         "marker": {
          "color": "#B6E880",
          "size": 10,
          "symbol": "circle"
         },
         "mode": "markers+text",
         "name": "TRUE.BK",
         "orientation": "v",
         "showlegend": true,
         "text": [
          "TRUE.BK"
         ],
         "textposition": "top center",
         "type": "scatter",
         "x": [
          -0.01342362044531864
         ],
         "xaxis": "x",
         "y": [
          0.022245470625506046
         ],
         "yaxis": "y"
        },
        {
         "customdata": [
          [
           "TTB.BK",
           1.3700000047683716
          ]
         ],
         "hovertemplate": "Stock=%{customdata[0]}<br>MACD_12_26_9=%{x}<br>MACDh_12_26_9=%{y}<br>Close=%{customdata[1]}<extra></extra>",
         "legendgroup": "TTB.BK",
         "marker": {
          "color": "#FF97FF",
          "size": 10,
          "symbol": "circle"
         },
         "mode": "markers+text",
         "name": "TTB.BK",
         "orientation": "v",
         "showlegend": true,
         "text": [
          "TTB.BK"
         ],
         "textposition": "top center",
         "type": "scatter",
         "x": [
          0.0034550946689613227
         ],
         "xaxis": "x",
         "y": [
          -0.003254959852243315
         ],
         "yaxis": "y"
        },
        {
         "customdata": [
          [
           "TU.BK",
           16.600000381469727
          ]
         ],
         "hovertemplate": "Stock=%{customdata[0]}<br>MACD_12_26_9=%{x}<br>MACDh_12_26_9=%{y}<br>Close=%{customdata[1]}<extra></extra>",
         "legendgroup": "TU.BK",
         "marker": {
          "color": "#FECB52",
          "size": 10,
          "symbol": "circle"
         },
         "mode": "markers+text",
         "name": "TU.BK",
         "orientation": "v",
         "showlegend": true,
         "text": [
          "TU.BK"
         ],
         "textposition": "top center",
         "type": "scatter",
         "x": [
          -0.20672103033990297
         ],
         "xaxis": "x",
         "y": [
          0.0043250286990707265
         ],
         "yaxis": "y"
        }
       ],
       "layout": {
        "legend": {
         "title": {
          "text": "Stock"
         },
         "tracegroupgap": 0
        },
        "shapes": [
         {
          "line": {
           "color": "red"
          },
          "type": "line",
          "x0": 0,
          "x1": 0,
          "xref": "x",
          "y0": 0,
          "y1": 1,
          "yref": "y domain"
         },
         {
          "line": {
           "color": "red"
          },
          "type": "line",
          "x0": 0,
          "x1": 1,
          "xref": "x domain",
          "y0": 0,
          "y1": 0,
          "yref": "y"
         }
        ],
        "template": {
         "data": {
          "bar": [
           {
            "error_x": {
             "color": "#2a3f5f"
            },
            "error_y": {
             "color": "#2a3f5f"
            },
            "marker": {
             "line": {
              "color": "#E5ECF6",
              "width": 0.5
             },
             "pattern": {
              "fillmode": "overlay",
              "size": 10,
              "solidity": 0.2
             }
            },
            "type": "bar"
           }
          ],
          "barpolar": [
           {
            "marker": {
             "line": {
              "color": "#E5ECF6",
              "width": 0.5
             },
             "pattern": {
              "fillmode": "overlay",
              "size": 10,
              "solidity": 0.2
             }
            },
            "type": "barpolar"
           }
          ],
          "carpet": [
           {
            "aaxis": {
             "endlinecolor": "#2a3f5f",
             "gridcolor": "white",
             "linecolor": "white",
             "minorgridcolor": "white",
             "startlinecolor": "#2a3f5f"
            },
            "baxis": {
             "endlinecolor": "#2a3f5f",
             "gridcolor": "white",
             "linecolor": "white",
             "minorgridcolor": "white",
             "startlinecolor": "#2a3f5f"
            },
            "type": "carpet"
           }
          ],
          "choropleth": [
           {
            "colorbar": {
             "outlinewidth": 0,
             "ticks": ""
            },
            "type": "choropleth"
           }
          ],
          "contour": [
           {
            "colorbar": {
             "outlinewidth": 0,
             "ticks": ""
            },
            "colorscale": [
             [
              0,
              "#0d0887"
             ],
             [
              0.1111111111111111,
              "#46039f"
             ],
             [
              0.2222222222222222,
              "#7201a8"
             ],
             [
              0.3333333333333333,
              "#9c179e"
             ],
             [
              0.4444444444444444,
              "#bd3786"
             ],
             [
              0.5555555555555556,
              "#d8576b"
             ],
             [
              0.6666666666666666,
              "#ed7953"
             ],
             [
              0.7777777777777778,
              "#fb9f3a"
             ],
             [
              0.8888888888888888,
              "#fdca26"
             ],
             [
              1,
              "#f0f921"
             ]
            ],
            "type": "contour"
           }
          ],
          "contourcarpet": [
           {
            "colorbar": {
             "outlinewidth": 0,
             "ticks": ""
            },
            "type": "contourcarpet"
           }
          ],
          "heatmap": [
           {
            "colorbar": {
             "outlinewidth": 0,
             "ticks": ""
            },
            "colorscale": [
             [
              0,
              "#0d0887"
             ],
             [
              0.1111111111111111,
              "#46039f"
             ],
             [
              0.2222222222222222,
              "#7201a8"
             ],
             [
              0.3333333333333333,
              "#9c179e"
             ],
             [
              0.4444444444444444,
              "#bd3786"
             ],
             [
              0.5555555555555556,
              "#d8576b"
             ],
             [
              0.6666666666666666,
              "#ed7953"
             ],
             [
              0.7777777777777778,
              "#fb9f3a"
             ],
             [
              0.8888888888888888,
              "#fdca26"
             ],
             [
              1,
              "#f0f921"
             ]
            ],
            "type": "heatmap"
           }
          ],
          "heatmapgl": [
           {
            "colorbar": {
             "outlinewidth": 0,
             "ticks": ""
            },
            "colorscale": [
             [
              0,
              "#0d0887"
             ],
             [
              0.1111111111111111,
              "#46039f"
             ],
             [
              0.2222222222222222,
              "#7201a8"
             ],
             [
              0.3333333333333333,
              "#9c179e"
             ],
             [
              0.4444444444444444,
              "#bd3786"
             ],
             [
              0.5555555555555556,
              "#d8576b"
             ],
             [
              0.6666666666666666,
              "#ed7953"
             ],
             [
              0.7777777777777778,
              "#fb9f3a"
             ],
             [
              0.8888888888888888,
              "#fdca26"
             ],
             [
              1,
              "#f0f921"
             ]
            ],
            "type": "heatmapgl"
           }
          ],
          "histogram": [
           {
            "marker": {
             "pattern": {
              "fillmode": "overlay",
              "size": 10,
              "solidity": 0.2
             }
            },
            "type": "histogram"
           }
          ],
          "histogram2d": [
           {
            "colorbar": {
             "outlinewidth": 0,
             "ticks": ""
            },
            "colorscale": [
             [
              0,
              "#0d0887"
             ],
             [
              0.1111111111111111,
              "#46039f"
             ],
             [
              0.2222222222222222,
              "#7201a8"
             ],
             [
              0.3333333333333333,
              "#9c179e"
             ],
             [
              0.4444444444444444,
              "#bd3786"
             ],
             [
              0.5555555555555556,
              "#d8576b"
             ],
             [
              0.6666666666666666,
              "#ed7953"
             ],
             [
              0.7777777777777778,
              "#fb9f3a"
             ],
             [
              0.8888888888888888,
              "#fdca26"
             ],
             [
              1,
              "#f0f921"
             ]
            ],
            "type": "histogram2d"
           }
          ],
          "histogram2dcontour": [
           {
            "colorbar": {
             "outlinewidth": 0,
             "ticks": ""
            },
            "colorscale": [
             [
              0,
              "#0d0887"
             ],
             [
              0.1111111111111111,
              "#46039f"
             ],
             [
              0.2222222222222222,
              "#7201a8"
             ],
             [
              0.3333333333333333,
              "#9c179e"
             ],
             [
              0.4444444444444444,
              "#bd3786"
             ],
             [
              0.5555555555555556,
              "#d8576b"
             ],
             [
              0.6666666666666666,
              "#ed7953"
             ],
             [
              0.7777777777777778,
              "#fb9f3a"
             ],
             [
              0.8888888888888888,
              "#fdca26"
             ],
             [
              1,
              "#f0f921"
             ]
            ],
            "type": "histogram2dcontour"
           }
          ],
          "mesh3d": [
           {
            "colorbar": {
             "outlinewidth": 0,
             "ticks": ""
            },
            "type": "mesh3d"
           }
          ],
          "parcoords": [
           {
            "line": {
             "colorbar": {
              "outlinewidth": 0,
              "ticks": ""
             }
            },
            "type": "parcoords"
           }
          ],
          "pie": [
           {
            "automargin": true,
            "type": "pie"
           }
          ],
          "scatter": [
           {
            "fillpattern": {
             "fillmode": "overlay",
             "size": 10,
             "solidity": 0.2
            },
            "type": "scatter"
           }
          ],
          "scatter3d": [
           {
            "line": {
             "colorbar": {
              "outlinewidth": 0,
              "ticks": ""
             }
            },
            "marker": {
             "colorbar": {
              "outlinewidth": 0,
              "ticks": ""
             }
            },
            "type": "scatter3d"
           }
          ],
          "scattercarpet": [
           {
            "marker": {
             "colorbar": {
              "outlinewidth": 0,
              "ticks": ""
             }
            },
            "type": "scattercarpet"
           }
          ],
          "scattergeo": [
           {
            "marker": {
             "colorbar": {
              "outlinewidth": 0,
              "ticks": ""
             }
            },
            "type": "scattergeo"
           }
          ],
          "scattergl": [
           {
            "marker": {
             "colorbar": {
              "outlinewidth": 0,
              "ticks": ""
             }
            },
            "type": "scattergl"
           }
          ],
          "scattermapbox": [
           {
            "marker": {
             "colorbar": {
              "outlinewidth": 0,
              "ticks": ""
             }
            },
            "type": "scattermapbox"
           }
          ],
          "scatterpolar": [
           {
            "marker": {
             "colorbar": {
              "outlinewidth": 0,
              "ticks": ""
             }
            },
            "type": "scatterpolar"
           }
          ],
          "scatterpolargl": [
           {
            "marker": {
             "colorbar": {
              "outlinewidth": 0,
              "ticks": ""
             }
            },
            "type": "scatterpolargl"
           }
          ],
          "scatterternary": [
           {
            "marker": {
             "colorbar": {
              "outlinewidth": 0,
              "ticks": ""
             }
            },
            "type": "scatterternary"
           }
          ],
          "surface": [
           {
            "colorbar": {
             "outlinewidth": 0,
             "ticks": ""
            },
            "colorscale": [
             [
              0,
              "#0d0887"
             ],
             [
              0.1111111111111111,
              "#46039f"
             ],
             [
              0.2222222222222222,
              "#7201a8"
             ],
             [
              0.3333333333333333,
              "#9c179e"
             ],
             [
              0.4444444444444444,
              "#bd3786"
             ],
             [
              0.5555555555555556,
              "#d8576b"
             ],
             [
              0.6666666666666666,
              "#ed7953"
             ],
             [
              0.7777777777777778,
              "#fb9f3a"
             ],
             [
              0.8888888888888888,
              "#fdca26"
             ],
             [
              1,
              "#f0f921"
             ]
            ],
            "type": "surface"
           }
          ],
          "table": [
           {
            "cells": {
             "fill": {
              "color": "#EBF0F8"
             },
             "line": {
              "color": "white"
             }
            },
            "header": {
             "fill": {
              "color": "#C8D4E3"
             },
             "line": {
              "color": "white"
             }
            },
            "type": "table"
           }
          ]
         },
         "layout": {
          "annotationdefaults": {
           "arrowcolor": "#2a3f5f",
           "arrowhead": 0,
           "arrowwidth": 1
          },
          "autotypenumbers": "strict",
          "coloraxis": {
           "colorbar": {
            "outlinewidth": 0,
            "ticks": ""
           }
          },
          "colorscale": {
           "diverging": [
            [
             0,
             "#8e0152"
            ],
            [
             0.1,
             "#c51b7d"
            ],
            [
             0.2,
             "#de77ae"
            ],
            [
             0.3,
             "#f1b6da"
            ],
            [
             0.4,
             "#fde0ef"
            ],
            [
             0.5,
             "#f7f7f7"
            ],
            [
             0.6,
             "#e6f5d0"
            ],
            [
             0.7,
             "#b8e186"
            ],
            [
             0.8,
             "#7fbc41"
            ],
            [
             0.9,
             "#4d9221"
            ],
            [
             1,
             "#276419"
            ]
           ],
           "sequential": [
            [
             0,
             "#0d0887"
            ],
            [
             0.1111111111111111,
             "#46039f"
            ],
            [
             0.2222222222222222,
             "#7201a8"
            ],
            [
             0.3333333333333333,
             "#9c179e"
            ],
            [
             0.4444444444444444,
             "#bd3786"
            ],
            [
             0.5555555555555556,
             "#d8576b"
            ],
            [
             0.6666666666666666,
             "#ed7953"
            ],
            [
             0.7777777777777778,
             "#fb9f3a"
            ],
            [
             0.8888888888888888,
             "#fdca26"
            ],
            [
             1,
             "#f0f921"
            ]
           ],
           "sequentialminus": [
            [
             0,
             "#0d0887"
            ],
            [
             0.1111111111111111,
             "#46039f"
            ],
            [
             0.2222222222222222,
             "#7201a8"
            ],
            [
             0.3333333333333333,
             "#9c179e"
            ],
            [
             0.4444444444444444,
             "#bd3786"
            ],
            [
             0.5555555555555556,
             "#d8576b"
            ],
            [
             0.6666666666666666,
             "#ed7953"
            ],
            [
             0.7777777777777778,
             "#fb9f3a"
            ],
            [
             0.8888888888888888,
             "#fdca26"
            ],
            [
             1,
             "#f0f921"
            ]
           ]
          },
          "colorway": [
           "#636efa",
           "#EF553B",
           "#00cc96",
           "#ab63fa",
           "#FFA15A",
           "#19d3f3",
           "#FF6692",
           "#B6E880",
           "#FF97FF",
           "#FECB52"
          ],
          "font": {
           "color": "#2a3f5f"
          },
          "geo": {
           "bgcolor": "white",
           "lakecolor": "white",
           "landcolor": "#E5ECF6",
           "showlakes": true,
           "showland": true,
           "subunitcolor": "white"
          },
          "hoverlabel": {
           "align": "left"
          },
          "hovermode": "closest",
          "mapbox": {
           "style": "light"
          },
          "paper_bgcolor": "white",
          "plot_bgcolor": "#E5ECF6",
          "polar": {
           "angularaxis": {
            "gridcolor": "white",
            "linecolor": "white",
            "ticks": ""
           },
           "bgcolor": "#E5ECF6",
           "radialaxis": {
            "gridcolor": "white",
            "linecolor": "white",
            "ticks": ""
           }
          },
          "scene": {
           "xaxis": {
            "backgroundcolor": "#E5ECF6",
            "gridcolor": "white",
            "gridwidth": 2,
            "linecolor": "white",
            "showbackground": true,
            "ticks": "",
            "zerolinecolor": "white"
           },
           "yaxis": {
            "backgroundcolor": "#E5ECF6",
            "gridcolor": "white",
            "gridwidth": 2,
            "linecolor": "white",
            "showbackground": true,
            "ticks": "",
            "zerolinecolor": "white"
           },
           "zaxis": {
            "backgroundcolor": "#E5ECF6",
            "gridcolor": "white",
            "gridwidth": 2,
            "linecolor": "white",
            "showbackground": true,
            "ticks": "",
            "zerolinecolor": "white"
           }
          },
          "shapedefaults": {
           "line": {
            "color": "#2a3f5f"
           }
          },
          "ternary": {
           "aaxis": {
            "gridcolor": "white",
            "linecolor": "white",
            "ticks": ""
           },
           "baxis": {
            "gridcolor": "white",
            "linecolor": "white",
            "ticks": ""
           },
           "bgcolor": "#E5ECF6",
           "caxis": {
            "gridcolor": "white",
            "linecolor": "white",
            "ticks": ""
           }
          },
          "title": {
           "x": 0.05
          },
          "xaxis": {
           "automargin": true,
           "gridcolor": "white",
           "linecolor": "white",
           "ticks": "",
           "title": {
            "standoff": 15
           },
           "zerolinecolor": "white",
           "zerolinewidth": 2
          },
          "yaxis": {
           "automargin": true,
           "gridcolor": "white",
           "linecolor": "white",
           "ticks": "",
           "title": {
            "standoff": 15
           },
           "zerolinecolor": "white",
           "zerolinewidth": 2
          }
         }
        },
        "title": {
         "text": "MACD Quadrant: SET50"
        },
        "xaxis": {
         "anchor": "y",
         "domain": [
          0,
          1
         ],
         "title": {
          "text": "MACD_12_26_9"
         }
        },
        "yaxis": {
         "anchor": "x",
         "domain": [
          0,
          1
         ],
         "title": {
          "text": "MACDh_12_26_9"
         }
        }
       }
      }
     },
     "metadata": {},
     "output_type": "display_data"
    }
   ],
   "source": [
    "fig = px.scatter(df_3, x='MACD_12_26_9', y='MACDh_12_26_9', color='Stock', text='Stock', hover_data=['Stock', 'Close'], title='MACD Quadrant: SET50')\n",
    "\n",
    "fig.update_traces(marker={'size': 10})\n",
    "fig.update_traces(textposition='top center')\n",
    "\n",
    "fig.add_vline(x=0, line_color='red')\n",
    "fig.add_hline(y=0, line_color='red')\n",
    "\n",
    "fig.show()"
   ]
  },
  {
   "attachments": {},
   "cell_type": "markdown",
   "metadata": {},
   "source": [
    "### with animation"
   ]
  },
  {
   "cell_type": "code",
   "execution_count": 17,
   "metadata": {},
   "outputs": [
    {
     "name": "stderr",
     "output_type": "stream",
     "text": [
      "/var/folders/6t/_xyw489d5jnd7011n2m_x_ch0000gn/T/ipykernel_39906/1700415947.py:14: FutureWarning:\n",
      "\n",
      "Value based partial slicing on non-monotonic DatetimeIndexes with non-existing keys is deprecated and will raise a KeyError in a future Version.\n",
      "\n"
     ]
    },
    {
     "data": {
      "application/vnd.plotly.v1+json": {
       "config": {
        "plotlyServerURL": "https://plot.ly"
       },
       "data": [
        {
         "customdata": [
          [
           "ADVANC.BK",
           186
          ]
         ],
         "hovertemplate": "Stock=%{customdata[0]}<br>Date=2022-12-19<br>MACD_12_26_9=%{x}<br>MACDh_12_26_9=%{y}<br>Close=%{customdata[1]}<extra></extra>",
         "ids": [
          "ADVANC.BK"
         ],
         "legendgroup": "ADVANC.BK",
         "marker": {
          "color": "#636efa",
          "size": 10,
          "symbol": "circle"
         },
         "mode": "markers+text",
         "name": "ADVANC.BK",
         "orientation": "v",
         "showlegend": true,
         "text": [
          "ADVANC.BK"
         ],
         "textposition": "top center",
         "type": "scatter",
         "x": [
          -0.8740443236626163
         ],
         "xaxis": "x",
         "y": [
          -0.2375768703229253
         ],
         "yaxis": "y"
        },
        {
         "customdata": [
          [
           "AOT.BK",
           73.75
          ]
         ],
         "hovertemplate": "Stock=%{customdata[0]}<br>Date=2022-12-19<br>MACD_12_26_9=%{x}<br>MACDh_12_26_9=%{y}<br>Close=%{customdata[1]}<extra></extra>",
         "ids": [
          "AOT.BK"
         ],
         "legendgroup": "AOT.BK",
         "marker": {
          "color": "#EF553B",
          "size": 10,
          "symbol": "circle"
         },
         "mode": "markers+text",
         "name": "AOT.BK",
         "orientation": "v",
         "showlegend": true,
         "text": [
          "AOT.BK"
         ],
         "textposition": "top center",
         "type": "scatter",
         "x": [
          -0.10955670819491559
         ],
         "xaxis": "x",
         "y": [
          -0.11138726550385065
         ],
         "yaxis": "y"
        },
        {
         "customdata": [
          [
           "AWC.BK",
           6.199999809265137
          ]
         ],
         "hovertemplate": "Stock=%{customdata[0]}<br>Date=2022-12-19<br>MACD_12_26_9=%{x}<br>MACDh_12_26_9=%{y}<br>Close=%{customdata[1]}<extra></extra>",
         "ids": [
          "AWC.BK"
         ],
         "legendgroup": "AWC.BK",
         "marker": {
          "color": "#00cc96",
          "size": 10,
          "symbol": "circle"
         },
         "mode": "markers+text",
         "name": "AWC.BK",
         "orientation": "v",
         "showlegend": true,
         "text": [
          "AWC.BK"
         ],
         "textposition": "top center",
         "type": "scatter",
         "x": [
          0.04409449588404524
         ],
         "xaxis": "x",
         "y": [
          -0.015926403733052416
         ],
         "yaxis": "y"
        },
        {
         "customdata": [
          [
           "BANPU.BK",
           13.5
          ]
         ],
         "hovertemplate": "Stock=%{customdata[0]}<br>Date=2022-12-19<br>MACD_12_26_9=%{x}<br>MACDh_12_26_9=%{y}<br>Close=%{customdata[1]}<extra></extra>",
         "ids": [
          "BANPU.BK"
         ],
         "legendgroup": "BANPU.BK",
         "marker": {
          "color": "#ab63fa",
          "size": 10,
          "symbol": "circle"
         },
         "mode": "markers+text",
         "name": "BANPU.BK",
         "orientation": "v",
         "showlegend": true,
         "text": [
          "BANPU.BK"
         ],
         "textposition": "top center",
         "type": "scatter",
         "x": [
          0.22375570779848175
         ],
         "xaxis": "x",
         "y": [
          0.032918730223258
         ],
         "yaxis": "y"
        },
        {
         "customdata": [
          [
           "BBL.BK",
           143.5
          ]
         ],
         "hovertemplate": "Stock=%{customdata[0]}<br>Date=2022-12-19<br>MACD_12_26_9=%{x}<br>MACDh_12_26_9=%{y}<br>Close=%{customdata[1]}<extra></extra>",
         "ids": [
          "BBL.BK"
         ],
         "legendgroup": "BBL.BK",
         "marker": {
          "color": "#FFA15A",
          "size": 10,
          "symbol": "circle"
         },
         "mode": "markers+text",
         "name": "BBL.BK",
         "orientation": "v",
         "showlegend": true,
         "text": [
          "BBL.BK"
         ],
         "textposition": "top center",
         "type": "scatter",
         "x": [
          0.11157327947796603
         ],
         "xaxis": "x",
         "y": [
          -0.12543005216587427
         ],
         "yaxis": "y"
        },
        {
         "customdata": [
          [
           "BDMS.BK",
           28.25
          ]
         ],
         "hovertemplate": "Stock=%{customdata[0]}<br>Date=2022-12-19<br>MACD_12_26_9=%{x}<br>MACDh_12_26_9=%{y}<br>Close=%{customdata[1]}<extra></extra>",
         "ids": [
          "BDMS.BK"
         ],
         "legendgroup": "BDMS.BK",
         "marker": {
          "color": "#19d3f3",
          "size": 10,
          "symbol": "circle"
         },
         "mode": "markers+text",
         "name": "BDMS.BK",
         "orientation": "v",
         "showlegend": true,
         "text": [
          "BDMS.BK"
         ],
         "textposition": "top center",
         "type": "scatter",
         "x": [
          -0.4198598399274829
         ],
         "xaxis": "x",
         "y": [
          -0.09495853470287219
         ],
         "yaxis": "y"
        },
        {
         "customdata": [
          [
           "BEM.BK",
           9.649999618530273
          ]
         ],
         "hovertemplate": "Stock=%{customdata[0]}<br>Date=2022-12-19<br>MACD_12_26_9=%{x}<br>MACDh_12_26_9=%{y}<br>Close=%{customdata[1]}<extra></extra>",
         "ids": [
          "BEM.BK"
         ],
         "legendgroup": "BEM.BK",
         "marker": {
          "color": "#FF6692",
          "size": 10,
          "symbol": "circle"
         },
         "mode": "markers+text",
         "name": "BEM.BK",
         "orientation": "v",
         "showlegend": true,
         "text": [
          "BEM.BK"
         ],
         "textposition": "top center",
         "type": "scatter",
         "x": [
          0.08828342270299849
         ],
         "xaxis": "x",
         "y": [
          0.02634246158393414
         ],
         "yaxis": "y"
        },
        {
         "customdata": [
          [
           "BGRIM.BK",
           39.5
          ]
         ],
         "hovertemplate": "Stock=%{customdata[0]}<br>Date=2022-12-19<br>MACD_12_26_9=%{x}<br>MACDh_12_26_9=%{y}<br>Close=%{customdata[1]}<extra></extra>",
         "ids": [
          "BGRIM.BK"
         ],
         "legendgroup": "BGRIM.BK",
         "marker": {
          "color": "#B6E880",
          "size": 10,
          "symbol": "circle"
         },
         "mode": "markers+text",
         "name": "BGRIM.BK",
         "orientation": "v",
         "showlegend": true,
         "text": [
          "BGRIM.BK"
         ],
         "textposition": "top center",
         "type": "scatter",
         "x": [
          0.9742197215130801
         ],
         "xaxis": "x",
         "y": [
          0.10541310435036932
         ],
         "yaxis": "y"
        },
        {
         "customdata": [
          [
           "BH.BK",
           212
          ]
         ],
         "hovertemplate": "Stock=%{customdata[0]}<br>Date=2022-12-19<br>MACD_12_26_9=%{x}<br>MACDh_12_26_9=%{y}<br>Close=%{customdata[1]}<extra></extra>",
         "ids": [
          "BH.BK"
         ],
         "legendgroup": "BH.BK",
         "marker": {
          "color": "#FF97FF",
          "size": 10,
          "symbol": "circle"
         },
         "mode": "markers+text",
         "name": "BH.BK",
         "orientation": "v",
         "showlegend": true,
         "text": [
          "BH.BK"
         ],
         "textposition": "top center",
         "type": "scatter",
         "x": [
          -3.40867867241883
         ],
         "xaxis": "x",
         "y": [
          -0.26864703072965224
         ],
         "yaxis": "y"
        },
        {
         "customdata": [
          [
           "BLA.BK",
           29.25
          ]
         ],
         "hovertemplate": "Stock=%{customdata[0]}<br>Date=2022-12-19<br>MACD_12_26_9=%{x}<br>MACDh_12_26_9=%{y}<br>Close=%{customdata[1]}<extra></extra>",
         "ids": [
          "BLA.BK"
         ],
         "legendgroup": "BLA.BK",
         "marker": {
          "color": "#FECB52",
          "size": 10,
          "symbol": "circle"
         },
         "mode": "markers+text",
         "name": "BLA.BK",
         "orientation": "v",
         "showlegend": true,
         "text": [
          "BLA.BK"
         ],
         "textposition": "top center",
         "type": "scatter",
         "x": [
          -0.6131550272474016
         ],
         "xaxis": "x",
         "y": [
          0.0880945983263628
         ],
         "yaxis": "y"
        },
        {
         "customdata": [
          [
           "BTS.BK",
           8.300000190734863
          ]
         ],
         "hovertemplate": "Stock=%{customdata[0]}<br>Date=2022-12-19<br>MACD_12_26_9=%{x}<br>MACDh_12_26_9=%{y}<br>Close=%{customdata[1]}<extra></extra>",
         "ids": [
          "BTS.BK"
         ],
         "legendgroup": "BTS.BK",
         "marker": {
          "color": "#636efa",
          "size": 10,
          "symbol": "circle"
         },
         "mode": "markers+text",
         "name": "BTS.BK",
         "orientation": "v",
         "showlegend": true,
         "text": [
          "BTS.BK"
         ],
         "textposition": "top center",
         "type": "scatter",
         "x": [
          0.01128938426655779
         ],
         "xaxis": "x",
         "y": [
          0.002614578447695236
         ],
         "yaxis": "y"
        },
        {
         "customdata": [
          [
           "CBG.BK",
           96.25
          ]
         ],
         "hovertemplate": "Stock=%{customdata[0]}<br>Date=2022-12-19<br>MACD_12_26_9=%{x}<br>MACDh_12_26_9=%{y}<br>Close=%{customdata[1]}<extra></extra>",
         "ids": [
          "CBG.BK"
         ],
         "legendgroup": "CBG.BK",
         "marker": {
          "color": "#EF553B",
          "size": 10,
          "symbol": "circle"
         },
         "mode": "markers+text",
         "name": "CBG.BK",
         "orientation": "v",
         "showlegend": true,
         "text": [
          "CBG.BK"
         ],
         "textposition": "top center",
         "type": "scatter",
         "x": [
          0.8373911472210409
         ],
         "xaxis": "x",
         "y": [
          0.00479397182920005
         ],
         "yaxis": "y"
        },
        {
         "customdata": [
          [
           "CPALL.BK",
           66
          ]
         ],
         "hovertemplate": "Stock=%{customdata[0]}<br>Date=2022-12-19<br>MACD_12_26_9=%{x}<br>MACDh_12_26_9=%{y}<br>Close=%{customdata[1]}<extra></extra>",
         "ids": [
          "CPALL.BK"
         ],
         "legendgroup": "CPALL.BK",
         "marker": {
          "color": "#00cc96",
          "size": 10,
          "symbol": "circle"
         },
         "mode": "markers+text",
         "name": "CPALL.BK",
         "orientation": "v",
         "showlegend": true,
         "text": [
          "CPALL.BK"
         ],
         "textposition": "top center",
         "type": "scatter",
         "x": [
          1.2675094512355258
         ],
         "xaxis": "x",
         "y": [
          0.019350969062511103
         ],
         "yaxis": "y"
        },
        {
         "customdata": [
          [
           "CPF.BK",
           24.100000381469727
          ]
         ],
         "hovertemplate": "Stock=%{customdata[0]}<br>Date=2022-12-19<br>MACD_12_26_9=%{x}<br>MACDh_12_26_9=%{y}<br>Close=%{customdata[1]}<extra></extra>",
         "ids": [
          "CPF.BK"
         ],
         "legendgroup": "CPF.BK",
         "marker": {
          "color": "#ab63fa",
          "size": 10,
          "symbol": "circle"
         },
         "mode": "markers+text",
         "name": "CPF.BK",
         "orientation": "v",
         "showlegend": true,
         "text": [
          "CPF.BK"
         ],
         "textposition": "top center",
         "type": "scatter",
         "x": [
          -0.16274640302310672
         ],
         "xaxis": "x",
         "y": [
          0.10134293437398612
         ],
         "yaxis": "y"
        },
        {
         "customdata": [
          [
           "CPN.BK",
           71
          ]
         ],
         "hovertemplate": "Stock=%{customdata[0]}<br>Date=2022-12-19<br>MACD_12_26_9=%{x}<br>MACDh_12_26_9=%{y}<br>Close=%{customdata[1]}<extra></extra>",
         "ids": [
          "CPN.BK"
         ],
         "legendgroup": "CPN.BK",
         "marker": {
          "color": "#FFA15A",
          "size": 10,
          "symbol": "circle"
         },
         "mode": "markers+text",
         "name": "CPN.BK",
         "orientation": "v",
         "showlegend": true,
         "text": [
          "CPN.BK"
         ],
         "textposition": "top center",
         "type": "scatter",
         "x": [
          0.5414261188554548
         ],
         "xaxis": "x",
         "y": [
          -0.1114211736255013
         ],
         "yaxis": "y"
        },
        {
         "customdata": [
          [
           "CRC.BK",
           45
          ]
         ],
         "hovertemplate": "Stock=%{customdata[0]}<br>Date=2022-12-19<br>MACD_12_26_9=%{x}<br>MACDh_12_26_9=%{y}<br>Close=%{customdata[1]}<extra></extra>",
         "ids": [
          "CRC.BK"
         ],
         "legendgroup": "CRC.BK",
         "marker": {
          "color": "#19d3f3",
          "size": 10,
          "symbol": "circle"
         },
         "mode": "markers+text",
         "name": "CRC.BK",
         "orientation": "v",
         "showlegend": true,
         "text": [
          "CRC.BK"
         ],
         "textposition": "top center",
         "type": "scatter",
         "x": [
          0.7241729747791297
         ],
         "xaxis": "x",
         "y": [
          0.039780867141739895
         ],
         "yaxis": "y"
        },
        {
         "customdata": [
          [
           "DTAC.BK",
           44.5
          ]
         ],
         "hovertemplate": "Stock=%{customdata[0]}<br>Date=2022-12-19<br>MACD_12_26_9=%{x}<br>MACDh_12_26_9=%{y}<br>Close=%{customdata[1]}<extra></extra>",
         "ids": [
          "DTAC.BK"
         ],
         "legendgroup": "DTAC.BK",
         "marker": {
          "color": "#FF6692",
          "size": 10,
          "symbol": "circle"
         },
         "mode": "markers+text",
         "name": "DTAC.BK",
         "orientation": "v",
         "showlegend": true,
         "text": [
          "DTAC.BK"
         ],
         "textposition": "top center",
         "type": "scatter",
         "x": [
          -0.07881414295259503
         ],
         "xaxis": "x",
         "y": [
          0.31854675775578656
         ],
         "yaxis": "y"
        },
        {
         "customdata": [
          [
           "EA.BK",
           96
          ]
         ],
         "hovertemplate": "Stock=%{customdata[0]}<br>Date=2022-12-19<br>MACD_12_26_9=%{x}<br>MACDh_12_26_9=%{y}<br>Close=%{customdata[1]}<extra></extra>",
         "ids": [
          "EA.BK"
         ],
         "legendgroup": "EA.BK",
         "marker": {
          "color": "#B6E880",
          "size": 10,
          "symbol": "circle"
         },
         "mode": "markers+text",
         "name": "EA.BK",
         "orientation": "v",
         "showlegend": true,
         "text": [
          "EA.BK"
         ],
         "textposition": "top center",
         "type": "scatter",
         "x": [
          0.2792576448187418
         ],
         "xaxis": "x",
         "y": [
          -0.18153503138882493
         ],
         "yaxis": "y"
        },
        {
         "customdata": [
          [
           "EGCO.BK",
           169.5
          ]
         ],
         "hovertemplate": "Stock=%{customdata[0]}<br>Date=2022-12-19<br>MACD_12_26_9=%{x}<br>MACDh_12_26_9=%{y}<br>Close=%{customdata[1]}<extra></extra>",
         "ids": [
          "EGCO.BK"
         ],
         "legendgroup": "EGCO.BK",
         "marker": {
          "color": "#FF97FF",
          "size": 10,
          "symbol": "circle"
         },
         "mode": "markers+text",
         "name": "EGCO.BK",
         "orientation": "v",
         "showlegend": true,
         "text": [
          "EGCO.BK"
         ],
         "textposition": "top center",
         "type": "scatter",
         "x": [
          -0.16866664470191495
         ],
         "xaxis": "x",
         "y": [
          -0.09972846095846394
         ],
         "yaxis": "y"
        },
        {
         "customdata": [
          [
           "GLOBAL.BK",
           20.899999618530273
          ]
         ],
         "hovertemplate": "Stock=%{customdata[0]}<br>Date=2022-12-19<br>MACD_12_26_9=%{x}<br>MACDh_12_26_9=%{y}<br>Close=%{customdata[1]}<extra></extra>",
         "ids": [
          "GLOBAL.BK"
         ],
         "legendgroup": "GLOBAL.BK",
         "marker": {
          "color": "#FECB52",
          "size": 10,
          "symbol": "circle"
         },
         "mode": "markers+text",
         "name": "GLOBAL.BK",
         "orientation": "v",
         "showlegend": true,
         "text": [
          "GLOBAL.BK"
         ],
         "textposition": "top center",
         "type": "scatter",
         "x": [
          0.08942500434797296
         ],
         "xaxis": "x",
         "y": [
          0.09782415018919598
         ],
         "yaxis": "y"
        },
        {
         "customdata": [
          [
           "GPSC.BK",
           72.5
          ]
         ],
         "hovertemplate": "Stock=%{customdata[0]}<br>Date=2022-12-19<br>MACD_12_26_9=%{x}<br>MACDh_12_26_9=%{y}<br>Close=%{customdata[1]}<extra></extra>",
         "ids": [
          "GPSC.BK"
         ],
         "legendgroup": "GPSC.BK",
         "marker": {
          "color": "#636efa",
          "size": 10,
          "symbol": "circle"
         },
         "mode": "markers+text",
         "name": "GPSC.BK",
         "orientation": "v",
         "showlegend": true,
         "text": [
          "GPSC.BK"
         ],
         "textposition": "top center",
         "type": "scatter",
         "x": [
          1.633796286399317
         ],
         "xaxis": "x",
         "y": [
          0.16741910795563197
         ],
         "yaxis": "y"
        },
        {
         "customdata": [
          [
           "GULF.BK",
           54.25
          ]
         ],
         "hovertemplate": "Stock=%{customdata[0]}<br>Date=2022-12-19<br>MACD_12_26_9=%{x}<br>MACDh_12_26_9=%{y}<br>Close=%{customdata[1]}<extra></extra>",
         "ids": [
          "GULF.BK"
         ],
         "legendgroup": "GULF.BK",
         "marker": {
          "color": "#EF553B",
          "size": 10,
          "symbol": "circle"
         },
         "mode": "markers+text",
         "name": "GULF.BK",
         "orientation": "v",
         "showlegend": true,
         "text": [
          "GULF.BK"
         ],
         "textposition": "top center",
         "type": "scatter",
         "x": [
          0.7276800059825277
         ],
         "xaxis": "x",
         "y": [
          0.09208047153867283
         ],
         "yaxis": "y"
        },
        {
         "customdata": [
          [
           "HMPRO.BK",
           15.199999809265137
          ]
         ],
         "hovertemplate": "Stock=%{customdata[0]}<br>Date=2022-12-19<br>MACD_12_26_9=%{x}<br>MACDh_12_26_9=%{y}<br>Close=%{customdata[1]}<extra></extra>",
         "ids": [
          "HMPRO.BK"
         ],
         "legendgroup": "HMPRO.BK",
         "marker": {
          "color": "#00cc96",
          "size": 10,
          "symbol": "circle"
         },
         "mode": "markers+text",
         "name": "HMPRO.BK",
         "orientation": "v",
         "showlegend": true,
         "text": [
          "HMPRO.BK"
         ],
         "textposition": "top center",
         "type": "scatter",
         "x": [
          0.14515540057494114
         ],
         "xaxis": "x",
         "y": [
          0.029847307654127714
         ],
         "yaxis": "y"
        },
        {
         "customdata": [
          [
           "INTUCH.BK",
           75.75
          ]
         ],
         "hovertemplate": "Stock=%{customdata[0]}<br>Date=2022-12-19<br>MACD_12_26_9=%{x}<br>MACDh_12_26_9=%{y}<br>Close=%{customdata[1]}<extra></extra>",
         "ids": [
          "INTUCH.BK"
         ],
         "legendgroup": "INTUCH.BK",
         "marker": {
          "color": "#ab63fa",
          "size": 10,
          "symbol": "circle"
         },
         "mode": "markers+text",
         "name": "INTUCH.BK",
         "orientation": "v",
         "showlegend": true,
         "text": [
          "INTUCH.BK"
         ],
         "textposition": "top center",
         "type": "scatter",
         "x": [
          0.8020696898758075
         ],
         "xaxis": "x",
         "y": [
          0.15053568049465393
         ],
         "yaxis": "y"
        },
        {
         "customdata": [
          [
           "IRPC.BK",
           2.880000114440918
          ]
         ],
         "hovertemplate": "Stock=%{customdata[0]}<br>Date=2022-12-19<br>MACD_12_26_9=%{x}<br>MACDh_12_26_9=%{y}<br>Close=%{customdata[1]}<extra></extra>",
         "ids": [
          "IRPC.BK"
         ],
         "legendgroup": "IRPC.BK",
         "marker": {
          "color": "#FFA15A",
          "size": 10,
          "symbol": "circle"
         },
         "mode": "markers+text",
         "name": "IRPC.BK",
         "orientation": "v",
         "showlegend": true,
         "text": [
          "IRPC.BK"
         ],
         "textposition": "top center",
         "type": "scatter",
         "x": [
          -0.043833217933652247
         ],
         "xaxis": "x",
         "y": [
          -0.010560402403557365
         ],
         "yaxis": "y"
        },
        {
         "customdata": [
          [
           "IVL.BK",
           40
          ]
         ],
         "hovertemplate": "Stock=%{customdata[0]}<br>Date=2022-12-19<br>MACD_12_26_9=%{x}<br>MACDh_12_26_9=%{y}<br>Close=%{customdata[1]}<extra></extra>",
         "ids": [
          "IVL.BK"
         ],
         "legendgroup": "IVL.BK",
         "marker": {
          "color": "#19d3f3",
          "size": 10,
          "symbol": "circle"
         },
         "mode": "markers+text",
         "name": "IVL.BK",
         "orientation": "v",
         "showlegend": true,
         "text": [
          "IVL.BK"
         ],
         "textposition": "top center",
         "type": "scatter",
         "x": [
          -0.48733503990550986
         ],
         "xaxis": "x",
         "y": [
          -0.22139363281868618
         ],
         "yaxis": "y"
        },
        {
         "customdata": [
          [
           "JMART.BK",
           41
          ]
         ],
         "hovertemplate": "Stock=%{customdata[0]}<br>Date=2022-12-19<br>MACD_12_26_9=%{x}<br>MACDh_12_26_9=%{y}<br>Close=%{customdata[1]}<extra></extra>",
         "ids": [
          "JMART.BK"
         ],
         "legendgroup": "JMART.BK",
         "marker": {
          "color": "#FF6692",
          "size": 10,
          "symbol": "circle"
         },
         "mode": "markers+text",
         "name": "JMART.BK",
         "orientation": "v",
         "showlegend": true,
         "text": [
          "JMART.BK"
         ],
         "textposition": "top center",
         "type": "scatter",
         "x": [
          -1.092461993000292
         ],
         "xaxis": "x",
         "y": [
          -0.12164667248845173
         ],
         "yaxis": "y"
        },
        {
         "customdata": [
          [
           "JMT.BK",
           67
          ]
         ],
         "hovertemplate": "Stock=%{customdata[0]}<br>Date=2022-12-19<br>MACD_12_26_9=%{x}<br>MACDh_12_26_9=%{y}<br>Close=%{customdata[1]}<extra></extra>",
         "ids": [
          "JMT.BK"
         ],
         "legendgroup": "JMT.BK",
         "marker": {
          "color": "#B6E880",
          "size": 10,
          "symbol": "circle"
         },
         "mode": "markers+text",
         "name": "JMT.BK",
         "orientation": "v",
         "showlegend": true,
         "text": [
          "JMT.BK"
         ],
         "textposition": "top center",
         "type": "scatter",
         "x": [
          0.6095786440846211
         ],
         "xaxis": "x",
         "y": [
          -0.1114670364861069
         ],
         "yaxis": "y"
        },
        {
         "customdata": [
          [
           "KBANK.BK",
           144
          ]
         ],
         "hovertemplate": "Stock=%{customdata[0]}<br>Date=2022-12-19<br>MACD_12_26_9=%{x}<br>MACDh_12_26_9=%{y}<br>Close=%{customdata[1]}<extra></extra>",
         "ids": [
          "KBANK.BK"
         ],
         "legendgroup": "KBANK.BK",
         "marker": {
          "color": "#FF97FF",
          "size": 10,
          "symbol": "circle"
         },
         "mode": "markers+text",
         "name": "KBANK.BK",
         "orientation": "v",
         "showlegend": true,
         "text": [
          "KBANK.BK"
         ],
         "textposition": "top center",
         "type": "scatter",
         "x": [
          -0.5241713447174732
         ],
         "xaxis": "x",
         "y": [
          0.15269079779663475
         ],
         "yaxis": "y"
        },
        {
         "customdata": [
          [
           "KCE.BK",
           47.5
          ]
         ],
         "hovertemplate": "Stock=%{customdata[0]}<br>Date=2022-12-19<br>MACD_12_26_9=%{x}<br>MACDh_12_26_9=%{y}<br>Close=%{customdata[1]}<extra></extra>",
         "ids": [
          "KCE.BK"
         ],
         "legendgroup": "KCE.BK",
         "marker": {
          "color": "#FECB52",
          "size": 10,
          "symbol": "circle"
         },
         "mode": "markers+text",
         "name": "KCE.BK",
         "orientation": "v",
         "showlegend": true,
         "text": [
          "KCE.BK"
         ],
         "textposition": "top center",
         "type": "scatter",
         "x": [
          0.4178337311385292
         ],
         "xaxis": "x",
         "y": [
          -0.2884581736385643
         ],
         "yaxis": "y"
        },
        {
         "customdata": [
          [
           "KTB.BK",
           17.799999237060547
          ]
         ],
         "hovertemplate": "Stock=%{customdata[0]}<br>Date=2022-12-19<br>MACD_12_26_9=%{x}<br>MACDh_12_26_9=%{y}<br>Close=%{customdata[1]}<extra></extra>",
         "ids": [
          "KTB.BK"
         ],
         "legendgroup": "KTB.BK",
         "marker": {
          "color": "#636efa",
          "size": 10,
          "symbol": "circle"
         },
         "mode": "markers+text",
         "name": "KTB.BK",
         "orientation": "v",
         "showlegend": true,
         "text": [
          "KTB.BK"
         ],
         "textposition": "top center",
         "type": "scatter",
         "x": [
          0.07201209515862672
         ],
         "xaxis": "x",
         "y": [
          -0.0033711845219176473
         ],
         "yaxis": "y"
        },
        {
         "customdata": [
          [
           "KTC.BK",
           59.5
          ]
         ],
         "hovertemplate": "Stock=%{customdata[0]}<br>Date=2022-12-19<br>MACD_12_26_9=%{x}<br>MACDh_12_26_9=%{y}<br>Close=%{customdata[1]}<extra></extra>",
         "ids": [
          "KTC.BK"
         ],
         "legendgroup": "KTC.BK",
         "marker": {
          "color": "#EF553B",
          "size": 10,
          "symbol": "circle"
         },
         "mode": "markers+text",
         "name": "KTC.BK",
         "orientation": "v",
         "showlegend": true,
         "text": [
          "KTC.BK"
         ],
         "textposition": "top center",
         "type": "scatter",
         "x": [
          0.47322424028519805
         ],
         "xaxis": "x",
         "y": [
          0.06023426162811163
         ],
         "yaxis": "y"
        },
        {
         "customdata": [
          [
           "LH.BK",
           9.800000190734863
          ]
         ],
         "hovertemplate": "Stock=%{customdata[0]}<br>Date=2022-12-19<br>MACD_12_26_9=%{x}<br>MACDh_12_26_9=%{y}<br>Close=%{customdata[1]}<extra></extra>",
         "ids": [
          "LH.BK"
         ],
         "legendgroup": "LH.BK",
         "marker": {
          "color": "#00cc96",
          "size": 10,
          "symbol": "circle"
         },
         "mode": "markers+text",
         "name": "LH.BK",
         "orientation": "v",
         "showlegend": true,
         "text": [
          "LH.BK"
         ],
         "textposition": "top center",
         "type": "scatter",
         "x": [
          0.12009869903623205
         ],
         "xaxis": "x",
         "y": [
          0.011832657125327661
         ],
         "yaxis": "y"
        },
        {
         "customdata": [
          [
           "MINT.BK",
           31.25
          ]
         ],
         "hovertemplate": "Stock=%{customdata[0]}<br>Date=2022-12-19<br>MACD_12_26_9=%{x}<br>MACDh_12_26_9=%{y}<br>Close=%{customdata[1]}<extra></extra>",
         "ids": [
          "MINT.BK"
         ],
         "legendgroup": "MINT.BK",
         "marker": {
          "color": "#ab63fa",
          "size": 10,
          "symbol": "circle"
         },
         "mode": "markers+text",
         "name": "MINT.BK",
         "orientation": "v",
         "showlegend": true,
         "text": [
          "MINT.BK"
         ],
         "textposition": "top center",
         "type": "scatter",
         "x": [
          0.5295162673926193
         ],
         "xaxis": "x",
         "y": [
          0.02902930981100993
         ],
         "yaxis": "y"
        },
        {
         "customdata": [
          [
           "MTC.BK",
           38.25
          ]
         ],
         "hovertemplate": "Stock=%{customdata[0]}<br>Date=2022-12-19<br>MACD_12_26_9=%{x}<br>MACDh_12_26_9=%{y}<br>Close=%{customdata[1]}<extra></extra>",
         "ids": [
          "MTC.BK"
         ],
         "legendgroup": "MTC.BK",
         "marker": {
          "color": "#FFA15A",
          "size": 10,
          "symbol": "circle"
         },
         "mode": "markers+text",
         "name": "MTC.BK",
         "orientation": "v",
         "showlegend": true,
         "text": [
          "MTC.BK"
         ],
         "textposition": "top center",
         "type": "scatter",
         "x": [
          0.5554099111461284
         ],
         "xaxis": "x",
         "y": [
          0.062347477652624717
         ],
         "yaxis": "y"
        },
        {
         "customdata": [
          [
           "OR.BK",
           23.399999618530273
          ]
         ],
         "hovertemplate": "Stock=%{customdata[0]}<br>Date=2022-12-19<br>MACD_12_26_9=%{x}<br>MACDh_12_26_9=%{y}<br>Close=%{customdata[1]}<extra></extra>",
         "ids": [
          "OR.BK"
         ],
         "legendgroup": "OR.BK",
         "marker": {
          "color": "#19d3f3",
          "size": 10,
          "symbol": "circle"
         },
         "mode": "markers+text",
         "name": "OR.BK",
         "orientation": "v",
         "showlegend": true,
         "text": [
          "OR.BK"
         ],
         "textposition": "top center",
         "type": "scatter",
         "x": [
          -0.23908608192013503
         ],
         "xaxis": "x",
         "y": [
          -0.05038224900486521
         ],
         "yaxis": "y"
        },
        {
         "customdata": [
          [
           "OSP.BK",
           28.5
          ]
         ],
         "hovertemplate": "Stock=%{customdata[0]}<br>Date=2022-12-19<br>MACD_12_26_9=%{x}<br>MACDh_12_26_9=%{y}<br>Close=%{customdata[1]}<extra></extra>",
         "ids": [
          "OSP.BK"
         ],
         "legendgroup": "OSP.BK",
         "marker": {
          "color": "#FF6692",
          "size": 10,
          "symbol": "circle"
         },
         "mode": "markers+text",
         "name": "OSP.BK",
         "orientation": "v",
         "showlegend": true,
         "text": [
          "OSP.BK"
         ],
         "textposition": "top center",
         "type": "scatter",
         "x": [
          0.3352932960613657
         ],
         "xaxis": "x",
         "y": [
          0.00437155721325222
         ],
         "yaxis": "y"
        },
        {
         "customdata": [
          [
           "PTT.BK",
           31.25
          ]
         ],
         "hovertemplate": "Stock=%{customdata[0]}<br>Date=2022-12-19<br>MACD_12_26_9=%{x}<br>MACDh_12_26_9=%{y}<br>Close=%{customdata[1]}<extra></extra>",
         "ids": [
          "PTT.BK"
         ],
         "legendgroup": "PTT.BK",
         "marker": {
          "color": "#B6E880",
          "size": 10,
          "symbol": "circle"
         },
         "mode": "markers+text",
         "name": "PTT.BK",
         "orientation": "v",
         "showlegend": true,
         "text": [
          "PTT.BK"
         ],
         "textposition": "top center",
         "type": "scatter",
         "x": [
          -0.8030288972685895
         ],
         "xaxis": "x",
         "y": [
          -0.10508087732810933
         ],
         "yaxis": "y"
        },
        {
         "customdata": [
          [
           "PTTEP.BK",
           166
          ]
         ],
         "hovertemplate": "Stock=%{customdata[0]}<br>Date=2022-12-19<br>MACD_12_26_9=%{x}<br>MACDh_12_26_9=%{y}<br>Close=%{customdata[1]}<extra></extra>",
         "ids": [
          "PTTEP.BK"
         ],
         "legendgroup": "PTTEP.BK",
         "marker": {
          "color": "#FF97FF",
          "size": 10,
          "symbol": "circle"
         },
         "mode": "markers+text",
         "name": "PTTEP.BK",
         "orientation": "v",
         "showlegend": true,
         "text": [
          "PTTEP.BK"
         ],
         "textposition": "top center",
         "type": "scatter",
         "x": [
          -3.439423717376087
         ],
         "xaxis": "x",
         "y": [
          -1.9020725066293838
         ],
         "yaxis": "y"
        },
        {
         "customdata": [
          [
           "PTTGC.BK",
           46.5
          ]
         ],
         "hovertemplate": "Stock=%{customdata[0]}<br>Date=2022-12-19<br>MACD_12_26_9=%{x}<br>MACDh_12_26_9=%{y}<br>Close=%{customdata[1]}<extra></extra>",
         "ids": [
          "PTTGC.BK"
         ],
         "legendgroup": "PTTGC.BK",
         "marker": {
          "color": "#FECB52",
          "size": 10,
          "symbol": "circle"
         },
         "mode": "markers+text",
         "name": "PTTGC.BK",
         "orientation": "v",
         "showlegend": true,
         "text": [
          "PTTGC.BK"
         ],
         "textposition": "top center",
         "type": "scatter",
         "x": [
          0.2067680761991042
         ],
         "xaxis": "x",
         "y": [
          -0.1465679390306654
         ],
         "yaxis": "y"
        },
        {
         "customdata": [
          [
           "SAWAD.BK",
           48.25
          ]
         ],
         "hovertemplate": "Stock=%{customdata[0]}<br>Date=2022-12-19<br>MACD_12_26_9=%{x}<br>MACDh_12_26_9=%{y}<br>Close=%{customdata[1]}<extra></extra>",
         "ids": [
          "SAWAD.BK"
         ],
         "legendgroup": "SAWAD.BK",
         "marker": {
          "color": "#636efa",
          "size": 10,
          "symbol": "circle"
         },
         "mode": "markers+text",
         "name": "SAWAD.BK",
         "orientation": "v",
         "showlegend": true,
         "text": [
          "SAWAD.BK"
         ],
         "textposition": "top center",
         "type": "scatter",
         "x": [
          1.63284597558485
         ],
         "xaxis": "x",
         "y": [
          0.1717476200166712
         ],
         "yaxis": "y"
        },
        {
         "customdata": [
          [
           "SCB.BK",
           103.5
          ]
         ],
         "hovertemplate": "Stock=%{customdata[0]}<br>Date=2022-12-19<br>MACD_12_26_9=%{x}<br>MACDh_12_26_9=%{y}<br>Close=%{customdata[1]}<extra></extra>",
         "ids": [
          "SCB.BK"
         ],
         "legendgroup": "SCB.BK",
         "marker": {
          "color": "#EF553B",
          "size": 10,
          "symbol": "circle"
         },
         "mode": "markers+text",
         "name": "SCB.BK",
         "orientation": "v",
         "showlegend": true,
         "text": [
          "SCB.BK"
         ],
         "textposition": "top center",
         "type": "scatter",
         "x": [
          -0.6800666910314703
         ],
         "xaxis": "x",
         "y": [
          -0.09844030858749853
         ],
         "yaxis": "y"
        },
        {
         "customdata": [
          [
           "SCC.BK",
           331
          ]
         ],
         "hovertemplate": "Stock=%{customdata[0]}<br>Date=2022-12-19<br>MACD_12_26_9=%{x}<br>MACDh_12_26_9=%{y}<br>Close=%{customdata[1]}<extra></extra>",
         "ids": [
          "SCC.BK"
         ],
         "legendgroup": "SCC.BK",
         "marker": {
          "color": "#00cc96",
          "size": 10,
          "symbol": "circle"
         },
         "mode": "markers+text",
         "name": "SCC.BK",
         "orientation": "v",
         "showlegend": true,
         "text": [
          "SCC.BK"
         ],
         "textposition": "top center",
         "type": "scatter",
         "x": [
          -1.2748866589142835
         ],
         "xaxis": "x",
         "y": [
          -0.6913178257246215
         ],
         "yaxis": "y"
        },
        {
         "customdata": [
          [
           "SCGP.BK",
           56
          ]
         ],
         "hovertemplate": "Stock=%{customdata[0]}<br>Date=2022-12-19<br>MACD_12_26_9=%{x}<br>MACDh_12_26_9=%{y}<br>Close=%{customdata[1]}<extra></extra>",
         "ids": [
          "SCGP.BK"
         ],
         "legendgroup": "SCGP.BK",
         "marker": {
          "color": "#ab63fa",
          "size": 10,
          "symbol": "circle"
         },
         "mode": "markers+text",
         "name": "SCGP.BK",
         "orientation": "v",
         "showlegend": true,
         "text": [
          "SCGP.BK"
         ],
         "textposition": "top center",
         "type": "scatter",
         "x": [
          0.4903576215106398
         ],
         "xaxis": "x",
         "y": [
          -0.06770787132284761
         ],
         "yaxis": "y"
        },
        {
         "customdata": [
          [
           "TIDLOR.BK",
           29
          ]
         ],
         "hovertemplate": "Stock=%{customdata[0]}<br>Date=2022-12-19<br>MACD_12_26_9=%{x}<br>MACDh_12_26_9=%{y}<br>Close=%{customdata[1]}<extra></extra>",
         "ids": [
          "TIDLOR.BK"
         ],
         "legendgroup": "TIDLOR.BK",
         "marker": {
          "color": "#FFA15A",
          "size": 10,
          "symbol": "circle"
         },
         "mode": "markers+text",
         "name": "TIDLOR.BK",
         "orientation": "v",
         "showlegend": true,
         "text": [
          "TIDLOR.BK"
         ],
         "textposition": "top center",
         "type": "scatter",
         "x": [
          0.7300509139004241
         ],
         "xaxis": "x",
         "y": [
          0.04609832292540983
         ],
         "yaxis": "y"
        },
        {
         "customdata": [
          [
           "TISCO.BK",
           98.75
          ]
         ],
         "hovertemplate": "Stock=%{customdata[0]}<br>Date=2022-12-19<br>MACD_12_26_9=%{x}<br>MACDh_12_26_9=%{y}<br>Close=%{customdata[1]}<extra></extra>",
         "ids": [
          "TISCO.BK"
         ],
         "legendgroup": "TISCO.BK",
         "marker": {
          "color": "#19d3f3",
          "size": 10,
          "symbol": "circle"
         },
         "mode": "markers+text",
         "name": "TISCO.BK",
         "orientation": "v",
         "showlegend": true,
         "text": [
          "TISCO.BK"
         ],
         "textposition": "top center",
         "type": "scatter",
         "x": [
          0.7032529165578296
         ],
         "xaxis": "x",
         "y": [
          0.07994637618705103
         ],
         "yaxis": "y"
        },
        {
         "customdata": [
          [
           "TOP.BK",
           53.75
          ]
         ],
         "hovertemplate": "Stock=%{customdata[0]}<br>Date=2022-12-19<br>MACD_12_26_9=%{x}<br>MACDh_12_26_9=%{y}<br>Close=%{customdata[1]}<extra></extra>",
         "ids": [
          "TOP.BK"
         ],
         "legendgroup": "TOP.BK",
         "marker": {
          "color": "#FF6692",
          "size": 10,
          "symbol": "circle"
         },
         "mode": "markers+text",
         "name": "TOP.BK",
         "orientation": "v",
         "showlegend": true,
         "text": [
          "TOP.BK"
         ],
         "textposition": "top center",
         "type": "scatter",
         "x": [
          -0.09920874800496193
         ],
         "xaxis": "x",
         "y": [
          -0.1624677590222555
         ],
         "yaxis": "y"
        },
        {
         "customdata": [
          [
           "TRUE.BK",
           4.78000020980835
          ]
         ],
         "hovertemplate": "Stock=%{customdata[0]}<br>Date=2022-12-19<br>MACD_12_26_9=%{x}<br>MACDh_12_26_9=%{y}<br>Close=%{customdata[1]}<extra></extra>",
         "ids": [
          "TRUE.BK"
         ],
         "legendgroup": "TRUE.BK",
         "marker": {
          "color": "#B6E880",
          "size": 10,
          "symbol": "circle"
         },
         "mode": "markers+text",
         "name": "TRUE.BK",
         "orientation": "v",
         "showlegend": true,
         "text": [
          "TRUE.BK"
         ],
         "textposition": "top center",
         "type": "scatter",
         "x": [
          -0.033304461482841496
         ],
         "xaxis": "x",
         "y": [
          0.028491892169314817
         ],
         "yaxis": "y"
        },
        {
         "customdata": [
          [
           "TTB.BK",
           1.350000023841858
          ]
         ],
         "hovertemplate": "Stock=%{customdata[0]}<br>Date=2022-12-19<br>MACD_12_26_9=%{x}<br>MACDh_12_26_9=%{y}<br>Close=%{customdata[1]}<extra></extra>",
         "ids": [
          "TTB.BK"
         ],
         "legendgroup": "TTB.BK",
         "marker": {
          "color": "#FF97FF",
          "size": 10,
          "symbol": "circle"
         },
         "mode": "markers+text",
         "name": "TTB.BK",
         "orientation": "v",
         "showlegend": true,
         "text": [
          "TTB.BK"
         ],
         "textposition": "top center",
         "type": "scatter",
         "x": [
          0.005475022490253778
         ],
         "xaxis": "x",
         "y": [
          -0.005702678317040173
         ],
         "yaxis": "y"
        },
        {
         "customdata": [
          [
           "TU.BK",
           17
          ]
         ],
         "hovertemplate": "Stock=%{customdata[0]}<br>Date=2022-12-19<br>MACD_12_26_9=%{x}<br>MACDh_12_26_9=%{y}<br>Close=%{customdata[1]}<extra></extra>",
         "ids": [
          "TU.BK"
         ],
         "legendgroup": "TU.BK",
         "marker": {
          "color": "#FECB52",
          "size": 10,
          "symbol": "circle"
         },
         "mode": "markers+text",
         "name": "TU.BK",
         "orientation": "v",
         "showlegend": true,
         "text": [
          "TU.BK"
         ],
         "textposition": "top center",
         "type": "scatter",
         "x": [
          -0.20348724345209135
         ],
         "xaxis": "x",
         "y": [
          0.019995028771683326
         ],
         "yaxis": "y"
        }
       ],
       "frames": [
        {
         "data": [
          {
           "customdata": [
            [
             "ADVANC.BK",
             186
            ]
           ],
           "hovertemplate": "Stock=%{customdata[0]}<br>Date=2022-12-19<br>MACD_12_26_9=%{x}<br>MACDh_12_26_9=%{y}<br>Close=%{customdata[1]}<extra></extra>",
           "ids": [
            "ADVANC.BK"
           ],
           "legendgroup": "ADVANC.BK",
           "marker": {
            "color": "#636efa",
            "symbol": "circle"
           },
           "mode": "markers+text",
           "name": "ADVANC.BK",
           "orientation": "v",
           "showlegend": true,
           "text": [
            "ADVANC.BK"
           ],
           "type": "scatter",
           "x": [
            -0.8740443236626163
           ],
           "xaxis": "x",
           "y": [
            -0.2375768703229253
           ],
           "yaxis": "y"
          },
          {
           "customdata": [
            [
             "AOT.BK",
             73.75
            ]
           ],
           "hovertemplate": "Stock=%{customdata[0]}<br>Date=2022-12-19<br>MACD_12_26_9=%{x}<br>MACDh_12_26_9=%{y}<br>Close=%{customdata[1]}<extra></extra>",
           "ids": [
            "AOT.BK"
           ],
           "legendgroup": "AOT.BK",
           "marker": {
            "color": "#EF553B",
            "symbol": "circle"
           },
           "mode": "markers+text",
           "name": "AOT.BK",
           "orientation": "v",
           "showlegend": true,
           "text": [
            "AOT.BK"
           ],
           "type": "scatter",
           "x": [
            -0.10955670819491559
           ],
           "xaxis": "x",
           "y": [
            -0.11138726550385065
           ],
           "yaxis": "y"
          },
          {
           "customdata": [
            [
             "AWC.BK",
             6.199999809265137
            ]
           ],
           "hovertemplate": "Stock=%{customdata[0]}<br>Date=2022-12-19<br>MACD_12_26_9=%{x}<br>MACDh_12_26_9=%{y}<br>Close=%{customdata[1]}<extra></extra>",
           "ids": [
            "AWC.BK"
           ],
           "legendgroup": "AWC.BK",
           "marker": {
            "color": "#00cc96",
            "symbol": "circle"
           },
           "mode": "markers+text",
           "name": "AWC.BK",
           "orientation": "v",
           "showlegend": true,
           "text": [
            "AWC.BK"
           ],
           "type": "scatter",
           "x": [
            0.04409449588404524
           ],
           "xaxis": "x",
           "y": [
            -0.015926403733052416
           ],
           "yaxis": "y"
          },
          {
           "customdata": [
            [
             "BANPU.BK",
             13.5
            ]
           ],
           "hovertemplate": "Stock=%{customdata[0]}<br>Date=2022-12-19<br>MACD_12_26_9=%{x}<br>MACDh_12_26_9=%{y}<br>Close=%{customdata[1]}<extra></extra>",
           "ids": [
            "BANPU.BK"
           ],
           "legendgroup": "BANPU.BK",
           "marker": {
            "color": "#ab63fa",
            "symbol": "circle"
           },
           "mode": "markers+text",
           "name": "BANPU.BK",
           "orientation": "v",
           "showlegend": true,
           "text": [
            "BANPU.BK"
           ],
           "type": "scatter",
           "x": [
            0.22375570779848175
           ],
           "xaxis": "x",
           "y": [
            0.032918730223258
           ],
           "yaxis": "y"
          },
          {
           "customdata": [
            [
             "BBL.BK",
             143.5
            ]
           ],
           "hovertemplate": "Stock=%{customdata[0]}<br>Date=2022-12-19<br>MACD_12_26_9=%{x}<br>MACDh_12_26_9=%{y}<br>Close=%{customdata[1]}<extra></extra>",
           "ids": [
            "BBL.BK"
           ],
           "legendgroup": "BBL.BK",
           "marker": {
            "color": "#FFA15A",
            "symbol": "circle"
           },
           "mode": "markers+text",
           "name": "BBL.BK",
           "orientation": "v",
           "showlegend": true,
           "text": [
            "BBL.BK"
           ],
           "type": "scatter",
           "x": [
            0.11157327947796603
           ],
           "xaxis": "x",
           "y": [
            -0.12543005216587427
           ],
           "yaxis": "y"
          },
          {
           "customdata": [
            [
             "BDMS.BK",
             28.25
            ]
           ],
           "hovertemplate": "Stock=%{customdata[0]}<br>Date=2022-12-19<br>MACD_12_26_9=%{x}<br>MACDh_12_26_9=%{y}<br>Close=%{customdata[1]}<extra></extra>",
           "ids": [
            "BDMS.BK"
           ],
           "legendgroup": "BDMS.BK",
           "marker": {
            "color": "#19d3f3",
            "symbol": "circle"
           },
           "mode": "markers+text",
           "name": "BDMS.BK",
           "orientation": "v",
           "showlegend": true,
           "text": [
            "BDMS.BK"
           ],
           "type": "scatter",
           "x": [
            -0.4198598399274829
           ],
           "xaxis": "x",
           "y": [
            -0.09495853470287219
           ],
           "yaxis": "y"
          },
          {
           "customdata": [
            [
             "BEM.BK",
             9.649999618530273
            ]
           ],
           "hovertemplate": "Stock=%{customdata[0]}<br>Date=2022-12-19<br>MACD_12_26_9=%{x}<br>MACDh_12_26_9=%{y}<br>Close=%{customdata[1]}<extra></extra>",
           "ids": [
            "BEM.BK"
           ],
           "legendgroup": "BEM.BK",
           "marker": {
            "color": "#FF6692",
            "symbol": "circle"
           },
           "mode": "markers+text",
           "name": "BEM.BK",
           "orientation": "v",
           "showlegend": true,
           "text": [
            "BEM.BK"
           ],
           "type": "scatter",
           "x": [
            0.08828342270299849
           ],
           "xaxis": "x",
           "y": [
            0.02634246158393414
           ],
           "yaxis": "y"
          },
          {
           "customdata": [
            [
             "BGRIM.BK",
             39.5
            ]
           ],
           "hovertemplate": "Stock=%{customdata[0]}<br>Date=2022-12-19<br>MACD_12_26_9=%{x}<br>MACDh_12_26_9=%{y}<br>Close=%{customdata[1]}<extra></extra>",
           "ids": [
            "BGRIM.BK"
           ],
           "legendgroup": "BGRIM.BK",
           "marker": {
            "color": "#B6E880",
            "symbol": "circle"
           },
           "mode": "markers+text",
           "name": "BGRIM.BK",
           "orientation": "v",
           "showlegend": true,
           "text": [
            "BGRIM.BK"
           ],
           "type": "scatter",
           "x": [
            0.9742197215130801
           ],
           "xaxis": "x",
           "y": [
            0.10541310435036932
           ],
           "yaxis": "y"
          },
          {
           "customdata": [
            [
             "BH.BK",
             212
            ]
           ],
           "hovertemplate": "Stock=%{customdata[0]}<br>Date=2022-12-19<br>MACD_12_26_9=%{x}<br>MACDh_12_26_9=%{y}<br>Close=%{customdata[1]}<extra></extra>",
           "ids": [
            "BH.BK"
           ],
           "legendgroup": "BH.BK",
           "marker": {
            "color": "#FF97FF",
            "symbol": "circle"
           },
           "mode": "markers+text",
           "name": "BH.BK",
           "orientation": "v",
           "showlegend": true,
           "text": [
            "BH.BK"
           ],
           "type": "scatter",
           "x": [
            -3.40867867241883
           ],
           "xaxis": "x",
           "y": [
            -0.26864703072965224
           ],
           "yaxis": "y"
          },
          {
           "customdata": [
            [
             "BLA.BK",
             29.25
            ]
           ],
           "hovertemplate": "Stock=%{customdata[0]}<br>Date=2022-12-19<br>MACD_12_26_9=%{x}<br>MACDh_12_26_9=%{y}<br>Close=%{customdata[1]}<extra></extra>",
           "ids": [
            "BLA.BK"
           ],
           "legendgroup": "BLA.BK",
           "marker": {
            "color": "#FECB52",
            "symbol": "circle"
           },
           "mode": "markers+text",
           "name": "BLA.BK",
           "orientation": "v",
           "showlegend": true,
           "text": [
            "BLA.BK"
           ],
           "type": "scatter",
           "x": [
            -0.6131550272474016
           ],
           "xaxis": "x",
           "y": [
            0.0880945983263628
           ],
           "yaxis": "y"
          },
          {
           "customdata": [
            [
             "BTS.BK",
             8.300000190734863
            ]
           ],
           "hovertemplate": "Stock=%{customdata[0]}<br>Date=2022-12-19<br>MACD_12_26_9=%{x}<br>MACDh_12_26_9=%{y}<br>Close=%{customdata[1]}<extra></extra>",
           "ids": [
            "BTS.BK"
           ],
           "legendgroup": "BTS.BK",
           "marker": {
            "color": "#636efa",
            "symbol": "circle"
           },
           "mode": "markers+text",
           "name": "BTS.BK",
           "orientation": "v",
           "showlegend": true,
           "text": [
            "BTS.BK"
           ],
           "type": "scatter",
           "x": [
            0.01128938426655779
           ],
           "xaxis": "x",
           "y": [
            0.002614578447695236
           ],
           "yaxis": "y"
          },
          {
           "customdata": [
            [
             "CBG.BK",
             96.25
            ]
           ],
           "hovertemplate": "Stock=%{customdata[0]}<br>Date=2022-12-19<br>MACD_12_26_9=%{x}<br>MACDh_12_26_9=%{y}<br>Close=%{customdata[1]}<extra></extra>",
           "ids": [
            "CBG.BK"
           ],
           "legendgroup": "CBG.BK",
           "marker": {
            "color": "#EF553B",
            "symbol": "circle"
           },
           "mode": "markers+text",
           "name": "CBG.BK",
           "orientation": "v",
           "showlegend": true,
           "text": [
            "CBG.BK"
           ],
           "type": "scatter",
           "x": [
            0.8373911472210409
           ],
           "xaxis": "x",
           "y": [
            0.00479397182920005
           ],
           "yaxis": "y"
          },
          {
           "customdata": [
            [
             "CPALL.BK",
             66
            ]
           ],
           "hovertemplate": "Stock=%{customdata[0]}<br>Date=2022-12-19<br>MACD_12_26_9=%{x}<br>MACDh_12_26_9=%{y}<br>Close=%{customdata[1]}<extra></extra>",
           "ids": [
            "CPALL.BK"
           ],
           "legendgroup": "CPALL.BK",
           "marker": {
            "color": "#00cc96",
            "symbol": "circle"
           },
           "mode": "markers+text",
           "name": "CPALL.BK",
           "orientation": "v",
           "showlegend": true,
           "text": [
            "CPALL.BK"
           ],
           "type": "scatter",
           "x": [
            1.2675094512355258
           ],
           "xaxis": "x",
           "y": [
            0.019350969062511103
           ],
           "yaxis": "y"
          },
          {
           "customdata": [
            [
             "CPF.BK",
             24.100000381469727
            ]
           ],
           "hovertemplate": "Stock=%{customdata[0]}<br>Date=2022-12-19<br>MACD_12_26_9=%{x}<br>MACDh_12_26_9=%{y}<br>Close=%{customdata[1]}<extra></extra>",
           "ids": [
            "CPF.BK"
           ],
           "legendgroup": "CPF.BK",
           "marker": {
            "color": "#ab63fa",
            "symbol": "circle"
           },
           "mode": "markers+text",
           "name": "CPF.BK",
           "orientation": "v",
           "showlegend": true,
           "text": [
            "CPF.BK"
           ],
           "type": "scatter",
           "x": [
            -0.16274640302310672
           ],
           "xaxis": "x",
           "y": [
            0.10134293437398612
           ],
           "yaxis": "y"
          },
          {
           "customdata": [
            [
             "CPN.BK",
             71
            ]
           ],
           "hovertemplate": "Stock=%{customdata[0]}<br>Date=2022-12-19<br>MACD_12_26_9=%{x}<br>MACDh_12_26_9=%{y}<br>Close=%{customdata[1]}<extra></extra>",
           "ids": [
            "CPN.BK"
           ],
           "legendgroup": "CPN.BK",
           "marker": {
            "color": "#FFA15A",
            "symbol": "circle"
           },
           "mode": "markers+text",
           "name": "CPN.BK",
           "orientation": "v",
           "showlegend": true,
           "text": [
            "CPN.BK"
           ],
           "type": "scatter",
           "x": [
            0.5414261188554548
           ],
           "xaxis": "x",
           "y": [
            -0.1114211736255013
           ],
           "yaxis": "y"
          },
          {
           "customdata": [
            [
             "CRC.BK",
             45
            ]
           ],
           "hovertemplate": "Stock=%{customdata[0]}<br>Date=2022-12-19<br>MACD_12_26_9=%{x}<br>MACDh_12_26_9=%{y}<br>Close=%{customdata[1]}<extra></extra>",
           "ids": [
            "CRC.BK"
           ],
           "legendgroup": "CRC.BK",
           "marker": {
            "color": "#19d3f3",
            "symbol": "circle"
           },
           "mode": "markers+text",
           "name": "CRC.BK",
           "orientation": "v",
           "showlegend": true,
           "text": [
            "CRC.BK"
           ],
           "type": "scatter",
           "x": [
            0.7241729747791297
           ],
           "xaxis": "x",
           "y": [
            0.039780867141739895
           ],
           "yaxis": "y"
          },
          {
           "customdata": [
            [
             "DTAC.BK",
             44.5
            ]
           ],
           "hovertemplate": "Stock=%{customdata[0]}<br>Date=2022-12-19<br>MACD_12_26_9=%{x}<br>MACDh_12_26_9=%{y}<br>Close=%{customdata[1]}<extra></extra>",
           "ids": [
            "DTAC.BK"
           ],
           "legendgroup": "DTAC.BK",
           "marker": {
            "color": "#FF6692",
            "symbol": "circle"
           },
           "mode": "markers+text",
           "name": "DTAC.BK",
           "orientation": "v",
           "showlegend": true,
           "text": [
            "DTAC.BK"
           ],
           "type": "scatter",
           "x": [
            -0.07881414295259503
           ],
           "xaxis": "x",
           "y": [
            0.31854675775578656
           ],
           "yaxis": "y"
          },
          {
           "customdata": [
            [
             "EA.BK",
             96
            ]
           ],
           "hovertemplate": "Stock=%{customdata[0]}<br>Date=2022-12-19<br>MACD_12_26_9=%{x}<br>MACDh_12_26_9=%{y}<br>Close=%{customdata[1]}<extra></extra>",
           "ids": [
            "EA.BK"
           ],
           "legendgroup": "EA.BK",
           "marker": {
            "color": "#B6E880",
            "symbol": "circle"
           },
           "mode": "markers+text",
           "name": "EA.BK",
           "orientation": "v",
           "showlegend": true,
           "text": [
            "EA.BK"
           ],
           "type": "scatter",
           "x": [
            0.2792576448187418
           ],
           "xaxis": "x",
           "y": [
            -0.18153503138882493
           ],
           "yaxis": "y"
          },
          {
           "customdata": [
            [
             "EGCO.BK",
             169.5
            ]
           ],
           "hovertemplate": "Stock=%{customdata[0]}<br>Date=2022-12-19<br>MACD_12_26_9=%{x}<br>MACDh_12_26_9=%{y}<br>Close=%{customdata[1]}<extra></extra>",
           "ids": [
            "EGCO.BK"
           ],
           "legendgroup": "EGCO.BK",
           "marker": {
            "color": "#FF97FF",
            "symbol": "circle"
           },
           "mode": "markers+text",
           "name": "EGCO.BK",
           "orientation": "v",
           "showlegend": true,
           "text": [
            "EGCO.BK"
           ],
           "type": "scatter",
           "x": [
            -0.16866664470191495
           ],
           "xaxis": "x",
           "y": [
            -0.09972846095846394
           ],
           "yaxis": "y"
          },
          {
           "customdata": [
            [
             "GLOBAL.BK",
             20.899999618530273
            ]
           ],
           "hovertemplate": "Stock=%{customdata[0]}<br>Date=2022-12-19<br>MACD_12_26_9=%{x}<br>MACDh_12_26_9=%{y}<br>Close=%{customdata[1]}<extra></extra>",
           "ids": [
            "GLOBAL.BK"
           ],
           "legendgroup": "GLOBAL.BK",
           "marker": {
            "color": "#FECB52",
            "symbol": "circle"
           },
           "mode": "markers+text",
           "name": "GLOBAL.BK",
           "orientation": "v",
           "showlegend": true,
           "text": [
            "GLOBAL.BK"
           ],
           "type": "scatter",
           "x": [
            0.08942500434797296
           ],
           "xaxis": "x",
           "y": [
            0.09782415018919598
           ],
           "yaxis": "y"
          },
          {
           "customdata": [
            [
             "GPSC.BK",
             72.5
            ]
           ],
           "hovertemplate": "Stock=%{customdata[0]}<br>Date=2022-12-19<br>MACD_12_26_9=%{x}<br>MACDh_12_26_9=%{y}<br>Close=%{customdata[1]}<extra></extra>",
           "ids": [
            "GPSC.BK"
           ],
           "legendgroup": "GPSC.BK",
           "marker": {
            "color": "#636efa",
            "symbol": "circle"
           },
           "mode": "markers+text",
           "name": "GPSC.BK",
           "orientation": "v",
           "showlegend": true,
           "text": [
            "GPSC.BK"
           ],
           "type": "scatter",
           "x": [
            1.633796286399317
           ],
           "xaxis": "x",
           "y": [
            0.16741910795563197
           ],
           "yaxis": "y"
          },
          {
           "customdata": [
            [
             "GULF.BK",
             54.25
            ]
           ],
           "hovertemplate": "Stock=%{customdata[0]}<br>Date=2022-12-19<br>MACD_12_26_9=%{x}<br>MACDh_12_26_9=%{y}<br>Close=%{customdata[1]}<extra></extra>",
           "ids": [
            "GULF.BK"
           ],
           "legendgroup": "GULF.BK",
           "marker": {
            "color": "#EF553B",
            "symbol": "circle"
           },
           "mode": "markers+text",
           "name": "GULF.BK",
           "orientation": "v",
           "showlegend": true,
           "text": [
            "GULF.BK"
           ],
           "type": "scatter",
           "x": [
            0.7276800059825277
           ],
           "xaxis": "x",
           "y": [
            0.09208047153867283
           ],
           "yaxis": "y"
          },
          {
           "customdata": [
            [
             "HMPRO.BK",
             15.199999809265137
            ]
           ],
           "hovertemplate": "Stock=%{customdata[0]}<br>Date=2022-12-19<br>MACD_12_26_9=%{x}<br>MACDh_12_26_9=%{y}<br>Close=%{customdata[1]}<extra></extra>",
           "ids": [
            "HMPRO.BK"
           ],
           "legendgroup": "HMPRO.BK",
           "marker": {
            "color": "#00cc96",
            "symbol": "circle"
           },
           "mode": "markers+text",
           "name": "HMPRO.BK",
           "orientation": "v",
           "showlegend": true,
           "text": [
            "HMPRO.BK"
           ],
           "type": "scatter",
           "x": [
            0.14515540057494114
           ],
           "xaxis": "x",
           "y": [
            0.029847307654127714
           ],
           "yaxis": "y"
          },
          {
           "customdata": [
            [
             "INTUCH.BK",
             75.75
            ]
           ],
           "hovertemplate": "Stock=%{customdata[0]}<br>Date=2022-12-19<br>MACD_12_26_9=%{x}<br>MACDh_12_26_9=%{y}<br>Close=%{customdata[1]}<extra></extra>",
           "ids": [
            "INTUCH.BK"
           ],
           "legendgroup": "INTUCH.BK",
           "marker": {
            "color": "#ab63fa",
            "symbol": "circle"
           },
           "mode": "markers+text",
           "name": "INTUCH.BK",
           "orientation": "v",
           "showlegend": true,
           "text": [
            "INTUCH.BK"
           ],
           "type": "scatter",
           "x": [
            0.8020696898758075
           ],
           "xaxis": "x",
           "y": [
            0.15053568049465393
           ],
           "yaxis": "y"
          },
          {
           "customdata": [
            [
             "IRPC.BK",
             2.880000114440918
            ]
           ],
           "hovertemplate": "Stock=%{customdata[0]}<br>Date=2022-12-19<br>MACD_12_26_9=%{x}<br>MACDh_12_26_9=%{y}<br>Close=%{customdata[1]}<extra></extra>",
           "ids": [
            "IRPC.BK"
           ],
           "legendgroup": "IRPC.BK",
           "marker": {
            "color": "#FFA15A",
            "symbol": "circle"
           },
           "mode": "markers+text",
           "name": "IRPC.BK",
           "orientation": "v",
           "showlegend": true,
           "text": [
            "IRPC.BK"
           ],
           "type": "scatter",
           "x": [
            -0.043833217933652247
           ],
           "xaxis": "x",
           "y": [
            -0.010560402403557365
           ],
           "yaxis": "y"
          },
          {
           "customdata": [
            [
             "IVL.BK",
             40
            ]
           ],
           "hovertemplate": "Stock=%{customdata[0]}<br>Date=2022-12-19<br>MACD_12_26_9=%{x}<br>MACDh_12_26_9=%{y}<br>Close=%{customdata[1]}<extra></extra>",
           "ids": [
            "IVL.BK"
           ],
           "legendgroup": "IVL.BK",
           "marker": {
            "color": "#19d3f3",
            "symbol": "circle"
           },
           "mode": "markers+text",
           "name": "IVL.BK",
           "orientation": "v",
           "showlegend": true,
           "text": [
            "IVL.BK"
           ],
           "type": "scatter",
           "x": [
            -0.48733503990550986
           ],
           "xaxis": "x",
           "y": [
            -0.22139363281868618
           ],
           "yaxis": "y"
          },
          {
           "customdata": [
            [
             "JMART.BK",
             41
            ]
           ],
           "hovertemplate": "Stock=%{customdata[0]}<br>Date=2022-12-19<br>MACD_12_26_9=%{x}<br>MACDh_12_26_9=%{y}<br>Close=%{customdata[1]}<extra></extra>",
           "ids": [
            "JMART.BK"
           ],
           "legendgroup": "JMART.BK",
           "marker": {
            "color": "#FF6692",
            "symbol": "circle"
           },
           "mode": "markers+text",
           "name": "JMART.BK",
           "orientation": "v",
           "showlegend": true,
           "text": [
            "JMART.BK"
           ],
           "type": "scatter",
           "x": [
            -1.092461993000292
           ],
           "xaxis": "x",
           "y": [
            -0.12164667248845173
           ],
           "yaxis": "y"
          },
          {
           "customdata": [
            [
             "JMT.BK",
             67
            ]
           ],
           "hovertemplate": "Stock=%{customdata[0]}<br>Date=2022-12-19<br>MACD_12_26_9=%{x}<br>MACDh_12_26_9=%{y}<br>Close=%{customdata[1]}<extra></extra>",
           "ids": [
            "JMT.BK"
           ],
           "legendgroup": "JMT.BK",
           "marker": {
            "color": "#B6E880",
            "symbol": "circle"
           },
           "mode": "markers+text",
           "name": "JMT.BK",
           "orientation": "v",
           "showlegend": true,
           "text": [
            "JMT.BK"
           ],
           "type": "scatter",
           "x": [
            0.6095786440846211
           ],
           "xaxis": "x",
           "y": [
            -0.1114670364861069
           ],
           "yaxis": "y"
          },
          {
           "customdata": [
            [
             "KBANK.BK",
             144
            ]
           ],
           "hovertemplate": "Stock=%{customdata[0]}<br>Date=2022-12-19<br>MACD_12_26_9=%{x}<br>MACDh_12_26_9=%{y}<br>Close=%{customdata[1]}<extra></extra>",
           "ids": [
            "KBANK.BK"
           ],
           "legendgroup": "KBANK.BK",
           "marker": {
            "color": "#FF97FF",
            "symbol": "circle"
           },
           "mode": "markers+text",
           "name": "KBANK.BK",
           "orientation": "v",
           "showlegend": true,
           "text": [
            "KBANK.BK"
           ],
           "type": "scatter",
           "x": [
            -0.5241713447174732
           ],
           "xaxis": "x",
           "y": [
            0.15269079779663475
           ],
           "yaxis": "y"
          },
          {
           "customdata": [
            [
             "KCE.BK",
             47.5
            ]
           ],
           "hovertemplate": "Stock=%{customdata[0]}<br>Date=2022-12-19<br>MACD_12_26_9=%{x}<br>MACDh_12_26_9=%{y}<br>Close=%{customdata[1]}<extra></extra>",
           "ids": [
            "KCE.BK"
           ],
           "legendgroup": "KCE.BK",
           "marker": {
            "color": "#FECB52",
            "symbol": "circle"
           },
           "mode": "markers+text",
           "name": "KCE.BK",
           "orientation": "v",
           "showlegend": true,
           "text": [
            "KCE.BK"
           ],
           "type": "scatter",
           "x": [
            0.4178337311385292
           ],
           "xaxis": "x",
           "y": [
            -0.2884581736385643
           ],
           "yaxis": "y"
          },
          {
           "customdata": [
            [
             "KTB.BK",
             17.799999237060547
            ]
           ],
           "hovertemplate": "Stock=%{customdata[0]}<br>Date=2022-12-19<br>MACD_12_26_9=%{x}<br>MACDh_12_26_9=%{y}<br>Close=%{customdata[1]}<extra></extra>",
           "ids": [
            "KTB.BK"
           ],
           "legendgroup": "KTB.BK",
           "marker": {
            "color": "#636efa",
            "symbol": "circle"
           },
           "mode": "markers+text",
           "name": "KTB.BK",
           "orientation": "v",
           "showlegend": true,
           "text": [
            "KTB.BK"
           ],
           "type": "scatter",
           "x": [
            0.07201209515862672
           ],
           "xaxis": "x",
           "y": [
            -0.0033711845219176473
           ],
           "yaxis": "y"
          },
          {
           "customdata": [
            [
             "KTC.BK",
             59.5
            ]
           ],
           "hovertemplate": "Stock=%{customdata[0]}<br>Date=2022-12-19<br>MACD_12_26_9=%{x}<br>MACDh_12_26_9=%{y}<br>Close=%{customdata[1]}<extra></extra>",
           "ids": [
            "KTC.BK"
           ],
           "legendgroup": "KTC.BK",
           "marker": {
            "color": "#EF553B",
            "symbol": "circle"
           },
           "mode": "markers+text",
           "name": "KTC.BK",
           "orientation": "v",
           "showlegend": true,
           "text": [
            "KTC.BK"
           ],
           "type": "scatter",
           "x": [
            0.47322424028519805
           ],
           "xaxis": "x",
           "y": [
            0.06023426162811163
           ],
           "yaxis": "y"
          },
          {
           "customdata": [
            [
             "LH.BK",
             9.800000190734863
            ]
           ],
           "hovertemplate": "Stock=%{customdata[0]}<br>Date=2022-12-19<br>MACD_12_26_9=%{x}<br>MACDh_12_26_9=%{y}<br>Close=%{customdata[1]}<extra></extra>",
           "ids": [
            "LH.BK"
           ],
           "legendgroup": "LH.BK",
           "marker": {
            "color": "#00cc96",
            "symbol": "circle"
           },
           "mode": "markers+text",
           "name": "LH.BK",
           "orientation": "v",
           "showlegend": true,
           "text": [
            "LH.BK"
           ],
           "type": "scatter",
           "x": [
            0.12009869903623205
           ],
           "xaxis": "x",
           "y": [
            0.011832657125327661
           ],
           "yaxis": "y"
          },
          {
           "customdata": [
            [
             "MINT.BK",
             31.25
            ]
           ],
           "hovertemplate": "Stock=%{customdata[0]}<br>Date=2022-12-19<br>MACD_12_26_9=%{x}<br>MACDh_12_26_9=%{y}<br>Close=%{customdata[1]}<extra></extra>",
           "ids": [
            "MINT.BK"
           ],
           "legendgroup": "MINT.BK",
           "marker": {
            "color": "#ab63fa",
            "symbol": "circle"
           },
           "mode": "markers+text",
           "name": "MINT.BK",
           "orientation": "v",
           "showlegend": true,
           "text": [
            "MINT.BK"
           ],
           "type": "scatter",
           "x": [
            0.5295162673926193
           ],
           "xaxis": "x",
           "y": [
            0.02902930981100993
           ],
           "yaxis": "y"
          },
          {
           "customdata": [
            [
             "MTC.BK",
             38.25
            ]
           ],
           "hovertemplate": "Stock=%{customdata[0]}<br>Date=2022-12-19<br>MACD_12_26_9=%{x}<br>MACDh_12_26_9=%{y}<br>Close=%{customdata[1]}<extra></extra>",
           "ids": [
            "MTC.BK"
           ],
           "legendgroup": "MTC.BK",
           "marker": {
            "color": "#FFA15A",
            "symbol": "circle"
           },
           "mode": "markers+text",
           "name": "MTC.BK",
           "orientation": "v",
           "showlegend": true,
           "text": [
            "MTC.BK"
           ],
           "type": "scatter",
           "x": [
            0.5554099111461284
           ],
           "xaxis": "x",
           "y": [
            0.062347477652624717
           ],
           "yaxis": "y"
          },
          {
           "customdata": [
            [
             "OR.BK",
             23.399999618530273
            ]
           ],
           "hovertemplate": "Stock=%{customdata[0]}<br>Date=2022-12-19<br>MACD_12_26_9=%{x}<br>MACDh_12_26_9=%{y}<br>Close=%{customdata[1]}<extra></extra>",
           "ids": [
            "OR.BK"
           ],
           "legendgroup": "OR.BK",
           "marker": {
            "color": "#19d3f3",
            "symbol": "circle"
           },
           "mode": "markers+text",
           "name": "OR.BK",
           "orientation": "v",
           "showlegend": true,
           "text": [
            "OR.BK"
           ],
           "type": "scatter",
           "x": [
            -0.23908608192013503
           ],
           "xaxis": "x",
           "y": [
            -0.05038224900486521
           ],
           "yaxis": "y"
          },
          {
           "customdata": [
            [
             "OSP.BK",
             28.5
            ]
           ],
           "hovertemplate": "Stock=%{customdata[0]}<br>Date=2022-12-19<br>MACD_12_26_9=%{x}<br>MACDh_12_26_9=%{y}<br>Close=%{customdata[1]}<extra></extra>",
           "ids": [
            "OSP.BK"
           ],
           "legendgroup": "OSP.BK",
           "marker": {
            "color": "#FF6692",
            "symbol": "circle"
           },
           "mode": "markers+text",
           "name": "OSP.BK",
           "orientation": "v",
           "showlegend": true,
           "text": [
            "OSP.BK"
           ],
           "type": "scatter",
           "x": [
            0.3352932960613657
           ],
           "xaxis": "x",
           "y": [
            0.00437155721325222
           ],
           "yaxis": "y"
          },
          {
           "customdata": [
            [
             "PTT.BK",
             31.25
            ]
           ],
           "hovertemplate": "Stock=%{customdata[0]}<br>Date=2022-12-19<br>MACD_12_26_9=%{x}<br>MACDh_12_26_9=%{y}<br>Close=%{customdata[1]}<extra></extra>",
           "ids": [
            "PTT.BK"
           ],
           "legendgroup": "PTT.BK",
           "marker": {
            "color": "#B6E880",
            "symbol": "circle"
           },
           "mode": "markers+text",
           "name": "PTT.BK",
           "orientation": "v",
           "showlegend": true,
           "text": [
            "PTT.BK"
           ],
           "type": "scatter",
           "x": [
            -0.8030288972685895
           ],
           "xaxis": "x",
           "y": [
            -0.10508087732810933
           ],
           "yaxis": "y"
          },
          {
           "customdata": [
            [
             "PTTEP.BK",
             166
            ]
           ],
           "hovertemplate": "Stock=%{customdata[0]}<br>Date=2022-12-19<br>MACD_12_26_9=%{x}<br>MACDh_12_26_9=%{y}<br>Close=%{customdata[1]}<extra></extra>",
           "ids": [
            "PTTEP.BK"
           ],
           "legendgroup": "PTTEP.BK",
           "marker": {
            "color": "#FF97FF",
            "symbol": "circle"
           },
           "mode": "markers+text",
           "name": "PTTEP.BK",
           "orientation": "v",
           "showlegend": true,
           "text": [
            "PTTEP.BK"
           ],
           "type": "scatter",
           "x": [
            -3.439423717376087
           ],
           "xaxis": "x",
           "y": [
            -1.9020725066293838
           ],
           "yaxis": "y"
          },
          {
           "customdata": [
            [
             "PTTGC.BK",
             46.5
            ]
           ],
           "hovertemplate": "Stock=%{customdata[0]}<br>Date=2022-12-19<br>MACD_12_26_9=%{x}<br>MACDh_12_26_9=%{y}<br>Close=%{customdata[1]}<extra></extra>",
           "ids": [
            "PTTGC.BK"
           ],
           "legendgroup": "PTTGC.BK",
           "marker": {
            "color": "#FECB52",
            "symbol": "circle"
           },
           "mode": "markers+text",
           "name": "PTTGC.BK",
           "orientation": "v",
           "showlegend": true,
           "text": [
            "PTTGC.BK"
           ],
           "type": "scatter",
           "x": [
            0.2067680761991042
           ],
           "xaxis": "x",
           "y": [
            -0.1465679390306654
           ],
           "yaxis": "y"
          },
          {
           "customdata": [
            [
             "SAWAD.BK",
             48.25
            ]
           ],
           "hovertemplate": "Stock=%{customdata[0]}<br>Date=2022-12-19<br>MACD_12_26_9=%{x}<br>MACDh_12_26_9=%{y}<br>Close=%{customdata[1]}<extra></extra>",
           "ids": [
            "SAWAD.BK"
           ],
           "legendgroup": "SAWAD.BK",
           "marker": {
            "color": "#636efa",
            "symbol": "circle"
           },
           "mode": "markers+text",
           "name": "SAWAD.BK",
           "orientation": "v",
           "showlegend": true,
           "text": [
            "SAWAD.BK"
           ],
           "type": "scatter",
           "x": [
            1.63284597558485
           ],
           "xaxis": "x",
           "y": [
            0.1717476200166712
           ],
           "yaxis": "y"
          },
          {
           "customdata": [
            [
             "SCB.BK",
             103.5
            ]
           ],
           "hovertemplate": "Stock=%{customdata[0]}<br>Date=2022-12-19<br>MACD_12_26_9=%{x}<br>MACDh_12_26_9=%{y}<br>Close=%{customdata[1]}<extra></extra>",
           "ids": [
            "SCB.BK"
           ],
           "legendgroup": "SCB.BK",
           "marker": {
            "color": "#EF553B",
            "symbol": "circle"
           },
           "mode": "markers+text",
           "name": "SCB.BK",
           "orientation": "v",
           "showlegend": true,
           "text": [
            "SCB.BK"
           ],
           "type": "scatter",
           "x": [
            -0.6800666910314703
           ],
           "xaxis": "x",
           "y": [
            -0.09844030858749853
           ],
           "yaxis": "y"
          },
          {
           "customdata": [
            [
             "SCC.BK",
             331
            ]
           ],
           "hovertemplate": "Stock=%{customdata[0]}<br>Date=2022-12-19<br>MACD_12_26_9=%{x}<br>MACDh_12_26_9=%{y}<br>Close=%{customdata[1]}<extra></extra>",
           "ids": [
            "SCC.BK"
           ],
           "legendgroup": "SCC.BK",
           "marker": {
            "color": "#00cc96",
            "symbol": "circle"
           },
           "mode": "markers+text",
           "name": "SCC.BK",
           "orientation": "v",
           "showlegend": true,
           "text": [
            "SCC.BK"
           ],
           "type": "scatter",
           "x": [
            -1.2748866589142835
           ],
           "xaxis": "x",
           "y": [
            -0.6913178257246215
           ],
           "yaxis": "y"
          },
          {
           "customdata": [
            [
             "SCGP.BK",
             56
            ]
           ],
           "hovertemplate": "Stock=%{customdata[0]}<br>Date=2022-12-19<br>MACD_12_26_9=%{x}<br>MACDh_12_26_9=%{y}<br>Close=%{customdata[1]}<extra></extra>",
           "ids": [
            "SCGP.BK"
           ],
           "legendgroup": "SCGP.BK",
           "marker": {
            "color": "#ab63fa",
            "symbol": "circle"
           },
           "mode": "markers+text",
           "name": "SCGP.BK",
           "orientation": "v",
           "showlegend": true,
           "text": [
            "SCGP.BK"
           ],
           "type": "scatter",
           "x": [
            0.4903576215106398
           ],
           "xaxis": "x",
           "y": [
            -0.06770787132284761
           ],
           "yaxis": "y"
          },
          {
           "customdata": [
            [
             "TIDLOR.BK",
             29
            ]
           ],
           "hovertemplate": "Stock=%{customdata[0]}<br>Date=2022-12-19<br>MACD_12_26_9=%{x}<br>MACDh_12_26_9=%{y}<br>Close=%{customdata[1]}<extra></extra>",
           "ids": [
            "TIDLOR.BK"
           ],
           "legendgroup": "TIDLOR.BK",
           "marker": {
            "color": "#FFA15A",
            "symbol": "circle"
           },
           "mode": "markers+text",
           "name": "TIDLOR.BK",
           "orientation": "v",
           "showlegend": true,
           "text": [
            "TIDLOR.BK"
           ],
           "type": "scatter",
           "x": [
            0.7300509139004241
           ],
           "xaxis": "x",
           "y": [
            0.04609832292540983
           ],
           "yaxis": "y"
          },
          {
           "customdata": [
            [
             "TISCO.BK",
             98.75
            ]
           ],
           "hovertemplate": "Stock=%{customdata[0]}<br>Date=2022-12-19<br>MACD_12_26_9=%{x}<br>MACDh_12_26_9=%{y}<br>Close=%{customdata[1]}<extra></extra>",
           "ids": [
            "TISCO.BK"
           ],
           "legendgroup": "TISCO.BK",
           "marker": {
            "color": "#19d3f3",
            "symbol": "circle"
           },
           "mode": "markers+text",
           "name": "TISCO.BK",
           "orientation": "v",
           "showlegend": true,
           "text": [
            "TISCO.BK"
           ],
           "type": "scatter",
           "x": [
            0.7032529165578296
           ],
           "xaxis": "x",
           "y": [
            0.07994637618705103
           ],
           "yaxis": "y"
          },
          {
           "customdata": [
            [
             "TOP.BK",
             53.75
            ]
           ],
           "hovertemplate": "Stock=%{customdata[0]}<br>Date=2022-12-19<br>MACD_12_26_9=%{x}<br>MACDh_12_26_9=%{y}<br>Close=%{customdata[1]}<extra></extra>",
           "ids": [
            "TOP.BK"
           ],
           "legendgroup": "TOP.BK",
           "marker": {
            "color": "#FF6692",
            "symbol": "circle"
           },
           "mode": "markers+text",
           "name": "TOP.BK",
           "orientation": "v",
           "showlegend": true,
           "text": [
            "TOP.BK"
           ],
           "type": "scatter",
           "x": [
            -0.09920874800496193
           ],
           "xaxis": "x",
           "y": [
            -0.1624677590222555
           ],
           "yaxis": "y"
          },
          {
           "customdata": [
            [
             "TRUE.BK",
             4.78000020980835
            ]
           ],
           "hovertemplate": "Stock=%{customdata[0]}<br>Date=2022-12-19<br>MACD_12_26_9=%{x}<br>MACDh_12_26_9=%{y}<br>Close=%{customdata[1]}<extra></extra>",
           "ids": [
            "TRUE.BK"
           ],
           "legendgroup": "TRUE.BK",
           "marker": {
            "color": "#B6E880",
            "symbol": "circle"
           },
           "mode": "markers+text",
           "name": "TRUE.BK",
           "orientation": "v",
           "showlegend": true,
           "text": [
            "TRUE.BK"
           ],
           "type": "scatter",
           "x": [
            -0.033304461482841496
           ],
           "xaxis": "x",
           "y": [
            0.028491892169314817
           ],
           "yaxis": "y"
          },
          {
           "customdata": [
            [
             "TTB.BK",
             1.350000023841858
            ]
           ],
           "hovertemplate": "Stock=%{customdata[0]}<br>Date=2022-12-19<br>MACD_12_26_9=%{x}<br>MACDh_12_26_9=%{y}<br>Close=%{customdata[1]}<extra></extra>",
           "ids": [
            "TTB.BK"
           ],
           "legendgroup": "TTB.BK",
           "marker": {
            "color": "#FF97FF",
            "symbol": "circle"
           },
           "mode": "markers+text",
           "name": "TTB.BK",
           "orientation": "v",
           "showlegend": true,
           "text": [
            "TTB.BK"
           ],
           "type": "scatter",
           "x": [
            0.005475022490253778
           ],
           "xaxis": "x",
           "y": [
            -0.005702678317040173
           ],
           "yaxis": "y"
          },
          {
           "customdata": [
            [
             "TU.BK",
             17
            ]
           ],
           "hovertemplate": "Stock=%{customdata[0]}<br>Date=2022-12-19<br>MACD_12_26_9=%{x}<br>MACDh_12_26_9=%{y}<br>Close=%{customdata[1]}<extra></extra>",
           "ids": [
            "TU.BK"
           ],
           "legendgroup": "TU.BK",
           "marker": {
            "color": "#FECB52",
            "symbol": "circle"
           },
           "mode": "markers+text",
           "name": "TU.BK",
           "orientation": "v",
           "showlegend": true,
           "text": [
            "TU.BK"
           ],
           "type": "scatter",
           "x": [
            -0.20348724345209135
           ],
           "xaxis": "x",
           "y": [
            0.019995028771683326
           ],
           "yaxis": "y"
          }
         ],
         "name": "2022-12-19"
        },
        {
         "data": [
          {
           "customdata": [
            [
             "ADVANC.BK",
             186
            ]
           ],
           "hovertemplate": "Stock=%{customdata[0]}<br>Date=2022-12-20<br>MACD_12_26_9=%{x}<br>MACDh_12_26_9=%{y}<br>Close=%{customdata[1]}<extra></extra>",
           "ids": [
            "ADVANC.BK"
           ],
           "legendgroup": "ADVANC.BK",
           "marker": {
            "color": "#636efa",
            "symbol": "circle"
           },
           "mode": "markers+text",
           "name": "ADVANC.BK",
           "orientation": "v",
           "showlegend": true,
           "text": [
            "ADVANC.BK"
           ],
           "type": "scatter",
           "x": [
            -0.8620874596520878
           ],
           "xaxis": "x",
           "y": [
            -0.18049600504991736
           ],
           "yaxis": "y"
          },
          {
           "customdata": [
            [
             "AOT.BK",
             73.75
            ]
           ],
           "hovertemplate": "Stock=%{customdata[0]}<br>Date=2022-12-20<br>MACD_12_26_9=%{x}<br>MACDh_12_26_9=%{y}<br>Close=%{customdata[1]}<extra></extra>",
           "ids": [
            "AOT.BK"
           ],
           "legendgroup": "AOT.BK",
           "marker": {
            "color": "#EF553B",
            "symbol": "circle"
           },
           "mode": "markers+text",
           "name": "AOT.BK",
           "orientation": "v",
           "showlegend": true,
           "text": [
            "AOT.BK"
           ],
           "type": "scatter",
           "x": [
            -0.11429143505085904
           ],
           "xaxis": "x",
           "y": [
            -0.09289759388783528
           ],
           "yaxis": "y"
          },
          {
           "customdata": [
            [
             "AWC.BK",
             6.150000095367432
            ]
           ],
           "hovertemplate": "Stock=%{customdata[0]}<br>Date=2022-12-20<br>MACD_12_26_9=%{x}<br>MACDh_12_26_9=%{y}<br>Close=%{customdata[1]}<extra></extra>",
           "ids": [
            "AWC.BK"
           ],
           "legendgroup": "AWC.BK",
           "marker": {
            "color": "#00cc96",
            "symbol": "circle"
           },
           "mode": "markers+text",
           "name": "AWC.BK",
           "orientation": "v",
           "showlegend": true,
           "text": [
            "AWC.BK"
           ],
           "type": "scatter",
           "x": [
            0.037177023114034036
           ],
           "xaxis": "x",
           "y": [
            -0.01827510120245089
           ],
           "yaxis": "y"
          },
          {
           "customdata": [
            [
             "BANPU.BK",
             13.600000381469727
            ]
           ],
           "hovertemplate": "Stock=%{customdata[0]}<br>Date=2022-12-20<br>MACD_12_26_9=%{x}<br>MACDh_12_26_9=%{y}<br>Close=%{customdata[1]}<extra></extra>",
           "ids": [
            "BANPU.BK"
           ],
           "legendgroup": "BANPU.BK",
           "marker": {
            "color": "#ab63fa",
            "symbol": "circle"
           },
           "mode": "markers+text",
           "name": "BANPU.BK",
           "orientation": "v",
           "showlegend": true,
           "text": [
            "BANPU.BK"
           ],
           "type": "scatter",
           "x": [
            0.22142820090669169
           ],
           "xaxis": "x",
           "y": [
            0.02447297866517434
           ],
           "yaxis": "y"
          },
          {
           "customdata": [
            [
             "BBL.BK",
             144
            ]
           ],
           "hovertemplate": "Stock=%{customdata[0]}<br>Date=2022-12-20<br>MACD_12_26_9=%{x}<br>MACDh_12_26_9=%{y}<br>Close=%{customdata[1]}<extra></extra>",
           "ids": [
            "BBL.BK"
           ],
           "legendgroup": "BBL.BK",
           "marker": {
            "color": "#FFA15A",
            "symbol": "circle"
           },
           "mode": "markers+text",
           "name": "BBL.BK",
           "orientation": "v",
           "showlegend": true,
           "text": [
            "BBL.BK"
           ],
           "type": "scatter",
           "x": [
            0.14095192772180098
           ],
           "xaxis": "x",
           "y": [
            -0.07684112313763145
           ],
           "yaxis": "y"
          },
          {
           "customdata": [
            [
             "BDMS.BK",
             28
            ]
           ],
           "hovertemplate": "Stock=%{customdata[0]}<br>Date=2022-12-20<br>MACD_12_26_9=%{x}<br>MACDh_12_26_9=%{y}<br>Close=%{customdata[1]}<extra></extra>",
           "ids": [
            "BDMS.BK"
           ],
           "legendgroup": "BDMS.BK",
           "marker": {
            "color": "#19d3f3",
            "symbol": "circle"
           },
           "mode": "markers+text",
           "name": "BDMS.BK",
           "orientation": "v",
           "showlegend": true,
           "text": [
            "BDMS.BK"
           ],
           "type": "scatter",
           "x": [
            -0.42912682744328734
           ],
           "xaxis": "x",
           "y": [
            -0.08338041777494132
           ],
           "yaxis": "y"
          },
          {
           "customdata": [
            [
             "BEM.BK",
             9.600000381469727
            ]
           ],
           "hovertemplate": "Stock=%{customdata[0]}<br>Date=2022-12-20<br>MACD_12_26_9=%{x}<br>MACDh_12_26_9=%{y}<br>Close=%{customdata[1]}<extra></extra>",
           "ids": [
            "BEM.BK"
           ],
           "legendgroup": "BEM.BK",
           "marker": {
            "color": "#FF6692",
            "symbol": "circle"
           },
           "mode": "markers+text",
           "name": "BEM.BK",
           "orientation": "v",
           "showlegend": true,
           "text": [
            "BEM.BK"
           ],
           "type": "scatter",
           "x": [
            0.087579329760608
           ],
           "xaxis": "x",
           "y": [
            0.020510694913234928
           ],
           "yaxis": "y"
          },
          {
           "customdata": [
            [
             "BGRIM.BK",
             39.5
            ]
           ],
           "hovertemplate": "Stock=%{customdata[0]}<br>Date=2022-12-20<br>MACD_12_26_9=%{x}<br>MACDh_12_26_9=%{y}<br>Close=%{customdata[1]}<extra></extra>",
           "ids": [
            "BGRIM.BK"
           ],
           "legendgroup": "BGRIM.BK",
           "marker": {
            "color": "#B6E880",
            "symbol": "circle"
           },
           "mode": "markers+text",
           "name": "BGRIM.BK",
           "orientation": "v",
           "showlegend": true,
           "text": [
            "BGRIM.BK"
           ],
           "type": "scatter",
           "x": [
            0.9944371052568854
           ],
           "xaxis": "x",
           "y": [
            0.10050439047533977
           ],
           "yaxis": "y"
          },
          {
           "customdata": [
            [
             "BH.BK",
             209
            ]
           ],
           "hovertemplate": "Stock=%{customdata[0]}<br>Date=2022-12-20<br>MACD_12_26_9=%{x}<br>MACDh_12_26_9=%{y}<br>Close=%{customdata[1]}<extra></extra>",
           "ids": [
            "BH.BK"
           ],
           "legendgroup": "BH.BK",
           "marker": {
            "color": "#FF97FF",
            "symbol": "circle"
           },
           "mode": "markers+text",
           "name": "BH.BK",
           "orientation": "v",
           "showlegend": true,
           "text": [
            "BH.BK"
           ],
           "type": "scatter",
           "x": [
            -3.51816852752097
           ],
           "xaxis": "x",
           "y": [
            -0.3025095086654339
           ],
           "yaxis": "y"
          },
          {
           "customdata": [
            [
             "BLA.BK",
             28.5
            ]
           ],
           "hovertemplate": "Stock=%{customdata[0]}<br>Date=2022-12-20<br>MACD_12_26_9=%{x}<br>MACDh_12_26_9=%{y}<br>Close=%{customdata[1]}<extra></extra>",
           "ids": [
            "BLA.BK"
           ],
           "legendgroup": "BLA.BK",
           "marker": {
            "color": "#FECB52",
            "symbol": "circle"
           },
           "mode": "markers+text",
           "name": "BLA.BK",
           "orientation": "v",
           "showlegend": true,
           "text": [
            "BLA.BK"
           ],
           "type": "scatter",
           "x": [
            -0.6579736300396704
           ],
           "xaxis": "x",
           "y": [
            0.034620796427275224
           ],
           "yaxis": "y"
          },
          {
           "customdata": [
            [
             "BTS.BK",
             8.25
            ]
           ],
           "hovertemplate": "Stock=%{customdata[0]}<br>Date=2022-12-20<br>MACD_12_26_9=%{x}<br>MACDh_12_26_9=%{y}<br>Close=%{customdata[1]}<extra></extra>",
           "ids": [
            "BTS.BK"
           ],
           "legendgroup": "BTS.BK",
           "marker": {
            "color": "#636efa",
            "symbol": "circle"
           },
           "mode": "markers+text",
           "name": "BTS.BK",
           "orientation": "v",
           "showlegend": true,
           "text": [
            "BTS.BK"
           ],
           "type": "scatter",
           "x": [
            0.007880630776543995
           ],
           "xaxis": "x",
           "y": [
            -0.0006353400338548459
           ],
           "yaxis": "y"
          },
          {
           "customdata": [
            [
             "CBG.BK",
             94.5
            ]
           ],
           "hovertemplate": "Stock=%{customdata[0]}<br>Date=2022-12-20<br>MACD_12_26_9=%{x}<br>MACDh_12_26_9=%{y}<br>Close=%{customdata[1]}<extra></extra>",
           "ids": [
            "CBG.BK"
           ],
           "legendgroup": "CBG.BK",
           "marker": {
            "color": "#EF553B",
            "symbol": "circle"
           },
           "mode": "markers+text",
           "name": "CBG.BK",
           "orientation": "v",
           "showlegend": true,
           "text": [
            "CBG.BK"
           ],
           "type": "scatter",
           "x": [
            0.6741670915050832
           ],
           "xaxis": "x",
           "y": [
            -0.1267440671094061
           ],
           "yaxis": "y"
          },
          {
           "customdata": [
            [
             "CPALL.BK",
             65.25
            ]
           ],
           "hovertemplate": "Stock=%{customdata[0]}<br>Date=2022-12-20<br>MACD_12_26_9=%{x}<br>MACDh_12_26_9=%{y}<br>Close=%{customdata[1]}<extra></extra>",
           "ids": [
            "CPALL.BK"
           ],
           "legendgroup": "CPALL.BK",
           "marker": {
            "color": "#00cc96",
            "symbol": "circle"
           },
           "mode": "markers+text",
           "name": "CPALL.BK",
           "orientation": "v",
           "showlegend": true,
           "text": [
            "CPALL.BK"
           ],
           "type": "scatter",
           "x": [
            1.1944685490205345
           ],
           "xaxis": "x",
           "y": [
            -0.04295194652198431
           ],
           "yaxis": "y"
          },
          {
           "customdata": [
            [
             "CPF.BK",
             24.200000762939453
            ]
           ],
           "hovertemplate": "Stock=%{customdata[0]}<br>Date=2022-12-20<br>MACD_12_26_9=%{x}<br>MACDh_12_26_9=%{y}<br>Close=%{customdata[1]}<extra></extra>",
           "ids": [
            "CPF.BK"
           ],
           "legendgroup": "CPF.BK",
           "marker": {
            "color": "#ab63fa",
            "symbol": "circle"
           },
           "mode": "markers+text",
           "name": "CPF.BK",
           "orientation": "v",
           "showlegend": true,
           "text": [
            "CPF.BK"
           ],
           "type": "scatter",
           "x": [
            -0.1288812971775819
           ],
           "xaxis": "x",
           "y": [
            0.10816643217560876
           ],
           "yaxis": "y"
          },
          {
           "customdata": [
            [
             "CPN.BK",
             69.75
            ]
           ],
           "hovertemplate": "Stock=%{customdata[0]}<br>Date=2022-12-20<br>MACD_12_26_9=%{x}<br>MACDh_12_26_9=%{y}<br>Close=%{customdata[1]}<extra></extra>",
           "ids": [
            "CPN.BK"
           ],
           "legendgroup": "CPN.BK",
           "marker": {
            "color": "#FFA15A",
            "symbol": "circle"
           },
           "mode": "markers+text",
           "name": "CPN.BK",
           "orientation": "v",
           "showlegend": true,
           "text": [
            "CPN.BK"
           ],
           "type": "scatter",
           "x": [
            0.44364056863437895
           ],
           "xaxis": "x",
           "y": [
            -0.16736537907726168
           ],
           "yaxis": "y"
          },
          {
           "customdata": [
            [
             "CRC.BK",
             44.75
            ]
           ],
           "hovertemplate": "Stock=%{customdata[0]}<br>Date=2022-12-20<br>MACD_12_26_9=%{x}<br>MACDh_12_26_9=%{y}<br>Close=%{customdata[1]}<extra></extra>",
           "ids": [
            "CRC.BK"
           ],
           "legendgroup": "CRC.BK",
           "marker": {
            "color": "#19d3f3",
            "symbol": "circle"
           },
           "mode": "markers+text",
           "name": "CRC.BK",
           "orientation": "v",
           "showlegend": true,
           "text": [
            "CRC.BK"
           ],
           "type": "scatter",
           "x": [
            0.7607111181328392
           ],
           "xaxis": "x",
           "y": [
            0.061055208396359584
           ],
           "yaxis": "y"
          },
          {
           "customdata": [
            [
             "DTAC.BK",
             44.5
            ]
           ],
           "hovertemplate": "Stock=%{customdata[0]}<br>Date=2022-12-20<br>MACD_12_26_9=%{x}<br>MACDh_12_26_9=%{y}<br>Close=%{customdata[1]}<extra></extra>",
           "ids": [
            "DTAC.BK"
           ],
           "legendgroup": "DTAC.BK",
           "marker": {
            "color": "#FF6692",
            "symbol": "circle"
           },
           "mode": "markers+text",
           "name": "DTAC.BK",
           "orientation": "v",
           "showlegend": true,
           "text": [
            "DTAC.BK"
           ],
           "type": "scatter",
           "x": [
            0.061462493958060804
           ],
           "xaxis": "x",
           "y": [
            0.3670587157331539
           ],
           "yaxis": "y"
          },
          {
           "customdata": [
            [
             "EA.BK",
             96.25
            ]
           ],
           "hovertemplate": "Stock=%{customdata[0]}<br>Date=2022-12-20<br>MACD_12_26_9=%{x}<br>MACDh_12_26_9=%{y}<br>Close=%{customdata[1]}<extra></extra>",
           "ids": [
            "EA.BK"
           ],
           "legendgroup": "EA.BK",
           "marker": {
            "color": "#B6E880",
            "symbol": "circle"
           },
           "mode": "markers+text",
           "name": "EA.BK",
           "orientation": "v",
           "showlegend": true,
           "text": [
            "EA.BK"
           ],
           "type": "scatter",
           "x": [
            0.2625049176390917
           ],
           "xaxis": "x",
           "y": [
            -0.15863020685478008
           ],
           "yaxis": "y"
          },
          {
           "customdata": [
            [
             "EGCO.BK",
             169
            ]
           ],
           "hovertemplate": "Stock=%{customdata[0]}<br>Date=2022-12-20<br>MACD_12_26_9=%{x}<br>MACDh_12_26_9=%{y}<br>Close=%{customdata[1]}<extra></extra>",
           "ids": [
            "EGCO.BK"
           ],
           "legendgroup": "EGCO.BK",
           "marker": {
            "color": "#FF97FF",
            "symbol": "circle"
           },
           "mode": "markers+text",
           "name": "EGCO.BK",
           "orientation": "v",
           "showlegend": true,
           "text": [
            "EGCO.BK"
           ],
           "type": "scatter",
           "x": [
            -0.22122390508920375
           ],
           "xaxis": "x",
           "y": [
            -0.12182857707660219
           ],
           "yaxis": "y"
          },
          {
           "customdata": [
            [
             "GLOBAL.BK",
             21.200000762939453
            ]
           ],
           "hovertemplate": "Stock=%{customdata[0]}<br>Date=2022-12-20<br>MACD_12_26_9=%{x}<br>MACDh_12_26_9=%{y}<br>Close=%{customdata[1]}<extra></extra>",
           "ids": [
            "GLOBAL.BK"
           ],
           "legendgroup": "GLOBAL.BK",
           "marker": {
            "color": "#FECB52",
            "symbol": "circle"
           },
           "mode": "markers+text",
           "name": "GLOBAL.BK",
           "orientation": "v",
           "showlegend": true,
           "text": [
            "GLOBAL.BK"
           ],
           "type": "scatter",
           "x": [
            0.1762001138605349
           ],
           "xaxis": "x",
           "y": [
            0.14767940776140634
           ],
           "yaxis": "y"
          },
          {
           "customdata": [
            [
             "GPSC.BK",
             71.25
            ]
           ],
           "hovertemplate": "Stock=%{customdata[0]}<br>Date=2022-12-20<br>MACD_12_26_9=%{x}<br>MACDh_12_26_9=%{y}<br>Close=%{customdata[1]}<extra></extra>",
           "ids": [
            "GPSC.BK"
           ],
           "legendgroup": "GPSC.BK",
           "marker": {
            "color": "#636efa",
            "symbol": "circle"
           },
           "mode": "markers+text",
           "name": "GPSC.BK",
           "orientation": "v",
           "showlegend": true,
           "text": [
            "GPSC.BK"
           ],
           "type": "scatter",
           "x": [
            1.5501359507992447
           ],
           "xaxis": "x",
           "y": [
            0.06700701788444774
           ],
           "yaxis": "y"
          },
          {
           "customdata": [
            [
             "GULF.BK",
             53.5
            ]
           ],
           "hovertemplate": "Stock=%{customdata[0]}<br>Date=2022-12-20<br>MACD_12_26_9=%{x}<br>MACDh_12_26_9=%{y}<br>Close=%{customdata[1]}<extra></extra>",
           "ids": [
            "GULF.BK"
           ],
           "legendgroup": "GULF.BK",
           "marker": {
            "color": "#EF553B",
            "symbol": "circle"
           },
           "mode": "markers+text",
           "name": "GULF.BK",
           "orientation": "v",
           "showlegend": true,
           "text": [
            "GULF.BK"
           ],
           "type": "scatter",
           "x": [
            0.6744856087000528
           ],
           "xaxis": "x",
           "y": [
            0.031108859404958333
           ],
           "yaxis": "y"
          },
          {
           "customdata": [
            [
             "HMPRO.BK",
             15
            ]
           ],
           "hovertemplate": "Stock=%{customdata[0]}<br>Date=2022-12-20<br>MACD_12_26_9=%{x}<br>MACDh_12_26_9=%{y}<br>Close=%{customdata[1]}<extra></extra>",
           "ids": [
            "HMPRO.BK"
           ],
           "legendgroup": "HMPRO.BK",
           "marker": {
            "color": "#00cc96",
            "symbol": "circle"
           },
           "mode": "markers+text",
           "name": "HMPRO.BK",
           "orientation": "v",
           "showlegend": true,
           "text": [
            "HMPRO.BK"
           ],
           "type": "scatter",
           "x": [
            0.1504059816639849
           ],
           "xaxis": "x",
           "y": [
            0.02807831099453717
           ],
           "yaxis": "y"
          },
          {
           "customdata": [
            [
             "INTUCH.BK",
             75
            ]
           ],
           "hovertemplate": "Stock=%{customdata[0]}<br>Date=2022-12-20<br>MACD_12_26_9=%{x}<br>MACDh_12_26_9=%{y}<br>Close=%{customdata[1]}<extra></extra>",
           "ids": [
            "INTUCH.BK"
           ],
           "legendgroup": "INTUCH.BK",
           "marker": {
            "color": "#ab63fa",
            "symbol": "circle"
           },
           "mode": "markers+text",
           "name": "INTUCH.BK",
           "orientation": "v",
           "showlegend": true,
           "text": [
            "INTUCH.BK"
           ],
           "type": "scatter",
           "x": [
            0.7677243908079845
           ],
           "xaxis": "x",
           "y": [
            0.09295230514146469
           ],
           "yaxis": "y"
          },
          {
           "customdata": [
            [
             "IRPC.BK",
             2.9000000953674316
            ]
           ],
           "hovertemplate": "Stock=%{customdata[0]}<br>Date=2022-12-20<br>MACD_12_26_9=%{x}<br>MACDh_12_26_9=%{y}<br>Close=%{customdata[1]}<extra></extra>",
           "ids": [
            "IRPC.BK"
           ],
           "legendgroup": "IRPC.BK",
           "marker": {
            "color": "#FFA15A",
            "symbol": "circle"
           },
           "mode": "markers+text",
           "name": "IRPC.BK",
           "orientation": "v",
           "showlegend": true,
           "text": [
            "IRPC.BK"
           ],
           "type": "scatter",
           "x": [
            -0.046349580042321925
           ],
           "xaxis": "x",
           "y": [
            -0.010461411609781632
           ],
           "yaxis": "y"
          },
          {
           "customdata": [
            [
             "IVL.BK",
             39.75
            ]
           ],
           "hovertemplate": "Stock=%{customdata[0]}<br>Date=2022-12-20<br>MACD_12_26_9=%{x}<br>MACDh_12_26_9=%{y}<br>Close=%{customdata[1]}<extra></extra>",
           "ids": [
            "IVL.BK"
           ],
           "legendgroup": "IVL.BK",
           "marker": {
            "color": "#19d3f3",
            "symbol": "circle"
           },
           "mode": "markers+text",
           "name": "IVL.BK",
           "orientation": "v",
           "showlegend": true,
           "text": [
            "IVL.BK"
           ],
           "type": "scatter",
           "x": [
            -0.5290649422206002
           ],
           "xaxis": "x",
           "y": [
            -0.2104988281070212
           ],
           "yaxis": "y"
          },
          {
           "customdata": [
            [
             "JMART.BK",
             40
            ]
           ],
           "hovertemplate": "Stock=%{customdata[0]}<br>Date=2022-12-20<br>MACD_12_26_9=%{x}<br>MACDh_12_26_9=%{y}<br>Close=%{customdata[1]}<extra></extra>",
           "ids": [
            "JMART.BK"
           ],
           "legendgroup": "JMART.BK",
           "marker": {
            "color": "#FF6692",
            "symbol": "circle"
           },
           "mode": "markers+text",
           "name": "JMART.BK",
           "orientation": "v",
           "showlegend": true,
           "text": [
            "JMART.BK"
           ],
           "type": "scatter",
           "x": [
            -1.1745829301097643
           ],
           "xaxis": "x",
           "y": [
            -0.16301408767833925
           ],
           "yaxis": "y"
          },
          {
           "customdata": [
            [
             "JMT.BK",
             66.75
            ]
           ],
           "hovertemplate": "Stock=%{customdata[0]}<br>Date=2022-12-20<br>MACD_12_26_9=%{x}<br>MACDh_12_26_9=%{y}<br>Close=%{customdata[1]}<extra></extra>",
           "ids": [
            "JMT.BK"
           ],
           "legendgroup": "JMT.BK",
           "marker": {
            "color": "#B6E880",
            "symbol": "circle"
           },
           "mode": "markers+text",
           "name": "JMT.BK",
           "orientation": "v",
           "showlegend": true,
           "text": [
            "JMT.BK"
           ],
           "type": "scatter",
           "x": [
            0.4614192421182821
           ],
           "xaxis": "x",
           "y": [
            -0.20770115076195672
           ],
           "yaxis": "y"
          },
          {
           "customdata": [
            [
             "KBANK.BK",
             143
            ]
           ],
           "hovertemplate": "Stock=%{customdata[0]}<br>Date=2022-12-20<br>MACD_12_26_9=%{x}<br>MACDh_12_26_9=%{y}<br>Close=%{customdata[1]}<extra></extra>",
           "ids": [
            "KBANK.BK"
           ],
           "legendgroup": "KBANK.BK",
           "marker": {
            "color": "#FF97FF",
            "symbol": "circle"
           },
           "mode": "markers+text",
           "name": "KBANK.BK",
           "orientation": "v",
           "showlegend": true,
           "text": [
            "KBANK.BK"
           ],
           "type": "scatter",
           "x": [
            -0.5066025261696154
           ],
           "xaxis": "x",
           "y": [
            0.136207693075594
           ],
           "yaxis": "y"
          },
          {
           "customdata": [
            [
             "KCE.BK",
             45.5
            ]
           ],
           "hovertemplate": "Stock=%{customdata[0]}<br>Date=2022-12-20<br>MACD_12_26_9=%{x}<br>MACDh_12_26_9=%{y}<br>Close=%{customdata[1]}<extra></extra>",
           "ids": [
            "KCE.BK"
           ],
           "legendgroup": "KCE.BK",
           "marker": {
            "color": "#FECB52",
            "symbol": "circle"
           },
           "mode": "markers+text",
           "name": "KCE.BK",
           "orientation": "v",
           "showlegend": true,
           "text": [
            "KCE.BK"
           ],
           "type": "scatter",
           "x": [
            0.15405220235736294
           ],
           "xaxis": "x",
           "y": [
            -0.4417917619357844
           ],
           "yaxis": "y"
          },
          {
           "customdata": [
            [
             "KTB.BK",
             17.700000762939453
            ]
           ],
           "hovertemplate": "Stock=%{customdata[0]}<br>Date=2022-12-20<br>MACD_12_26_9=%{x}<br>MACDh_12_26_9=%{y}<br>Close=%{customdata[1]}<extra></extra>",
           "ids": [
            "KTB.BK"
           ],
           "legendgroup": "KTB.BK",
           "marker": {
            "color": "#636efa",
            "symbol": "circle"
           },
           "mode": "markers+text",
           "name": "KTB.BK",
           "orientation": "v",
           "showlegend": true,
           "text": [
            "KTB.BK"
           ],
           "type": "scatter",
           "x": [
            0.0691923883384753
           ],
           "xaxis": "x",
           "y": [
            -0.00495271307365526
           ],
           "yaxis": "y"
          },
          {
           "customdata": [
            [
             "KTC.BK",
             58.75
            ]
           ],
           "hovertemplate": "Stock=%{customdata[0]}<br>Date=2022-12-20<br>MACD_12_26_9=%{x}<br>MACDh_12_26_9=%{y}<br>Close=%{customdata[1]}<extra></extra>",
           "ids": [
            "KTC.BK"
           ],
           "legendgroup": "KTC.BK",
           "marker": {
            "color": "#EF553B",
            "symbol": "circle"
           },
           "mode": "markers+text",
           "name": "KTC.BK",
           "orientation": "v",
           "showlegend": true,
           "text": [
            "KTC.BK"
           ],
           "type": "scatter",
           "x": [
            0.369456032646319
           ],
           "xaxis": "x",
           "y": [
            -0.034827156808613924
           ],
           "yaxis": "y"
          },
          {
           "customdata": [
            [
             "LH.BK",
             9.800000190734863
            ]
           ],
           "hovertemplate": "Stock=%{customdata[0]}<br>Date=2022-12-20<br>MACD_12_26_9=%{x}<br>MACDh_12_26_9=%{y}<br>Close=%{customdata[1]}<extra></extra>",
           "ids": [
            "LH.BK"
           ],
           "legendgroup": "LH.BK",
           "marker": {
            "color": "#00cc96",
            "symbol": "circle"
           },
           "mode": "markers+text",
           "name": "LH.BK",
           "orientation": "v",
           "showlegend": true,
           "text": [
            "LH.BK"
           ],
           "type": "scatter",
           "x": [
            0.1271866885188846
           ],
           "xaxis": "x",
           "y": [
            0.015136517286384168
           ],
           "yaxis": "y"
          },
          {
           "customdata": [
            [
             "MINT.BK",
             31.25
            ]
           ],
           "hovertemplate": "Stock=%{customdata[0]}<br>Date=2022-12-20<br>MACD_12_26_9=%{x}<br>MACDh_12_26_9=%{y}<br>Close=%{customdata[1]}<extra></extra>",
           "ids": [
            "MINT.BK"
           ],
           "legendgroup": "MINT.BK",
           "marker": {
            "color": "#ab63fa",
            "symbol": "circle"
           },
           "mode": "markers+text",
           "name": "MINT.BK",
           "orientation": "v",
           "showlegend": true,
           "text": [
            "MINT.BK"
           ],
           "type": "scatter",
           "x": [
            0.5132184880361166
           ],
           "xaxis": "x",
           "y": [
            0.010185224363605805
           ],
           "yaxis": "y"
          },
          {
           "customdata": [
            [
             "MTC.BK",
             37.25
            ]
           ],
           "hovertemplate": "Stock=%{customdata[0]}<br>Date=2022-12-20<br>MACD_12_26_9=%{x}<br>MACDh_12_26_9=%{y}<br>Close=%{customdata[1]}<extra></extra>",
           "ids": [
            "MTC.BK"
           ],
           "legendgroup": "MTC.BK",
           "marker": {
            "color": "#FFA15A",
            "symbol": "circle"
           },
           "mode": "markers+text",
           "name": "MTC.BK",
           "orientation": "v",
           "showlegend": true,
           "text": [
            "MTC.BK"
           ],
           "type": "scatter",
           "x": [
            0.43303642494142736
           ],
           "xaxis": "x",
           "y": [
            -0.048020806841661046
           ],
           "yaxis": "y"
          },
          {
           "customdata": [
            [
             "OR.BK",
             22.799999237060547
            ]
           ],
           "hovertemplate": "Stock=%{customdata[0]}<br>Date=2022-12-20<br>MACD_12_26_9=%{x}<br>MACDh_12_26_9=%{y}<br>Close=%{customdata[1]}<extra></extra>",
           "ids": [
            "OR.BK"
           ],
           "legendgroup": "OR.BK",
           "marker": {
            "color": "#19d3f3",
            "symbol": "circle"
           },
           "mode": "markers+text",
           "name": "OR.BK",
           "orientation": "v",
           "showlegend": true,
           "text": [
            "OR.BK"
           ],
           "type": "scatter",
           "x": [
            -0.3189930017367004
           ],
           "xaxis": "x",
           "y": [
            -0.10423133505714449
           ],
           "yaxis": "y"
          },
          {
           "customdata": [
            [
             "OSP.BK",
             27.25
            ]
           ],
           "hovertemplate": "Stock=%{customdata[0]}<br>Date=2022-12-20<br>MACD_12_26_9=%{x}<br>MACDh_12_26_9=%{y}<br>Close=%{customdata[1]}<extra></extra>",
           "ids": [
            "OSP.BK"
           ],
           "legendgroup": "OSP.BK",
           "marker": {
            "color": "#FF6692",
            "symbol": "circle"
           },
           "mode": "markers+text",
           "name": "OSP.BK",
           "orientation": "v",
           "showlegend": true,
           "text": [
            "OSP.BK"
           ],
           "type": "scatter",
           "x": [
            0.2126888999242702
           ],
           "xaxis": "x",
           "y": [
            -0.09458627113907464
           ],
           "yaxis": "y"
          },
          {
           "customdata": [
            [
             "PTT.BK",
             31.25
            ]
           ],
           "hovertemplate": "Stock=%{customdata[0]}<br>Date=2022-12-20<br>MACD_12_26_9=%{x}<br>MACDh_12_26_9=%{y}<br>Close=%{customdata[1]}<extra></extra>",
           "ids": [
            "PTT.BK"
           ],
           "legendgroup": "PTT.BK",
           "marker": {
            "color": "#B6E880",
            "symbol": "circle"
           },
           "mode": "markers+text",
           "name": "PTT.BK",
           "orientation": "v",
           "showlegend": true,
           "text": [
            "PTT.BK"
           ],
           "type": "scatter",
           "x": [
            -0.808603218940231
           ],
           "xaxis": "x",
           "y": [
            -0.08852415919980072
           ],
           "yaxis": "y"
          },
          {
           "customdata": [
            [
             "PTTEP.BK",
             166.5
            ]
           ],
           "hovertemplate": "Stock=%{customdata[0]}<br>Date=2022-12-20<br>MACD_12_26_9=%{x}<br>MACDh_12_26_9=%{y}<br>Close=%{customdata[1]}<extra></extra>",
           "ids": [
            "PTTEP.BK"
           ],
           "legendgroup": "PTTEP.BK",
           "marker": {
            "color": "#FF97FF",
            "symbol": "circle"
           },
           "mode": "markers+text",
           "name": "PTTEP.BK",
           "orientation": "v",
           "showlegend": true,
           "text": [
            "PTTEP.BK"
           ],
           "type": "scatter",
           "x": [
            -3.8972707697391797
           ],
           "xaxis": "x",
           "y": [
            -1.8879356471939812
           ],
           "yaxis": "y"
          },
          {
           "customdata": [
            [
             "PTTGC.BK",
             45.75
            ]
           ],
           "hovertemplate": "Stock=%{customdata[0]}<br>Date=2022-12-20<br>MACD_12_26_9=%{x}<br>MACDh_12_26_9=%{y}<br>Close=%{customdata[1]}<extra></extra>",
           "ids": [
            "PTTGC.BK"
           ],
           "legendgroup": "PTTGC.BK",
           "marker": {
            "color": "#FECB52",
            "symbol": "circle"
           },
           "mode": "markers+text",
           "name": "PTTGC.BK",
           "orientation": "v",
           "showlegend": true,
           "text": [
            "PTTGC.BK"
           ],
           "type": "scatter",
           "x": [
            0.12616481308906202
           ],
           "xaxis": "x",
           "y": [
            -0.18173696171256604
           ],
           "yaxis": "y"
          },
          {
           "customdata": [
            [
             "SAWAD.BK",
             47.75
            ]
           ],
           "hovertemplate": "Stock=%{customdata[0]}<br>Date=2022-12-20<br>MACD_12_26_9=%{x}<br>MACDh_12_26_9=%{y}<br>Close=%{customdata[1]}<extra></extra>",
           "ids": [
            "SAWAD.BK"
           ],
           "legendgroup": "SAWAD.BK",
           "marker": {
            "color": "#636efa",
            "symbol": "circle"
           },
           "mode": "markers+text",
           "name": "SAWAD.BK",
           "orientation": "v",
           "showlegend": true,
           "text": [
            "SAWAD.BK"
           ],
           "type": "scatter",
           "x": [
            1.4898740361239007
           ],
           "xaxis": "x",
           "y": [
            0.023020544444577684
           ],
           "yaxis": "y"
          },
          {
           "customdata": [
            [
             "SCB.BK",
             103.5
            ]
           ],
           "hovertemplate": "Stock=%{customdata[0]}<br>Date=2022-12-20<br>MACD_12_26_9=%{x}<br>MACDh_12_26_9=%{y}<br>Close=%{customdata[1]}<extra></extra>",
           "ids": [
            "SCB.BK"
           ],
           "legendgroup": "SCB.BK",
           "marker": {
            "color": "#EF553B",
            "symbol": "circle"
           },
           "mode": "markers+text",
           "name": "SCB.BK",
           "orientation": "v",
           "showlegend": true,
           "text": [
            "SCB.BK"
           ],
           "type": "scatter",
           "x": [
            -0.6540128293231362
           ],
           "xaxis": "x",
           "y": [
            -0.057909157503331476
           ],
           "yaxis": "y"
          },
          {
           "customdata": [
            [
             "SCC.BK",
             332
            ]
           ],
           "hovertemplate": "Stock=%{customdata[0]}<br>Date=2022-12-20<br>MACD_12_26_9=%{x}<br>MACDh_12_26_9=%{y}<br>Close=%{customdata[1]}<extra></extra>",
           "ids": [
            "SCC.BK"
           ],
           "legendgroup": "SCC.BK",
           "marker": {
            "color": "#00cc96",
            "symbol": "circle"
           },
           "mode": "markers+text",
           "name": "SCC.BK",
           "orientation": "v",
           "showlegend": true,
           "text": [
            "SCC.BK"
           ],
           "type": "scatter",
           "x": [
            -1.3114413714105808
           ],
           "xaxis": "x",
           "y": [
            -0.582298030576735
           ],
           "yaxis": "y"
          },
          {
           "customdata": [
            [
             "SCGP.BK",
             55
            ]
           ],
           "hovertemplate": "Stock=%{customdata[0]}<br>Date=2022-12-20<br>MACD_12_26_9=%{x}<br>MACDh_12_26_9=%{y}<br>Close=%{customdata[1]}<extra></extra>",
           "ids": [
            "SCGP.BK"
           ],
           "legendgroup": "SCGP.BK",
           "marker": {
            "color": "#ab63fa",
            "symbol": "circle"
           },
           "mode": "markers+text",
           "name": "SCGP.BK",
           "orientation": "v",
           "showlegend": true,
           "text": [
            "SCGP.BK"
           ],
           "type": "scatter",
           "x": [
            0.3237965818725854
           ],
           "xaxis": "x",
           "y": [
            -0.18741512876872157
           ],
           "yaxis": "y"
          },
          {
           "customdata": [
            [
             "TIDLOR.BK",
             28.5
            ]
           ],
           "hovertemplate": "Stock=%{customdata[0]}<br>Date=2022-12-20<br>MACD_12_26_9=%{x}<br>MACDh_12_26_9=%{y}<br>Close=%{customdata[1]}<extra></extra>",
           "ids": [
            "TIDLOR.BK"
           ],
           "legendgroup": "TIDLOR.BK",
           "marker": {
            "color": "#FFA15A",
            "symbol": "circle"
           },
           "mode": "markers+text",
           "name": "TIDLOR.BK",
           "orientation": "v",
           "showlegend": true,
           "text": [
            "TIDLOR.BK"
           ],
           "type": "scatter",
           "x": [
            0.6455584021903711
           ],
           "xaxis": "x",
           "y": [
            -0.0307153510277145
           ],
           "yaxis": "y"
          },
          {
           "customdata": [
            [
             "TISCO.BK",
             99
            ]
           ],
           "hovertemplate": "Stock=%{customdata[0]}<br>Date=2022-12-20<br>MACD_12_26_9=%{x}<br>MACDh_12_26_9=%{y}<br>Close=%{customdata[1]}<extra></extra>",
           "ids": [
            "TISCO.BK"
           ],
           "legendgroup": "TISCO.BK",
           "marker": {
            "color": "#19d3f3",
            "symbol": "circle"
           },
           "mode": "markers+text",
           "name": "TISCO.BK",
           "orientation": "v",
           "showlegend": true,
           "text": [
            "TISCO.BK"
           ],
           "type": "scatter",
           "x": [
            0.7153695517747849
           ],
           "xaxis": "x",
           "y": [
            0.07365040912320509
           ],
           "yaxis": "y"
          },
          {
           "customdata": [
            [
             "TOP.BK",
             53.5
            ]
           ],
           "hovertemplate": "Stock=%{customdata[0]}<br>Date=2022-12-20<br>MACD_12_26_9=%{x}<br>MACDh_12_26_9=%{y}<br>Close=%{customdata[1]}<extra></extra>",
           "ids": [
            "TOP.BK"
           ],
           "legendgroup": "TOP.BK",
           "marker": {
            "color": "#FF6692",
            "symbol": "circle"
           },
           "mode": "markers+text",
           "name": "TOP.BK",
           "orientation": "v",
           "showlegend": true,
           "text": [
            "TOP.BK"
           ],
           "type": "scatter",
           "x": [
            -0.17220293281924626
           ],
           "xaxis": "x",
           "y": [
            -0.18836955506923186
           ],
           "yaxis": "y"
          },
          {
           "customdata": [
            [
             "TRUE.BK",
             4.739999771118164
            ]
           ],
           "hovertemplate": "Stock=%{customdata[0]}<br>Date=2022-12-20<br>MACD_12_26_9=%{x}<br>MACDh_12_26_9=%{y}<br>Close=%{customdata[1]}<extra></extra>",
           "ids": [
            "TRUE.BK"
           ],
           "legendgroup": "TRUE.BK",
           "marker": {
            "color": "#B6E880",
            "symbol": "circle"
           },
           "mode": "markers+text",
           "name": "TRUE.BK",
           "orientation": "v",
           "showlegend": true,
           "text": [
            "TRUE.BK"
           ],
           "type": "scatter",
           "x": [
            -0.026634260875911586
           ],
           "xaxis": "x",
           "y": [
            0.028129674220995785
           ],
           "yaxis": "y"
          },
          {
           "customdata": [
            [
             "TTB.BK",
             1.3600000143051147
            ]
           ],
           "hovertemplate": "Stock=%{customdata[0]}<br>Date=2022-12-20<br>MACD_12_26_9=%{x}<br>MACDh_12_26_9=%{y}<br>Close=%{customdata[1]}<extra></extra>",
           "ids": [
            "TTB.BK"
           ],
           "legendgroup": "TTB.BK",
           "marker": {
            "color": "#FF97FF",
            "symbol": "circle"
           },
           "mode": "markers+text",
           "name": "TTB.BK",
           "orientation": "v",
           "showlegend": true,
           "text": [
            "TTB.BK"
           ],
           "type": "scatter",
           "x": [
            0.004358272502824834
           ],
           "xaxis": "x",
           "y": [
            -0.0054555426435752945
           ],
           "yaxis": "y"
          },
          {
           "customdata": [
            [
             "TU.BK",
             16.799999237060547
            ]
           ],
           "hovertemplate": "Stock=%{customdata[0]}<br>Date=2022-12-20<br>MACD_12_26_9=%{x}<br>MACDh_12_26_9=%{y}<br>Close=%{customdata[1]}<extra></extra>",
           "ids": [
            "TU.BK"
           ],
           "legendgroup": "TU.BK",
           "marker": {
            "color": "#FECB52",
            "symbol": "circle"
           },
           "mode": "markers+text",
           "name": "TU.BK",
           "orientation": "v",
           "showlegend": true,
           "text": [
            "TU.BK"
           ],
           "type": "scatter",
           "x": [
            -0.19709950072001448
           ],
           "xaxis": "x",
           "y": [
            0.02110621720300815
           ],
           "yaxis": "y"
          }
         ],
         "name": "2022-12-20"
        },
        {
         "data": [
          {
           "customdata": [
            [
             "ADVANC.BK",
             188
            ]
           ],
           "hovertemplate": "Stock=%{customdata[0]}<br>Date=2022-12-21<br>MACD_12_26_9=%{x}<br>MACDh_12_26_9=%{y}<br>Close=%{customdata[1]}<extra></extra>",
           "ids": [
            "ADVANC.BK"
           ],
           "legendgroup": "ADVANC.BK",
           "marker": {
            "color": "#636efa",
            "symbol": "circle"
           },
           "mode": "markers+text",
           "name": "ADVANC.BK",
           "orientation": "v",
           "showlegend": true,
           "text": [
            "ADVANC.BK"
           ],
           "type": "scatter",
           "x": [
            -0.6833510281948065
           ],
           "xaxis": "x",
           "y": [
            -0.0014076588741088747
           ],
           "yaxis": "y"
          },
          {
           "customdata": [
            [
             "AOT.BK",
             73.25
            ]
           ],
           "hovertemplate": "Stock=%{customdata[0]}<br>Date=2022-12-21<br>MACD_12_26_9=%{x}<br>MACDh_12_26_9=%{y}<br>Close=%{customdata[1]}<extra></extra>",
           "ids": [
            "AOT.BK"
           ],
           "legendgroup": "AOT.BK",
           "marker": {
            "color": "#EF553B",
            "symbol": "circle"
           },
           "mode": "markers+text",
           "name": "AOT.BK",
           "orientation": "v",
           "showlegend": true,
           "text": [
            "AOT.BK"
           ],
           "type": "scatter",
           "x": [
            -0.1565845522735856
           ],
           "xaxis": "x",
           "y": [
            -0.10815256888844947
           ],
           "yaxis": "y"
          },
          {
           "customdata": [
            [
             "AWC.BK",
             6
            ]
           ],
           "hovertemplate": "Stock=%{customdata[0]}<br>Date=2022-12-21<br>MACD_12_26_9=%{x}<br>MACDh_12_26_9=%{y}<br>Close=%{customdata[1]}<extra></extra>",
           "ids": [
            "AWC.BK"
           ],
           "legendgroup": "AWC.BK",
           "marker": {
            "color": "#00cc96",
            "symbol": "circle"
           },
           "mode": "markers+text",
           "name": "AWC.BK",
           "orientation": "v",
           "showlegend": true,
           "text": [
            "AWC.BK"
           ],
           "type": "scatter",
           "x": [
            0.01936786136332902
           ],
           "xaxis": "x",
           "y": [
            -0.02886741036252473
           ],
           "yaxis": "y"
          },
          {
           "customdata": [
            [
             "BANPU.BK",
             13.5
            ]
           ],
           "hovertemplate": "Stock=%{customdata[0]}<br>Date=2022-12-21<br>MACD_12_26_9=%{x}<br>MACDh_12_26_9=%{y}<br>Close=%{customdata[1]}<extra></extra>",
           "ids": [
            "BANPU.BK"
           ],
           "legendgroup": "BANPU.BK",
           "marker": {
            "color": "#ab63fa",
            "symbol": "circle"
           },
           "mode": "markers+text",
           "name": "BANPU.BK",
           "orientation": "v",
           "showlegend": true,
           "text": [
            "BANPU.BK"
           ],
           "type": "scatter",
           "x": [
            0.20910401891232766
           ],
           "xaxis": "x",
           "y": [
            0.00971903733664825
           ],
           "yaxis": "y"
          },
          {
           "customdata": [
            [
             "BBL.BK",
             144.5
            ]
           ],
           "hovertemplate": "Stock=%{customdata[0]}<br>Date=2022-12-21<br>MACD_12_26_9=%{x}<br>MACDh_12_26_9=%{y}<br>Close=%{customdata[1]}<extra></extra>",
           "ids": [
            "BBL.BK"
           ],
           "legendgroup": "BBL.BK",
           "marker": {
            "color": "#FFA15A",
            "symbol": "circle"
           },
           "mode": "markers+text",
           "name": "BBL.BK",
           "orientation": "v",
           "showlegend": true,
           "text": [
            "BBL.BK"
           ],
           "type": "scatter",
           "x": [
            0.20224913728350202
           ],
           "xaxis": "x",
           "y": [
            -0.012435130860744326
           ],
           "yaxis": "y"
          },
          {
           "customdata": [
            [
             "BDMS.BK",
             28.5
            ]
           ],
           "hovertemplate": "Stock=%{customdata[0]}<br>Date=2022-12-21<br>MACD_12_26_9=%{x}<br>MACDh_12_26_9=%{y}<br>Close=%{customdata[1]}<extra></extra>",
           "ids": [
            "BDMS.BK"
           ],
           "legendgroup": "BDMS.BK",
           "marker": {
            "color": "#19d3f3",
            "symbol": "circle"
           },
           "mode": "markers+text",
           "name": "BDMS.BK",
           "orientation": "v",
           "showlegend": true,
           "text": [
            "BDMS.BK"
           ],
           "type": "scatter",
           "x": [
            -0.3916109136457706
           ],
           "xaxis": "x",
           "y": [
            -0.03669160318193965
           ],
           "yaxis": "y"
          },
          {
           "customdata": [
            [
             "BEM.BK",
             9.5
            ]
           ],
           "hovertemplate": "Stock=%{customdata[0]}<br>Date=2022-12-21<br>MACD_12_26_9=%{x}<br>MACDh_12_26_9=%{y}<br>Close=%{customdata[1]}<extra></extra>",
           "ids": [
            "BEM.BK"
           ],
           "legendgroup": "BEM.BK",
           "marker": {
            "color": "#FF6692",
            "symbol": "circle"
           },
           "mode": "markers+text",
           "name": "BEM.BK",
           "orientation": "v",
           "showlegend": true,
           "text": [
            "BEM.BK"
           ],
           "type": "scatter",
           "x": [
            0.07805239654308238
           ],
           "xaxis": "x",
           "y": [
            0.00878700935656744
           ],
           "yaxis": "y"
          },
          {
           "customdata": [
            [
             "BGRIM.BK",
             40
            ]
           ],
           "hovertemplate": "Stock=%{customdata[0]}<br>Date=2022-12-21<br>MACD_12_26_9=%{x}<br>MACDh_12_26_9=%{y}<br>Close=%{customdata[1]}<extra></extra>",
           "ids": [
            "BGRIM.BK"
           ],
           "legendgroup": "BGRIM.BK",
           "marker": {
            "color": "#B6E880",
            "symbol": "circle"
           },
           "mode": "markers+text",
           "name": "BGRIM.BK",
           "orientation": "v",
           "showlegend": true,
           "text": [
            "BGRIM.BK"
           ],
           "type": "scatter",
           "x": [
            1.03883035912731
           ],
           "xaxis": "x",
           "y": [
            0.11591811547661146
           ],
           "yaxis": "y"
          },
          {
           "customdata": [
            [
             "BH.BK",
             213
            ]
           ],
           "hovertemplate": "Stock=%{customdata[0]}<br>Date=2022-12-21<br>MACD_12_26_9=%{x}<br>MACDh_12_26_9=%{y}<br>Close=%{customdata[1]}<extra></extra>",
           "ids": [
            "BH.BK"
           ],
           "legendgroup": "BH.BK",
           "marker": {
            "color": "#FF97FF",
            "symbol": "circle"
           },
           "mode": "markers+text",
           "name": "BH.BK",
           "orientation": "v",
           "showlegend": true,
           "text": [
            "BH.BK"
           ],
           "type": "scatter",
           "x": [
            -3.2447697698086984
           ],
           "xaxis": "x",
           "y": [
            -0.023288600762529477
           ],
           "yaxis": "y"
          },
          {
           "customdata": [
            [
             "BLA.BK",
             28
            ]
           ],
           "hovertemplate": "Stock=%{customdata[0]}<br>Date=2022-12-21<br>MACD_12_26_9=%{x}<br>MACDh_12_26_9=%{y}<br>Close=%{customdata[1]}<extra></extra>",
           "ids": [
            "BLA.BK"
           ],
           "legendgroup": "BLA.BK",
           "marker": {
            "color": "#FECB52",
            "symbol": "circle"
           },
           "mode": "markers+text",
           "name": "BLA.BK",
           "orientation": "v",
           "showlegend": true,
           "text": [
            "BLA.BK"
           ],
           "type": "scatter",
           "x": [
            -0.7254756848764643
           ],
           "xaxis": "x",
           "y": [
            -0.026305006727614932
           ],
           "yaxis": "y"
          },
          {
           "customdata": [
            [
             "BTS.BK",
             8.300000190734863
            ]
           ],
           "hovertemplate": "Stock=%{customdata[0]}<br>Date=2022-12-21<br>MACD_12_26_9=%{x}<br>MACDh_12_26_9=%{y}<br>Close=%{customdata[1]}<extra></extra>",
           "ids": [
            "BTS.BK"
           ],
           "legendgroup": "BTS.BK",
           "marker": {
            "color": "#636efa",
            "symbol": "circle"
           },
           "mode": "markers+text",
           "name": "BTS.BK",
           "orientation": "v",
           "showlegend": true,
           "text": [
            "BTS.BK"
           ],
           "type": "scatter",
           "x": [
            0.00910876641106384
           ],
           "xaxis": "x",
           "y": [
            0.000474236480531999
           ],
           "yaxis": "y"
          },
          {
           "customdata": [
            [
             "CBG.BK",
             93.5
            ]
           ],
           "hovertemplate": "Stock=%{customdata[0]}<br>Date=2022-12-21<br>MACD_12_26_9=%{x}<br>MACDh_12_26_9=%{y}<br>Close=%{customdata[1]}<extra></extra>",
           "ids": [
            "CBG.BK"
           ],
           "legendgroup": "CBG.BK",
           "marker": {
            "color": "#EF553B",
            "symbol": "circle"
           },
           "mode": "markers+text",
           "name": "CBG.BK",
           "orientation": "v",
           "showlegend": true,
           "text": [
            "CBG.BK"
           ],
           "type": "scatter",
           "x": [
            0.4588301009412419
           ],
           "xaxis": "x",
           "y": [
            -0.273664846138598
           ],
           "yaxis": "y"
          },
          {
           "customdata": [
            [
             "CPALL.BK",
             66
            ]
           ],
           "hovertemplate": "Stock=%{customdata[0]}<br>Date=2022-12-21<br>MACD_12_26_9=%{x}<br>MACDh_12_26_9=%{y}<br>Close=%{customdata[1]}<extra></extra>",
           "ids": [
            "CPALL.BK"
           ],
           "legendgroup": "CPALL.BK",
           "marker": {
            "color": "#00cc96",
            "symbol": "circle"
           },
           "mode": "markers+text",
           "name": "CPALL.BK",
           "orientation": "v",
           "showlegend": true,
           "text": [
            "CPALL.BK"
           ],
           "type": "scatter",
           "x": [
            1.183459653564114
           ],
           "xaxis": "x",
           "y": [
            -0.043168673582723915
           ],
           "yaxis": "y"
          },
          {
           "customdata": [
            [
             "CPF.BK",
             24.200000762939453
            ]
           ],
           "hovertemplate": "Stock=%{customdata[0]}<br>Date=2022-12-21<br>MACD_12_26_9=%{x}<br>MACDh_12_26_9=%{y}<br>Close=%{customdata[1]}<extra></extra>",
           "ids": [
            "CPF.BK"
           ],
           "legendgroup": "CPF.BK",
           "marker": {
            "color": "#ab63fa",
            "symbol": "circle"
           },
           "mode": "markers+text",
           "name": "CPF.BK",
           "orientation": "v",
           "showlegend": true,
           "text": [
            "CPF.BK"
           ],
           "type": "scatter",
           "x": [
            -0.10088007411139799
           ],
           "xaxis": "x",
           "y": [
            0.10893412419343412
           ],
           "yaxis": "y"
          },
          {
           "customdata": [
            [
             "CPN.BK",
             68.75
            ]
           ],
           "hovertemplate": "Stock=%{customdata[0]}<br>Date=2022-12-21<br>MACD_12_26_9=%{x}<br>MACDh_12_26_9=%{y}<br>Close=%{customdata[1]}<extra></extra>",
           "ids": [
            "CPN.BK"
           ],
           "legendgroup": "CPN.BK",
           "marker": {
            "color": "#FFA15A",
            "symbol": "circle"
           },
           "mode": "markers+text",
           "name": "CPN.BK",
           "orientation": "v",
           "showlegend": true,
           "text": [
            "CPN.BK"
           ],
           "type": "scatter",
           "x": [
            0.28220014531433435
           ],
           "xaxis": "x",
           "y": [
            -0.26304464191784505
           ],
           "yaxis": "y"
          },
          {
           "customdata": [
            [
             "CRC.BK",
             44.75
            ]
           ],
           "hovertemplate": "Stock=%{customdata[0]}<br>Date=2022-12-21<br>MACD_12_26_9=%{x}<br>MACDh_12_26_9=%{y}<br>Close=%{customdata[1]}<extra></extra>",
           "ids": [
            "CRC.BK"
           ],
           "legendgroup": "CRC.BK",
           "marker": {
            "color": "#19d3f3",
            "symbol": "circle"
           },
           "mode": "markers+text",
           "name": "CRC.BK",
           "orientation": "v",
           "showlegend": true,
           "text": [
            "CRC.BK"
           ],
           "type": "scatter",
           "x": [
            0.7806687960523249
           ],
           "xaxis": "x",
           "y": [
            0.06481030905267615
           ],
           "yaxis": "y"
          },
          {
           "customdata": [
            [
             "DTAC.BK",
             44.5
            ]
           ],
           "hovertemplate": "Stock=%{customdata[0]}<br>Date=2022-12-21<br>MACD_12_26_9=%{x}<br>MACDh_12_26_9=%{y}<br>Close=%{customdata[1]}<extra></extra>",
           "ids": [
            "DTAC.BK"
           ],
           "legendgroup": "DTAC.BK",
           "marker": {
            "color": "#FF6692",
            "symbol": "circle"
           },
           "mode": "markers+text",
           "name": "DTAC.BK",
           "orientation": "v",
           "showlegend": true,
           "text": [
            "DTAC.BK"
           ],
           "type": "scatter",
           "x": [
            0.17066541468341256
           ],
           "xaxis": "x",
           "y": [
            0.38100930916680453
           ],
           "yaxis": "y"
          },
          {
           "customdata": [
            [
             "EA.BK",
             95.75
            ]
           ],
           "hovertemplate": "Stock=%{customdata[0]}<br>Date=2022-12-21<br>MACD_12_26_9=%{x}<br>MACDh_12_26_9=%{y}<br>Close=%{customdata[1]}<extra></extra>",
           "ids": [
            "EA.BK"
           ],
           "legendgroup": "EA.BK",
           "marker": {
            "color": "#B6E880",
            "symbol": "circle"
           },
           "mode": "markers+text",
           "name": "EA.BK",
           "orientation": "v",
           "showlegend": true,
           "text": [
            "EA.BK"
           ],
           "type": "scatter",
           "x": [
            0.20650201266771262
           ],
           "xaxis": "x",
           "y": [
            -0.17170648946092731
           ],
           "yaxis": "y"
          },
          {
           "customdata": [
            [
             "EGCO.BK",
             169
            ]
           ],
           "hovertemplate": "Stock=%{customdata[0]}<br>Date=2022-12-21<br>MACD_12_26_9=%{x}<br>MACDh_12_26_9=%{y}<br>Close=%{customdata[1]}<extra></extra>",
           "ids": [
            "EGCO.BK"
           ],
           "legendgroup": "EGCO.BK",
           "marker": {
            "color": "#FF97FF",
            "symbol": "circle"
           },
           "mode": "markers+text",
           "name": "EGCO.BK",
           "orientation": "v",
           "showlegend": true,
           "text": [
            "EGCO.BK"
           ],
           "type": "scatter",
           "x": [
            -0.2598801757050353
           ],
           "xaxis": "x",
           "y": [
            -0.12838787815394698
           ],
           "yaxis": "y"
          },
          {
           "customdata": [
            [
             "GLOBAL.BK",
             21.299999237060547
            ]
           ],
           "hovertemplate": "Stock=%{customdata[0]}<br>Date=2022-12-21<br>MACD_12_26_9=%{x}<br>MACDh_12_26_9=%{y}<br>Close=%{customdata[1]}<extra></extra>",
           "ids": [
            "GLOBAL.BK"
           ],
           "legendgroup": "GLOBAL.BK",
           "marker": {
            "color": "#FECB52",
            "symbol": "circle"
           },
           "mode": "markers+text",
           "name": "GLOBAL.BK",
           "orientation": "v",
           "showlegend": true,
           "text": [
            "GLOBAL.BK"
           ],
           "type": "scatter",
           "x": [
            0.2501554185212278
           ],
           "xaxis": "x",
           "y": [
            0.17730776993767938
           ],
           "yaxis": "y"
          },
          {
           "customdata": [
            [
             "GPSC.BK",
             71.5
            ]
           ],
           "hovertemplate": "Stock=%{customdata[0]}<br>Date=2022-12-21<br>MACD_12_26_9=%{x}<br>MACDh_12_26_9=%{y}<br>Close=%{customdata[1]}<extra></extra>",
           "ids": [
            "GPSC.BK"
           ],
           "legendgroup": "GPSC.BK",
           "marker": {
            "color": "#636efa",
            "symbol": "circle"
           },
           "mode": "markers+text",
           "name": "GPSC.BK",
           "orientation": "v",
           "showlegend": true,
           "text": [
            "GPSC.BK"
           ],
           "type": "scatter",
           "x": [
            1.4868677568014732
           ],
           "xaxis": "x",
           "y": [
            0.0029910591093409433
           ],
           "yaxis": "y"
          },
          {
           "customdata": [
            [
             "GULF.BK",
             53
            ]
           ],
           "hovertemplate": "Stock=%{customdata[0]}<br>Date=2022-12-21<br>MACD_12_26_9=%{x}<br>MACDh_12_26_9=%{y}<br>Close=%{customdata[1]}<extra></extra>",
           "ids": [
            "GULF.BK"
           ],
           "legendgroup": "GULF.BK",
           "marker": {
            "color": "#EF553B",
            "symbol": "circle"
           },
           "mode": "markers+text",
           "name": "GULF.BK",
           "orientation": "v",
           "showlegend": true,
           "text": [
            "GULF.BK"
           ],
           "type": "scatter",
           "x": [
            0.5852366010434196
           ],
           "xaxis": "x",
           "y": [
            -0.04651211860133997
           ],
           "yaxis": "y"
          },
          {
           "customdata": [
            [
             "HMPRO.BK",
             15.100000381469727
            ]
           ],
           "hovertemplate": "Stock=%{customdata[0]}<br>Date=2022-12-21<br>MACD_12_26_9=%{x}<br>MACDh_12_26_9=%{y}<br>Close=%{customdata[1]}<extra></extra>",
           "ids": [
            "HMPRO.BK"
           ],
           "legendgroup": "HMPRO.BK",
           "marker": {
            "color": "#00cc96",
            "symbol": "circle"
           },
           "mode": "markers+text",
           "name": "HMPRO.BK",
           "orientation": "v",
           "showlegend": true,
           "text": [
            "HMPRO.BK"
           ],
           "type": "scatter",
           "x": [
            0.1607828949231962
           ],
           "xaxis": "x",
           "y": [
            0.030764179402998776
           ],
           "yaxis": "y"
          },
          {
           "customdata": [
            [
             "INTUCH.BK",
             75.5
            ]
           ],
           "hovertemplate": "Stock=%{customdata[0]}<br>Date=2022-12-21<br>MACD_12_26_9=%{x}<br>MACDh_12_26_9=%{y}<br>Close=%{customdata[1]}<extra></extra>",
           "ids": [
            "INTUCH.BK"
           ],
           "legendgroup": "INTUCH.BK",
           "marker": {
            "color": "#ab63fa",
            "symbol": "circle"
           },
           "mode": "markers+text",
           "name": "INTUCH.BK",
           "orientation": "v",
           "showlegend": true,
           "text": [
            "INTUCH.BK"
           ],
           "type": "scatter",
           "x": [
            0.7719527246915163
           ],
           "xaxis": "x",
           "y": [
            0.07774451121999726
           ],
           "yaxis": "y"
          },
          {
           "customdata": [
            [
             "IRPC.BK",
             2.9000000953674316
            ]
           ],
           "hovertemplate": "Stock=%{customdata[0]}<br>Date=2022-12-21<br>MACD_12_26_9=%{x}<br>MACDh_12_26_9=%{y}<br>Close=%{customdata[1]}<extra></extra>",
           "ids": [
            "IRPC.BK"
           ],
           "legendgroup": "IRPC.BK",
           "marker": {
            "color": "#FFA15A",
            "symbol": "circle"
           },
           "mode": "markers+text",
           "name": "IRPC.BK",
           "orientation": "v",
           "showlegend": true,
           "text": [
            "IRPC.BK"
           ],
           "type": "scatter",
           "x": [
            -0.04779288847455776
           ],
           "xaxis": "x",
           "y": [
            -0.00952377603361397
           ],
           "yaxis": "y"
          },
          {
           "customdata": [
            [
             "IVL.BK",
             39.5
            ]
           ],
           "hovertemplate": "Stock=%{customdata[0]}<br>Date=2022-12-21<br>MACD_12_26_9=%{x}<br>MACDh_12_26_9=%{y}<br>Close=%{customdata[1]}<extra></extra>",
           "ids": [
            "IVL.BK"
           ],
           "legendgroup": "IVL.BK",
           "marker": {
            "color": "#19d3f3",
            "symbol": "circle"
           },
           "mode": "markers+text",
           "name": "IVL.BK",
           "orientation": "v",
           "showlegend": true,
           "text": [
            "IVL.BK"
           ],
           "type": "scatter",
           "x": [
            -0.5756730999635309
           ],
           "xaxis": "x",
           "y": [
            -0.2056855886799615
           ],
           "yaxis": "y"
          },
          {
           "customdata": [
            [
             "JMART.BK",
             40.25
            ]
           ],
           "hovertemplate": "Stock=%{customdata[0]}<br>Date=2022-12-21<br>MACD_12_26_9=%{x}<br>MACDh_12_26_9=%{y}<br>Close=%{customdata[1]}<extra></extra>",
           "ids": [
            "JMART.BK"
           ],
           "legendgroup": "JMART.BK",
           "marker": {
            "color": "#FF6692",
            "symbol": "circle"
           },
           "mode": "markers+text",
           "name": "JMART.BK",
           "orientation": "v",
           "showlegend": true,
           "text": [
            "JMART.BK"
           ],
           "type": "scatter",
           "x": [
            -1.205594115251266
           ],
           "xaxis": "x",
           "y": [
            -0.15522021825587262
           ],
           "yaxis": "y"
          },
          {
           "customdata": [
            [
             "JMT.BK",
             67.25
            ]
           ],
           "hovertemplate": "Stock=%{customdata[0]}<br>Date=2022-12-21<br>MACD_12_26_9=%{x}<br>MACDh_12_26_9=%{y}<br>Close=%{customdata[1]}<extra></extra>",
           "ids": [
            "JMT.BK"
           ],
           "legendgroup": "JMT.BK",
           "marker": {
            "color": "#B6E880",
            "symbol": "circle"
           },
           "mode": "markers+text",
           "name": "JMT.BK",
           "orientation": "v",
           "showlegend": true,
           "text": [
            "JMT.BK"
           ],
           "type": "scatter",
           "x": [
            0.37996763952793344
           ],
           "xaxis": "x",
           "y": [
            -0.23132220268184434
           ],
           "yaxis": "y"
          },
          {
           "customdata": [
            [
             "KBANK.BK",
             144.5
            ]
           ],
           "hovertemplate": "Stock=%{customdata[0]}<br>Date=2022-12-21<br>MACD_12_26_9=%{x}<br>MACDh_12_26_9=%{y}<br>Close=%{customdata[1]}<extra></extra>",
           "ids": [
            "KBANK.BK"
           ],
           "legendgroup": "KBANK.BK",
           "marker": {
            "color": "#FF97FF",
            "symbol": "circle"
           },
           "mode": "markers+text",
           "name": "KBANK.BK",
           "orientation": "v",
           "showlegend": true,
           "text": [
            "KBANK.BK"
           ],
           "type": "scatter",
           "x": [
            -0.36740641447349276
           ],
           "xaxis": "x",
           "y": [
            0.22032304381737333
           ],
           "yaxis": "y"
          },
          {
           "customdata": [
            [
             "KCE.BK",
             45
            ]
           ],
           "hovertemplate": "Stock=%{customdata[0]}<br>Date=2022-12-21<br>MACD_12_26_9=%{x}<br>MACDh_12_26_9=%{y}<br>Close=%{customdata[1]}<extra></extra>",
           "ids": [
            "KCE.BK"
           ],
           "legendgroup": "KCE.BK",
           "marker": {
            "color": "#FECB52",
            "symbol": "circle"
           },
           "mode": "markers+text",
           "name": "KCE.BK",
           "orientation": "v",
           "showlegend": true,
           "text": [
            "KCE.BK"
           ],
           "type": "scatter",
           "x": [
            -0.09425585811058568
           ],
           "xaxis": "x",
           "y": [
            -0.5520798579229864
           ],
           "yaxis": "y"
          },
          {
           "customdata": [
            [
             "KTB.BK",
             17.799999237060547
            ]
           ],
           "hovertemplate": "Stock=%{customdata[0]}<br>Date=2022-12-21<br>MACD_12_26_9=%{x}<br>MACDh_12_26_9=%{y}<br>Close=%{customdata[1]}<extra></extra>",
           "ids": [
            "KTB.BK"
           ],
           "legendgroup": "KTB.BK",
           "marker": {
            "color": "#636efa",
            "symbol": "circle"
           },
           "mode": "markers+text",
           "name": "KTB.BK",
           "orientation": "v",
           "showlegend": true,
           "text": [
            "KTB.BK"
           ],
           "type": "scatter",
           "x": [
            0.07417178533703961
           ],
           "xaxis": "x",
           "y": [
            0.000021347139927241354
           ],
           "yaxis": "y"
          },
          {
           "customdata": [
            [
             "KTC.BK",
             58.25
            ]
           ],
           "hovertemplate": "Stock=%{customdata[0]}<br>Date=2022-12-21<br>MACD_12_26_9=%{x}<br>MACDh_12_26_9=%{y}<br>Close=%{customdata[1]}<extra></extra>",
           "ids": [
            "KTC.BK"
           ],
           "legendgroup": "KTC.BK",
           "marker": {
            "color": "#EF553B",
            "symbol": "circle"
           },
           "mode": "markers+text",
           "name": "KTC.BK",
           "orientation": "v",
           "showlegend": true,
           "text": [
            "KTC.BK"
           ],
           "type": "scatter",
           "x": [
            0.2440597898221668
           ],
           "xaxis": "x",
           "y": [
            -0.12817871970621286
           ],
           "yaxis": "y"
          },
          {
           "customdata": [
            [
             "LH.BK",
             9.75
            ]
           ],
           "hovertemplate": "Stock=%{customdata[0]}<br>Date=2022-12-21<br>MACD_12_26_9=%{x}<br>MACDh_12_26_9=%{y}<br>Close=%{customdata[1]}<extra></extra>",
           "ids": [
            "LH.BK"
           ],
           "legendgroup": "LH.BK",
           "marker": {
            "color": "#00cc96",
            "symbol": "circle"
           },
           "mode": "markers+text",
           "name": "LH.BK",
           "orientation": "v",
           "showlegend": true,
           "text": [
            "LH.BK"
           ],
           "type": "scatter",
           "x": [
            0.12730191647637135
           ],
           "xaxis": "x",
           "y": [
            0.012201396195096734
           ],
           "yaxis": "y"
          },
          {
           "customdata": [
            [
             "MINT.BK",
             31.5
            ]
           ],
           "hovertemplate": "Stock=%{customdata[0]}<br>Date=2022-12-21<br>MACD_12_26_9=%{x}<br>MACDh_12_26_9=%{y}<br>Close=%{customdata[1]}<extra></extra>",
           "ids": [
            "MINT.BK"
           ],
           "legendgroup": "MINT.BK",
           "marker": {
            "color": "#ab63fa",
            "symbol": "circle"
           },
           "mode": "markers+text",
           "name": "MINT.BK",
           "orientation": "v",
           "showlegend": true,
           "text": [
            "MINT.BK"
           ],
           "type": "scatter",
           "x": [
            0.5145439487905854
           ],
           "xaxis": "x",
           "y": [
            0.009208548094459701
           ],
           "yaxis": "y"
          },
          {
           "customdata": [
            [
             "MTC.BK",
             36.25
            ]
           ],
           "hovertemplate": "Stock=%{customdata[0]}<br>Date=2022-12-21<br>MACD_12_26_9=%{x}<br>MACDh_12_26_9=%{y}<br>Close=%{customdata[1]}<extra></extra>",
           "ids": [
            "MTC.BK"
           ],
           "legendgroup": "MTC.BK",
           "marker": {
            "color": "#FFA15A",
            "symbol": "circle"
           },
           "mode": "markers+text",
           "name": "MTC.BK",
           "orientation": "v",
           "showlegend": true,
           "text": [
            "MTC.BK"
           ],
           "type": "scatter",
           "x": [
            0.2524527941549337
           ],
           "xaxis": "x",
           "y": [
            -0.18288355010252377
           ],
           "yaxis": "y"
          },
          {
           "customdata": [
            [
             "OR.BK",
             22.799999237060547
            ]
           ],
           "hovertemplate": "Stock=%{customdata[0]}<br>Date=2022-12-21<br>MACD_12_26_9=%{x}<br>MACDh_12_26_9=%{y}<br>Close=%{customdata[1]}<extra></extra>",
           "ids": [
            "OR.BK"
           ],
           "legendgroup": "OR.BK",
           "marker": {
            "color": "#19d3f3",
            "symbol": "circle"
           },
           "mode": "markers+text",
           "name": "OR.BK",
           "orientation": "v",
           "showlegend": true,
           "text": [
            "OR.BK"
           ],
           "type": "scatter",
           "x": [
            -0.37796289046208287
           ],
           "xaxis": "x",
           "y": [
            -0.13056097902602154
           ],
           "yaxis": "y"
          },
          {
           "customdata": [
            [
             "OSP.BK",
             27.25
            ]
           ],
           "hovertemplate": "Stock=%{customdata[0]}<br>Date=2022-12-21<br>MACD_12_26_9=%{x}<br>MACDh_12_26_9=%{y}<br>Close=%{customdata[1]}<extra></extra>",
           "ids": [
            "OSP.BK"
           ],
           "legendgroup": "OSP.BK",
           "marker": {
            "color": "#FF6692",
            "symbol": "circle"
           },
           "mode": "markers+text",
           "name": "OSP.BK",
           "orientation": "v",
           "showlegend": true,
           "text": [
            "OSP.BK"
           ],
           "type": "scatter",
           "x": [
            0.11420751947584051
           ],
           "xaxis": "x",
           "y": [
            -0.15445412127000346
           ],
           "yaxis": "y"
          },
          {
           "customdata": [
            [
             "PTT.BK",
             31
            ]
           ],
           "hovertemplate": "Stock=%{customdata[0]}<br>Date=2022-12-21<br>MACD_12_26_9=%{x}<br>MACDh_12_26_9=%{y}<br>Close=%{customdata[1]}<extra></extra>",
           "ids": [
            "PTT.BK"
           ],
           "legendgroup": "PTT.BK",
           "marker": {
            "color": "#B6E880",
            "symbol": "circle"
           },
           "mode": "markers+text",
           "name": "PTT.BK",
           "orientation": "v",
           "showlegend": true,
           "text": [
            "PTT.BK"
           ],
           "type": "scatter",
           "x": [
            -0.8236987334243899
           ],
           "xaxis": "x",
           "y": [
            -0.08289573894716773
           ],
           "yaxis": "y"
          },
          {
           "customdata": [
            [
             "PTTEP.BK",
             166.5
            ]
           ],
           "hovertemplate": "Stock=%{customdata[0]}<br>Date=2022-12-21<br>MACD_12_26_9=%{x}<br>MACDh_12_26_9=%{y}<br>Close=%{customdata[1]}<extra></extra>",
           "ids": [
            "PTTEP.BK"
           ],
           "legendgroup": "PTTEP.BK",
           "marker": {
            "color": "#FF97FF",
            "symbol": "circle"
           },
           "mode": "markers+text",
           "name": "PTTEP.BK",
           "orientation": "v",
           "showlegend": true,
           "text": [
            "PTTEP.BK"
           ],
           "type": "scatter",
           "x": [
            -4.211569505696133
           ],
           "xaxis": "x",
           "y": [
            -1.7617875065207476
           ],
           "yaxis": "y"
          },
          {
           "customdata": [
            [
             "PTTGC.BK",
             45.5
            ]
           ],
           "hovertemplate": "Stock=%{customdata[0]}<br>Date=2022-12-21<br>MACD_12_26_9=%{x}<br>MACDh_12_26_9=%{y}<br>Close=%{customdata[1]}<extra></extra>",
           "ids": [
            "PTTGC.BK"
           ],
           "legendgroup": "PTTGC.BK",
           "marker": {
            "color": "#FECB52",
            "symbol": "circle"
           },
           "mode": "markers+text",
           "name": "PTTGC.BK",
           "orientation": "v",
           "showlegend": true,
           "text": [
            "PTTGC.BK"
           ],
           "type": "scatter",
           "x": [
            0.04163331278245863
           ],
           "xaxis": "x",
           "y": [
            -0.21301476961533555
           ],
           "yaxis": "y"
          },
          {
           "customdata": [
            [
             "SAWAD.BK",
             46.75
            ]
           ],
           "hovertemplate": "Stock=%{customdata[0]}<br>Date=2022-12-21<br>MACD_12_26_9=%{x}<br>MACDh_12_26_9=%{y}<br>Close=%{customdata[1]}<extra></extra>",
           "ids": [
            "SAWAD.BK"
           ],
           "legendgroup": "SAWAD.BK",
           "marker": {
            "color": "#636efa",
            "symbol": "circle"
           },
           "mode": "markers+text",
           "name": "SAWAD.BK",
           "orientation": "v",
           "showlegend": true,
           "text": [
            "SAWAD.BK"
           ],
           "type": "scatter",
           "x": [
            1.2811082825733138
           ],
           "xaxis": "x",
           "y": [
            -0.1485961672848073
           ],
           "yaxis": "y"
          },
          {
           "customdata": [
            [
             "SCB.BK",
             104.5
            ]
           ],
           "hovertemplate": "Stock=%{customdata[0]}<br>Date=2022-12-21<br>MACD_12_26_9=%{x}<br>MACDh_12_26_9=%{y}<br>Close=%{customdata[1]}<extra></extra>",
           "ids": [
            "SCB.BK"
           ],
           "legendgroup": "SCB.BK",
           "marker": {
            "color": "#EF553B",
            "symbol": "circle"
           },
           "mode": "markers+text",
           "name": "SCB.BK",
           "orientation": "v",
           "showlegend": true,
           "text": [
            "SCB.BK"
           ],
           "type": "scatter",
           "x": [
            -0.5463750421804576
           ],
           "xaxis": "x",
           "y": [
            0.039782903711477635
           ],
           "yaxis": "y"
          },
          {
           "customdata": [
            [
             "SCC.BK",
             331
            ]
           ],
           "hovertemplate": "Stock=%{customdata[0]}<br>Date=2022-12-21<br>MACD_12_26_9=%{x}<br>MACDh_12_26_9=%{y}<br>Close=%{customdata[1]}<extra></extra>",
           "ids": [
            "SCC.BK"
           ],
           "legendgroup": "SCC.BK",
           "marker": {
            "color": "#00cc96",
            "symbol": "circle"
           },
           "mode": "markers+text",
           "name": "SCC.BK",
           "orientation": "v",
           "showlegend": true,
           "text": [
            "SCC.BK"
           ],
           "type": "scatter",
           "x": [
            -1.404907982381701
           ],
           "xaxis": "x",
           "y": [
            -0.5406117132382842
           ],
           "yaxis": "y"
          },
          {
           "customdata": [
            [
             "SCGP.BK",
             55.75
            ]
           ],
           "hovertemplate": "Stock=%{customdata[0]}<br>Date=2022-12-21<br>MACD_12_26_9=%{x}<br>MACDh_12_26_9=%{y}<br>Close=%{customdata[1]}<extra></extra>",
           "ids": [
            "SCGP.BK"
           ],
           "legendgroup": "SCGP.BK",
           "marker": {
            "color": "#ab63fa",
            "symbol": "circle"
           },
           "mode": "markers+text",
           "name": "SCGP.BK",
           "orientation": "v",
           "showlegend": true,
           "text": [
            "SCGP.BK"
           ],
           "type": "scatter",
           "x": [
            0.24943911113766148
           ],
           "xaxis": "x",
           "y": [
            -0.20941807960291642
           ],
           "yaxis": "y"
          },
          {
           "customdata": [
            [
             "TIDLOR.BK",
             28.25
            ]
           ],
           "hovertemplate": "Stock=%{customdata[0]}<br>Date=2022-12-21<br>MACD_12_26_9=%{x}<br>MACDh_12_26_9=%{y}<br>Close=%{customdata[1]}<extra></extra>",
           "ids": [
            "TIDLOR.BK"
           ],
           "legendgroup": "TIDLOR.BK",
           "marker": {
            "color": "#FFA15A",
            "symbol": "circle"
           },
           "mode": "markers+text",
           "name": "TIDLOR.BK",
           "orientation": "v",
           "showlegend": true,
           "text": [
            "TIDLOR.BK"
           ],
           "type": "scatter",
           "x": [
            0.5520607545293288
           ],
           "xaxis": "x",
           "y": [
            -0.09937039895100541
           ],
           "yaxis": "y"
          },
          {
           "customdata": [
            [
             "TISCO.BK",
             99.75
            ]
           ],
           "hovertemplate": "Stock=%{customdata[0]}<br>Date=2022-12-21<br>MACD_12_26_9=%{x}<br>MACDh_12_26_9=%{y}<br>Close=%{customdata[1]}<extra></extra>",
           "ids": [
            "TISCO.BK"
           ],
           "legendgroup": "TISCO.BK",
           "marker": {
            "color": "#19d3f3",
            "symbol": "circle"
           },
           "mode": "markers+text",
           "name": "TISCO.BK",
           "orientation": "v",
           "showlegend": true,
           "text": [
            "TISCO.BK"
           ],
           "type": "scatter",
           "x": [
            0.7765393423091496
           ],
           "xaxis": "x",
           "y": [
            0.10785615972605578
           ],
           "yaxis": "y"
          },
          {
           "customdata": [
            [
             "TOP.BK",
             53.5
            ]
           ],
           "hovertemplate": "Stock=%{customdata[0]}<br>Date=2022-12-21<br>MACD_12_26_9=%{x}<br>MACDh_12_26_9=%{y}<br>Close=%{customdata[1]}<extra></extra>",
           "ids": [
            "TOP.BK"
           ],
           "legendgroup": "TOP.BK",
           "marker": {
            "color": "#FF6692",
            "symbol": "circle"
           },
           "mode": "markers+text",
           "name": "TOP.BK",
           "orientation": "v",
           "showlegend": true,
           "text": [
            "TOP.BK"
           ],
           "type": "scatter",
           "x": [
            -0.2274296823709605
           ],
           "xaxis": "x",
           "y": [
            -0.19487704369675687
           ],
           "yaxis": "y"
          },
          {
           "customdata": [
            [
             "TRUE.BK",
             4.760000228881836
            ]
           ],
           "hovertemplate": "Stock=%{customdata[0]}<br>Date=2022-12-21<br>MACD_12_26_9=%{x}<br>MACDh_12_26_9=%{y}<br>Close=%{customdata[1]}<extra></extra>",
           "ids": [
            "TRUE.BK"
           ],
           "legendgroup": "TRUE.BK",
           "marker": {
            "color": "#B6E880",
            "symbol": "circle"
           },
           "mode": "markers+text",
           "name": "TRUE.BK",
           "orientation": "v",
           "showlegend": true,
           "text": [
            "TRUE.BK"
           ],
           "type": "scatter",
           "x": [
            -0.019509317776788215
           ],
           "xaxis": "x",
           "y": [
            0.02820369385609532
           ],
           "yaxis": "y"
          },
          {
           "customdata": [
            [
             "TTB.BK",
             1.3600000143051147
            ]
           ],
           "hovertemplate": "Stock=%{customdata[0]}<br>Date=2022-12-21<br>MACD_12_26_9=%{x}<br>MACDh_12_26_9=%{y}<br>Close=%{customdata[1]}<extra></extra>",
           "ids": [
            "TTB.BK"
           ],
           "legendgroup": "TTB.BK",
           "marker": {
            "color": "#FF97FF",
            "symbol": "circle"
           },
           "mode": "markers+text",
           "name": "TTB.BK",
           "orientation": "v",
           "showlegend": true,
           "text": [
            "TTB.BK"
           ],
           "type": "scatter",
           "x": [
            0.0034336590083683394
           ],
           "xaxis": "x",
           "y": [
            -0.005104124910425431
           ],
           "yaxis": "y"
          },
          {
           "customdata": [
            [
             "TU.BK",
             16.700000762939453
            ]
           ],
           "hovertemplate": "Stock=%{customdata[0]}<br>Date=2022-12-21<br>MACD_12_26_9=%{x}<br>MACDh_12_26_9=%{y}<br>Close=%{customdata[1]}<extra></extra>",
           "ids": [
            "TU.BK"
           ],
           "legendgroup": "TU.BK",
           "marker": {
            "color": "#FECB52",
            "symbol": "circle"
           },
           "mode": "markers+text",
           "name": "TU.BK",
           "orientation": "v",
           "showlegend": true,
           "text": [
            "TU.BK"
           ],
           "type": "scatter",
           "x": [
            -0.1978257970766819
           ],
           "xaxis": "x",
           "y": [
            0.016303936677072584
           ],
           "yaxis": "y"
          }
         ],
         "name": "2022-12-21"
        },
        {
         "data": [
          {
           "customdata": [
            [
             "ADVANC.BK",
             188.5
            ]
           ],
           "hovertemplate": "Stock=%{customdata[0]}<br>Date=2022-12-22<br>MACD_12_26_9=%{x}<br>MACDh_12_26_9=%{y}<br>Close=%{customdata[1]}<extra></extra>",
           "ids": [
            "ADVANC.BK"
           ],
           "legendgroup": "ADVANC.BK",
           "marker": {
            "color": "#636efa",
            "symbol": "circle"
           },
           "mode": "markers+text",
           "name": "ADVANC.BK",
           "orientation": "v",
           "showlegend": true,
           "text": [
            "ADVANC.BK"
           ],
           "type": "scatter",
           "x": [
            -0.49564184653232246
           ],
           "xaxis": "x",
           "y": [
            0.14904121823070016
           ],
           "yaxis": "y"
          },
          {
           "customdata": [
            [
             "AOT.BK",
             73
            ]
           ],
           "hovertemplate": "Stock=%{customdata[0]}<br>Date=2022-12-22<br>MACD_12_26_9=%{x}<br>MACDh_12_26_9=%{y}<br>Close=%{customdata[1]}<extra></extra>",
           "ids": [
            "AOT.BK"
           ],
           "legendgroup": "AOT.BK",
           "marker": {
            "color": "#EF553B",
            "symbol": "circle"
           },
           "mode": "markers+text",
           "name": "AOT.BK",
           "orientation": "v",
           "showlegend": true,
           "text": [
            "AOT.BK"
           ],
           "type": "scatter",
           "x": [
            -0.20787876602618383
           ],
           "xaxis": "x",
           "y": [
            -0.12755742611283816
           ],
           "yaxis": "y"
          },
          {
           "customdata": [
            [
             "AWC.BK",
             6.050000190734863
            ]
           ],
           "hovertemplate": "Stock=%{customdata[0]}<br>Date=2022-12-22<br>MACD_12_26_9=%{x}<br>MACDh_12_26_9=%{y}<br>Close=%{customdata[1]}<extra></extra>",
           "ids": [
            "AWC.BK"
           ],
           "legendgroup": "AWC.BK",
           "marker": {
            "color": "#00cc96",
            "symbol": "circle"
           },
           "mode": "markers+text",
           "name": "AWC.BK",
           "orientation": "v",
           "showlegend": true,
           "text": [
            "AWC.BK"
           ],
           "type": "scatter",
           "x": [
            0.009182717242755878
           ],
           "xaxis": "x",
           "y": [
            -0.031242043586478294
           ],
           "yaxis": "y"
          },
          {
           "customdata": [
            [
             "BANPU.BK",
             13.600000381469727
            ]
           ],
           "hovertemplate": "Stock=%{customdata[0]}<br>Date=2022-12-22<br>MACD_12_26_9=%{x}<br>MACDh_12_26_9=%{y}<br>Close=%{customdata[1]}<extra></extra>",
           "ids": [
            "BANPU.BK"
           ],
           "legendgroup": "BANPU.BK",
           "marker": {
            "color": "#ab63fa",
            "symbol": "circle"
           },
           "mode": "markers+text",
           "name": "BANPU.BK",
           "orientation": "v",
           "showlegend": true,
           "text": [
            "BANPU.BK"
           ],
           "type": "scatter",
           "x": [
            0.20504260739396152
           ],
           "xaxis": "x",
           "y": [
            0.004526100654625692
           ],
           "yaxis": "y"
          },
          {
           "customdata": [
            [
             "BBL.BK",
             145.5
            ]
           ],
           "hovertemplate": "Stock=%{customdata[0]}<br>Date=2022-12-22<br>MACD_12_26_9=%{x}<br>MACDh_12_26_9=%{y}<br>Close=%{customdata[1]}<extra></extra>",
           "ids": [
            "BBL.BK"
           ],
           "legendgroup": "BBL.BK",
           "marker": {
            "color": "#FFA15A",
            "symbol": "circle"
           },
           "mode": "markers+text",
           "name": "BBL.BK",
           "orientation": "v",
           "showlegend": true,
           "text": [
            "BBL.BK"
           ],
           "type": "scatter",
           "x": [
            0.3277412628684999
           ],
           "xaxis": "x",
           "y": [
            0.09044559577940287
           ],
           "yaxis": "y"
          },
          {
           "customdata": [
            [
             "BDMS.BK",
             28.5
            ]
           ],
           "hovertemplate": "Stock=%{customdata[0]}<br>Date=2022-12-22<br>MACD_12_26_9=%{x}<br>MACDh_12_26_9=%{y}<br>Close=%{customdata[1]}<extra></extra>",
           "ids": [
            "BDMS.BK"
           ],
           "legendgroup": "BDMS.BK",
           "marker": {
            "color": "#19d3f3",
            "symbol": "circle"
           },
           "mode": "markers+text",
           "name": "BDMS.BK",
           "orientation": "v",
           "showlegend": true,
           "text": [
            "BDMS.BK"
           ],
           "type": "scatter",
           "x": [
            -0.35775530125574306
           ],
           "xaxis": "x",
           "y": [
            -0.0022687926335296926
           ],
           "yaxis": "y"
          },
          {
           "customdata": [
            [
             "BEM.BK",
             9.550000190734863
            ]
           ],
           "hovertemplate": "Stock=%{customdata[0]}<br>Date=2022-12-22<br>MACD_12_26_9=%{x}<br>MACDh_12_26_9=%{y}<br>Close=%{customdata[1]}<extra></extra>",
           "ids": [
            "BEM.BK"
           ],
           "legendgroup": "BEM.BK",
           "marker": {
            "color": "#FF6692",
            "symbol": "circle"
           },
           "mode": "markers+text",
           "name": "BEM.BK",
           "orientation": "v",
           "showlegend": true,
           "text": [
            "BEM.BK"
           ],
           "type": "scatter",
           "x": [
            0.07368740827978826
           ],
           "xaxis": "x",
           "y": [
            0.0035376168746186487
           ],
           "yaxis": "y"
          },
          {
           "customdata": [
            [
             "BGRIM.BK",
             39.75
            ]
           ],
           "hovertemplate": "Stock=%{customdata[0]}<br>Date=2022-12-22<br>MACD_12_26_9=%{x}<br>MACDh_12_26_9=%{y}<br>Close=%{customdata[1]}<extra></extra>",
           "ids": [
            "BGRIM.BK"
           ],
           "legendgroup": "BGRIM.BK",
           "marker": {
            "color": "#B6E880",
            "symbol": "circle"
           },
           "mode": "markers+text",
           "name": "BGRIM.BK",
           "orientation": "v",
           "showlegend": true,
           "text": [
            "BGRIM.BK"
           ],
           "type": "scatter",
           "x": [
            1.0418298559303238
           ],
           "xaxis": "x",
           "y": [
            0.0951340898237002
           ],
           "yaxis": "y"
          },
          {
           "customdata": [
            [
             "BH.BK",
             211
            ]
           ],
           "hovertemplate": "Stock=%{customdata[0]}<br>Date=2022-12-22<br>MACD_12_26_9=%{x}<br>MACDh_12_26_9=%{y}<br>Close=%{customdata[1]}<extra></extra>",
           "ids": [
            "BH.BK"
           ],
           "legendgroup": "BH.BK",
           "marker": {
            "color": "#FF97FF",
            "symbol": "circle"
           },
           "mode": "markers+text",
           "name": "BH.BK",
           "orientation": "v",
           "showlegend": true,
           "text": [
            "BH.BK"
           ],
           "type": "scatter",
           "x": [
            -3.153135190178773
           ],
           "xaxis": "x",
           "y": [
            0.05467678309391655
           ],
           "yaxis": "y"
          },
          {
           "customdata": [
            [
             "BLA.BK",
             28.75
            ]
           ],
           "hovertemplate": "Stock=%{customdata[0]}<br>Date=2022-12-22<br>MACD_12_26_9=%{x}<br>MACDh_12_26_9=%{y}<br>Close=%{customdata[1]}<extra></extra>",
           "ids": [
            "BLA.BK"
           ],
           "legendgroup": "BLA.BK",
           "marker": {
            "color": "#FECB52",
            "symbol": "circle"
           },
           "mode": "markers+text",
           "name": "BLA.BK",
           "orientation": "v",
           "showlegend": true,
           "text": [
            "BLA.BK"
           ],
           "type": "scatter",
           "x": [
            -0.7102653211745071
           ],
           "xaxis": "x",
           "y": [
            -0.00887571442052626
           ],
           "yaxis": "y"
          },
          {
           "customdata": [
            [
             "BTS.BK",
             8.300000190734863
            ]
           ],
           "hovertemplate": "Stock=%{customdata[0]}<br>Date=2022-12-22<br>MACD_12_26_9=%{x}<br>MACDh_12_26_9=%{y}<br>Close=%{customdata[1]}<extra></extra>",
           "ids": [
            "BTS.BK"
           ],
           "legendgroup": "BTS.BK",
           "marker": {
            "color": "#636efa",
            "symbol": "circle"
           },
           "mode": "markers+text",
           "name": "BTS.BK",
           "orientation": "v",
           "showlegend": true,
           "text": [
            "BTS.BK"
           ],
           "type": "scatter",
           "x": [
            0.009967177333709998
           ],
           "xaxis": "x",
           "y": [
            0.0010661179225425251
           ],
           "yaxis": "y"
          },
          {
           "customdata": [
            [
             "CBG.BK",
             93.75
            ]
           ],
           "hovertemplate": "Stock=%{customdata[0]}<br>Date=2022-12-22<br>MACD_12_26_9=%{x}<br>MACDh_12_26_9=%{y}<br>Close=%{customdata[1]}<extra></extra>",
           "ids": [
            "CBG.BK"
           ],
           "legendgroup": "CBG.BK",
           "marker": {
            "color": "#EF553B",
            "symbol": "circle"
           },
           "mode": "markers+text",
           "name": "CBG.BK",
           "orientation": "v",
           "showlegend": true,
           "text": [
            "CBG.BK"
           ],
           "type": "scatter",
           "x": [
            0.30483297043177515
           ],
           "xaxis": "x",
           "y": [
            -0.3421295813184517
           ],
           "yaxis": "y"
          },
          {
           "customdata": [
            [
             "CPALL.BK",
             66.25
            ]
           ],
           "hovertemplate": "Stock=%{customdata[0]}<br>Date=2022-12-22<br>MACD_12_26_9=%{x}<br>MACDh_12_26_9=%{y}<br>Close=%{customdata[1]}<extra></extra>",
           "ids": [
            "CPALL.BK"
           ],
           "legendgroup": "CPALL.BK",
           "marker": {
            "color": "#00cc96",
            "symbol": "circle"
           },
           "mode": "markers+text",
           "name": "CPALL.BK",
           "orientation": "v",
           "showlegend": true,
           "text": [
            "CPALL.BK"
           ],
           "type": "scatter",
           "x": [
            1.181290750815478
           ],
           "xaxis": "x",
           "y": [
            -0.0362700610650879
           ],
           "yaxis": "y"
          },
          {
           "customdata": [
            [
             "CPF.BK",
             24.399999618530273
            ]
           ],
           "hovertemplate": "Stock=%{customdata[0]}<br>Date=2022-12-22<br>MACD_12_26_9=%{x}<br>MACDh_12_26_9=%{y}<br>Close=%{customdata[1]}<extra></extra>",
           "ids": [
            "CPF.BK"
           ],
           "legendgroup": "CPF.BK",
           "marker": {
            "color": "#ab63fa",
            "symbol": "circle"
           },
           "mode": "markers+text",
           "name": "CPF.BK",
           "orientation": "v",
           "showlegend": true,
           "text": [
            "CPF.BK"
           ],
           "type": "scatter",
           "x": [
            -0.061837838794620126
           ],
           "xaxis": "x",
           "y": [
            0.1183810876081696
           ],
           "yaxis": "y"
          },
          {
           "customdata": [
            [
             "CPN.BK",
             69
            ]
           ],
           "hovertemplate": "Stock=%{customdata[0]}<br>Date=2022-12-22<br>MACD_12_26_9=%{x}<br>MACDh_12_26_9=%{y}<br>Close=%{customdata[1]}<extra></extra>",
           "ids": [
            "CPN.BK"
           ],
           "legendgroup": "CPN.BK",
           "marker": {
            "color": "#FFA15A",
            "symbol": "circle"
           },
           "mode": "markers+text",
           "name": "CPN.BK",
           "orientation": "v",
           "showlegend": true,
           "text": [
            "CPN.BK"
           ],
           "type": "scatter",
           "x": [
            0.17244254704006323
           ],
           "xaxis": "x",
           "y": [
            -0.29824179215369295
           ],
           "yaxis": "y"
          },
          {
           "customdata": [
            [
             "CRC.BK",
             45
            ]
           ],
           "hovertemplate": "Stock=%{customdata[0]}<br>Date=2022-12-22<br>MACD_12_26_9=%{x}<br>MACDh_12_26_9=%{y}<br>Close=%{customdata[1]}<extra></extra>",
           "ids": [
            "CRC.BK"
           ],
           "legendgroup": "CRC.BK",
           "marker": {
            "color": "#19d3f3",
            "symbol": "circle"
           },
           "mode": "markers+text",
           "name": "CRC.BK",
           "orientation": "v",
           "showlegend": true,
           "text": [
            "CRC.BK"
           ],
           "type": "scatter",
           "x": [
            0.8073516628433453
           ],
           "xaxis": "x",
           "y": [
            0.07319454067495723
           ],
           "yaxis": "y"
          },
          {
           "customdata": [
            [
             "DTAC.BK",
             44.75
            ]
           ],
           "hovertemplate": "Stock=%{customdata[0]}<br>Date=2022-12-22<br>MACD_12_26_9=%{x}<br>MACDh_12_26_9=%{y}<br>Close=%{customdata[1]}<extra></extra>",
           "ids": [
            "DTAC.BK"
           ],
           "legendgroup": "DTAC.BK",
           "marker": {
            "color": "#FF6692",
            "symbol": "circle"
           },
           "mode": "markers+text",
           "name": "DTAC.BK",
           "orientation": "v",
           "showlegend": true,
           "text": [
            "DTAC.BK"
           ],
           "type": "scatter",
           "x": [
            0.2742213734889347
           ],
           "xaxis": "x",
           "y": [
            0.38765221437786135
           ],
           "yaxis": "y"
          },
          {
           "customdata": [
            [
             "EA.BK",
             95.5
            ]
           ],
           "hovertemplate": "Stock=%{customdata[0]}<br>Date=2022-12-22<br>MACD_12_26_9=%{x}<br>MACDh_12_26_9=%{y}<br>Close=%{customdata[1]}<extra></extra>",
           "ids": [
            "EA.BK"
           ],
           "legendgroup": "EA.BK",
           "marker": {
            "color": "#B6E880",
            "symbol": "circle"
           },
           "mode": "markers+text",
           "name": "EA.BK",
           "orientation": "v",
           "showlegend": true,
           "text": [
            "EA.BK"
           ],
           "type": "scatter",
           "x": [
            0.14032877358565088
           ],
           "xaxis": "x",
           "y": [
            -0.19030378283439126
           ],
           "yaxis": "y"
          },
          {
           "customdata": [
            [
             "EGCO.BK",
             168.5
            ]
           ],
           "hovertemplate": "Stock=%{customdata[0]}<br>Date=2022-12-22<br>MACD_12_26_9=%{x}<br>MACDh_12_26_9=%{y}<br>Close=%{customdata[1]}<extra></extra>",
           "ids": [
            "EGCO.BK"
           ],
           "legendgroup": "EGCO.BK",
           "marker": {
            "color": "#FF97FF",
            "symbol": "circle"
           },
           "mode": "markers+text",
           "name": "EGCO.BK",
           "orientation": "v",
           "showlegend": true,
           "text": [
            "EGCO.BK"
           ],
           "type": "scatter",
           "x": [
            -0.3270908700541213
           ],
           "xaxis": "x",
           "y": [
            -0.1564788580024264
           ],
           "yaxis": "y"
          },
          {
           "customdata": [
            [
             "GLOBAL.BK",
             21.299999237060547
            ]
           ],
           "hovertemplate": "Stock=%{customdata[0]}<br>Date=2022-12-22<br>MACD_12_26_9=%{x}<br>MACDh_12_26_9=%{y}<br>Close=%{customdata[1]}<extra></extra>",
           "ids": [
            "GLOBAL.BK"
           ],
           "legendgroup": "GLOBAL.BK",
           "marker": {
            "color": "#FECB52",
            "symbol": "circle"
           },
           "mode": "markers+text",
           "name": "GLOBAL.BK",
           "orientation": "v",
           "showlegend": true,
           "text": [
            "GLOBAL.BK"
           ],
           "type": "scatter",
           "x": [
            0.3052468347822135
           ],
           "xaxis": "x",
           "y": [
            0.18591934895893206
           ],
           "yaxis": "y"
          },
          {
           "customdata": [
            [
             "GPSC.BK",
             71
            ]
           ],
           "hovertemplate": "Stock=%{customdata[0]}<br>Date=2022-12-22<br>MACD_12_26_9=%{x}<br>MACDh_12_26_9=%{y}<br>Close=%{customdata[1]}<extra></extra>",
           "ids": [
            "GPSC.BK"
           ],
           "legendgroup": "GPSC.BK",
           "marker": {
            "color": "#636efa",
            "symbol": "circle"
           },
           "mode": "markers+text",
           "name": "GPSC.BK",
           "orientation": "v",
           "showlegend": true,
           "text": [
            "GPSC.BK"
           ],
           "type": "scatter",
           "x": [
            1.380468257153069
           ],
           "xaxis": "x",
           "y": [
            -0.0827267524312505
           ],
           "yaxis": "y"
          },
          {
           "customdata": [
            [
             "GULF.BK",
             53
            ]
           ],
           "hovertemplate": "Stock=%{customdata[0]}<br>Date=2022-12-22<br>MACD_12_26_9=%{x}<br>MACDh_12_26_9=%{y}<br>Close=%{customdata[1]}<extra></extra>",
           "ids": [
            "GULF.BK"
           ],
           "legendgroup": "GULF.BK",
           "marker": {
            "color": "#EF553B",
            "symbol": "circle"
           },
           "mode": "markers+text",
           "name": "GULF.BK",
           "orientation": "v",
           "showlegend": true,
           "text": [
            "GULF.BK"
           ],
           "type": "scatter",
           "x": [
            0.5086428018703444
           ],
           "xaxis": "x",
           "y": [
            -0.09848473421953208
           ],
           "yaxis": "y"
          },
          {
           "customdata": [
            [
             "HMPRO.BK",
             15.199999809265137
            ]
           ],
           "hovertemplate": "Stock=%{customdata[0]}<br>Date=2022-12-22<br>MACD_12_26_9=%{x}<br>MACDh_12_26_9=%{y}<br>Close=%{customdata[1]}<extra></extra>",
           "ids": [
            "HMPRO.BK"
           ],
           "legendgroup": "HMPRO.BK",
           "marker": {
            "color": "#00cc96",
            "symbol": "circle"
           },
           "mode": "markers+text",
           "name": "HMPRO.BK",
           "orientation": "v",
           "showlegend": true,
           "text": [
            "HMPRO.BK"
           ],
           "type": "scatter",
           "x": [
            0.175057833797446
           ],
           "xaxis": "x",
           "y": [
            0.036031294621798854
           ],
           "yaxis": "y"
          },
          {
           "customdata": [
            [
             "INTUCH.BK",
             75.5
            ]
           ],
           "hovertemplate": "Stock=%{customdata[0]}<br>Date=2022-12-22<br>MACD_12_26_9=%{x}<br>MACDh_12_26_9=%{y}<br>Close=%{customdata[1]}<extra></extra>",
           "ids": [
            "INTUCH.BK"
           ],
           "legendgroup": "INTUCH.BK",
           "marker": {
            "color": "#ab63fa",
            "symbol": "circle"
           },
           "mode": "markers+text",
           "name": "INTUCH.BK",
           "orientation": "v",
           "showlegend": true,
           "text": [
            "INTUCH.BK"
           ],
           "type": "scatter",
           "x": [
            0.7664683398459431
           ],
           "xaxis": "x",
           "y": [
            0.057808101099539266
           ],
           "yaxis": "y"
          },
          {
           "customdata": [
            [
             "IRPC.BK",
             2.9200000762939453
            ]
           ],
           "hovertemplate": "Stock=%{customdata[0]}<br>Date=2022-12-22<br>MACD_12_26_9=%{x}<br>MACDh_12_26_9=%{y}<br>Close=%{customdata[1]}<extra></extra>",
           "ids": [
            "IRPC.BK"
           ],
           "legendgroup": "IRPC.BK",
           "marker": {
            "color": "#FFA15A",
            "symbol": "circle"
           },
           "mode": "markers+text",
           "name": "IRPC.BK",
           "orientation": "v",
           "showlegend": true,
           "text": [
            "IRPC.BK"
           ],
           "type": "scatter",
           "x": [
            -0.046783597303686975
           ],
           "xaxis": "x",
           "y": [
            -0.006811587890194551
           ],
           "yaxis": "y"
          },
          {
           "customdata": [
            [
             "IVL.BK",
             39.5
            ]
           ],
           "hovertemplate": "Stock=%{customdata[0]}<br>Date=2022-12-22<br>MACD_12_26_9=%{x}<br>MACDh_12_26_9=%{y}<br>Close=%{customdata[1]}<extra></extra>",
           "ids": [
            "IVL.BK"
           ],
           "legendgroup": "IVL.BK",
           "marker": {
            "color": "#19d3f3",
            "symbol": "circle"
           },
           "mode": "markers+text",
           "name": "IVL.BK",
           "orientation": "v",
           "showlegend": true,
           "text": [
            "IVL.BK"
           ],
           "type": "scatter",
           "x": [
            -0.6056290856599702
           ],
           "xaxis": "x",
           "y": [
            -0.18851325950112063
           ],
           "yaxis": "y"
          },
          {
           "customdata": [
            [
             "JMART.BK",
             40.5
            ]
           ],
           "hovertemplate": "Stock=%{customdata[0]}<br>Date=2022-12-22<br>MACD_12_26_9=%{x}<br>MACDh_12_26_9=%{y}<br>Close=%{customdata[1]}<extra></extra>",
           "ids": [
            "JMART.BK"
           ],
           "legendgroup": "JMART.BK",
           "marker": {
            "color": "#FF6692",
            "symbol": "circle"
           },
           "mode": "markers+text",
           "name": "JMART.BK",
           "orientation": "v",
           "showlegend": true,
           "text": [
            "JMART.BK"
           ],
           "type": "scatter",
           "x": [
            -1.196208643607136
           ],
           "xaxis": "x",
           "y": [
            -0.11666779728939414
           ],
           "yaxis": "y"
          },
          {
           "customdata": [
            [
             "JMT.BK",
             67.5
            ]
           ],
           "hovertemplate": "Stock=%{customdata[0]}<br>Date=2022-12-22<br>MACD_12_26_9=%{x}<br>MACDh_12_26_9=%{y}<br>Close=%{customdata[1]}<extra></extra>",
           "ids": [
            "JMT.BK"
           ],
           "legendgroup": "JMT.BK",
           "marker": {
            "color": "#B6E880",
            "symbol": "circle"
           },
           "mode": "markers+text",
           "name": "JMT.BK",
           "orientation": "v",
           "showlegend": true,
           "text": [
            "JMT.BK"
           ],
           "type": "scatter",
           "x": [
            0.3317651857659456
           ],
           "xaxis": "x",
           "y": [
            -0.22361972515506578
           ],
           "yaxis": "y"
          },
          {
           "customdata": [
            [
             "KBANK.BK",
             145
            ]
           ],
           "hovertemplate": "Stock=%{customdata[0]}<br>Date=2022-12-22<br>MACD_12_26_9=%{x}<br>MACDh_12_26_9=%{y}<br>Close=%{customdata[1]}<extra></extra>",
           "ids": [
            "KBANK.BK"
           ],
           "legendgroup": "KBANK.BK",
           "marker": {
            "color": "#FF97FF",
            "symbol": "circle"
           },
           "mode": "markers+text",
           "name": "KBANK.BK",
           "orientation": "v",
           "showlegend": true,
           "text": [
            "KBANK.BK"
           ],
           "type": "scatter",
           "x": [
            -0.21427662423323568
           ],
           "xaxis": "x",
           "y": [
            0.29876226724610433
           ],
           "yaxis": "y"
          },
          {
           "customdata": [
            [
             "KCE.BK",
             45.75
            ]
           ],
           "hovertemplate": "Stock=%{customdata[0]}<br>Date=2022-12-22<br>MACD_12_26_9=%{x}<br>MACDh_12_26_9=%{y}<br>Close=%{customdata[1]}<extra></extra>",
           "ids": [
            "KCE.BK"
           ],
           "legendgroup": "KCE.BK",
           "marker": {
            "color": "#FECB52",
            "symbol": "circle"
           },
           "mode": "markers+text",
           "name": "KCE.BK",
           "orientation": "v",
           "showlegend": true,
           "text": [
            "KCE.BK"
           ],
           "type": "scatter",
           "x": [
            -0.22789600966683565
           ],
           "xaxis": "x",
           "y": [
            -0.5485760075833891
           ],
           "yaxis": "y"
          },
          {
           "customdata": [
            [
             "KTB.BK",
             17.799999237060547
            ]
           ],
           "hovertemplate": "Stock=%{customdata[0]}<br>Date=2022-12-22<br>MACD_12_26_9=%{x}<br>MACDh_12_26_9=%{y}<br>Close=%{customdata[1]}<extra></extra>",
           "ids": [
            "KTB.BK"
           ],
           "legendgroup": "KTB.BK",
           "marker": {
            "color": "#636efa",
            "symbol": "circle"
           },
           "mode": "markers+text",
           "name": "KTB.BK",
           "orientation": "v",
           "showlegend": true,
           "text": [
            "KTB.BK"
           ],
           "type": "scatter",
           "x": [
            0.07722775979076246
           ],
           "xaxis": "x",
           "y": [
            0.0024618572749200707
           ],
           "yaxis": "y"
          },
          {
           "customdata": [
            [
             "KTC.BK",
             58.25
            ]
           ],
           "hovertemplate": "Stock=%{customdata[0]}<br>Date=2022-12-22<br>MACD_12_26_9=%{x}<br>MACDh_12_26_9=%{y}<br>Close=%{customdata[1]}<extra></extra>",
           "ids": [
            "KTC.BK"
           ],
           "legendgroup": "KTC.BK",
           "marker": {
            "color": "#EF553B",
            "symbol": "circle"
           },
           "mode": "markers+text",
           "name": "KTC.BK",
           "orientation": "v",
           "showlegend": true,
           "text": [
            "KTC.BK"
           ],
           "type": "scatter",
           "x": [
            0.1430335620844687
           ],
           "xaxis": "x",
           "y": [
            -0.18336395795512878
           ],
           "yaxis": "y"
          },
          {
           "customdata": [
            [
             "LH.BK",
             9.800000190734863
            ]
           ],
           "hovertemplate": "Stock=%{customdata[0]}<br>Date=2022-12-22<br>MACD_12_26_9=%{x}<br>MACDh_12_26_9=%{y}<br>Close=%{customdata[1]}<extra></extra>",
           "ids": [
            "LH.BK"
           ],
           "legendgroup": "LH.BK",
           "marker": {
            "color": "#00cc96",
            "symbol": "circle"
           },
           "mode": "markers+text",
           "name": "LH.BK",
           "orientation": "v",
           "showlegend": true,
           "text": [
            "LH.BK"
           ],
           "type": "scatter",
           "x": [
            0.129930079903664
           ],
           "xaxis": "x",
           "y": [
            0.011863647697911511
           ],
           "yaxis": "y"
          },
          {
           "customdata": [
            [
             "MINT.BK",
             31.5
            ]
           ],
           "hovertemplate": "Stock=%{customdata[0]}<br>Date=2022-12-22<br>MACD_12_26_9=%{x}<br>MACDh_12_26_9=%{y}<br>Close=%{customdata[1]}<extra></extra>",
           "ids": [
            "MINT.BK"
           ],
           "legendgroup": "MINT.BK",
           "marker": {
            "color": "#ab63fa",
            "symbol": "circle"
           },
           "mode": "markers+text",
           "name": "MINT.BK",
           "orientation": "v",
           "showlegend": true,
           "text": [
            "MINT.BK"
           ],
           "type": "scatter",
           "x": [
            0.5097186664894942
           ],
           "xaxis": "x",
           "y": [
            0.0035066126346947613
           ],
           "yaxis": "y"
          },
          {
           "customdata": [
            [
             "MTC.BK",
             36.75
            ]
           ],
           "hovertemplate": "Stock=%{customdata[0]}<br>Date=2022-12-22<br>MACD_12_26_9=%{x}<br>MACDh_12_26_9=%{y}<br>Close=%{customdata[1]}<extra></extra>",
           "ids": [
            "MTC.BK"
           ],
           "legendgroup": "MTC.BK",
           "marker": {
            "color": "#FFA15A",
            "symbol": "circle"
           },
           "mode": "markers+text",
           "name": "MTC.BK",
           "orientation": "v",
           "showlegend": true,
           "text": [
            "MTC.BK"
           ],
           "type": "scatter",
           "x": [
            0.14797897750847966
           ],
           "xaxis": "x",
           "y": [
            -0.22988589339918225
           ],
           "yaxis": "y"
          },
          {
           "customdata": [
            [
             "OR.BK",
             23.100000381469727
            ]
           ],
           "hovertemplate": "Stock=%{customdata[0]}<br>Date=2022-12-22<br>MACD_12_26_9=%{x}<br>MACDh_12_26_9=%{y}<br>Close=%{customdata[1]}<extra></extra>",
           "ids": [
            "OR.BK"
           ],
           "legendgroup": "OR.BK",
           "marker": {
            "color": "#19d3f3",
            "symbol": "circle"
           },
           "mode": "markers+text",
           "name": "OR.BK",
           "orientation": "v",
           "showlegend": true,
           "text": [
            "OR.BK"
           ],
           "type": "scatter",
           "x": [
            -0.3959253856021796
           ],
           "xaxis": "x",
           "y": [
            -0.11881877933289464
           ],
           "yaxis": "y"
          },
          {
           "customdata": [
            [
             "OSP.BK",
             27.25
            ]
           ],
           "hovertemplate": "Stock=%{customdata[0]}<br>Date=2022-12-22<br>MACD_12_26_9=%{x}<br>MACDh_12_26_9=%{y}<br>Close=%{customdata[1]}<extra></extra>",
           "ids": [
            "OSP.BK"
           ],
           "legendgroup": "OSP.BK",
           "marker": {
            "color": "#FF6692",
            "symbol": "circle"
           },
           "mode": "markers+text",
           "name": "OSP.BK",
           "orientation": "v",
           "showlegend": true,
           "text": [
            "OSP.BK"
           ],
           "type": "scatter",
           "x": [
            0.03574823257777382
           ],
           "xaxis": "x",
           "y": [
            -0.18633072653445612
           ],
           "yaxis": "y"
          },
          {
           "customdata": [
            [
             "PTT.BK",
             31.5
            ]
           ],
           "hovertemplate": "Stock=%{customdata[0]}<br>Date=2022-12-22<br>MACD_12_26_9=%{x}<br>MACDh_12_26_9=%{y}<br>Close=%{customdata[1]}<extra></extra>",
           "ids": [
            "PTT.BK"
           ],
           "legendgroup": "PTT.BK",
           "marker": {
            "color": "#B6E880",
            "symbol": "circle"
           },
           "mode": "markers+text",
           "name": "PTT.BK",
           "orientation": "v",
           "showlegend": true,
           "text": [
            "PTT.BK"
           ],
           "type": "scatter",
           "x": [
            -0.7862527834228139
           ],
           "xaxis": "x",
           "y": [
            -0.03635983115647334
           ],
           "yaxis": "y"
          },
          {
           "customdata": [
            [
             "PTTEP.BK",
             171
            ]
           ],
           "hovertemplate": "Stock=%{customdata[0]}<br>Date=2022-12-22<br>MACD_12_26_9=%{x}<br>MACDh_12_26_9=%{y}<br>Close=%{customdata[1]}<extra></extra>",
           "ids": [
            "PTTEP.BK"
           ],
           "legendgroup": "PTTEP.BK",
           "marker": {
            "color": "#FF97FF",
            "symbol": "circle"
           },
           "mode": "markers+text",
           "name": "PTTEP.BK",
           "orientation": "v",
           "showlegend": true,
           "text": [
            "PTTEP.BK"
           ],
           "type": "scatter",
           "x": [
            -4.050845501039106
           ],
           "xaxis": "x",
           "y": [
            -1.2808508014909767
           ],
           "yaxis": "y"
          },
          {
           "customdata": [
            [
             "PTTGC.BK",
             44.75
            ]
           ],
           "hovertemplate": "Stock=%{customdata[0]}<br>Date=2022-12-22<br>MACD_12_26_9=%{x}<br>MACDh_12_26_9=%{y}<br>Close=%{customdata[1]}<extra></extra>",
           "ids": [
            "PTTGC.BK"
           ],
           "legendgroup": "PTTGC.BK",
           "marker": {
            "color": "#FECB52",
            "symbol": "circle"
           },
           "mode": "markers+text",
           "name": "PTTGC.BK",
           "orientation": "v",
           "showlegend": true,
           "text": [
            "PTTGC.BK"
           ],
           "type": "scatter",
           "x": [
            -0.08489858418462148
           ],
           "xaxis": "x",
           "y": [
            -0.27163733326593253
           ],
           "yaxis": "y"
          },
          {
           "customdata": [
            [
             "SAWAD.BK",
             47.75
            ]
           ],
           "hovertemplate": "Stock=%{customdata[0]}<br>Date=2022-12-22<br>MACD_12_26_9=%{x}<br>MACDh_12_26_9=%{y}<br>Close=%{customdata[1]}<extra></extra>",
           "ids": [
            "SAWAD.BK"
           ],
           "legendgroup": "SAWAD.BK",
           "marker": {
            "color": "#636efa",
            "symbol": "circle"
           },
           "mode": "markers+text",
           "name": "SAWAD.BK",
           "orientation": "v",
           "showlegend": true,
           "text": [
            "SAWAD.BK"
           ],
           "type": "scatter",
           "x": [
            1.182717925431703
           ],
           "xaxis": "x",
           "y": [
            -0.1975892195411344
           ],
           "yaxis": "y"
          },
          {
           "customdata": [
            [
             "SCB.BK",
             104.5
            ]
           ],
           "hovertemplate": "Stock=%{customdata[0]}<br>Date=2022-12-22<br>MACD_12_26_9=%{x}<br>MACDh_12_26_9=%{y}<br>Close=%{customdata[1]}<extra></extra>",
           "ids": [
            "SCB.BK"
           ],
           "legendgroup": "SCB.BK",
           "marker": {
            "color": "#EF553B",
            "symbol": "circle"
           },
           "mode": "markers+text",
           "name": "SCB.BK",
           "orientation": "v",
           "showlegend": true,
           "text": [
            "SCB.BK"
           ],
           "type": "scatter",
           "x": [
            -0.455816946360045
           ],
           "xaxis": "x",
           "y": [
            0.10427279962551217
           ],
           "yaxis": "y"
          },
          {
           "customdata": [
            [
             "SCC.BK",
             332
            ]
           ],
           "hovertemplate": "Stock=%{customdata[0]}<br>Date=2022-12-22<br>MACD_12_26_9=%{x}<br>MACDh_12_26_9=%{y}<br>Close=%{customdata[1]}<extra></extra>",
           "ids": [
            "SCC.BK"
           ],
           "legendgroup": "SCC.BK",
           "marker": {
            "color": "#00cc96",
            "symbol": "circle"
           },
           "mode": "markers+text",
           "name": "SCC.BK",
           "orientation": "v",
           "showlegend": true,
           "text": [
            "SCC.BK"
           ],
           "type": "scatter",
           "x": [
            -1.3823543814914387
           ],
           "xaxis": "x",
           "y": [
            -0.4144464898784175
           ],
           "yaxis": "y"
          },
          {
           "customdata": [
            [
             "SCGP.BK",
             56
            ]
           ],
           "hovertemplate": "Stock=%{customdata[0]}<br>Date=2022-12-22<br>MACD_12_26_9=%{x}<br>MACDh_12_26_9=%{y}<br>Close=%{customdata[1]}<extra></extra>",
           "ids": [
            "SCGP.BK"
           ],
           "legendgroup": "SCGP.BK",
           "marker": {
            "color": "#ab63fa",
            "symbol": "circle"
           },
           "mode": "markers+text",
           "name": "SCGP.BK",
           "orientation": "v",
           "showlegend": true,
           "text": [
            "SCGP.BK"
           ],
           "type": "scatter",
           "x": [
            0.20828224248622718
           ],
           "xaxis": "x",
           "y": [
            -0.2004599586034806
           ],
           "yaxis": "y"
          },
          {
           "customdata": [
            [
             "TIDLOR.BK",
             28.75
            ]
           ],
           "hovertemplate": "Stock=%{customdata[0]}<br>Date=2022-12-22<br>MACD_12_26_9=%{x}<br>MACDh_12_26_9=%{y}<br>Close=%{customdata[1]}<extra></extra>",
           "ids": [
            "TIDLOR.BK"
           ],
           "legendgroup": "TIDLOR.BK",
           "marker": {
            "color": "#FFA15A",
            "symbol": "circle"
           },
           "mode": "markers+text",
           "name": "TIDLOR.BK",
           "orientation": "v",
           "showlegend": true,
           "text": [
            "TIDLOR.BK"
           ],
           "type": "scatter",
           "x": [
            0.5124023610110839
           ],
           "xaxis": "x",
           "y": [
            -0.11122303397540023
           ],
           "yaxis": "y"
          },
          {
           "customdata": [
            [
             "TISCO.BK",
             99.25
            ]
           ],
           "hovertemplate": "Stock=%{customdata[0]}<br>Date=2022-12-22<br>MACD_12_26_9=%{x}<br>MACDh_12_26_9=%{y}<br>Close=%{customdata[1]}<extra></extra>",
           "ids": [
            "TISCO.BK"
           ],
           "legendgroup": "TISCO.BK",
           "marker": {
            "color": "#19d3f3",
            "symbol": "circle"
           },
           "mode": "markers+text",
           "name": "TISCO.BK",
           "orientation": "v",
           "showlegend": true,
           "text": [
            "TISCO.BK"
           ],
           "type": "scatter",
           "x": [
            0.7757289007926715
           ],
           "xaxis": "x",
           "y": [
            0.08563657456766216
           ],
           "yaxis": "y"
          },
          {
           "customdata": [
            [
             "TOP.BK",
             54.5
            ]
           ],
           "hovertemplate": "Stock=%{customdata[0]}<br>Date=2022-12-22<br>MACD_12_26_9=%{x}<br>MACDh_12_26_9=%{y}<br>Close=%{customdata[1]}<extra></extra>",
           "ids": [
            "TOP.BK"
           ],
           "legendgroup": "TOP.BK",
           "marker": {
            "color": "#FF6692",
            "symbol": "circle"
           },
           "mode": "markers+text",
           "name": "TOP.BK",
           "orientation": "v",
           "showlegend": true,
           "text": [
            "TOP.BK"
           ],
           "type": "scatter",
           "x": [
            -0.18833463222064495
           ],
           "xaxis": "x",
           "y": [
            -0.12462559483715305
           ],
           "yaxis": "y"
          },
          {
           "customdata": [
            [
             "TRUE.BK",
             4.739999771118164
            ]
           ],
           "hovertemplate": "Stock=%{customdata[0]}<br>Date=2022-12-22<br>MACD_12_26_9=%{x}<br>MACDh_12_26_9=%{y}<br>Close=%{customdata[1]}<extra></extra>",
           "ids": [
            "TRUE.BK"
           ],
           "legendgroup": "TRUE.BK",
           "marker": {
            "color": "#B6E880",
            "symbol": "circle"
           },
           "mode": "markers+text",
           "name": "TRUE.BK",
           "orientation": "v",
           "showlegend": true,
           "text": [
            "TRUE.BK"
           ],
           "type": "scatter",
           "x": [
            -0.015300247104471865
           ],
           "xaxis": "x",
           "y": [
            0.025930211622729335
           ],
           "yaxis": "y"
          },
          {
           "customdata": [
            [
             "TTB.BK",
             1.3700000047683716
            ]
           ],
           "hovertemplate": "Stock=%{customdata[0]}<br>Date=2022-12-22<br>MACD_12_26_9=%{x}<br>MACDh_12_26_9=%{y}<br>Close=%{customdata[1]}<extra></extra>",
           "ids": [
            "TTB.BK"
           ],
           "legendgroup": "TTB.BK",
           "marker": {
            "color": "#FF97FF",
            "symbol": "circle"
           },
           "mode": "markers+text",
           "name": "TTB.BK",
           "orientation": "v",
           "showlegend": true,
           "text": [
            "TTB.BK"
           ],
           "type": "scatter",
           "x": [
            0.003467836746152253
           ],
           "xaxis": "x",
           "y": [
            -0.004055957738113214
           ],
           "yaxis": "y"
          },
          {
           "customdata": [
            [
             "TU.BK",
             16.600000381469727
            ]
           ],
           "hovertemplate": "Stock=%{customdata[0]}<br>Date=2022-12-22<br>MACD_12_26_9=%{x}<br>MACDh_12_26_9=%{y}<br>Close=%{customdata[1]}<extra></extra>",
           "ids": [
            "TU.BK"
           ],
           "legendgroup": "TU.BK",
           "marker": {
            "color": "#FECB52",
            "symbol": "circle"
           },
           "mode": "markers+text",
           "name": "TU.BK",
           "orientation": "v",
           "showlegend": true,
           "text": [
            "TU.BK"
           ],
           "type": "scatter",
           "x": [
            -0.20411764605368887
           ],
           "xaxis": "x",
           "y": [
            0.008009670160052496
           ],
           "yaxis": "y"
          }
         ],
         "name": "2022-12-22"
        },
        {
         "data": [
          {
           "customdata": [
            [
             "ADVANC.BK",
             190
            ]
           ],
           "hovertemplate": "Stock=%{customdata[0]}<br>Date=2022-12-23<br>MACD_12_26_9=%{x}<br>MACDh_12_26_9=%{y}<br>Close=%{customdata[1]}<extra></extra>",
           "ids": [
            "ADVANC.BK"
           ],
           "legendgroup": "ADVANC.BK",
           "marker": {
            "color": "#636efa",
            "symbol": "circle"
           },
           "mode": "markers+text",
           "name": "ADVANC.BK",
           "orientation": "v",
           "showlegend": true,
           "text": [
            "ADVANC.BK"
           ],
           "type": "scatter",
           "x": [
            -0.22326978857415725
           ],
           "xaxis": "x",
           "y": [
            0.33713062095109225
           ],
           "yaxis": "y"
          },
          {
           "customdata": [
            [
             "AOT.BK",
             73
            ]
           ],
           "hovertemplate": "Stock=%{customdata[0]}<br>Date=2022-12-23<br>MACD_12_26_9=%{x}<br>MACDh_12_26_9=%{y}<br>Close=%{customdata[1]}<extra></extra>",
           "ids": [
            "AOT.BK"
           ],
           "legendgroup": "AOT.BK",
           "marker": {
            "color": "#EF553B",
            "symbol": "circle"
           },
           "mode": "markers+text",
           "name": "AOT.BK",
           "orientation": "v",
           "showlegend": true,
           "text": [
            "AOT.BK"
           ],
           "type": "scatter",
           "x": [
            -0.24569755154713846
           ],
           "xaxis": "x",
           "y": [
            -0.13230096930703422
           ],
           "yaxis": "y"
          },
          {
           "customdata": [
            [
             "AWC.BK",
             6.050000190734863
            ]
           ],
           "hovertemplate": "Stock=%{customdata[0]}<br>Date=2022-12-23<br>MACD_12_26_9=%{x}<br>MACDh_12_26_9=%{y}<br>Close=%{customdata[1]}<extra></extra>",
           "ids": [
            "AWC.BK"
           ],
           "legendgroup": "AWC.BK",
           "marker": {
            "color": "#00cc96",
            "symbol": "circle"
           },
           "mode": "markers+text",
           "name": "AWC.BK",
           "orientation": "v",
           "showlegend": true,
           "text": [
            "AWC.BK"
           ],
           "type": "scatter",
           "x": [
            0.001098257122731816
           ],
           "xaxis": "x",
           "y": [
            -0.031461202965201884
           ],
           "yaxis": "y"
          },
          {
           "customdata": [
            [
             "BANPU.BK",
             13.399999618530273
            ]
           ],
           "hovertemplate": "Stock=%{customdata[0]}<br>Date=2022-12-23<br>MACD_12_26_9=%{x}<br>MACDh_12_26_9=%{y}<br>Close=%{customdata[1]}<extra></extra>",
           "ids": [
            "BANPU.BK"
           ],
           "legendgroup": "BANPU.BK",
           "marker": {
            "color": "#ab63fa",
            "symbol": "circle"
           },
           "mode": "markers+text",
           "name": "BANPU.BK",
           "orientation": "v",
           "showlegend": true,
           "text": [
            "BANPU.BK"
           ],
           "type": "scatter",
           "x": [
            0.18356944511637785
           ],
           "xaxis": "x",
           "y": [
            -0.013557649298366392
           ],
           "yaxis": "y"
          },
          {
           "customdata": [
            [
             "BBL.BK",
             145.5
            ]
           ],
           "hovertemplate": "Stock=%{customdata[0]}<br>Date=2022-12-23<br>MACD_12_26_9=%{x}<br>MACDh_12_26_9=%{y}<br>Close=%{customdata[1]}<extra></extra>",
           "ids": [
            "BBL.BK"
           ],
           "legendgroup": "BBL.BK",
           "marker": {
            "color": "#FFA15A",
            "symbol": "circle"
           },
           "mode": "markers+text",
           "name": "BBL.BK",
           "orientation": "v",
           "showlegend": true,
           "text": [
            "BBL.BK"
           ],
           "type": "scatter",
           "x": [
            0.4223263611146706
           ],
           "xaxis": "x",
           "y": [
            0.14802455522045882
           ],
           "yaxis": "y"
          },
          {
           "customdata": [
            [
             "BDMS.BK",
             28.5
            ]
           ],
           "hovertemplate": "Stock=%{customdata[0]}<br>Date=2022-12-23<br>MACD_12_26_9=%{x}<br>MACDh_12_26_9=%{y}<br>Close=%{customdata[1]}<extra></extra>",
           "ids": [
            "BDMS.BK"
           ],
           "legendgroup": "BDMS.BK",
           "marker": {
            "color": "#19d3f3",
            "symbol": "circle"
           },
           "mode": "markers+text",
           "name": "BDMS.BK",
           "orientation": "v",
           "showlegend": true,
           "text": [
            "BDMS.BK"
           ],
           "type": "scatter",
           "x": [
            -0.32715326532332156
           ],
           "xaxis": "x",
           "y": [
            0.02266659463911347
           ],
           "yaxis": "y"
          },
          {
           "customdata": [
            [
             "BEM.BK",
             9.600000381469727
            ]
           ],
           "hovertemplate": "Stock=%{customdata[0]}<br>Date=2022-12-23<br>MACD_12_26_9=%{x}<br>MACDh_12_26_9=%{y}<br>Close=%{customdata[1]}<extra></extra>",
           "ids": [
            "BEM.BK"
           ],
           "legendgroup": "BEM.BK",
           "marker": {
            "color": "#FF6692",
            "symbol": "circle"
           },
           "mode": "markers+text",
           "name": "BEM.BK",
           "orientation": "v",
           "showlegend": true,
           "text": [
            "BEM.BK"
           ],
           "type": "scatter",
           "x": [
            0.07341642233976309
           ],
           "xaxis": "x",
           "y": [
            0.00261330474767478
           ],
           "yaxis": "y"
          },
          {
           "customdata": [
            [
             "BGRIM.BK",
             39.5
            ]
           ],
           "hovertemplate": "Stock=%{customdata[0]}<br>Date=2022-12-23<br>MACD_12_26_9=%{x}<br>MACDh_12_26_9=%{y}<br>Close=%{customdata[1]}<extra></extra>",
           "ids": [
            "BGRIM.BK"
           ],
           "legendgroup": "BGRIM.BK",
           "marker": {
            "color": "#B6E880",
            "symbol": "circle"
           },
           "mode": "markers+text",
           "name": "BGRIM.BK",
           "orientation": "v",
           "showlegend": true,
           "text": [
            "BGRIM.BK"
           ],
           "type": "scatter",
           "x": [
            1.0123641641841914
           ],
           "xaxis": "x",
           "y": [
            0.05253471846205415
           ],
           "yaxis": "y"
          },
          {
           "customdata": [
            [
             "BH.BK",
             209
            ]
           ],
           "hovertemplate": "Stock=%{customdata[0]}<br>Date=2022-12-23<br>MACD_12_26_9=%{x}<br>MACDh_12_26_9=%{y}<br>Close=%{customdata[1]}<extra></extra>",
           "ids": [
            "BH.BK"
           ],
           "legendgroup": "BH.BK",
           "marker": {
            "color": "#FF97FF",
            "symbol": "circle"
           },
           "mode": "markers+text",
           "name": "BH.BK",
           "orientation": "v",
           "showlegend": true,
           "text": [
            "BH.BK"
           ],
           "type": "scatter",
           "x": [
            -3.204952711093455
           ],
           "xaxis": "x",
           "y": [
            0.0022874097433875917
           ],
           "yaxis": "y"
          },
          {
           "customdata": [
            [
             "BLA.BK",
             27.75
            ]
           ],
           "hovertemplate": "Stock=%{customdata[0]}<br>Date=2022-12-23<br>MACD_12_26_9=%{x}<br>MACDh_12_26_9=%{y}<br>Close=%{customdata[1]}<extra></extra>",
           "ids": [
            "BLA.BK"
           ],
           "legendgroup": "BLA.BK",
           "marker": {
            "color": "#FECB52",
            "symbol": "circle"
           },
           "mode": "markers+text",
           "name": "BLA.BK",
           "orientation": "v",
           "showlegend": true,
           "text": [
            "BLA.BK"
           ],
           "type": "scatter",
           "x": [
            -0.7700262576339476
           ],
           "xaxis": "x",
           "y": [
            -0.05490932070397336
           ],
           "yaxis": "y"
          },
          {
           "customdata": [
            [
             "BTS.BK",
             8.199999809265137
            ]
           ],
           "hovertemplate": "Stock=%{customdata[0]}<br>Date=2022-12-23<br>MACD_12_26_9=%{x}<br>MACDh_12_26_9=%{y}<br>Close=%{customdata[1]}<extra></extra>",
           "ids": [
            "BTS.BK"
           ],
           "legendgroup": "BTS.BK",
           "marker": {
            "color": "#636efa",
            "symbol": "circle"
           },
           "mode": "markers+text",
           "name": "BTS.BK",
           "orientation": "v",
           "showlegend": true,
           "text": [
            "BTS.BK"
           ],
           "type": "scatter",
           "x": [
            0.0025488970295519664
           ],
           "xaxis": "x",
           "y": [
            -0.005081729905292405
           ],
           "yaxis": "y"
          },
          {
           "customdata": [
            [
             "CBG.BK",
             94
            ]
           ],
           "hovertemplate": "Stock=%{customdata[0]}<br>Date=2022-12-23<br>MACD_12_26_9=%{x}<br>MACDh_12_26_9=%{y}<br>Close=%{customdata[1]}<extra></extra>",
           "ids": [
            "CBG.BK"
           ],
           "legendgroup": "CBG.BK",
           "marker": {
            "color": "#EF553B",
            "symbol": "circle"
           },
           "mode": "markers+text",
           "name": "CBG.BK",
           "orientation": "v",
           "showlegend": true,
           "text": [
            "CBG.BK"
           ],
           "type": "scatter",
           "x": [
            0.2006490878909517
           ],
           "xaxis": "x",
           "y": [
            -0.3570507710874201
           ],
           "yaxis": "y"
          },
          {
           "customdata": [
            [
             "CPALL.BK",
             66
            ]
           ],
           "hovertemplate": "Stock=%{customdata[0]}<br>Date=2022-12-23<br>MACD_12_26_9=%{x}<br>MACDh_12_26_9=%{y}<br>Close=%{customdata[1]}<extra></extra>",
           "ids": [
            "CPALL.BK"
           ],
           "legendgroup": "CPALL.BK",
           "marker": {
            "color": "#00cc96",
            "symbol": "circle"
           },
           "mode": "markers+text",
           "name": "CPALL.BK",
           "orientation": "v",
           "showlegend": true,
           "text": [
            "CPALL.BK"
           ],
           "type": "scatter",
           "x": [
            1.1461864452338943
           ],
           "xaxis": "x",
           "y": [
            -0.05709949331733721
           ],
           "yaxis": "y"
          },
          {
           "customdata": [
            [
             "CPF.BK",
             24.600000381469727
            ]
           ],
           "hovertemplate": "Stock=%{customdata[0]}<br>Date=2022-12-23<br>MACD_12_26_9=%{x}<br>MACDh_12_26_9=%{y}<br>Close=%{customdata[1]}<extra></extra>",
           "ids": [
            "CPF.BK"
           ],
           "legendgroup": "CPF.BK",
           "marker": {
            "color": "#ab63fa",
            "symbol": "circle"
           },
           "mode": "markers+text",
           "name": "CPF.BK",
           "orientation": "v",
           "showlegend": true,
           "text": [
            "CPF.BK"
           ],
           "type": "scatter",
           "x": [
            -0.014590011359871369
           ],
           "xaxis": "x",
           "y": [
            0.13250313203433467
           ],
           "yaxis": "y"
          },
          {
           "customdata": [
            [
             "CPN.BK",
             69.75
            ]
           ],
           "hovertemplate": "Stock=%{customdata[0]}<br>Date=2022-12-23<br>MACD_12_26_9=%{x}<br>MACDh_12_26_9=%{y}<br>Close=%{customdata[1]}<extra></extra>",
           "ids": [
            "CPN.BK"
           ],
           "legendgroup": "CPN.BK",
           "marker": {
            "color": "#FFA15A",
            "symbol": "circle"
           },
           "mode": "markers+text",
           "name": "CPN.BK",
           "orientation": "v",
           "showlegend": true,
           "text": [
            "CPN.BK"
           ],
           "type": "scatter",
           "x": [
            0.14431402933753645
           ],
           "xaxis": "x",
           "y": [
            -0.26109624788497576
           ],
           "yaxis": "y"
          },
          {
           "customdata": [
            [
             "CRC.BK",
             45.5
            ]
           ],
           "hovertemplate": "Stock=%{customdata[0]}<br>Date=2022-12-23<br>MACD_12_26_9=%{x}<br>MACDh_12_26_9=%{y}<br>Close=%{customdata[1]}<extra></extra>",
           "ids": [
            "CRC.BK"
           ],
           "legendgroup": "CRC.BK",
           "marker": {
            "color": "#19d3f3",
            "symbol": "circle"
           },
           "mode": "markers+text",
           "name": "CRC.BK",
           "orientation": "v",
           "showlegend": true,
           "text": [
            "CRC.BK"
           ],
           "type": "scatter",
           "x": [
            0.8589424939435091
           ],
           "xaxis": "x",
           "y": [
            0.0998282974200968
           ],
           "yaxis": "y"
          },
          {
           "customdata": [
            [
             "DTAC.BK",
             44.75
            ]
           ],
           "hovertemplate": "Stock=%{customdata[0]}<br>Date=2022-12-23<br>MACD_12_26_9=%{x}<br>MACDh_12_26_9=%{y}<br>Close=%{customdata[1]}<extra></extra>",
           "ids": [
            "DTAC.BK"
           ],
           "legendgroup": "DTAC.BK",
           "marker": {
            "color": "#FF6692",
            "symbol": "circle"
           },
           "mode": "markers+text",
           "name": "DTAC.BK",
           "orientation": "v",
           "showlegend": true,
           "text": [
            "DTAC.BK"
           ],
           "type": "scatter",
           "x": [
            0.3522299295503686
           ],
           "xaxis": "x",
           "y": [
            0.3725286163514362
           ],
           "yaxis": "y"
          },
          {
           "customdata": [
            [
             "EA.BK",
             93.75
            ]
           ],
           "hovertemplate": "Stock=%{customdata[0]}<br>Date=2022-12-23<br>MACD_12_26_9=%{x}<br>MACDh_12_26_9=%{y}<br>Close=%{customdata[1]}<extra></extra>",
           "ids": [
            "EA.BK"
           ],
           "legendgroup": "EA.BK",
           "marker": {
            "color": "#B6E880",
            "symbol": "circle"
           },
           "mode": "markers+text",
           "name": "EA.BK",
           "orientation": "v",
           "showlegend": true,
           "text": [
            "EA.BK"
           ],
           "type": "scatter",
           "x": [
            -0.0527166846534044
           ],
           "xaxis": "x",
           "y": [
            -0.3066793928587572
           ],
           "yaxis": "y"
          },
          {
           "customdata": [
            [
             "EGCO.BK",
             168
            ]
           ],
           "hovertemplate": "Stock=%{customdata[0]}<br>Date=2022-12-23<br>MACD_12_26_9=%{x}<br>MACDh_12_26_9=%{y}<br>Close=%{customdata[1]}<extra></extra>",
           "ids": [
            "EGCO.BK"
           ],
           "legendgroup": "EGCO.BK",
           "marker": {
            "color": "#FF97FF",
            "symbol": "circle"
           },
           "mode": "markers+text",
           "name": "EGCO.BK",
           "orientation": "v",
           "showlegend": true,
           "text": [
            "EGCO.BK"
           ],
           "type": "scatter",
           "x": [
            -0.41590733007058134
           ],
           "xaxis": "x",
           "y": [
            -0.19623625441510914
           ],
           "yaxis": "y"
          },
          {
           "customdata": [
            [
             "GLOBAL.BK",
             21.600000381469727
            ]
           ],
           "hovertemplate": "Stock=%{customdata[0]}<br>Date=2022-12-23<br>MACD_12_26_9=%{x}<br>MACDh_12_26_9=%{y}<br>Close=%{customdata[1]}<extra></extra>",
           "ids": [
            "GLOBAL.BK"
           ],
           "legendgroup": "GLOBAL.BK",
           "marker": {
            "color": "#FECB52",
            "symbol": "circle"
           },
           "mode": "markers+text",
           "name": "GLOBAL.BK",
           "orientation": "v",
           "showlegend": true,
           "text": [
            "GLOBAL.BK"
           ],
           "type": "scatter",
           "x": [
            0.3688627441158303
           ],
           "xaxis": "x",
           "y": [
            0.1996282066340391
           ],
           "yaxis": "y"
          },
          {
           "customdata": [
            [
             "GPSC.BK",
             71.25
            ]
           ],
           "hovertemplate": "Stock=%{customdata[0]}<br>Date=2022-12-23<br>MACD_12_26_9=%{x}<br>MACDh_12_26_9=%{y}<br>Close=%{customdata[1]}<extra></extra>",
           "ids": [
            "GPSC.BK"
           ],
           "legendgroup": "GPSC.BK",
           "marker": {
            "color": "#636efa",
            "symbol": "circle"
           },
           "mode": "markers+text",
           "name": "GPSC.BK",
           "orientation": "v",
           "showlegend": true,
           "text": [
            "GPSC.BK"
           ],
           "type": "scatter",
           "x": [
            1.3013180137572675
           ],
           "xaxis": "x",
           "y": [
            -0.12950159666164174
           ],
           "yaxis": "y"
          },
          {
           "customdata": [
            [
             "GULF.BK",
             53.25
            ]
           ],
           "hovertemplate": "Stock=%{customdata[0]}<br>Date=2022-12-23<br>MACD_12_26_9=%{x}<br>MACDh_12_26_9=%{y}<br>Close=%{customdata[1]}<extra></extra>",
           "ids": [
            "GULF.BK"
           ],
           "legendgroup": "GULF.BK",
           "marker": {
            "color": "#EF553B",
            "symbol": "circle"
           },
           "mode": "markers+text",
           "name": "GULF.BK",
           "orientation": "v",
           "showlegend": true,
           "text": [
            "GULF.BK"
           ],
           "type": "scatter",
           "x": [
            0.46277993583024113
           ],
           "xaxis": "x",
           "y": [
            -0.11547808020770822
           ],
           "yaxis": "y"
          },
          {
           "customdata": [
            [
             "HMPRO.BK",
             15.300000190734863
            ]
           ],
           "hovertemplate": "Stock=%{customdata[0]}<br>Date=2022-12-23<br>MACD_12_26_9=%{x}<br>MACDh_12_26_9=%{y}<br>Close=%{customdata[1]}<extra></extra>",
           "ids": [
            "HMPRO.BK"
           ],
           "legendgroup": "HMPRO.BK",
           "marker": {
            "color": "#00cc96",
            "symbol": "circle"
           },
           "mode": "markers+text",
           "name": "HMPRO.BK",
           "orientation": "v",
           "showlegend": true,
           "text": [
            "HMPRO.BK"
           ],
           "type": "scatter",
           "x": [
            0.1922241800549429
           ],
           "xaxis": "x",
           "y": [
            0.042558112703436624
           ],
           "yaxis": "y"
          },
          {
           "customdata": [
            [
             "INTUCH.BK",
             75.5
            ]
           ],
           "hovertemplate": "Stock=%{customdata[0]}<br>Date=2022-12-23<br>MACD_12_26_9=%{x}<br>MACDh_12_26_9=%{y}<br>Close=%{customdata[1]}<extra></extra>",
           "ids": [
            "INTUCH.BK"
           ],
           "legendgroup": "INTUCH.BK",
           "marker": {
            "color": "#ab63fa",
            "symbol": "circle"
           },
           "mode": "markers+text",
           "name": "INTUCH.BK",
           "orientation": "v",
           "showlegend": true,
           "text": [
            "INTUCH.BK"
           ],
           "type": "scatter",
           "x": [
            0.7534367751966045
           ],
           "xaxis": "x",
           "y": [
            0.035821229160160506
           ],
           "yaxis": "y"
          },
          {
           "customdata": [
            [
             "IRPC.BK",
             2.9200000762939453
            ]
           ],
           "hovertemplate": "Stock=%{customdata[0]}<br>Date=2022-12-23<br>MACD_12_26_9=%{x}<br>MACDh_12_26_9=%{y}<br>Close=%{customdata[1]}<extra></extra>",
           "ids": [
            "IRPC.BK"
           ],
           "legendgroup": "IRPC.BK",
           "marker": {
            "color": "#FFA15A",
            "symbol": "circle"
           },
           "mode": "markers+text",
           "name": "IRPC.BK",
           "orientation": "v",
           "showlegend": true,
           "text": [
            "IRPC.BK"
           ],
           "type": "scatter",
           "x": [
            -0.04545969570481434
           ],
           "xaxis": "x",
           "y": [
            -0.004390149033057532
           ],
           "yaxis": "y"
          },
          {
           "customdata": [
            [
             "IVL.BK",
             39.5
            ]
           ],
           "hovertemplate": "Stock=%{customdata[0]}<br>Date=2022-12-23<br>MACD_12_26_9=%{x}<br>MACDh_12_26_9=%{y}<br>Close=%{customdata[1]}<extra></extra>",
           "ids": [
            "IVL.BK"
           ],
           "legendgroup": "IVL.BK",
           "marker": {
            "color": "#19d3f3",
            "symbol": "circle"
           },
           "mode": "markers+text",
           "name": "IVL.BK",
           "orientation": "v",
           "showlegend": true,
           "text": [
            "IVL.BK"
           ],
           "type": "scatter",
           "x": [
            -0.6221971190613473
           ],
           "xaxis": "x",
           "y": [
            -0.1640650343219982
           ],
           "yaxis": "y"
          },
          {
           "customdata": [
            [
             "JMART.BK",
             39.25
            ]
           ],
           "hovertemplate": "Stock=%{customdata[0]}<br>Date=2022-12-23<br>MACD_12_26_9=%{x}<br>MACDh_12_26_9=%{y}<br>Close=%{customdata[1]}<extra></extra>",
           "ids": [
            "JMART.BK"
           ],
           "legendgroup": "JMART.BK",
           "marker": {
            "color": "#FF6692",
            "symbol": "circle"
           },
           "mode": "markers+text",
           "name": "JMART.BK",
           "orientation": "v",
           "showlegend": true,
           "text": [
            "JMART.BK"
           ],
           "type": "scatter",
           "x": [
            -1.2749384462379965
           ],
           "xaxis": "x",
           "y": [
            -0.1563180799362036
           ],
           "yaxis": "y"
          },
          {
           "customdata": [
            [
             "JMT.BK",
             65
            ]
           ],
           "hovertemplate": "Stock=%{customdata[0]}<br>Date=2022-12-23<br>MACD_12_26_9=%{x}<br>MACDh_12_26_9=%{y}<br>Close=%{customdata[1]}<extra></extra>",
           "ids": [
            "JMT.BK"
           ],
           "legendgroup": "JMT.BK",
           "marker": {
            "color": "#B6E880",
            "symbol": "circle"
           },
           "mode": "markers+text",
           "name": "JMT.BK",
           "orientation": "v",
           "showlegend": true,
           "text": [
            "JMT.BK"
           ],
           "type": "scatter",
           "x": [
            0.09078873127133136
           ],
           "xaxis": "x",
           "y": [
            -0.371676943719744
           ],
           "yaxis": "y"
          },
          {
           "customdata": [
            [
             "KBANK.BK",
             144
            ]
           ],
           "hovertemplate": "Stock=%{customdata[0]}<br>Date=2022-12-23<br>MACD_12_26_9=%{x}<br>MACDh_12_26_9=%{y}<br>Close=%{customdata[1]}<extra></extra>",
           "ids": [
            "KBANK.BK"
           ],
           "legendgroup": "KBANK.BK",
           "marker": {
            "color": "#FF97FF",
            "symbol": "circle"
           },
           "mode": "markers+text",
           "name": "KBANK.BK",
           "orientation": "v",
           "showlegend": true,
           "text": [
            "KBANK.BK"
           ],
           "type": "scatter",
           "x": [
            -0.1716333227716973
           ],
           "xaxis": "x",
           "y": [
            0.27312445496611415
           ],
           "yaxis": "y"
          },
          {
           "customdata": [
            [
             "KCE.BK",
             45.5
            ]
           ],
           "hovertemplate": "Stock=%{customdata[0]}<br>Date=2022-12-23<br>MACD_12_26_9=%{x}<br>MACDh_12_26_9=%{y}<br>Close=%{customdata[1]}<extra></extra>",
           "ids": [
            "KCE.BK"
           ],
           "legendgroup": "KCE.BK",
           "marker": {
            "color": "#FECB52",
            "symbol": "circle"
           },
           "mode": "markers+text",
           "name": "KCE.BK",
           "orientation": "v",
           "showlegend": true,
           "text": [
            "KCE.BK"
           ],
           "type": "scatter",
           "x": [
            -0.3499457465309419
           ],
           "xaxis": "x",
           "y": [
            -0.5365005955579962
           ],
           "yaxis": "y"
          },
          {
           "customdata": [
            [
             "KTB.BK",
             17.899999618530273
            ]
           ],
           "hovertemplate": "Stock=%{customdata[0]}<br>Date=2022-12-23<br>MACD_12_26_9=%{x}<br>MACDh_12_26_9=%{y}<br>Close=%{customdata[1]}<extra></extra>",
           "ids": [
            "KTB.BK"
           ],
           "legendgroup": "KTB.BK",
           "marker": {
            "color": "#636efa",
            "symbol": "circle"
           },
           "mode": "markers+text",
           "name": "KTB.BK",
           "orientation": "v",
           "showlegend": true,
           "text": [
            "KTB.BK"
           ],
           "type": "scatter",
           "x": [
            0.0867191917473491
           ],
           "xaxis": "x",
           "y": [
            0.00956263138520537
           ],
           "yaxis": "y"
          },
          {
           "customdata": [
            [
             "KTC.BK",
             59
            ]
           ],
           "hovertemplate": "Stock=%{customdata[0]}<br>Date=2022-12-23<br>MACD_12_26_9=%{x}<br>MACDh_12_26_9=%{y}<br>Close=%{customdata[1]}<extra></extra>",
           "ids": [
            "KTC.BK"
           ],
           "legendgroup": "KTC.BK",
           "marker": {
            "color": "#EF553B",
            "symbol": "circle"
           },
           "mode": "markers+text",
           "name": "KTC.BK",
           "orientation": "v",
           "showlegend": true,
           "text": [
            "KTC.BK"
           ],
           "type": "scatter",
           "x": [
            0.12208100688160783
           ],
           "xaxis": "x",
           "y": [
            -0.16345321052639172
           ],
           "yaxis": "y"
          },
          {
           "customdata": [
            [
             "LH.BK",
             9.850000381469727
            ]
           ],
           "hovertemplate": "Stock=%{customdata[0]}<br>Date=2022-12-23<br>MACD_12_26_9=%{x}<br>MACDh_12_26_9=%{y}<br>Close=%{customdata[1]}<extra></extra>",
           "ids": [
            "LH.BK"
           ],
           "legendgroup": "LH.BK",
           "marker": {
            "color": "#00cc96",
            "symbol": "circle"
           },
           "mode": "markers+text",
           "name": "LH.BK",
           "orientation": "v",
           "showlegend": true,
           "text": [
            "LH.BK"
           ],
           "type": "scatter",
           "x": [
            0.13449711683661825
           ],
           "xaxis": "x",
           "y": [
            0.013144547704692602
           ],
           "yaxis": "y"
          },
          {
           "customdata": [
            [
             "MINT.BK",
             31.25
            ]
           ],
           "hovertemplate": "Stock=%{customdata[0]}<br>Date=2022-12-23<br>MACD_12_26_9=%{x}<br>MACDh_12_26_9=%{y}<br>Close=%{customdata[1]}<extra></extra>",
           "ids": [
            "MINT.BK"
           ],
           "legendgroup": "MINT.BK",
           "marker": {
            "color": "#ab63fa",
            "symbol": "circle"
           },
           "mode": "markers+text",
           "name": "MINT.BK",
           "orientation": "v",
           "showlegend": true,
           "text": [
            "MINT.BK"
           ],
           "type": "scatter",
           "x": [
            0.4801863949830576
           ],
           "xaxis": "x",
           "y": [
            -0.02082052709739346
           ],
           "yaxis": "y"
          },
          {
           "customdata": [
            [
             "MTC.BK",
             37.25
            ]
           ],
           "hovertemplate": "Stock=%{customdata[0]}<br>Date=2022-12-23<br>MACD_12_26_9=%{x}<br>MACDh_12_26_9=%{y}<br>Close=%{customdata[1]}<extra></extra>",
           "ids": [
            "MTC.BK"
           ],
           "legendgroup": "MTC.BK",
           "marker": {
            "color": "#FFA15A",
            "symbol": "circle"
           },
           "mode": "markers+text",
           "name": "MTC.BK",
           "orientation": "v",
           "showlegend": true,
           "text": [
            "MTC.BK"
           ],
           "type": "scatter",
           "x": [
            0.10432594193067501
           ],
           "xaxis": "x",
           "y": [
            -0.21883114318158953
           ],
           "yaxis": "y"
          },
          {
           "customdata": [
            [
             "OR.BK",
             23
            ]
           ],
           "hovertemplate": "Stock=%{customdata[0]}<br>Date=2022-12-23<br>MACD_12_26_9=%{x}<br>MACDh_12_26_9=%{y}<br>Close=%{customdata[1]}<extra></extra>",
           "ids": [
            "OR.BK"
           ],
           "legendgroup": "OR.BK",
           "marker": {
            "color": "#19d3f3",
            "symbol": "circle"
           },
           "mode": "markers+text",
           "name": "OR.BK",
           "orientation": "v",
           "showlegend": true,
           "text": [
            "OR.BK"
           ],
           "type": "scatter",
           "x": [
            -0.4134638337567971
           ],
           "xaxis": "x",
           "y": [
            -0.10908578199000968
           ],
           "yaxis": "y"
          },
          {
           "customdata": [
            [
             "OSP.BK",
             27.25
            ]
           ],
           "hovertemplate": "Stock=%{customdata[0]}<br>Date=2022-12-23<br>MACD_12_26_9=%{x}<br>MACDh_12_26_9=%{y}<br>Close=%{customdata[1]}<extra></extra>",
           "ids": [
            "OSP.BK"
           ],
           "legendgroup": "OSP.BK",
           "marker": {
            "color": "#FF6692",
            "symbol": "circle"
           },
           "mode": "markers+text",
           "name": "OSP.BK",
           "orientation": "v",
           "showlegend": true,
           "text": [
            "OSP.BK"
           ],
           "type": "scatter",
           "x": [
            -0.026130105961481576
           ],
           "xaxis": "x",
           "y": [
            -0.19856725205896922
           ],
           "yaxis": "y"
          },
          {
           "customdata": [
            [
             "PTT.BK",
             31.5
            ]
           ],
           "hovertemplate": "Stock=%{customdata[0]}<br>Date=2022-12-23<br>MACD_12_26_9=%{x}<br>MACDh_12_26_9=%{y}<br>Close=%{customdata[1]}<extra></extra>",
           "ids": [
            "PTT.BK"
           ],
           "legendgroup": "PTT.BK",
           "marker": {
            "color": "#B6E880",
            "symbol": "circle"
           },
           "mode": "markers+text",
           "name": "PTT.BK",
           "orientation": "v",
           "showlegend": true,
           "text": [
            "PTT.BK"
           ],
           "type": "scatter",
           "x": [
            -0.7479546427273043
           ],
           "xaxis": "x",
           "y": [
            0.0015506476312290296
           ],
           "yaxis": "y"
          },
          {
           "customdata": [
            [
             "PTTEP.BK",
             171.5
            ]
           ],
           "hovertemplate": "Stock=%{customdata[0]}<br>Date=2022-12-23<br>MACD_12_26_9=%{x}<br>MACDh_12_26_9=%{y}<br>Close=%{customdata[1]}<extra></extra>",
           "ids": [
            "PTTEP.BK"
           ],
           "legendgroup": "PTTEP.BK",
           "marker": {
            "color": "#FF97FF",
            "symbol": "circle"
           },
           "mode": "markers+text",
           "name": "PTTEP.BK",
           "orientation": "v",
           "showlegend": true,
           "text": [
            "PTTEP.BK"
           ],
           "type": "scatter",
           "x": [
            -3.838872614187693
           ],
           "xaxis": "x",
           "y": [
            -0.8551023317116511
           ],
           "yaxis": "y"
          },
          {
           "customdata": [
            [
             "PTTGC.BK",
             44.75
            ]
           ],
           "hovertemplate": "Stock=%{customdata[0]}<br>Date=2022-12-23<br>MACD_12_26_9=%{x}<br>MACDh_12_26_9=%{y}<br>Close=%{customdata[1]}<extra></extra>",
           "ids": [
            "PTTGC.BK"
           ],
           "legendgroup": "PTTGC.BK",
           "marker": {
            "color": "#FECB52",
            "symbol": "circle"
           },
           "mode": "markers+text",
           "name": "PTTGC.BK",
           "orientation": "v",
           "showlegend": true,
           "text": [
            "PTTGC.BK"
           ],
           "type": "scatter",
           "x": [
            -0.18306575606270314
           ],
           "xaxis": "x",
           "y": [
            -0.2958436041152114
           ],
           "yaxis": "y"
          },
          {
           "customdata": [
            [
             "SAWAD.BK",
             47.75
            ]
           ],
           "hovertemplate": "Stock=%{customdata[0]}<br>Date=2022-12-23<br>MACD_12_26_9=%{x}<br>MACDh_12_26_9=%{y}<br>Close=%{customdata[1]}<extra></extra>",
           "ids": [
            "SAWAD.BK"
           ],
           "legendgroup": "SAWAD.BK",
           "marker": {
            "color": "#636efa",
            "symbol": "circle"
           },
           "mode": "markers+text",
           "name": "SAWAD.BK",
           "orientation": "v",
           "showlegend": true,
           "text": [
            "SAWAD.BK"
           ],
           "type": "scatter",
           "x": [
            1.0921531963272315
           ],
           "xaxis": "x",
           "y": [
            -0.23052315891648467
           ],
           "yaxis": "y"
          },
          {
           "customdata": [
            [
             "SCB.BK",
             105
            ]
           ],
           "hovertemplate": "Stock=%{customdata[0]}<br>Date=2022-12-23<br>MACD_12_26_9=%{x}<br>MACDh_12_26_9=%{y}<br>Close=%{customdata[1]}<extra></extra>",
           "ids": [
            "SCB.BK"
           ],
           "legendgroup": "SCB.BK",
           "marker": {
            "color": "#EF553B",
            "symbol": "circle"
           },
           "mode": "markers+text",
           "name": "SCB.BK",
           "orientation": "v",
           "showlegend": true,
           "text": [
            "SCB.BK"
           ],
           "type": "scatter",
           "x": [
            -0.339786336285826
           ],
           "xaxis": "x",
           "y": [
            0.1762427277597849
           ],
           "yaxis": "y"
          },
          {
           "customdata": [
            [
             "SCC.BK",
             334
            ]
           ],
           "hovertemplate": "Stock=%{customdata[0]}<br>Date=2022-12-23<br>MACD_12_26_9=%{x}<br>MACDh_12_26_9=%{y}<br>Close=%{customdata[1]}<extra></extra>",
           "ids": [
            "SCC.BK"
           ],
           "legendgroup": "SCC.BK",
           "marker": {
            "color": "#00cc96",
            "symbol": "circle"
           },
           "mode": "markers+text",
           "name": "SCC.BK",
           "orientation": "v",
           "showlegend": true,
           "text": [
            "SCC.BK"
           ],
           "type": "scatter",
           "x": [
            -1.189386695534779
           ],
           "xaxis": "x",
           "y": [
            -0.17718304313740618
           ],
           "yaxis": "y"
          },
          {
           "customdata": [
            [
             "SCGP.BK",
             55.5
            ]
           ],
           "hovertemplate": "Stock=%{customdata[0]}<br>Date=2022-12-23<br>MACD_12_26_9=%{x}<br>MACDh_12_26_9=%{y}<br>Close=%{customdata[1]}<extra></extra>",
           "ids": [
            "SCGP.BK"
           ],
           "legendgroup": "SCGP.BK",
           "marker": {
            "color": "#ab63fa",
            "symbol": "circle"
           },
           "mode": "markers+text",
           "name": "SCGP.BK",
           "orientation": "v",
           "showlegend": true,
           "text": [
            "SCGP.BK"
           ],
           "type": "scatter",
           "x": [
            0.13377720587914155
           ],
           "xaxis": "x",
           "y": [
            -0.21997199616845298
           ],
           "yaxis": "y"
          },
          {
           "customdata": [
            [
             "TIDLOR.BK",
             29.25
            ]
           ],
           "hovertemplate": "Stock=%{customdata[0]}<br>Date=2022-12-23<br>MACD_12_26_9=%{x}<br>MACDh_12_26_9=%{y}<br>Close=%{customdata[1]}<extra></extra>",
           "ids": [
            "TIDLOR.BK"
           ],
           "legendgroup": "TIDLOR.BK",
           "marker": {
            "color": "#FFA15A",
            "symbol": "circle"
           },
           "mode": "markers+text",
           "name": "TIDLOR.BK",
           "orientation": "v",
           "showlegend": true,
           "text": [
            "TIDLOR.BK"
           ],
           "type": "scatter",
           "x": [
            0.5153776668186012
           ],
           "xaxis": "x",
           "y": [
            -0.0865981825343064
           ],
           "yaxis": "y"
          },
          {
           "customdata": [
            [
             "TISCO.BK",
             99
            ]
           ],
           "hovertemplate": "Stock=%{customdata[0]}<br>Date=2022-12-23<br>MACD_12_26_9=%{x}<br>MACDh_12_26_9=%{y}<br>Close=%{customdata[1]}<extra></extra>",
           "ids": [
            "TISCO.BK"
           ],
           "legendgroup": "TISCO.BK",
           "marker": {
            "color": "#19d3f3",
            "symbol": "circle"
           },
           "mode": "markers+text",
           "name": "TISCO.BK",
           "orientation": "v",
           "showlegend": true,
           "text": [
            "TISCO.BK"
           ],
           "type": "scatter",
           "x": [
            0.7463107041539132
           ],
           "xaxis": "x",
           "y": [
            0.04497470234312306
           ],
           "yaxis": "y"
          },
          {
           "customdata": [
            [
             "TOP.BK",
             55.25
            ]
           ],
           "hovertemplate": "Stock=%{customdata[0]}<br>Date=2022-12-23<br>MACD_12_26_9=%{x}<br>MACDh_12_26_9=%{y}<br>Close=%{customdata[1]}<extra></extra>",
           "ids": [
            "TOP.BK"
           ],
           "legendgroup": "TOP.BK",
           "marker": {
            "color": "#FF6692",
            "symbol": "circle"
           },
           "mode": "markers+text",
           "name": "TOP.BK",
           "orientation": "v",
           "showlegend": true,
           "text": [
            "TOP.BK"
           ],
           "type": "scatter",
           "x": [
            -0.09572928372998746
           ],
           "xaxis": "x",
           "y": [
            -0.02561619707719645
           ],
           "yaxis": "y"
          },
          {
           "customdata": [
            [
             "TRUE.BK",
             4.71999979019165
            ]
           ],
           "hovertemplate": "Stock=%{customdata[0]}<br>Date=2022-12-23<br>MACD_12_26_9=%{x}<br>MACDh_12_26_9=%{y}<br>Close=%{customdata[1]}<extra></extra>",
           "ids": [
            "TRUE.BK"
           ],
           "legendgroup": "TRUE.BK",
           "marker": {
            "color": "#B6E880",
            "symbol": "circle"
           },
           "mode": "markers+text",
           "name": "TRUE.BK",
           "orientation": "v",
           "showlegend": true,
           "text": [
            "TRUE.BK"
           ],
           "type": "scatter",
           "x": [
            -0.01342362044531864
           ],
           "xaxis": "x",
           "y": [
            0.022245470625506046
           ],
           "yaxis": "y"
          },
          {
           "customdata": [
            [
             "TTB.BK",
             1.3700000047683716
            ]
           ],
           "hovertemplate": "Stock=%{customdata[0]}<br>Date=2022-12-23<br>MACD_12_26_9=%{x}<br>MACDh_12_26_9=%{y}<br>Close=%{customdata[1]}<extra></extra>",
           "ids": [
            "TTB.BK"
           ],
           "legendgroup": "TTB.BK",
           "marker": {
            "color": "#FF97FF",
            "symbol": "circle"
           },
           "mode": "markers+text",
           "name": "TTB.BK",
           "orientation": "v",
           "showlegend": true,
           "text": [
            "TTB.BK"
           ],
           "type": "scatter",
           "x": [
            0.0034550946689613227
           ],
           "xaxis": "x",
           "y": [
            -0.003254959852243315
           ],
           "yaxis": "y"
          },
          {
           "customdata": [
            [
             "TU.BK",
             16.600000381469727
            ]
           ],
           "hovertemplate": "Stock=%{customdata[0]}<br>Date=2022-12-23<br>MACD_12_26_9=%{x}<br>MACDh_12_26_9=%{y}<br>Close=%{customdata[1]}<extra></extra>",
           "ids": [
            "TU.BK"
           ],
           "legendgroup": "TU.BK",
           "marker": {
            "color": "#FECB52",
            "symbol": "circle"
           },
           "mode": "markers+text",
           "name": "TU.BK",
           "orientation": "v",
           "showlegend": true,
           "text": [
            "TU.BK"
           ],
           "type": "scatter",
           "x": [
            -0.20672103033990297
           ],
           "xaxis": "x",
           "y": [
            0.0043250286990707265
           ],
           "yaxis": "y"
          }
         ],
         "name": "2022-12-23"
        }
       ],
       "layout": {
        "height": 750,
        "legend": {
         "title": {
          "text": "Stock"
         },
         "tracegroupgap": 0
        },
        "shapes": [
         {
          "line": {
           "color": "red"
          },
          "type": "line",
          "x0": 0,
          "x1": 0,
          "xref": "x",
          "y0": 0,
          "y1": 1,
          "yref": "y domain"
         },
         {
          "line": {
           "color": "red"
          },
          "type": "line",
          "x0": 0,
          "x1": 1,
          "xref": "x domain",
          "y0": 0,
          "y1": 0,
          "yref": "y"
         }
        ],
        "sliders": [
         {
          "active": 0,
          "currentvalue": {
           "prefix": "Date="
          },
          "len": 0.9,
          "pad": {
           "b": 10,
           "t": 60
          },
          "steps": [
           {
            "args": [
             [
              "2022-12-19"
             ],
             {
              "frame": {
               "duration": 0,
               "redraw": false
              },
              "fromcurrent": true,
              "mode": "immediate",
              "transition": {
               "duration": 0,
               "easing": "linear"
              }
             }
            ],
            "label": "2022-12-19",
            "method": "animate"
           },
           {
            "args": [
             [
              "2022-12-20"
             ],
             {
              "frame": {
               "duration": 0,
               "redraw": false
              },
              "fromcurrent": true,
              "mode": "immediate",
              "transition": {
               "duration": 0,
               "easing": "linear"
              }
             }
            ],
            "label": "2022-12-20",
            "method": "animate"
           },
           {
            "args": [
             [
              "2022-12-21"
             ],
             {
              "frame": {
               "duration": 0,
               "redraw": false
              },
              "fromcurrent": true,
              "mode": "immediate",
              "transition": {
               "duration": 0,
               "easing": "linear"
              }
             }
            ],
            "label": "2022-12-21",
            "method": "animate"
           },
           {
            "args": [
             [
              "2022-12-22"
             ],
             {
              "frame": {
               "duration": 0,
               "redraw": false
              },
              "fromcurrent": true,
              "mode": "immediate",
              "transition": {
               "duration": 0,
               "easing": "linear"
              }
             }
            ],
            "label": "2022-12-22",
            "method": "animate"
           },
           {
            "args": [
             [
              "2022-12-23"
             ],
             {
              "frame": {
               "duration": 0,
               "redraw": false
              },
              "fromcurrent": true,
              "mode": "immediate",
              "transition": {
               "duration": 0,
               "easing": "linear"
              }
             }
            ],
            "label": "2022-12-23",
            "method": "animate"
           }
          ],
          "x": 0.1,
          "xanchor": "left",
          "y": 0,
          "yanchor": "top"
         }
        ],
        "template": {
         "data": {
          "bar": [
           {
            "error_x": {
             "color": "#2a3f5f"
            },
            "error_y": {
             "color": "#2a3f5f"
            },
            "marker": {
             "line": {
              "color": "#E5ECF6",
              "width": 0.5
             },
             "pattern": {
              "fillmode": "overlay",
              "size": 10,
              "solidity": 0.2
             }
            },
            "type": "bar"
           }
          ],
          "barpolar": [
           {
            "marker": {
             "line": {
              "color": "#E5ECF6",
              "width": 0.5
             },
             "pattern": {
              "fillmode": "overlay",
              "size": 10,
              "solidity": 0.2
             }
            },
            "type": "barpolar"
           }
          ],
          "carpet": [
           {
            "aaxis": {
             "endlinecolor": "#2a3f5f",
             "gridcolor": "white",
             "linecolor": "white",
             "minorgridcolor": "white",
             "startlinecolor": "#2a3f5f"
            },
            "baxis": {
             "endlinecolor": "#2a3f5f",
             "gridcolor": "white",
             "linecolor": "white",
             "minorgridcolor": "white",
             "startlinecolor": "#2a3f5f"
            },
            "type": "carpet"
           }
          ],
          "choropleth": [
           {
            "colorbar": {
             "outlinewidth": 0,
             "ticks": ""
            },
            "type": "choropleth"
           }
          ],
          "contour": [
           {
            "colorbar": {
             "outlinewidth": 0,
             "ticks": ""
            },
            "colorscale": [
             [
              0,
              "#0d0887"
             ],
             [
              0.1111111111111111,
              "#46039f"
             ],
             [
              0.2222222222222222,
              "#7201a8"
             ],
             [
              0.3333333333333333,
              "#9c179e"
             ],
             [
              0.4444444444444444,
              "#bd3786"
             ],
             [
              0.5555555555555556,
              "#d8576b"
             ],
             [
              0.6666666666666666,
              "#ed7953"
             ],
             [
              0.7777777777777778,
              "#fb9f3a"
             ],
             [
              0.8888888888888888,
              "#fdca26"
             ],
             [
              1,
              "#f0f921"
             ]
            ],
            "type": "contour"
           }
          ],
          "contourcarpet": [
           {
            "colorbar": {
             "outlinewidth": 0,
             "ticks": ""
            },
            "type": "contourcarpet"
           }
          ],
          "heatmap": [
           {
            "colorbar": {
             "outlinewidth": 0,
             "ticks": ""
            },
            "colorscale": [
             [
              0,
              "#0d0887"
             ],
             [
              0.1111111111111111,
              "#46039f"
             ],
             [
              0.2222222222222222,
              "#7201a8"
             ],
             [
              0.3333333333333333,
              "#9c179e"
             ],
             [
              0.4444444444444444,
              "#bd3786"
             ],
             [
              0.5555555555555556,
              "#d8576b"
             ],
             [
              0.6666666666666666,
              "#ed7953"
             ],
             [
              0.7777777777777778,
              "#fb9f3a"
             ],
             [
              0.8888888888888888,
              "#fdca26"
             ],
             [
              1,
              "#f0f921"
             ]
            ],
            "type": "heatmap"
           }
          ],
          "heatmapgl": [
           {
            "colorbar": {
             "outlinewidth": 0,
             "ticks": ""
            },
            "colorscale": [
             [
              0,
              "#0d0887"
             ],
             [
              0.1111111111111111,
              "#46039f"
             ],
             [
              0.2222222222222222,
              "#7201a8"
             ],
             [
              0.3333333333333333,
              "#9c179e"
             ],
             [
              0.4444444444444444,
              "#bd3786"
             ],
             [
              0.5555555555555556,
              "#d8576b"
             ],
             [
              0.6666666666666666,
              "#ed7953"
             ],
             [
              0.7777777777777778,
              "#fb9f3a"
             ],
             [
              0.8888888888888888,
              "#fdca26"
             ],
             [
              1,
              "#f0f921"
             ]
            ],
            "type": "heatmapgl"
           }
          ],
          "histogram": [
           {
            "marker": {
             "pattern": {
              "fillmode": "overlay",
              "size": 10,
              "solidity": 0.2
             }
            },
            "type": "histogram"
           }
          ],
          "histogram2d": [
           {
            "colorbar": {
             "outlinewidth": 0,
             "ticks": ""
            },
            "colorscale": [
             [
              0,
              "#0d0887"
             ],
             [
              0.1111111111111111,
              "#46039f"
             ],
             [
              0.2222222222222222,
              "#7201a8"
             ],
             [
              0.3333333333333333,
              "#9c179e"
             ],
             [
              0.4444444444444444,
              "#bd3786"
             ],
             [
              0.5555555555555556,
              "#d8576b"
             ],
             [
              0.6666666666666666,
              "#ed7953"
             ],
             [
              0.7777777777777778,
              "#fb9f3a"
             ],
             [
              0.8888888888888888,
              "#fdca26"
             ],
             [
              1,
              "#f0f921"
             ]
            ],
            "type": "histogram2d"
           }
          ],
          "histogram2dcontour": [
           {
            "colorbar": {
             "outlinewidth": 0,
             "ticks": ""
            },
            "colorscale": [
             [
              0,
              "#0d0887"
             ],
             [
              0.1111111111111111,
              "#46039f"
             ],
             [
              0.2222222222222222,
              "#7201a8"
             ],
             [
              0.3333333333333333,
              "#9c179e"
             ],
             [
              0.4444444444444444,
              "#bd3786"
             ],
             [
              0.5555555555555556,
              "#d8576b"
             ],
             [
              0.6666666666666666,
              "#ed7953"
             ],
             [
              0.7777777777777778,
              "#fb9f3a"
             ],
             [
              0.8888888888888888,
              "#fdca26"
             ],
             [
              1,
              "#f0f921"
             ]
            ],
            "type": "histogram2dcontour"
           }
          ],
          "mesh3d": [
           {
            "colorbar": {
             "outlinewidth": 0,
             "ticks": ""
            },
            "type": "mesh3d"
           }
          ],
          "parcoords": [
           {
            "line": {
             "colorbar": {
              "outlinewidth": 0,
              "ticks": ""
             }
            },
            "type": "parcoords"
           }
          ],
          "pie": [
           {
            "automargin": true,
            "type": "pie"
           }
          ],
          "scatter": [
           {
            "fillpattern": {
             "fillmode": "overlay",
             "size": 10,
             "solidity": 0.2
            },
            "type": "scatter"
           }
          ],
          "scatter3d": [
           {
            "line": {
             "colorbar": {
              "outlinewidth": 0,
              "ticks": ""
             }
            },
            "marker": {
             "colorbar": {
              "outlinewidth": 0,
              "ticks": ""
             }
            },
            "type": "scatter3d"
           }
          ],
          "scattercarpet": [
           {
            "marker": {
             "colorbar": {
              "outlinewidth": 0,
              "ticks": ""
             }
            },
            "type": "scattercarpet"
           }
          ],
          "scattergeo": [
           {
            "marker": {
             "colorbar": {
              "outlinewidth": 0,
              "ticks": ""
             }
            },
            "type": "scattergeo"
           }
          ],
          "scattergl": [
           {
            "marker": {
             "colorbar": {
              "outlinewidth": 0,
              "ticks": ""
             }
            },
            "type": "scattergl"
           }
          ],
          "scattermapbox": [
           {
            "marker": {
             "colorbar": {
              "outlinewidth": 0,
              "ticks": ""
             }
            },
            "type": "scattermapbox"
           }
          ],
          "scatterpolar": [
           {
            "marker": {
             "colorbar": {
              "outlinewidth": 0,
              "ticks": ""
             }
            },
            "type": "scatterpolar"
           }
          ],
          "scatterpolargl": [
           {
            "marker": {
             "colorbar": {
              "outlinewidth": 0,
              "ticks": ""
             }
            },
            "type": "scatterpolargl"
           }
          ],
          "scatterternary": [
           {
            "marker": {
             "colorbar": {
              "outlinewidth": 0,
              "ticks": ""
             }
            },
            "type": "scatterternary"
           }
          ],
          "surface": [
           {
            "colorbar": {
             "outlinewidth": 0,
             "ticks": ""
            },
            "colorscale": [
             [
              0,
              "#0d0887"
             ],
             [
              0.1111111111111111,
              "#46039f"
             ],
             [
              0.2222222222222222,
              "#7201a8"
             ],
             [
              0.3333333333333333,
              "#9c179e"
             ],
             [
              0.4444444444444444,
              "#bd3786"
             ],
             [
              0.5555555555555556,
              "#d8576b"
             ],
             [
              0.6666666666666666,
              "#ed7953"
             ],
             [
              0.7777777777777778,
              "#fb9f3a"
             ],
             [
              0.8888888888888888,
              "#fdca26"
             ],
             [
              1,
              "#f0f921"
             ]
            ],
            "type": "surface"
           }
          ],
          "table": [
           {
            "cells": {
             "fill": {
              "color": "#EBF0F8"
             },
             "line": {
              "color": "white"
             }
            },
            "header": {
             "fill": {
              "color": "#C8D4E3"
             },
             "line": {
              "color": "white"
             }
            },
            "type": "table"
           }
          ]
         },
         "layout": {
          "annotationdefaults": {
           "arrowcolor": "#2a3f5f",
           "arrowhead": 0,
           "arrowwidth": 1
          },
          "autotypenumbers": "strict",
          "coloraxis": {
           "colorbar": {
            "outlinewidth": 0,
            "ticks": ""
           }
          },
          "colorscale": {
           "diverging": [
            [
             0,
             "#8e0152"
            ],
            [
             0.1,
             "#c51b7d"
            ],
            [
             0.2,
             "#de77ae"
            ],
            [
             0.3,
             "#f1b6da"
            ],
            [
             0.4,
             "#fde0ef"
            ],
            [
             0.5,
             "#f7f7f7"
            ],
            [
             0.6,
             "#e6f5d0"
            ],
            [
             0.7,
             "#b8e186"
            ],
            [
             0.8,
             "#7fbc41"
            ],
            [
             0.9,
             "#4d9221"
            ],
            [
             1,
             "#276419"
            ]
           ],
           "sequential": [
            [
             0,
             "#0d0887"
            ],
            [
             0.1111111111111111,
             "#46039f"
            ],
            [
             0.2222222222222222,
             "#7201a8"
            ],
            [
             0.3333333333333333,
             "#9c179e"
            ],
            [
             0.4444444444444444,
             "#bd3786"
            ],
            [
             0.5555555555555556,
             "#d8576b"
            ],
            [
             0.6666666666666666,
             "#ed7953"
            ],
            [
             0.7777777777777778,
             "#fb9f3a"
            ],
            [
             0.8888888888888888,
             "#fdca26"
            ],
            [
             1,
             "#f0f921"
            ]
           ],
           "sequentialminus": [
            [
             0,
             "#0d0887"
            ],
            [
             0.1111111111111111,
             "#46039f"
            ],
            [
             0.2222222222222222,
             "#7201a8"
            ],
            [
             0.3333333333333333,
             "#9c179e"
            ],
            [
             0.4444444444444444,
             "#bd3786"
            ],
            [
             0.5555555555555556,
             "#d8576b"
            ],
            [
             0.6666666666666666,
             "#ed7953"
            ],
            [
             0.7777777777777778,
             "#fb9f3a"
            ],
            [
             0.8888888888888888,
             "#fdca26"
            ],
            [
             1,
             "#f0f921"
            ]
           ]
          },
          "colorway": [
           "#636efa",
           "#EF553B",
           "#00cc96",
           "#ab63fa",
           "#FFA15A",
           "#19d3f3",
           "#FF6692",
           "#B6E880",
           "#FF97FF",
           "#FECB52"
          ],
          "font": {
           "color": "#2a3f5f"
          },
          "geo": {
           "bgcolor": "white",
           "lakecolor": "white",
           "landcolor": "#E5ECF6",
           "showlakes": true,
           "showland": true,
           "subunitcolor": "white"
          },
          "hoverlabel": {
           "align": "left"
          },
          "hovermode": "closest",
          "mapbox": {
           "style": "light"
          },
          "paper_bgcolor": "white",
          "plot_bgcolor": "#E5ECF6",
          "polar": {
           "angularaxis": {
            "gridcolor": "white",
            "linecolor": "white",
            "ticks": ""
           },
           "bgcolor": "#E5ECF6",
           "radialaxis": {
            "gridcolor": "white",
            "linecolor": "white",
            "ticks": ""
           }
          },
          "scene": {
           "xaxis": {
            "backgroundcolor": "#E5ECF6",
            "gridcolor": "white",
            "gridwidth": 2,
            "linecolor": "white",
            "showbackground": true,
            "ticks": "",
            "zerolinecolor": "white"
           },
           "yaxis": {
            "backgroundcolor": "#E5ECF6",
            "gridcolor": "white",
            "gridwidth": 2,
            "linecolor": "white",
            "showbackground": true,
            "ticks": "",
            "zerolinecolor": "white"
           },
           "zaxis": {
            "backgroundcolor": "#E5ECF6",
            "gridcolor": "white",
            "gridwidth": 2,
            "linecolor": "white",
            "showbackground": true,
            "ticks": "",
            "zerolinecolor": "white"
           }
          },
          "shapedefaults": {
           "line": {
            "color": "#2a3f5f"
           }
          },
          "ternary": {
           "aaxis": {
            "gridcolor": "white",
            "linecolor": "white",
            "ticks": ""
           },
           "baxis": {
            "gridcolor": "white",
            "linecolor": "white",
            "ticks": ""
           },
           "bgcolor": "#E5ECF6",
           "caxis": {
            "gridcolor": "white",
            "linecolor": "white",
            "ticks": ""
           }
          },
          "title": {
           "x": 0.05
          },
          "xaxis": {
           "automargin": true,
           "gridcolor": "white",
           "linecolor": "white",
           "ticks": "",
           "title": {
            "standoff": 15
           },
           "zerolinecolor": "white",
           "zerolinewidth": 2
          },
          "yaxis": {
           "automargin": true,
           "gridcolor": "white",
           "linecolor": "white",
           "ticks": "",
           "title": {
            "standoff": 15
           },
           "zerolinecolor": "white",
           "zerolinewidth": 2
          }
         }
        },
        "title": {
         "text": "MACD Quadrant: SET50"
        },
        "updatemenus": [
         {
          "buttons": [
           {
            "args": [
             null,
             {
              "frame": {
               "duration": 500,
               "redraw": false
              },
              "fromcurrent": true,
              "mode": "immediate",
              "transition": {
               "duration": 500,
               "easing": "linear"
              }
             }
            ],
            "label": "&#9654;",
            "method": "animate"
           },
           {
            "args": [
             [
              null
             ],
             {
              "frame": {
               "duration": 0,
               "redraw": false
              },
              "fromcurrent": true,
              "mode": "immediate",
              "transition": {
               "duration": 0,
               "easing": "linear"
              }
             }
            ],
            "label": "&#9724;",
            "method": "animate"
           }
          ],
          "direction": "left",
          "pad": {
           "r": 10,
           "t": 70
          },
          "showactive": false,
          "type": "buttons",
          "x": 0.1,
          "xanchor": "right",
          "y": 0,
          "yanchor": "top"
         }
        ],
        "xaxis": {
         "anchor": "y",
         "domain": [
          0,
          1
         ],
         "range": [
          -2,
          3
         ],
         "title": {
          "text": "MACD_12_26_9"
         }
        },
        "yaxis": {
         "anchor": "x",
         "domain": [
          0,
          1
         ],
         "range": [
          -1,
          2
         ],
         "title": {
          "text": "MACDh_12_26_9"
         }
        }
       }
      }
     },
     "metadata": {},
     "output_type": "display_data"
    }
   ],
   "source": [
    "df_4 = df_2.copy()\n",
    "\n",
    "df_4 = df_4.reset_index().set_index('Date')\n",
    "\n",
    "df_4\n",
    "\n",
    "# select previous 7 day\n",
    "today = dt.date.today()\n",
    "week_ago = dt.date.today() - dt.timedelta(days=7)\n",
    "\n",
    "today_formate = today.strftime(\"%Y-%m-%d\")\n",
    "weekago_formate = week_ago.strftime(\"%Y-%m-%d\")\n",
    "\n",
    "df_4 = df_4.loc[weekago_formate : today_formate]\n",
    "\n",
    "df_4 = df_4.reset_index()\n",
    "df_4\n",
    "\n",
    "# before plot we should change Date to 'string'\n",
    "df_4['Date']=df_4['Date'].astype(str)\n",
    "\n",
    "fig = px.scatter(df_4, x='MACD_12_26_9', y='MACDh_12_26_9', color='Stock', text='Stock', hover_data=['Stock', 'Close'], \n",
    "title='MACD Quadrant: SET50', animation_frame=\"Date\", animation_group=\"Stock\", range_x=[-2,3], range_y=[-1, 2], height=750)\n",
    "\n",
    "fig.update_traces(marker={'size': 10})\n",
    "fig.update_traces(textposition='top center')\n",
    "\n",
    "fig.add_vline(x=0, line_color='red')\n",
    "fig.add_hline(y=0, line_color='red')\n",
    "\n",
    "fig.show()"
   ]
  },
  {
   "cell_type": "code",
   "execution_count": null,
   "metadata": {},
   "outputs": [],
   "source": []
  }
 ],
 "metadata": {
  "kernelspec": {
   "display_name": "investic",
   "language": "python",
   "name": "python3"
  },
  "language_info": {
   "codemirror_mode": {
    "name": "ipython",
    "version": 3
   },
   "file_extension": ".py",
   "mimetype": "text/x-python",
   "name": "python",
   "nbconvert_exporter": "python",
   "pygments_lexer": "ipython3",
   "version": "3.9.13"
  },
  "orig_nbformat": 4,
  "vscode": {
   "interpreter": {
    "hash": "4c9534a07ddb41a99be5cadb8414846aff90091d189f2347504a8ec9595ff225"
   }
  }
 },
 "nbformat": 4,
 "nbformat_minor": 2
}
